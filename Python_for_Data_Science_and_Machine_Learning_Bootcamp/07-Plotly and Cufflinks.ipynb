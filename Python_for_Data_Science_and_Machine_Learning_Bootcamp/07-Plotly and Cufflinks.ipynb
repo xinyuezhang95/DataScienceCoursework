{
 "cells": [
  {
   "cell_type": "markdown",
   "metadata": {},
   "source": [
    "# Plotly and Cufflinks"
   ]
  },
  {
   "cell_type": "markdown",
   "metadata": {},
   "source": [
    "Plotly is a library that allows you to create interactive plots that you can use in dashboards or websites (you can save them as html files or static images).\n",
    "\n",
    "## Installation\n",
    "\n",
    "In order for this all to work, you'll need to install plotly and cufflinks to call plots directly off of a pandas dataframe. These libraries are not currently available through **conda** but are available through **pip**. Install the libraries at your command line/terminal using:\n",
    "\n",
    "    pip install plotly\n",
    "    pip install cufflinks\n",
    "\n",
    "** NOTE: Make sure you only have one installation of Python on your computer when you do this, otherwise the installation may not work. **\n",
    "\n",
    "## Imports and Set-up"
   ]
  },
  {
   "cell_type": "code",
   "execution_count": 1,
   "metadata": {},
   "outputs": [],
   "source": [
    "import pandas as pd\n",
    "import numpy as np\n",
    "%matplotlib inline"
   ]
  },
  {
   "cell_type": "code",
   "execution_count": 2,
   "metadata": {},
   "outputs": [
    {
     "name": "stdout",
     "output_type": "stream",
     "text": [
      "5.9.0\n"
     ]
    }
   ],
   "source": [
    "from plotly import __version__\n",
    "from plotly.offline import download_plotlyjs, init_notebook_mode, plot, iplot\n",
    "\n",
    "print(__version__) # requires version >= 1.9.0"
   ]
  },
  {
   "cell_type": "code",
   "execution_count": 3,
   "metadata": {},
   "outputs": [
    {
     "name": "stderr",
     "output_type": "stream",
     "text": [
      "C:\\Users\\zxy23\\anaconda3\\Lib\\site-packages\\paramiko\\transport.py:219: CryptographyDeprecationWarning:\n",
      "\n",
      "Blowfish has been deprecated\n",
      "\n"
     ]
    }
   ],
   "source": [
    "import cufflinks as cf"
   ]
  },
  {
   "cell_type": "code",
   "execution_count": 4,
   "metadata": {},
   "outputs": [
    {
     "data": {
      "text/html": [
       "        <script type=\"text/javascript\">\n",
       "        window.PlotlyConfig = {MathJaxConfig: 'local'};\n",
       "        if (window.MathJax && window.MathJax.Hub && window.MathJax.Hub.Config) {window.MathJax.Hub.Config({SVG: {font: \"STIX-Web\"}});}\n",
       "        if (typeof require !== 'undefined') {\n",
       "        require.undef(\"plotly\");\n",
       "        requirejs.config({\n",
       "            paths: {\n",
       "                'plotly': ['https://cdn.plot.ly/plotly-2.12.1.min']\n",
       "            }\n",
       "        });\n",
       "        require(['plotly'], function(Plotly) {\n",
       "            window._Plotly = Plotly;\n",
       "        });\n",
       "        }\n",
       "        </script>\n",
       "        "
      ]
     },
     "metadata": {},
     "output_type": "display_data"
    }
   ],
   "source": [
    "# For Notebooks\n",
    "init_notebook_mode(connected=True)"
   ]
  },
  {
   "cell_type": "code",
   "execution_count": 5,
   "metadata": {},
   "outputs": [
    {
     "data": {
      "text/html": [
       "        <script type=\"text/javascript\">\n",
       "        window.PlotlyConfig = {MathJaxConfig: 'local'};\n",
       "        if (window.MathJax && window.MathJax.Hub && window.MathJax.Hub.Config) {window.MathJax.Hub.Config({SVG: {font: \"STIX-Web\"}});}\n",
       "        if (typeof require !== 'undefined') {\n",
       "        require.undef(\"plotly\");\n",
       "        requirejs.config({\n",
       "            paths: {\n",
       "                'plotly': ['https://cdn.plot.ly/plotly-2.12.1.min']\n",
       "            }\n",
       "        });\n",
       "        require(['plotly'], function(Plotly) {\n",
       "            window._Plotly = Plotly;\n",
       "        });\n",
       "        }\n",
       "        </script>\n",
       "        "
      ]
     },
     "metadata": {},
     "output_type": "display_data"
    }
   ],
   "source": [
    "# For offline use\n",
    "cf.go_offline()"
   ]
  },
  {
   "cell_type": "markdown",
   "metadata": {},
   "source": [
    "### Fake Data"
   ]
  },
  {
   "cell_type": "code",
   "execution_count": 6,
   "metadata": {},
   "outputs": [],
   "source": [
    "df = pd.DataFrame(np.random.randn(100,4),columns='A B C D'.split())"
   ]
  },
  {
   "cell_type": "code",
   "execution_count": 7,
   "metadata": {},
   "outputs": [
    {
     "data": {
      "text/html": [
       "<div>\n",
       "<style scoped>\n",
       "    .dataframe tbody tr th:only-of-type {\n",
       "        vertical-align: middle;\n",
       "    }\n",
       "\n",
       "    .dataframe tbody tr th {\n",
       "        vertical-align: top;\n",
       "    }\n",
       "\n",
       "    .dataframe thead th {\n",
       "        text-align: right;\n",
       "    }\n",
       "</style>\n",
       "<table border=\"1\" class=\"dataframe\">\n",
       "  <thead>\n",
       "    <tr style=\"text-align: right;\">\n",
       "      <th></th>\n",
       "      <th>A</th>\n",
       "      <th>B</th>\n",
       "      <th>C</th>\n",
       "      <th>D</th>\n",
       "    </tr>\n",
       "  </thead>\n",
       "  <tbody>\n",
       "    <tr>\n",
       "      <th>0</th>\n",
       "      <td>-0.324379</td>\n",
       "      <td>0.584016</td>\n",
       "      <td>1.146612</td>\n",
       "      <td>-0.175790</td>\n",
       "    </tr>\n",
       "    <tr>\n",
       "      <th>1</th>\n",
       "      <td>0.650779</td>\n",
       "      <td>-0.677673</td>\n",
       "      <td>-0.761089</td>\n",
       "      <td>0.927879</td>\n",
       "    </tr>\n",
       "    <tr>\n",
       "      <th>2</th>\n",
       "      <td>-0.389544</td>\n",
       "      <td>-0.082507</td>\n",
       "      <td>-1.894327</td>\n",
       "      <td>-2.182677</td>\n",
       "    </tr>\n",
       "    <tr>\n",
       "      <th>3</th>\n",
       "      <td>0.096054</td>\n",
       "      <td>-0.699700</td>\n",
       "      <td>1.305506</td>\n",
       "      <td>-2.396345</td>\n",
       "    </tr>\n",
       "    <tr>\n",
       "      <th>4</th>\n",
       "      <td>0.819736</td>\n",
       "      <td>-0.020465</td>\n",
       "      <td>-1.471362</td>\n",
       "      <td>0.480037</td>\n",
       "    </tr>\n",
       "  </tbody>\n",
       "</table>\n",
       "</div>"
      ],
      "text/plain": [
       "          A         B         C         D\n",
       "0 -0.324379  0.584016  1.146612 -0.175790\n",
       "1  0.650779 -0.677673 -0.761089  0.927879\n",
       "2 -0.389544 -0.082507 -1.894327 -2.182677\n",
       "3  0.096054 -0.699700  1.305506 -2.396345\n",
       "4  0.819736 -0.020465 -1.471362  0.480037"
      ]
     },
     "execution_count": 7,
     "metadata": {},
     "output_type": "execute_result"
    }
   ],
   "source": [
    "df.head()"
   ]
  },
  {
   "cell_type": "code",
   "execution_count": 8,
   "metadata": {},
   "outputs": [],
   "source": [
    "df2 = pd.DataFrame({'Category':['A','B','C'],'Values':[32,43,50]})"
   ]
  },
  {
   "cell_type": "code",
   "execution_count": 9,
   "metadata": {},
   "outputs": [
    {
     "data": {
      "text/html": [
       "<div>\n",
       "<style scoped>\n",
       "    .dataframe tbody tr th:only-of-type {\n",
       "        vertical-align: middle;\n",
       "    }\n",
       "\n",
       "    .dataframe tbody tr th {\n",
       "        vertical-align: top;\n",
       "    }\n",
       "\n",
       "    .dataframe thead th {\n",
       "        text-align: right;\n",
       "    }\n",
       "</style>\n",
       "<table border=\"1\" class=\"dataframe\">\n",
       "  <thead>\n",
       "    <tr style=\"text-align: right;\">\n",
       "      <th></th>\n",
       "      <th>Category</th>\n",
       "      <th>Values</th>\n",
       "    </tr>\n",
       "  </thead>\n",
       "  <tbody>\n",
       "    <tr>\n",
       "      <th>0</th>\n",
       "      <td>A</td>\n",
       "      <td>32</td>\n",
       "    </tr>\n",
       "    <tr>\n",
       "      <th>1</th>\n",
       "      <td>B</td>\n",
       "      <td>43</td>\n",
       "    </tr>\n",
       "    <tr>\n",
       "      <th>2</th>\n",
       "      <td>C</td>\n",
       "      <td>50</td>\n",
       "    </tr>\n",
       "  </tbody>\n",
       "</table>\n",
       "</div>"
      ],
      "text/plain": [
       "  Category  Values\n",
       "0        A      32\n",
       "1        B      43\n",
       "2        C      50"
      ]
     },
     "execution_count": 9,
     "metadata": {},
     "output_type": "execute_result"
    }
   ],
   "source": [
    "df2.head()"
   ]
  },
  {
   "cell_type": "markdown",
   "metadata": {},
   "source": [
    "## Using Cufflinks and iplot()\n",
    "\n",
    "* scatter\n",
    "* bar\n",
    "* box\n",
    "* spread\n",
    "* ratio\n",
    "* heatmap\n",
    "* surface\n",
    "* histogram\n",
    "* bubble"
   ]
  },
  {
   "cell_type": "markdown",
   "metadata": {},
   "source": [
    "## Scatter"
   ]
  },
  {
   "cell_type": "code",
   "execution_count": 10,
   "metadata": {},
   "outputs": [
    {
     "data": {
      "application/vnd.plotly.v1+json": {
       "config": {
        "linkText": "Export to plot.ly",
        "plotlyServerURL": "https://plot.ly",
        "showLink": true
       },
       "data": [
        {
         "line": {
          "color": "rgba(255, 153, 51, 1.0)",
          "dash": "solid",
          "shape": "linear",
          "width": 1.3
         },
         "marker": {
          "size": 10,
          "symbol": "circle"
         },
         "mode": "markers",
         "name": "B",
         "text": "",
         "type": "scatter",
         "x": [
          -0.32437935932286105,
          0.6507786303830336,
          -0.3895435206998073,
          0.09605366978079674,
          0.8197362293541232,
          -2.1736614086387034,
          0.5447989087977978,
          -0.48026307852395245,
          -0.9312791112381261,
          1.0234457605227858,
          2.602895318314027,
          0.22413905009816462,
          -0.821227335088624,
          -0.3856451712519905,
          0.8111171832248476,
          0.020787549685838753,
          1.0456525715167484,
          -0.46999110891348045,
          -1.8031559479012809,
          1.6790145550113407,
          -0.10326521597651746,
          -0.0699982364634295,
          0.0682181566995542,
          1.7559799602251849,
          -0.8835006562676381,
          0.08438188434314217,
          -0.3118089076470192,
          -0.14808980061376903,
          0.043576355483198256,
          0.3420442997233026,
          0.11894325264568689,
          -0.2577134208535056,
          0.6978036228013325,
          0.6113101405984447,
          -0.8642860355006269,
          1.0386104714627757,
          -0.5454469660239857,
          0.37359152088305875,
          -0.207414871750417,
          -0.2766082626107455,
          -0.09232179563923242,
          -0.22322258357986602,
          -0.2750041129199989,
          -0.6462565804188576,
          -0.7564544188020607,
          -0.3935935702016708,
          -0.6201830686920962,
          0.5032563482950011,
          -0.3400791520044989,
          -0.7217213231087968,
          0.03735172569908848,
          -1.3387465776407153,
          1.26320480969486,
          1.0391940167060385,
          0.07527735447324392,
          -0.04637228755826521,
          0.2407108736349752,
          0.6718242356571152,
          -0.5874185371180319,
          -0.05166639315432059,
          0.28546671957252895,
          -0.8393723817660538,
          3.6920994601597235,
          0.7140374705521528,
          -2.0311390810199197,
          -0.7656104217463565,
          -0.5706747095329012,
          1.44720934904325,
          -0.04684225993129464,
          1.7666836707342357,
          -0.25712128759980896,
          -0.7486717414586884,
          -0.14404899072278207,
          -2.847694864973696,
          0.5055476900344904,
          -0.9777980182604501,
          -0.3404777125900365,
          0.49896061289322263,
          -1.2666980908052186,
          -0.14298323017857129,
          -0.33134176695795176,
          -0.32793980022794733,
          -1.3223083663276318,
          -0.7638233684150882,
          -2.193080206212569,
          0.9998229351057568,
          0.636695813978981,
          -0.20155103698415303,
          1.4901288953563878,
          -1.5565718214852045,
          -0.7254474963551272,
          0.1256470565777697,
          1.445946008831829,
          -0.60092975865266,
          0.9270945867676877,
          1.2287517941705062,
          0.7216832535913091,
          -1.939902333371826,
          -1.3338304167761876,
          0.6727881223318196
         ],
         "y": [
          0.5840159608274463,
          -0.6776725469281716,
          -0.08250716750184768,
          -0.6997003696662847,
          -0.02046542339042747,
          1.2973044459174985,
          -0.15269446165195133,
          -1.4060233979928802,
          -0.5155337860657689,
          -0.5736152041925673,
          1.357173046148224,
          0.8500626656020044,
          0.10844955804384164,
          -1.113034086831303,
          1.2664476181631814,
          0.5211478579740425,
          -0.07179164173708667,
          0.1862031755158228,
          -0.7119068102838787,
          0.9585466814679567,
          -0.8427877095541829,
          0.2861755512620451,
          0.5093489326745615,
          0.3787469242895969,
          -0.9445536130992522,
          0.35678791129132764,
          0.3853970213226538,
          0.7413345138100097,
          1.6806051224796448,
          -1.083973295584339,
          0.5506930858378145,
          1.5639483064191257,
          0.8824343297222614,
          -0.10628109258192349,
          -1.4162687762492605,
          0.9289603451115521,
          0.23602352635471763,
          1.1471291497038176,
          0.17164218020853547,
          -0.16497562804589852,
          0.7178070496418821,
          1.045121465527172,
          1.36845378138647,
          -0.5256492280256156,
          -0.37444234869325654,
          -1.2981424632591463,
          -0.9240607988811324,
          0.273143180228173,
          0.9988750799969999,
          -2.0064517053719846,
          0.11444308844932008,
          0.6848583984094578,
          -0.39553800528315075,
          -0.3144745974960851,
          -0.47359674536819757,
          -1.4573494915478733,
          0.174213316035283,
          2.2361965917768685,
          0.17517082060865113,
          2.332184289649614,
          1.7105058808082025,
          -1.706279525783847,
          0.5916358862419079,
          -0.46540652794985776,
          -1.7293639018946085,
          -1.2135524247347476,
          0.1790335731975688,
          -0.5699722220416938,
          -0.729331184902068,
          0.18117369443269593,
          -0.05635246315475032,
          0.39052174181601707,
          -0.6708788277038915,
          0.16103357730047088,
          1.573538234181239,
          -0.1953589263551798,
          0.080368461583438,
          0.2679163855152857,
          -0.15259967498329535,
          1.0616318376628848,
          -0.30502224143898055,
          1.2316319246538674,
          0.32709090752935904,
          -0.7106105752458274,
          0.001081946950240499,
          0.7494594826677379,
          -1.014585852439636,
          -1.128112386980834,
          0.14410131361648543,
          -1.496817504683681,
          -0.19954188369670103,
          1.4413043033258475,
          -0.6074730481305635,
          0.751125846459736,
          1.0867151412356497,
          0.02357154784848277,
          0.09231623762808776,
          -2.955157726525199,
          -0.47205442975871503,
          -1.3673663177768012
         ]
        }
       ],
       "layout": {
        "legend": {
         "bgcolor": "#F5F6F9",
         "font": {
          "color": "#4D5663"
         }
        },
        "paper_bgcolor": "#F5F6F9",
        "plot_bgcolor": "#F5F6F9",
        "template": {
         "data": {
          "bar": [
           {
            "error_x": {
             "color": "#2a3f5f"
            },
            "error_y": {
             "color": "#2a3f5f"
            },
            "marker": {
             "line": {
              "color": "#E5ECF6",
              "width": 0.5
             },
             "pattern": {
              "fillmode": "overlay",
              "size": 10,
              "solidity": 0.2
             }
            },
            "type": "bar"
           }
          ],
          "barpolar": [
           {
            "marker": {
             "line": {
              "color": "#E5ECF6",
              "width": 0.5
             },
             "pattern": {
              "fillmode": "overlay",
              "size": 10,
              "solidity": 0.2
             }
            },
            "type": "barpolar"
           }
          ],
          "carpet": [
           {
            "aaxis": {
             "endlinecolor": "#2a3f5f",
             "gridcolor": "white",
             "linecolor": "white",
             "minorgridcolor": "white",
             "startlinecolor": "#2a3f5f"
            },
            "baxis": {
             "endlinecolor": "#2a3f5f",
             "gridcolor": "white",
             "linecolor": "white",
             "minorgridcolor": "white",
             "startlinecolor": "#2a3f5f"
            },
            "type": "carpet"
           }
          ],
          "choropleth": [
           {
            "colorbar": {
             "outlinewidth": 0,
             "ticks": ""
            },
            "type": "choropleth"
           }
          ],
          "contour": [
           {
            "colorbar": {
             "outlinewidth": 0,
             "ticks": ""
            },
            "colorscale": [
             [
              0,
              "#0d0887"
             ],
             [
              0.1111111111111111,
              "#46039f"
             ],
             [
              0.2222222222222222,
              "#7201a8"
             ],
             [
              0.3333333333333333,
              "#9c179e"
             ],
             [
              0.4444444444444444,
              "#bd3786"
             ],
             [
              0.5555555555555556,
              "#d8576b"
             ],
             [
              0.6666666666666666,
              "#ed7953"
             ],
             [
              0.7777777777777778,
              "#fb9f3a"
             ],
             [
              0.8888888888888888,
              "#fdca26"
             ],
             [
              1,
              "#f0f921"
             ]
            ],
            "type": "contour"
           }
          ],
          "contourcarpet": [
           {
            "colorbar": {
             "outlinewidth": 0,
             "ticks": ""
            },
            "type": "contourcarpet"
           }
          ],
          "heatmap": [
           {
            "colorbar": {
             "outlinewidth": 0,
             "ticks": ""
            },
            "colorscale": [
             [
              0,
              "#0d0887"
             ],
             [
              0.1111111111111111,
              "#46039f"
             ],
             [
              0.2222222222222222,
              "#7201a8"
             ],
             [
              0.3333333333333333,
              "#9c179e"
             ],
             [
              0.4444444444444444,
              "#bd3786"
             ],
             [
              0.5555555555555556,
              "#d8576b"
             ],
             [
              0.6666666666666666,
              "#ed7953"
             ],
             [
              0.7777777777777778,
              "#fb9f3a"
             ],
             [
              0.8888888888888888,
              "#fdca26"
             ],
             [
              1,
              "#f0f921"
             ]
            ],
            "type": "heatmap"
           }
          ],
          "heatmapgl": [
           {
            "colorbar": {
             "outlinewidth": 0,
             "ticks": ""
            },
            "colorscale": [
             [
              0,
              "#0d0887"
             ],
             [
              0.1111111111111111,
              "#46039f"
             ],
             [
              0.2222222222222222,
              "#7201a8"
             ],
             [
              0.3333333333333333,
              "#9c179e"
             ],
             [
              0.4444444444444444,
              "#bd3786"
             ],
             [
              0.5555555555555556,
              "#d8576b"
             ],
             [
              0.6666666666666666,
              "#ed7953"
             ],
             [
              0.7777777777777778,
              "#fb9f3a"
             ],
             [
              0.8888888888888888,
              "#fdca26"
             ],
             [
              1,
              "#f0f921"
             ]
            ],
            "type": "heatmapgl"
           }
          ],
          "histogram": [
           {
            "marker": {
             "pattern": {
              "fillmode": "overlay",
              "size": 10,
              "solidity": 0.2
             }
            },
            "type": "histogram"
           }
          ],
          "histogram2d": [
           {
            "colorbar": {
             "outlinewidth": 0,
             "ticks": ""
            },
            "colorscale": [
             [
              0,
              "#0d0887"
             ],
             [
              0.1111111111111111,
              "#46039f"
             ],
             [
              0.2222222222222222,
              "#7201a8"
             ],
             [
              0.3333333333333333,
              "#9c179e"
             ],
             [
              0.4444444444444444,
              "#bd3786"
             ],
             [
              0.5555555555555556,
              "#d8576b"
             ],
             [
              0.6666666666666666,
              "#ed7953"
             ],
             [
              0.7777777777777778,
              "#fb9f3a"
             ],
             [
              0.8888888888888888,
              "#fdca26"
             ],
             [
              1,
              "#f0f921"
             ]
            ],
            "type": "histogram2d"
           }
          ],
          "histogram2dcontour": [
           {
            "colorbar": {
             "outlinewidth": 0,
             "ticks": ""
            },
            "colorscale": [
             [
              0,
              "#0d0887"
             ],
             [
              0.1111111111111111,
              "#46039f"
             ],
             [
              0.2222222222222222,
              "#7201a8"
             ],
             [
              0.3333333333333333,
              "#9c179e"
             ],
             [
              0.4444444444444444,
              "#bd3786"
             ],
             [
              0.5555555555555556,
              "#d8576b"
             ],
             [
              0.6666666666666666,
              "#ed7953"
             ],
             [
              0.7777777777777778,
              "#fb9f3a"
             ],
             [
              0.8888888888888888,
              "#fdca26"
             ],
             [
              1,
              "#f0f921"
             ]
            ],
            "type": "histogram2dcontour"
           }
          ],
          "mesh3d": [
           {
            "colorbar": {
             "outlinewidth": 0,
             "ticks": ""
            },
            "type": "mesh3d"
           }
          ],
          "parcoords": [
           {
            "line": {
             "colorbar": {
              "outlinewidth": 0,
              "ticks": ""
             }
            },
            "type": "parcoords"
           }
          ],
          "pie": [
           {
            "automargin": true,
            "type": "pie"
           }
          ],
          "scatter": [
           {
            "fillpattern": {
             "fillmode": "overlay",
             "size": 10,
             "solidity": 0.2
            },
            "type": "scatter"
           }
          ],
          "scatter3d": [
           {
            "line": {
             "colorbar": {
              "outlinewidth": 0,
              "ticks": ""
             }
            },
            "marker": {
             "colorbar": {
              "outlinewidth": 0,
              "ticks": ""
             }
            },
            "type": "scatter3d"
           }
          ],
          "scattercarpet": [
           {
            "marker": {
             "colorbar": {
              "outlinewidth": 0,
              "ticks": ""
             }
            },
            "type": "scattercarpet"
           }
          ],
          "scattergeo": [
           {
            "marker": {
             "colorbar": {
              "outlinewidth": 0,
              "ticks": ""
             }
            },
            "type": "scattergeo"
           }
          ],
          "scattergl": [
           {
            "marker": {
             "colorbar": {
              "outlinewidth": 0,
              "ticks": ""
             }
            },
            "type": "scattergl"
           }
          ],
          "scattermapbox": [
           {
            "marker": {
             "colorbar": {
              "outlinewidth": 0,
              "ticks": ""
             }
            },
            "type": "scattermapbox"
           }
          ],
          "scatterpolar": [
           {
            "marker": {
             "colorbar": {
              "outlinewidth": 0,
              "ticks": ""
             }
            },
            "type": "scatterpolar"
           }
          ],
          "scatterpolargl": [
           {
            "marker": {
             "colorbar": {
              "outlinewidth": 0,
              "ticks": ""
             }
            },
            "type": "scatterpolargl"
           }
          ],
          "scatterternary": [
           {
            "marker": {
             "colorbar": {
              "outlinewidth": 0,
              "ticks": ""
             }
            },
            "type": "scatterternary"
           }
          ],
          "surface": [
           {
            "colorbar": {
             "outlinewidth": 0,
             "ticks": ""
            },
            "colorscale": [
             [
              0,
              "#0d0887"
             ],
             [
              0.1111111111111111,
              "#46039f"
             ],
             [
              0.2222222222222222,
              "#7201a8"
             ],
             [
              0.3333333333333333,
              "#9c179e"
             ],
             [
              0.4444444444444444,
              "#bd3786"
             ],
             [
              0.5555555555555556,
              "#d8576b"
             ],
             [
              0.6666666666666666,
              "#ed7953"
             ],
             [
              0.7777777777777778,
              "#fb9f3a"
             ],
             [
              0.8888888888888888,
              "#fdca26"
             ],
             [
              1,
              "#f0f921"
             ]
            ],
            "type": "surface"
           }
          ],
          "table": [
           {
            "cells": {
             "fill": {
              "color": "#EBF0F8"
             },
             "line": {
              "color": "white"
             }
            },
            "header": {
             "fill": {
              "color": "#C8D4E3"
             },
             "line": {
              "color": "white"
             }
            },
            "type": "table"
           }
          ]
         },
         "layout": {
          "annotationdefaults": {
           "arrowcolor": "#2a3f5f",
           "arrowhead": 0,
           "arrowwidth": 1
          },
          "autotypenumbers": "strict",
          "coloraxis": {
           "colorbar": {
            "outlinewidth": 0,
            "ticks": ""
           }
          },
          "colorscale": {
           "diverging": [
            [
             0,
             "#8e0152"
            ],
            [
             0.1,
             "#c51b7d"
            ],
            [
             0.2,
             "#de77ae"
            ],
            [
             0.3,
             "#f1b6da"
            ],
            [
             0.4,
             "#fde0ef"
            ],
            [
             0.5,
             "#f7f7f7"
            ],
            [
             0.6,
             "#e6f5d0"
            ],
            [
             0.7,
             "#b8e186"
            ],
            [
             0.8,
             "#7fbc41"
            ],
            [
             0.9,
             "#4d9221"
            ],
            [
             1,
             "#276419"
            ]
           ],
           "sequential": [
            [
             0,
             "#0d0887"
            ],
            [
             0.1111111111111111,
             "#46039f"
            ],
            [
             0.2222222222222222,
             "#7201a8"
            ],
            [
             0.3333333333333333,
             "#9c179e"
            ],
            [
             0.4444444444444444,
             "#bd3786"
            ],
            [
             0.5555555555555556,
             "#d8576b"
            ],
            [
             0.6666666666666666,
             "#ed7953"
            ],
            [
             0.7777777777777778,
             "#fb9f3a"
            ],
            [
             0.8888888888888888,
             "#fdca26"
            ],
            [
             1,
             "#f0f921"
            ]
           ],
           "sequentialminus": [
            [
             0,
             "#0d0887"
            ],
            [
             0.1111111111111111,
             "#46039f"
            ],
            [
             0.2222222222222222,
             "#7201a8"
            ],
            [
             0.3333333333333333,
             "#9c179e"
            ],
            [
             0.4444444444444444,
             "#bd3786"
            ],
            [
             0.5555555555555556,
             "#d8576b"
            ],
            [
             0.6666666666666666,
             "#ed7953"
            ],
            [
             0.7777777777777778,
             "#fb9f3a"
            ],
            [
             0.8888888888888888,
             "#fdca26"
            ],
            [
             1,
             "#f0f921"
            ]
           ]
          },
          "colorway": [
           "#636efa",
           "#EF553B",
           "#00cc96",
           "#ab63fa",
           "#FFA15A",
           "#19d3f3",
           "#FF6692",
           "#B6E880",
           "#FF97FF",
           "#FECB52"
          ],
          "font": {
           "color": "#2a3f5f"
          },
          "geo": {
           "bgcolor": "white",
           "lakecolor": "white",
           "landcolor": "#E5ECF6",
           "showlakes": true,
           "showland": true,
           "subunitcolor": "white"
          },
          "hoverlabel": {
           "align": "left"
          },
          "hovermode": "closest",
          "mapbox": {
           "style": "light"
          },
          "paper_bgcolor": "white",
          "plot_bgcolor": "#E5ECF6",
          "polar": {
           "angularaxis": {
            "gridcolor": "white",
            "linecolor": "white",
            "ticks": ""
           },
           "bgcolor": "#E5ECF6",
           "radialaxis": {
            "gridcolor": "white",
            "linecolor": "white",
            "ticks": ""
           }
          },
          "scene": {
           "xaxis": {
            "backgroundcolor": "#E5ECF6",
            "gridcolor": "white",
            "gridwidth": 2,
            "linecolor": "white",
            "showbackground": true,
            "ticks": "",
            "zerolinecolor": "white"
           },
           "yaxis": {
            "backgroundcolor": "#E5ECF6",
            "gridcolor": "white",
            "gridwidth": 2,
            "linecolor": "white",
            "showbackground": true,
            "ticks": "",
            "zerolinecolor": "white"
           },
           "zaxis": {
            "backgroundcolor": "#E5ECF6",
            "gridcolor": "white",
            "gridwidth": 2,
            "linecolor": "white",
            "showbackground": true,
            "ticks": "",
            "zerolinecolor": "white"
           }
          },
          "shapedefaults": {
           "line": {
            "color": "#2a3f5f"
           }
          },
          "ternary": {
           "aaxis": {
            "gridcolor": "white",
            "linecolor": "white",
            "ticks": ""
           },
           "baxis": {
            "gridcolor": "white",
            "linecolor": "white",
            "ticks": ""
           },
           "bgcolor": "#E5ECF6",
           "caxis": {
            "gridcolor": "white",
            "linecolor": "white",
            "ticks": ""
           }
          },
          "title": {
           "x": 0.05
          },
          "xaxis": {
           "automargin": true,
           "gridcolor": "white",
           "linecolor": "white",
           "ticks": "",
           "title": {
            "standoff": 15
           },
           "zerolinecolor": "white",
           "zerolinewidth": 2
          },
          "yaxis": {
           "automargin": true,
           "gridcolor": "white",
           "linecolor": "white",
           "ticks": "",
           "title": {
            "standoff": 15
           },
           "zerolinecolor": "white",
           "zerolinewidth": 2
          }
         }
        },
        "title": {
         "font": {
          "color": "#4D5663"
         }
        },
        "xaxis": {
         "gridcolor": "#E1E5ED",
         "showgrid": true,
         "tickfont": {
          "color": "#4D5663"
         },
         "title": {
          "font": {
           "color": "#4D5663"
          },
          "text": ""
         },
         "zerolinecolor": "#E1E5ED"
        },
        "yaxis": {
         "gridcolor": "#E1E5ED",
         "showgrid": true,
         "tickfont": {
          "color": "#4D5663"
         },
         "title": {
          "font": {
           "color": "#4D5663"
          },
          "text": ""
         },
         "zerolinecolor": "#E1E5ED"
        }
       }
      },
      "text/html": [
       "<div>                            <div id=\"508e9857-cc96-4195-b5f9-34bfe1bb2660\" class=\"plotly-graph-div\" style=\"height:525px; width:100%;\"></div>            <script type=\"text/javascript\">                require([\"plotly\"], function(Plotly) {                    window.PLOTLYENV=window.PLOTLYENV || {};\n",
       "                    window.PLOTLYENV.BASE_URL='https://plot.ly';                                    if (document.getElementById(\"508e9857-cc96-4195-b5f9-34bfe1bb2660\")) {                    Plotly.newPlot(                        \"508e9857-cc96-4195-b5f9-34bfe1bb2660\",                        [{\"line\":{\"color\":\"rgba(255, 153, 51, 1.0)\",\"dash\":\"solid\",\"shape\":\"linear\",\"width\":1.3},\"marker\":{\"size\":10,\"symbol\":\"circle\"},\"mode\":\"markers\",\"name\":\"B\",\"text\":\"\",\"x\":[-0.32437935932286105,0.6507786303830336,-0.3895435206998073,0.09605366978079674,0.8197362293541232,-2.1736614086387034,0.5447989087977978,-0.48026307852395245,-0.9312791112381261,1.0234457605227858,2.602895318314027,0.22413905009816462,-0.821227335088624,-0.3856451712519905,0.8111171832248476,0.020787549685838753,1.0456525715167484,-0.46999110891348045,-1.8031559479012809,1.6790145550113407,-0.10326521597651746,-0.0699982364634295,0.0682181566995542,1.7559799602251849,-0.8835006562676381,0.08438188434314217,-0.3118089076470192,-0.14808980061376903,0.043576355483198256,0.3420442997233026,0.11894325264568689,-0.2577134208535056,0.6978036228013325,0.6113101405984447,-0.8642860355006269,1.0386104714627757,-0.5454469660239857,0.37359152088305875,-0.207414871750417,-0.2766082626107455,-0.09232179563923242,-0.22322258357986602,-0.2750041129199989,-0.6462565804188576,-0.7564544188020607,-0.3935935702016708,-0.6201830686920962,0.5032563482950011,-0.3400791520044989,-0.7217213231087968,0.03735172569908848,-1.3387465776407153,1.26320480969486,1.0391940167060385,0.07527735447324392,-0.04637228755826521,0.2407108736349752,0.6718242356571152,-0.5874185371180319,-0.05166639315432059,0.28546671957252895,-0.8393723817660538,3.6920994601597235,0.7140374705521528,-2.0311390810199197,-0.7656104217463565,-0.5706747095329012,1.44720934904325,-0.04684225993129464,1.7666836707342357,-0.25712128759980896,-0.7486717414586884,-0.14404899072278207,-2.847694864973696,0.5055476900344904,-0.9777980182604501,-0.3404777125900365,0.49896061289322263,-1.2666980908052186,-0.14298323017857129,-0.33134176695795176,-0.32793980022794733,-1.3223083663276318,-0.7638233684150882,-2.193080206212569,0.9998229351057568,0.636695813978981,-0.20155103698415303,1.4901288953563878,-1.5565718214852045,-0.7254474963551272,0.1256470565777697,1.445946008831829,-0.60092975865266,0.9270945867676877,1.2287517941705062,0.7216832535913091,-1.939902333371826,-1.3338304167761876,0.6727881223318196],\"y\":[0.5840159608274463,-0.6776725469281716,-0.08250716750184768,-0.6997003696662847,-0.02046542339042747,1.2973044459174985,-0.15269446165195133,-1.4060233979928802,-0.5155337860657689,-0.5736152041925673,1.357173046148224,0.8500626656020044,0.10844955804384164,-1.113034086831303,1.2664476181631814,0.5211478579740425,-0.07179164173708667,0.1862031755158228,-0.7119068102838787,0.9585466814679567,-0.8427877095541829,0.2861755512620451,0.5093489326745615,0.3787469242895969,-0.9445536130992522,0.35678791129132764,0.3853970213226538,0.7413345138100097,1.6806051224796448,-1.083973295584339,0.5506930858378145,1.5639483064191257,0.8824343297222614,-0.10628109258192349,-1.4162687762492605,0.9289603451115521,0.23602352635471763,1.1471291497038176,0.17164218020853547,-0.16497562804589852,0.7178070496418821,1.045121465527172,1.36845378138647,-0.5256492280256156,-0.37444234869325654,-1.2981424632591463,-0.9240607988811324,0.273143180228173,0.9988750799969999,-2.0064517053719846,0.11444308844932008,0.6848583984094578,-0.39553800528315075,-0.3144745974960851,-0.47359674536819757,-1.4573494915478733,0.174213316035283,2.2361965917768685,0.17517082060865113,2.332184289649614,1.7105058808082025,-1.706279525783847,0.5916358862419079,-0.46540652794985776,-1.7293639018946085,-1.2135524247347476,0.1790335731975688,-0.5699722220416938,-0.729331184902068,0.18117369443269593,-0.05635246315475032,0.39052174181601707,-0.6708788277038915,0.16103357730047088,1.573538234181239,-0.1953589263551798,0.080368461583438,0.2679163855152857,-0.15259967498329535,1.0616318376628848,-0.30502224143898055,1.2316319246538674,0.32709090752935904,-0.7106105752458274,0.001081946950240499,0.7494594826677379,-1.014585852439636,-1.128112386980834,0.14410131361648543,-1.496817504683681,-0.19954188369670103,1.4413043033258475,-0.6074730481305635,0.751125846459736,1.0867151412356497,0.02357154784848277,0.09231623762808776,-2.955157726525199,-0.47205442975871503,-1.3673663177768012],\"type\":\"scatter\"}],                        {\"legend\":{\"bgcolor\":\"#F5F6F9\",\"font\":{\"color\":\"#4D5663\"}},\"paper_bgcolor\":\"#F5F6F9\",\"plot_bgcolor\":\"#F5F6F9\",\"template\":{\"data\":{\"barpolar\":[{\"marker\":{\"line\":{\"color\":\"#E5ECF6\",\"width\":0.5},\"pattern\":{\"fillmode\":\"overlay\",\"size\":10,\"solidity\":0.2}},\"type\":\"barpolar\"}],\"bar\":[{\"error_x\":{\"color\":\"#2a3f5f\"},\"error_y\":{\"color\":\"#2a3f5f\"},\"marker\":{\"line\":{\"color\":\"#E5ECF6\",\"width\":0.5},\"pattern\":{\"fillmode\":\"overlay\",\"size\":10,\"solidity\":0.2}},\"type\":\"bar\"}],\"carpet\":[{\"aaxis\":{\"endlinecolor\":\"#2a3f5f\",\"gridcolor\":\"white\",\"linecolor\":\"white\",\"minorgridcolor\":\"white\",\"startlinecolor\":\"#2a3f5f\"},\"baxis\":{\"endlinecolor\":\"#2a3f5f\",\"gridcolor\":\"white\",\"linecolor\":\"white\",\"minorgridcolor\":\"white\",\"startlinecolor\":\"#2a3f5f\"},\"type\":\"carpet\"}],\"choropleth\":[{\"colorbar\":{\"outlinewidth\":0,\"ticks\":\"\"},\"type\":\"choropleth\"}],\"contourcarpet\":[{\"colorbar\":{\"outlinewidth\":0,\"ticks\":\"\"},\"type\":\"contourcarpet\"}],\"contour\":[{\"colorbar\":{\"outlinewidth\":0,\"ticks\":\"\"},\"colorscale\":[[0.0,\"#0d0887\"],[0.1111111111111111,\"#46039f\"],[0.2222222222222222,\"#7201a8\"],[0.3333333333333333,\"#9c179e\"],[0.4444444444444444,\"#bd3786\"],[0.5555555555555556,\"#d8576b\"],[0.6666666666666666,\"#ed7953\"],[0.7777777777777778,\"#fb9f3a\"],[0.8888888888888888,\"#fdca26\"],[1.0,\"#f0f921\"]],\"type\":\"contour\"}],\"heatmapgl\":[{\"colorbar\":{\"outlinewidth\":0,\"ticks\":\"\"},\"colorscale\":[[0.0,\"#0d0887\"],[0.1111111111111111,\"#46039f\"],[0.2222222222222222,\"#7201a8\"],[0.3333333333333333,\"#9c179e\"],[0.4444444444444444,\"#bd3786\"],[0.5555555555555556,\"#d8576b\"],[0.6666666666666666,\"#ed7953\"],[0.7777777777777778,\"#fb9f3a\"],[0.8888888888888888,\"#fdca26\"],[1.0,\"#f0f921\"]],\"type\":\"heatmapgl\"}],\"heatmap\":[{\"colorbar\":{\"outlinewidth\":0,\"ticks\":\"\"},\"colorscale\":[[0.0,\"#0d0887\"],[0.1111111111111111,\"#46039f\"],[0.2222222222222222,\"#7201a8\"],[0.3333333333333333,\"#9c179e\"],[0.4444444444444444,\"#bd3786\"],[0.5555555555555556,\"#d8576b\"],[0.6666666666666666,\"#ed7953\"],[0.7777777777777778,\"#fb9f3a\"],[0.8888888888888888,\"#fdca26\"],[1.0,\"#f0f921\"]],\"type\":\"heatmap\"}],\"histogram2dcontour\":[{\"colorbar\":{\"outlinewidth\":0,\"ticks\":\"\"},\"colorscale\":[[0.0,\"#0d0887\"],[0.1111111111111111,\"#46039f\"],[0.2222222222222222,\"#7201a8\"],[0.3333333333333333,\"#9c179e\"],[0.4444444444444444,\"#bd3786\"],[0.5555555555555556,\"#d8576b\"],[0.6666666666666666,\"#ed7953\"],[0.7777777777777778,\"#fb9f3a\"],[0.8888888888888888,\"#fdca26\"],[1.0,\"#f0f921\"]],\"type\":\"histogram2dcontour\"}],\"histogram2d\":[{\"colorbar\":{\"outlinewidth\":0,\"ticks\":\"\"},\"colorscale\":[[0.0,\"#0d0887\"],[0.1111111111111111,\"#46039f\"],[0.2222222222222222,\"#7201a8\"],[0.3333333333333333,\"#9c179e\"],[0.4444444444444444,\"#bd3786\"],[0.5555555555555556,\"#d8576b\"],[0.6666666666666666,\"#ed7953\"],[0.7777777777777778,\"#fb9f3a\"],[0.8888888888888888,\"#fdca26\"],[1.0,\"#f0f921\"]],\"type\":\"histogram2d\"}],\"histogram\":[{\"marker\":{\"pattern\":{\"fillmode\":\"overlay\",\"size\":10,\"solidity\":0.2}},\"type\":\"histogram\"}],\"mesh3d\":[{\"colorbar\":{\"outlinewidth\":0,\"ticks\":\"\"},\"type\":\"mesh3d\"}],\"parcoords\":[{\"line\":{\"colorbar\":{\"outlinewidth\":0,\"ticks\":\"\"}},\"type\":\"parcoords\"}],\"pie\":[{\"automargin\":true,\"type\":\"pie\"}],\"scatter3d\":[{\"line\":{\"colorbar\":{\"outlinewidth\":0,\"ticks\":\"\"}},\"marker\":{\"colorbar\":{\"outlinewidth\":0,\"ticks\":\"\"}},\"type\":\"scatter3d\"}],\"scattercarpet\":[{\"marker\":{\"colorbar\":{\"outlinewidth\":0,\"ticks\":\"\"}},\"type\":\"scattercarpet\"}],\"scattergeo\":[{\"marker\":{\"colorbar\":{\"outlinewidth\":0,\"ticks\":\"\"}},\"type\":\"scattergeo\"}],\"scattergl\":[{\"marker\":{\"colorbar\":{\"outlinewidth\":0,\"ticks\":\"\"}},\"type\":\"scattergl\"}],\"scattermapbox\":[{\"marker\":{\"colorbar\":{\"outlinewidth\":0,\"ticks\":\"\"}},\"type\":\"scattermapbox\"}],\"scatterpolargl\":[{\"marker\":{\"colorbar\":{\"outlinewidth\":0,\"ticks\":\"\"}},\"type\":\"scatterpolargl\"}],\"scatterpolar\":[{\"marker\":{\"colorbar\":{\"outlinewidth\":0,\"ticks\":\"\"}},\"type\":\"scatterpolar\"}],\"scatter\":[{\"fillpattern\":{\"fillmode\":\"overlay\",\"size\":10,\"solidity\":0.2},\"type\":\"scatter\"}],\"scatterternary\":[{\"marker\":{\"colorbar\":{\"outlinewidth\":0,\"ticks\":\"\"}},\"type\":\"scatterternary\"}],\"surface\":[{\"colorbar\":{\"outlinewidth\":0,\"ticks\":\"\"},\"colorscale\":[[0.0,\"#0d0887\"],[0.1111111111111111,\"#46039f\"],[0.2222222222222222,\"#7201a8\"],[0.3333333333333333,\"#9c179e\"],[0.4444444444444444,\"#bd3786\"],[0.5555555555555556,\"#d8576b\"],[0.6666666666666666,\"#ed7953\"],[0.7777777777777778,\"#fb9f3a\"],[0.8888888888888888,\"#fdca26\"],[1.0,\"#f0f921\"]],\"type\":\"surface\"}],\"table\":[{\"cells\":{\"fill\":{\"color\":\"#EBF0F8\"},\"line\":{\"color\":\"white\"}},\"header\":{\"fill\":{\"color\":\"#C8D4E3\"},\"line\":{\"color\":\"white\"}},\"type\":\"table\"}]},\"layout\":{\"annotationdefaults\":{\"arrowcolor\":\"#2a3f5f\",\"arrowhead\":0,\"arrowwidth\":1},\"autotypenumbers\":\"strict\",\"coloraxis\":{\"colorbar\":{\"outlinewidth\":0,\"ticks\":\"\"}},\"colorscale\":{\"diverging\":[[0,\"#8e0152\"],[0.1,\"#c51b7d\"],[0.2,\"#de77ae\"],[0.3,\"#f1b6da\"],[0.4,\"#fde0ef\"],[0.5,\"#f7f7f7\"],[0.6,\"#e6f5d0\"],[0.7,\"#b8e186\"],[0.8,\"#7fbc41\"],[0.9,\"#4d9221\"],[1,\"#276419\"]],\"sequential\":[[0.0,\"#0d0887\"],[0.1111111111111111,\"#46039f\"],[0.2222222222222222,\"#7201a8\"],[0.3333333333333333,\"#9c179e\"],[0.4444444444444444,\"#bd3786\"],[0.5555555555555556,\"#d8576b\"],[0.6666666666666666,\"#ed7953\"],[0.7777777777777778,\"#fb9f3a\"],[0.8888888888888888,\"#fdca26\"],[1.0,\"#f0f921\"]],\"sequentialminus\":[[0.0,\"#0d0887\"],[0.1111111111111111,\"#46039f\"],[0.2222222222222222,\"#7201a8\"],[0.3333333333333333,\"#9c179e\"],[0.4444444444444444,\"#bd3786\"],[0.5555555555555556,\"#d8576b\"],[0.6666666666666666,\"#ed7953\"],[0.7777777777777778,\"#fb9f3a\"],[0.8888888888888888,\"#fdca26\"],[1.0,\"#f0f921\"]]},\"colorway\":[\"#636efa\",\"#EF553B\",\"#00cc96\",\"#ab63fa\",\"#FFA15A\",\"#19d3f3\",\"#FF6692\",\"#B6E880\",\"#FF97FF\",\"#FECB52\"],\"font\":{\"color\":\"#2a3f5f\"},\"geo\":{\"bgcolor\":\"white\",\"lakecolor\":\"white\",\"landcolor\":\"#E5ECF6\",\"showlakes\":true,\"showland\":true,\"subunitcolor\":\"white\"},\"hoverlabel\":{\"align\":\"left\"},\"hovermode\":\"closest\",\"mapbox\":{\"style\":\"light\"},\"paper_bgcolor\":\"white\",\"plot_bgcolor\":\"#E5ECF6\",\"polar\":{\"angularaxis\":{\"gridcolor\":\"white\",\"linecolor\":\"white\",\"ticks\":\"\"},\"bgcolor\":\"#E5ECF6\",\"radialaxis\":{\"gridcolor\":\"white\",\"linecolor\":\"white\",\"ticks\":\"\"}},\"scene\":{\"xaxis\":{\"backgroundcolor\":\"#E5ECF6\",\"gridcolor\":\"white\",\"gridwidth\":2,\"linecolor\":\"white\",\"showbackground\":true,\"ticks\":\"\",\"zerolinecolor\":\"white\"},\"yaxis\":{\"backgroundcolor\":\"#E5ECF6\",\"gridcolor\":\"white\",\"gridwidth\":2,\"linecolor\":\"white\",\"showbackground\":true,\"ticks\":\"\",\"zerolinecolor\":\"white\"},\"zaxis\":{\"backgroundcolor\":\"#E5ECF6\",\"gridcolor\":\"white\",\"gridwidth\":2,\"linecolor\":\"white\",\"showbackground\":true,\"ticks\":\"\",\"zerolinecolor\":\"white\"}},\"shapedefaults\":{\"line\":{\"color\":\"#2a3f5f\"}},\"ternary\":{\"aaxis\":{\"gridcolor\":\"white\",\"linecolor\":\"white\",\"ticks\":\"\"},\"baxis\":{\"gridcolor\":\"white\",\"linecolor\":\"white\",\"ticks\":\"\"},\"bgcolor\":\"#E5ECF6\",\"caxis\":{\"gridcolor\":\"white\",\"linecolor\":\"white\",\"ticks\":\"\"}},\"title\":{\"x\":0.05},\"xaxis\":{\"automargin\":true,\"gridcolor\":\"white\",\"linecolor\":\"white\",\"ticks\":\"\",\"title\":{\"standoff\":15},\"zerolinecolor\":\"white\",\"zerolinewidth\":2},\"yaxis\":{\"automargin\":true,\"gridcolor\":\"white\",\"linecolor\":\"white\",\"ticks\":\"\",\"title\":{\"standoff\":15},\"zerolinecolor\":\"white\",\"zerolinewidth\":2}}},\"title\":{\"font\":{\"color\":\"#4D5663\"}},\"xaxis\":{\"gridcolor\":\"#E1E5ED\",\"showgrid\":true,\"tickfont\":{\"color\":\"#4D5663\"},\"title\":{\"font\":{\"color\":\"#4D5663\"},\"text\":\"\"},\"zerolinecolor\":\"#E1E5ED\"},\"yaxis\":{\"gridcolor\":\"#E1E5ED\",\"showgrid\":true,\"tickfont\":{\"color\":\"#4D5663\"},\"title\":{\"font\":{\"color\":\"#4D5663\"},\"text\":\"\"},\"zerolinecolor\":\"#E1E5ED\"}},                        {\"showLink\": true, \"linkText\": \"Export to plot.ly\", \"plotlyServerURL\": \"https://plot.ly\", \"responsive\": true}                    ).then(function(){\n",
       "                            \n",
       "var gd = document.getElementById('508e9857-cc96-4195-b5f9-34bfe1bb2660');\n",
       "var x = new MutationObserver(function (mutations, observer) {{\n",
       "        var display = window.getComputedStyle(gd).display;\n",
       "        if (!display || display === 'none') {{\n",
       "            console.log([gd, 'removed!']);\n",
       "            Plotly.purge(gd);\n",
       "            observer.disconnect();\n",
       "        }}\n",
       "}});\n",
       "\n",
       "// Listen for the removal of the full notebook cells\n",
       "var notebookContainer = gd.closest('#notebook-container');\n",
       "if (notebookContainer) {{\n",
       "    x.observe(notebookContainer, {childList: true});\n",
       "}}\n",
       "\n",
       "// Listen for the clearing of the current output cell\n",
       "var outputEl = gd.closest('.output');\n",
       "if (outputEl) {{\n",
       "    x.observe(outputEl, {childList: true});\n",
       "}}\n",
       "\n",
       "                        })                };                });            </script>        </div>"
      ]
     },
     "metadata": {},
     "output_type": "display_data"
    }
   ],
   "source": [
    "df.iplot(kind='scatter',x='A',y='B',mode='markers',size=10)"
   ]
  },
  {
   "cell_type": "markdown",
   "metadata": {},
   "source": [
    "## Bar Plots"
   ]
  },
  {
   "cell_type": "code",
   "execution_count": 11,
   "metadata": {},
   "outputs": [
    {
     "data": {
      "application/vnd.plotly.v1+json": {
       "config": {
        "linkText": "Export to plot.ly",
        "plotlyServerURL": "https://plot.ly",
        "showLink": true
       },
       "data": [
        {
         "marker": {
          "color": "rgba(255, 153, 51, 0.6)",
          "line": {
           "color": "rgba(255, 153, 51, 1.0)",
           "width": 1
          }
         },
         "name": "Values",
         "orientation": "v",
         "text": "",
         "type": "bar",
         "x": [
          "A",
          "B",
          "C"
         ],
         "y": [
          32,
          43,
          50
         ]
        }
       ],
       "layout": {
        "legend": {
         "bgcolor": "#F5F6F9",
         "font": {
          "color": "#4D5663"
         }
        },
        "paper_bgcolor": "#F5F6F9",
        "plot_bgcolor": "#F5F6F9",
        "template": {
         "data": {
          "bar": [
           {
            "error_x": {
             "color": "#2a3f5f"
            },
            "error_y": {
             "color": "#2a3f5f"
            },
            "marker": {
             "line": {
              "color": "#E5ECF6",
              "width": 0.5
             },
             "pattern": {
              "fillmode": "overlay",
              "size": 10,
              "solidity": 0.2
             }
            },
            "type": "bar"
           }
          ],
          "barpolar": [
           {
            "marker": {
             "line": {
              "color": "#E5ECF6",
              "width": 0.5
             },
             "pattern": {
              "fillmode": "overlay",
              "size": 10,
              "solidity": 0.2
             }
            },
            "type": "barpolar"
           }
          ],
          "carpet": [
           {
            "aaxis": {
             "endlinecolor": "#2a3f5f",
             "gridcolor": "white",
             "linecolor": "white",
             "minorgridcolor": "white",
             "startlinecolor": "#2a3f5f"
            },
            "baxis": {
             "endlinecolor": "#2a3f5f",
             "gridcolor": "white",
             "linecolor": "white",
             "minorgridcolor": "white",
             "startlinecolor": "#2a3f5f"
            },
            "type": "carpet"
           }
          ],
          "choropleth": [
           {
            "colorbar": {
             "outlinewidth": 0,
             "ticks": ""
            },
            "type": "choropleth"
           }
          ],
          "contour": [
           {
            "colorbar": {
             "outlinewidth": 0,
             "ticks": ""
            },
            "colorscale": [
             [
              0,
              "#0d0887"
             ],
             [
              0.1111111111111111,
              "#46039f"
             ],
             [
              0.2222222222222222,
              "#7201a8"
             ],
             [
              0.3333333333333333,
              "#9c179e"
             ],
             [
              0.4444444444444444,
              "#bd3786"
             ],
             [
              0.5555555555555556,
              "#d8576b"
             ],
             [
              0.6666666666666666,
              "#ed7953"
             ],
             [
              0.7777777777777778,
              "#fb9f3a"
             ],
             [
              0.8888888888888888,
              "#fdca26"
             ],
             [
              1,
              "#f0f921"
             ]
            ],
            "type": "contour"
           }
          ],
          "contourcarpet": [
           {
            "colorbar": {
             "outlinewidth": 0,
             "ticks": ""
            },
            "type": "contourcarpet"
           }
          ],
          "heatmap": [
           {
            "colorbar": {
             "outlinewidth": 0,
             "ticks": ""
            },
            "colorscale": [
             [
              0,
              "#0d0887"
             ],
             [
              0.1111111111111111,
              "#46039f"
             ],
             [
              0.2222222222222222,
              "#7201a8"
             ],
             [
              0.3333333333333333,
              "#9c179e"
             ],
             [
              0.4444444444444444,
              "#bd3786"
             ],
             [
              0.5555555555555556,
              "#d8576b"
             ],
             [
              0.6666666666666666,
              "#ed7953"
             ],
             [
              0.7777777777777778,
              "#fb9f3a"
             ],
             [
              0.8888888888888888,
              "#fdca26"
             ],
             [
              1,
              "#f0f921"
             ]
            ],
            "type": "heatmap"
           }
          ],
          "heatmapgl": [
           {
            "colorbar": {
             "outlinewidth": 0,
             "ticks": ""
            },
            "colorscale": [
             [
              0,
              "#0d0887"
             ],
             [
              0.1111111111111111,
              "#46039f"
             ],
             [
              0.2222222222222222,
              "#7201a8"
             ],
             [
              0.3333333333333333,
              "#9c179e"
             ],
             [
              0.4444444444444444,
              "#bd3786"
             ],
             [
              0.5555555555555556,
              "#d8576b"
             ],
             [
              0.6666666666666666,
              "#ed7953"
             ],
             [
              0.7777777777777778,
              "#fb9f3a"
             ],
             [
              0.8888888888888888,
              "#fdca26"
             ],
             [
              1,
              "#f0f921"
             ]
            ],
            "type": "heatmapgl"
           }
          ],
          "histogram": [
           {
            "marker": {
             "pattern": {
              "fillmode": "overlay",
              "size": 10,
              "solidity": 0.2
             }
            },
            "type": "histogram"
           }
          ],
          "histogram2d": [
           {
            "colorbar": {
             "outlinewidth": 0,
             "ticks": ""
            },
            "colorscale": [
             [
              0,
              "#0d0887"
             ],
             [
              0.1111111111111111,
              "#46039f"
             ],
             [
              0.2222222222222222,
              "#7201a8"
             ],
             [
              0.3333333333333333,
              "#9c179e"
             ],
             [
              0.4444444444444444,
              "#bd3786"
             ],
             [
              0.5555555555555556,
              "#d8576b"
             ],
             [
              0.6666666666666666,
              "#ed7953"
             ],
             [
              0.7777777777777778,
              "#fb9f3a"
             ],
             [
              0.8888888888888888,
              "#fdca26"
             ],
             [
              1,
              "#f0f921"
             ]
            ],
            "type": "histogram2d"
           }
          ],
          "histogram2dcontour": [
           {
            "colorbar": {
             "outlinewidth": 0,
             "ticks": ""
            },
            "colorscale": [
             [
              0,
              "#0d0887"
             ],
             [
              0.1111111111111111,
              "#46039f"
             ],
             [
              0.2222222222222222,
              "#7201a8"
             ],
             [
              0.3333333333333333,
              "#9c179e"
             ],
             [
              0.4444444444444444,
              "#bd3786"
             ],
             [
              0.5555555555555556,
              "#d8576b"
             ],
             [
              0.6666666666666666,
              "#ed7953"
             ],
             [
              0.7777777777777778,
              "#fb9f3a"
             ],
             [
              0.8888888888888888,
              "#fdca26"
             ],
             [
              1,
              "#f0f921"
             ]
            ],
            "type": "histogram2dcontour"
           }
          ],
          "mesh3d": [
           {
            "colorbar": {
             "outlinewidth": 0,
             "ticks": ""
            },
            "type": "mesh3d"
           }
          ],
          "parcoords": [
           {
            "line": {
             "colorbar": {
              "outlinewidth": 0,
              "ticks": ""
             }
            },
            "type": "parcoords"
           }
          ],
          "pie": [
           {
            "automargin": true,
            "type": "pie"
           }
          ],
          "scatter": [
           {
            "fillpattern": {
             "fillmode": "overlay",
             "size": 10,
             "solidity": 0.2
            },
            "type": "scatter"
           }
          ],
          "scatter3d": [
           {
            "line": {
             "colorbar": {
              "outlinewidth": 0,
              "ticks": ""
             }
            },
            "marker": {
             "colorbar": {
              "outlinewidth": 0,
              "ticks": ""
             }
            },
            "type": "scatter3d"
           }
          ],
          "scattercarpet": [
           {
            "marker": {
             "colorbar": {
              "outlinewidth": 0,
              "ticks": ""
             }
            },
            "type": "scattercarpet"
           }
          ],
          "scattergeo": [
           {
            "marker": {
             "colorbar": {
              "outlinewidth": 0,
              "ticks": ""
             }
            },
            "type": "scattergeo"
           }
          ],
          "scattergl": [
           {
            "marker": {
             "colorbar": {
              "outlinewidth": 0,
              "ticks": ""
             }
            },
            "type": "scattergl"
           }
          ],
          "scattermapbox": [
           {
            "marker": {
             "colorbar": {
              "outlinewidth": 0,
              "ticks": ""
             }
            },
            "type": "scattermapbox"
           }
          ],
          "scatterpolar": [
           {
            "marker": {
             "colorbar": {
              "outlinewidth": 0,
              "ticks": ""
             }
            },
            "type": "scatterpolar"
           }
          ],
          "scatterpolargl": [
           {
            "marker": {
             "colorbar": {
              "outlinewidth": 0,
              "ticks": ""
             }
            },
            "type": "scatterpolargl"
           }
          ],
          "scatterternary": [
           {
            "marker": {
             "colorbar": {
              "outlinewidth": 0,
              "ticks": ""
             }
            },
            "type": "scatterternary"
           }
          ],
          "surface": [
           {
            "colorbar": {
             "outlinewidth": 0,
             "ticks": ""
            },
            "colorscale": [
             [
              0,
              "#0d0887"
             ],
             [
              0.1111111111111111,
              "#46039f"
             ],
             [
              0.2222222222222222,
              "#7201a8"
             ],
             [
              0.3333333333333333,
              "#9c179e"
             ],
             [
              0.4444444444444444,
              "#bd3786"
             ],
             [
              0.5555555555555556,
              "#d8576b"
             ],
             [
              0.6666666666666666,
              "#ed7953"
             ],
             [
              0.7777777777777778,
              "#fb9f3a"
             ],
             [
              0.8888888888888888,
              "#fdca26"
             ],
             [
              1,
              "#f0f921"
             ]
            ],
            "type": "surface"
           }
          ],
          "table": [
           {
            "cells": {
             "fill": {
              "color": "#EBF0F8"
             },
             "line": {
              "color": "white"
             }
            },
            "header": {
             "fill": {
              "color": "#C8D4E3"
             },
             "line": {
              "color": "white"
             }
            },
            "type": "table"
           }
          ]
         },
         "layout": {
          "annotationdefaults": {
           "arrowcolor": "#2a3f5f",
           "arrowhead": 0,
           "arrowwidth": 1
          },
          "autotypenumbers": "strict",
          "coloraxis": {
           "colorbar": {
            "outlinewidth": 0,
            "ticks": ""
           }
          },
          "colorscale": {
           "diverging": [
            [
             0,
             "#8e0152"
            ],
            [
             0.1,
             "#c51b7d"
            ],
            [
             0.2,
             "#de77ae"
            ],
            [
             0.3,
             "#f1b6da"
            ],
            [
             0.4,
             "#fde0ef"
            ],
            [
             0.5,
             "#f7f7f7"
            ],
            [
             0.6,
             "#e6f5d0"
            ],
            [
             0.7,
             "#b8e186"
            ],
            [
             0.8,
             "#7fbc41"
            ],
            [
             0.9,
             "#4d9221"
            ],
            [
             1,
             "#276419"
            ]
           ],
           "sequential": [
            [
             0,
             "#0d0887"
            ],
            [
             0.1111111111111111,
             "#46039f"
            ],
            [
             0.2222222222222222,
             "#7201a8"
            ],
            [
             0.3333333333333333,
             "#9c179e"
            ],
            [
             0.4444444444444444,
             "#bd3786"
            ],
            [
             0.5555555555555556,
             "#d8576b"
            ],
            [
             0.6666666666666666,
             "#ed7953"
            ],
            [
             0.7777777777777778,
             "#fb9f3a"
            ],
            [
             0.8888888888888888,
             "#fdca26"
            ],
            [
             1,
             "#f0f921"
            ]
           ],
           "sequentialminus": [
            [
             0,
             "#0d0887"
            ],
            [
             0.1111111111111111,
             "#46039f"
            ],
            [
             0.2222222222222222,
             "#7201a8"
            ],
            [
             0.3333333333333333,
             "#9c179e"
            ],
            [
             0.4444444444444444,
             "#bd3786"
            ],
            [
             0.5555555555555556,
             "#d8576b"
            ],
            [
             0.6666666666666666,
             "#ed7953"
            ],
            [
             0.7777777777777778,
             "#fb9f3a"
            ],
            [
             0.8888888888888888,
             "#fdca26"
            ],
            [
             1,
             "#f0f921"
            ]
           ]
          },
          "colorway": [
           "#636efa",
           "#EF553B",
           "#00cc96",
           "#ab63fa",
           "#FFA15A",
           "#19d3f3",
           "#FF6692",
           "#B6E880",
           "#FF97FF",
           "#FECB52"
          ],
          "font": {
           "color": "#2a3f5f"
          },
          "geo": {
           "bgcolor": "white",
           "lakecolor": "white",
           "landcolor": "#E5ECF6",
           "showlakes": true,
           "showland": true,
           "subunitcolor": "white"
          },
          "hoverlabel": {
           "align": "left"
          },
          "hovermode": "closest",
          "mapbox": {
           "style": "light"
          },
          "paper_bgcolor": "white",
          "plot_bgcolor": "#E5ECF6",
          "polar": {
           "angularaxis": {
            "gridcolor": "white",
            "linecolor": "white",
            "ticks": ""
           },
           "bgcolor": "#E5ECF6",
           "radialaxis": {
            "gridcolor": "white",
            "linecolor": "white",
            "ticks": ""
           }
          },
          "scene": {
           "xaxis": {
            "backgroundcolor": "#E5ECF6",
            "gridcolor": "white",
            "gridwidth": 2,
            "linecolor": "white",
            "showbackground": true,
            "ticks": "",
            "zerolinecolor": "white"
           },
           "yaxis": {
            "backgroundcolor": "#E5ECF6",
            "gridcolor": "white",
            "gridwidth": 2,
            "linecolor": "white",
            "showbackground": true,
            "ticks": "",
            "zerolinecolor": "white"
           },
           "zaxis": {
            "backgroundcolor": "#E5ECF6",
            "gridcolor": "white",
            "gridwidth": 2,
            "linecolor": "white",
            "showbackground": true,
            "ticks": "",
            "zerolinecolor": "white"
           }
          },
          "shapedefaults": {
           "line": {
            "color": "#2a3f5f"
           }
          },
          "ternary": {
           "aaxis": {
            "gridcolor": "white",
            "linecolor": "white",
            "ticks": ""
           },
           "baxis": {
            "gridcolor": "white",
            "linecolor": "white",
            "ticks": ""
           },
           "bgcolor": "#E5ECF6",
           "caxis": {
            "gridcolor": "white",
            "linecolor": "white",
            "ticks": ""
           }
          },
          "title": {
           "x": 0.05
          },
          "xaxis": {
           "automargin": true,
           "gridcolor": "white",
           "linecolor": "white",
           "ticks": "",
           "title": {
            "standoff": 15
           },
           "zerolinecolor": "white",
           "zerolinewidth": 2
          },
          "yaxis": {
           "automargin": true,
           "gridcolor": "white",
           "linecolor": "white",
           "ticks": "",
           "title": {
            "standoff": 15
           },
           "zerolinecolor": "white",
           "zerolinewidth": 2
          }
         }
        },
        "title": {
         "font": {
          "color": "#4D5663"
         }
        },
        "xaxis": {
         "gridcolor": "#E1E5ED",
         "showgrid": true,
         "tickfont": {
          "color": "#4D5663"
         },
         "title": {
          "font": {
           "color": "#4D5663"
          },
          "text": ""
         },
         "zerolinecolor": "#E1E5ED"
        },
        "yaxis": {
         "gridcolor": "#E1E5ED",
         "showgrid": true,
         "tickfont": {
          "color": "#4D5663"
         },
         "title": {
          "font": {
           "color": "#4D5663"
          },
          "text": ""
         },
         "zerolinecolor": "#E1E5ED"
        }
       }
      },
      "text/html": [
       "<div>                            <div id=\"b4f8bc2e-d9c6-4254-a384-66ddf8ae41a2\" class=\"plotly-graph-div\" style=\"height:525px; width:100%;\"></div>            <script type=\"text/javascript\">                require([\"plotly\"], function(Plotly) {                    window.PLOTLYENV=window.PLOTLYENV || {};\n",
       "                    window.PLOTLYENV.BASE_URL='https://plot.ly';                                    if (document.getElementById(\"b4f8bc2e-d9c6-4254-a384-66ddf8ae41a2\")) {                    Plotly.newPlot(                        \"b4f8bc2e-d9c6-4254-a384-66ddf8ae41a2\",                        [{\"marker\":{\"color\":\"rgba(255, 153, 51, 0.6)\",\"line\":{\"color\":\"rgba(255, 153, 51, 1.0)\",\"width\":1}},\"name\":\"Values\",\"orientation\":\"v\",\"text\":\"\",\"x\":[\"A\",\"B\",\"C\"],\"y\":[32,43,50],\"type\":\"bar\"}],                        {\"legend\":{\"bgcolor\":\"#F5F6F9\",\"font\":{\"color\":\"#4D5663\"}},\"paper_bgcolor\":\"#F5F6F9\",\"plot_bgcolor\":\"#F5F6F9\",\"template\":{\"data\":{\"barpolar\":[{\"marker\":{\"line\":{\"color\":\"#E5ECF6\",\"width\":0.5},\"pattern\":{\"fillmode\":\"overlay\",\"size\":10,\"solidity\":0.2}},\"type\":\"barpolar\"}],\"bar\":[{\"error_x\":{\"color\":\"#2a3f5f\"},\"error_y\":{\"color\":\"#2a3f5f\"},\"marker\":{\"line\":{\"color\":\"#E5ECF6\",\"width\":0.5},\"pattern\":{\"fillmode\":\"overlay\",\"size\":10,\"solidity\":0.2}},\"type\":\"bar\"}],\"carpet\":[{\"aaxis\":{\"endlinecolor\":\"#2a3f5f\",\"gridcolor\":\"white\",\"linecolor\":\"white\",\"minorgridcolor\":\"white\",\"startlinecolor\":\"#2a3f5f\"},\"baxis\":{\"endlinecolor\":\"#2a3f5f\",\"gridcolor\":\"white\",\"linecolor\":\"white\",\"minorgridcolor\":\"white\",\"startlinecolor\":\"#2a3f5f\"},\"type\":\"carpet\"}],\"choropleth\":[{\"colorbar\":{\"outlinewidth\":0,\"ticks\":\"\"},\"type\":\"choropleth\"}],\"contourcarpet\":[{\"colorbar\":{\"outlinewidth\":0,\"ticks\":\"\"},\"type\":\"contourcarpet\"}],\"contour\":[{\"colorbar\":{\"outlinewidth\":0,\"ticks\":\"\"},\"colorscale\":[[0.0,\"#0d0887\"],[0.1111111111111111,\"#46039f\"],[0.2222222222222222,\"#7201a8\"],[0.3333333333333333,\"#9c179e\"],[0.4444444444444444,\"#bd3786\"],[0.5555555555555556,\"#d8576b\"],[0.6666666666666666,\"#ed7953\"],[0.7777777777777778,\"#fb9f3a\"],[0.8888888888888888,\"#fdca26\"],[1.0,\"#f0f921\"]],\"type\":\"contour\"}],\"heatmapgl\":[{\"colorbar\":{\"outlinewidth\":0,\"ticks\":\"\"},\"colorscale\":[[0.0,\"#0d0887\"],[0.1111111111111111,\"#46039f\"],[0.2222222222222222,\"#7201a8\"],[0.3333333333333333,\"#9c179e\"],[0.4444444444444444,\"#bd3786\"],[0.5555555555555556,\"#d8576b\"],[0.6666666666666666,\"#ed7953\"],[0.7777777777777778,\"#fb9f3a\"],[0.8888888888888888,\"#fdca26\"],[1.0,\"#f0f921\"]],\"type\":\"heatmapgl\"}],\"heatmap\":[{\"colorbar\":{\"outlinewidth\":0,\"ticks\":\"\"},\"colorscale\":[[0.0,\"#0d0887\"],[0.1111111111111111,\"#46039f\"],[0.2222222222222222,\"#7201a8\"],[0.3333333333333333,\"#9c179e\"],[0.4444444444444444,\"#bd3786\"],[0.5555555555555556,\"#d8576b\"],[0.6666666666666666,\"#ed7953\"],[0.7777777777777778,\"#fb9f3a\"],[0.8888888888888888,\"#fdca26\"],[1.0,\"#f0f921\"]],\"type\":\"heatmap\"}],\"histogram2dcontour\":[{\"colorbar\":{\"outlinewidth\":0,\"ticks\":\"\"},\"colorscale\":[[0.0,\"#0d0887\"],[0.1111111111111111,\"#46039f\"],[0.2222222222222222,\"#7201a8\"],[0.3333333333333333,\"#9c179e\"],[0.4444444444444444,\"#bd3786\"],[0.5555555555555556,\"#d8576b\"],[0.6666666666666666,\"#ed7953\"],[0.7777777777777778,\"#fb9f3a\"],[0.8888888888888888,\"#fdca26\"],[1.0,\"#f0f921\"]],\"type\":\"histogram2dcontour\"}],\"histogram2d\":[{\"colorbar\":{\"outlinewidth\":0,\"ticks\":\"\"},\"colorscale\":[[0.0,\"#0d0887\"],[0.1111111111111111,\"#46039f\"],[0.2222222222222222,\"#7201a8\"],[0.3333333333333333,\"#9c179e\"],[0.4444444444444444,\"#bd3786\"],[0.5555555555555556,\"#d8576b\"],[0.6666666666666666,\"#ed7953\"],[0.7777777777777778,\"#fb9f3a\"],[0.8888888888888888,\"#fdca26\"],[1.0,\"#f0f921\"]],\"type\":\"histogram2d\"}],\"histogram\":[{\"marker\":{\"pattern\":{\"fillmode\":\"overlay\",\"size\":10,\"solidity\":0.2}},\"type\":\"histogram\"}],\"mesh3d\":[{\"colorbar\":{\"outlinewidth\":0,\"ticks\":\"\"},\"type\":\"mesh3d\"}],\"parcoords\":[{\"line\":{\"colorbar\":{\"outlinewidth\":0,\"ticks\":\"\"}},\"type\":\"parcoords\"}],\"pie\":[{\"automargin\":true,\"type\":\"pie\"}],\"scatter3d\":[{\"line\":{\"colorbar\":{\"outlinewidth\":0,\"ticks\":\"\"}},\"marker\":{\"colorbar\":{\"outlinewidth\":0,\"ticks\":\"\"}},\"type\":\"scatter3d\"}],\"scattercarpet\":[{\"marker\":{\"colorbar\":{\"outlinewidth\":0,\"ticks\":\"\"}},\"type\":\"scattercarpet\"}],\"scattergeo\":[{\"marker\":{\"colorbar\":{\"outlinewidth\":0,\"ticks\":\"\"}},\"type\":\"scattergeo\"}],\"scattergl\":[{\"marker\":{\"colorbar\":{\"outlinewidth\":0,\"ticks\":\"\"}},\"type\":\"scattergl\"}],\"scattermapbox\":[{\"marker\":{\"colorbar\":{\"outlinewidth\":0,\"ticks\":\"\"}},\"type\":\"scattermapbox\"}],\"scatterpolargl\":[{\"marker\":{\"colorbar\":{\"outlinewidth\":0,\"ticks\":\"\"}},\"type\":\"scatterpolargl\"}],\"scatterpolar\":[{\"marker\":{\"colorbar\":{\"outlinewidth\":0,\"ticks\":\"\"}},\"type\":\"scatterpolar\"}],\"scatter\":[{\"fillpattern\":{\"fillmode\":\"overlay\",\"size\":10,\"solidity\":0.2},\"type\":\"scatter\"}],\"scatterternary\":[{\"marker\":{\"colorbar\":{\"outlinewidth\":0,\"ticks\":\"\"}},\"type\":\"scatterternary\"}],\"surface\":[{\"colorbar\":{\"outlinewidth\":0,\"ticks\":\"\"},\"colorscale\":[[0.0,\"#0d0887\"],[0.1111111111111111,\"#46039f\"],[0.2222222222222222,\"#7201a8\"],[0.3333333333333333,\"#9c179e\"],[0.4444444444444444,\"#bd3786\"],[0.5555555555555556,\"#d8576b\"],[0.6666666666666666,\"#ed7953\"],[0.7777777777777778,\"#fb9f3a\"],[0.8888888888888888,\"#fdca26\"],[1.0,\"#f0f921\"]],\"type\":\"surface\"}],\"table\":[{\"cells\":{\"fill\":{\"color\":\"#EBF0F8\"},\"line\":{\"color\":\"white\"}},\"header\":{\"fill\":{\"color\":\"#C8D4E3\"},\"line\":{\"color\":\"white\"}},\"type\":\"table\"}]},\"layout\":{\"annotationdefaults\":{\"arrowcolor\":\"#2a3f5f\",\"arrowhead\":0,\"arrowwidth\":1},\"autotypenumbers\":\"strict\",\"coloraxis\":{\"colorbar\":{\"outlinewidth\":0,\"ticks\":\"\"}},\"colorscale\":{\"diverging\":[[0,\"#8e0152\"],[0.1,\"#c51b7d\"],[0.2,\"#de77ae\"],[0.3,\"#f1b6da\"],[0.4,\"#fde0ef\"],[0.5,\"#f7f7f7\"],[0.6,\"#e6f5d0\"],[0.7,\"#b8e186\"],[0.8,\"#7fbc41\"],[0.9,\"#4d9221\"],[1,\"#276419\"]],\"sequential\":[[0.0,\"#0d0887\"],[0.1111111111111111,\"#46039f\"],[0.2222222222222222,\"#7201a8\"],[0.3333333333333333,\"#9c179e\"],[0.4444444444444444,\"#bd3786\"],[0.5555555555555556,\"#d8576b\"],[0.6666666666666666,\"#ed7953\"],[0.7777777777777778,\"#fb9f3a\"],[0.8888888888888888,\"#fdca26\"],[1.0,\"#f0f921\"]],\"sequentialminus\":[[0.0,\"#0d0887\"],[0.1111111111111111,\"#46039f\"],[0.2222222222222222,\"#7201a8\"],[0.3333333333333333,\"#9c179e\"],[0.4444444444444444,\"#bd3786\"],[0.5555555555555556,\"#d8576b\"],[0.6666666666666666,\"#ed7953\"],[0.7777777777777778,\"#fb9f3a\"],[0.8888888888888888,\"#fdca26\"],[1.0,\"#f0f921\"]]},\"colorway\":[\"#636efa\",\"#EF553B\",\"#00cc96\",\"#ab63fa\",\"#FFA15A\",\"#19d3f3\",\"#FF6692\",\"#B6E880\",\"#FF97FF\",\"#FECB52\"],\"font\":{\"color\":\"#2a3f5f\"},\"geo\":{\"bgcolor\":\"white\",\"lakecolor\":\"white\",\"landcolor\":\"#E5ECF6\",\"showlakes\":true,\"showland\":true,\"subunitcolor\":\"white\"},\"hoverlabel\":{\"align\":\"left\"},\"hovermode\":\"closest\",\"mapbox\":{\"style\":\"light\"},\"paper_bgcolor\":\"white\",\"plot_bgcolor\":\"#E5ECF6\",\"polar\":{\"angularaxis\":{\"gridcolor\":\"white\",\"linecolor\":\"white\",\"ticks\":\"\"},\"bgcolor\":\"#E5ECF6\",\"radialaxis\":{\"gridcolor\":\"white\",\"linecolor\":\"white\",\"ticks\":\"\"}},\"scene\":{\"xaxis\":{\"backgroundcolor\":\"#E5ECF6\",\"gridcolor\":\"white\",\"gridwidth\":2,\"linecolor\":\"white\",\"showbackground\":true,\"ticks\":\"\",\"zerolinecolor\":\"white\"},\"yaxis\":{\"backgroundcolor\":\"#E5ECF6\",\"gridcolor\":\"white\",\"gridwidth\":2,\"linecolor\":\"white\",\"showbackground\":true,\"ticks\":\"\",\"zerolinecolor\":\"white\"},\"zaxis\":{\"backgroundcolor\":\"#E5ECF6\",\"gridcolor\":\"white\",\"gridwidth\":2,\"linecolor\":\"white\",\"showbackground\":true,\"ticks\":\"\",\"zerolinecolor\":\"white\"}},\"shapedefaults\":{\"line\":{\"color\":\"#2a3f5f\"}},\"ternary\":{\"aaxis\":{\"gridcolor\":\"white\",\"linecolor\":\"white\",\"ticks\":\"\"},\"baxis\":{\"gridcolor\":\"white\",\"linecolor\":\"white\",\"ticks\":\"\"},\"bgcolor\":\"#E5ECF6\",\"caxis\":{\"gridcolor\":\"white\",\"linecolor\":\"white\",\"ticks\":\"\"}},\"title\":{\"x\":0.05},\"xaxis\":{\"automargin\":true,\"gridcolor\":\"white\",\"linecolor\":\"white\",\"ticks\":\"\",\"title\":{\"standoff\":15},\"zerolinecolor\":\"white\",\"zerolinewidth\":2},\"yaxis\":{\"automargin\":true,\"gridcolor\":\"white\",\"linecolor\":\"white\",\"ticks\":\"\",\"title\":{\"standoff\":15},\"zerolinecolor\":\"white\",\"zerolinewidth\":2}}},\"title\":{\"font\":{\"color\":\"#4D5663\"}},\"xaxis\":{\"gridcolor\":\"#E1E5ED\",\"showgrid\":true,\"tickfont\":{\"color\":\"#4D5663\"},\"title\":{\"font\":{\"color\":\"#4D5663\"},\"text\":\"\"},\"zerolinecolor\":\"#E1E5ED\"},\"yaxis\":{\"gridcolor\":\"#E1E5ED\",\"showgrid\":true,\"tickfont\":{\"color\":\"#4D5663\"},\"title\":{\"font\":{\"color\":\"#4D5663\"},\"text\":\"\"},\"zerolinecolor\":\"#E1E5ED\"}},                        {\"showLink\": true, \"linkText\": \"Export to plot.ly\", \"plotlyServerURL\": \"https://plot.ly\", \"responsive\": true}                    ).then(function(){\n",
       "                            \n",
       "var gd = document.getElementById('b4f8bc2e-d9c6-4254-a384-66ddf8ae41a2');\n",
       "var x = new MutationObserver(function (mutations, observer) {{\n",
       "        var display = window.getComputedStyle(gd).display;\n",
       "        if (!display || display === 'none') {{\n",
       "            console.log([gd, 'removed!']);\n",
       "            Plotly.purge(gd);\n",
       "            observer.disconnect();\n",
       "        }}\n",
       "}});\n",
       "\n",
       "// Listen for the removal of the full notebook cells\n",
       "var notebookContainer = gd.closest('#notebook-container');\n",
       "if (notebookContainer) {{\n",
       "    x.observe(notebookContainer, {childList: true});\n",
       "}}\n",
       "\n",
       "// Listen for the clearing of the current output cell\n",
       "var outputEl = gd.closest('.output');\n",
       "if (outputEl) {{\n",
       "    x.observe(outputEl, {childList: true});\n",
       "}}\n",
       "\n",
       "                        })                };                });            </script>        </div>"
      ]
     },
     "metadata": {},
     "output_type": "display_data"
    }
   ],
   "source": [
    "df2.iplot(kind='bar',x='Category',y='Values')"
   ]
  },
  {
   "cell_type": "code",
   "execution_count": 12,
   "metadata": {},
   "outputs": [
    {
     "data": {
      "application/vnd.plotly.v1+json": {
       "config": {
        "linkText": "Export to plot.ly",
        "plotlyServerURL": "https://plot.ly",
        "showLink": true
       },
       "data": [
        {
         "marker": {
          "color": "rgba(255, 153, 51, 0.6)",
          "line": {
           "color": "rgba(255, 153, 51, 1.0)",
           "width": 1
          }
         },
         "name": "None",
         "orientation": "v",
         "text": "",
         "type": "bar",
         "x": [
          "A",
          "B",
          "C",
          "D"
         ],
         "y": [
          100,
          100,
          100,
          100
         ]
        }
       ],
       "layout": {
        "legend": {
         "bgcolor": "#F5F6F9",
         "font": {
          "color": "#4D5663"
         }
        },
        "paper_bgcolor": "#F5F6F9",
        "plot_bgcolor": "#F5F6F9",
        "template": {
         "data": {
          "bar": [
           {
            "error_x": {
             "color": "#2a3f5f"
            },
            "error_y": {
             "color": "#2a3f5f"
            },
            "marker": {
             "line": {
              "color": "#E5ECF6",
              "width": 0.5
             },
             "pattern": {
              "fillmode": "overlay",
              "size": 10,
              "solidity": 0.2
             }
            },
            "type": "bar"
           }
          ],
          "barpolar": [
           {
            "marker": {
             "line": {
              "color": "#E5ECF6",
              "width": 0.5
             },
             "pattern": {
              "fillmode": "overlay",
              "size": 10,
              "solidity": 0.2
             }
            },
            "type": "barpolar"
           }
          ],
          "carpet": [
           {
            "aaxis": {
             "endlinecolor": "#2a3f5f",
             "gridcolor": "white",
             "linecolor": "white",
             "minorgridcolor": "white",
             "startlinecolor": "#2a3f5f"
            },
            "baxis": {
             "endlinecolor": "#2a3f5f",
             "gridcolor": "white",
             "linecolor": "white",
             "minorgridcolor": "white",
             "startlinecolor": "#2a3f5f"
            },
            "type": "carpet"
           }
          ],
          "choropleth": [
           {
            "colorbar": {
             "outlinewidth": 0,
             "ticks": ""
            },
            "type": "choropleth"
           }
          ],
          "contour": [
           {
            "colorbar": {
             "outlinewidth": 0,
             "ticks": ""
            },
            "colorscale": [
             [
              0,
              "#0d0887"
             ],
             [
              0.1111111111111111,
              "#46039f"
             ],
             [
              0.2222222222222222,
              "#7201a8"
             ],
             [
              0.3333333333333333,
              "#9c179e"
             ],
             [
              0.4444444444444444,
              "#bd3786"
             ],
             [
              0.5555555555555556,
              "#d8576b"
             ],
             [
              0.6666666666666666,
              "#ed7953"
             ],
             [
              0.7777777777777778,
              "#fb9f3a"
             ],
             [
              0.8888888888888888,
              "#fdca26"
             ],
             [
              1,
              "#f0f921"
             ]
            ],
            "type": "contour"
           }
          ],
          "contourcarpet": [
           {
            "colorbar": {
             "outlinewidth": 0,
             "ticks": ""
            },
            "type": "contourcarpet"
           }
          ],
          "heatmap": [
           {
            "colorbar": {
             "outlinewidth": 0,
             "ticks": ""
            },
            "colorscale": [
             [
              0,
              "#0d0887"
             ],
             [
              0.1111111111111111,
              "#46039f"
             ],
             [
              0.2222222222222222,
              "#7201a8"
             ],
             [
              0.3333333333333333,
              "#9c179e"
             ],
             [
              0.4444444444444444,
              "#bd3786"
             ],
             [
              0.5555555555555556,
              "#d8576b"
             ],
             [
              0.6666666666666666,
              "#ed7953"
             ],
             [
              0.7777777777777778,
              "#fb9f3a"
             ],
             [
              0.8888888888888888,
              "#fdca26"
             ],
             [
              1,
              "#f0f921"
             ]
            ],
            "type": "heatmap"
           }
          ],
          "heatmapgl": [
           {
            "colorbar": {
             "outlinewidth": 0,
             "ticks": ""
            },
            "colorscale": [
             [
              0,
              "#0d0887"
             ],
             [
              0.1111111111111111,
              "#46039f"
             ],
             [
              0.2222222222222222,
              "#7201a8"
             ],
             [
              0.3333333333333333,
              "#9c179e"
             ],
             [
              0.4444444444444444,
              "#bd3786"
             ],
             [
              0.5555555555555556,
              "#d8576b"
             ],
             [
              0.6666666666666666,
              "#ed7953"
             ],
             [
              0.7777777777777778,
              "#fb9f3a"
             ],
             [
              0.8888888888888888,
              "#fdca26"
             ],
             [
              1,
              "#f0f921"
             ]
            ],
            "type": "heatmapgl"
           }
          ],
          "histogram": [
           {
            "marker": {
             "pattern": {
              "fillmode": "overlay",
              "size": 10,
              "solidity": 0.2
             }
            },
            "type": "histogram"
           }
          ],
          "histogram2d": [
           {
            "colorbar": {
             "outlinewidth": 0,
             "ticks": ""
            },
            "colorscale": [
             [
              0,
              "#0d0887"
             ],
             [
              0.1111111111111111,
              "#46039f"
             ],
             [
              0.2222222222222222,
              "#7201a8"
             ],
             [
              0.3333333333333333,
              "#9c179e"
             ],
             [
              0.4444444444444444,
              "#bd3786"
             ],
             [
              0.5555555555555556,
              "#d8576b"
             ],
             [
              0.6666666666666666,
              "#ed7953"
             ],
             [
              0.7777777777777778,
              "#fb9f3a"
             ],
             [
              0.8888888888888888,
              "#fdca26"
             ],
             [
              1,
              "#f0f921"
             ]
            ],
            "type": "histogram2d"
           }
          ],
          "histogram2dcontour": [
           {
            "colorbar": {
             "outlinewidth": 0,
             "ticks": ""
            },
            "colorscale": [
             [
              0,
              "#0d0887"
             ],
             [
              0.1111111111111111,
              "#46039f"
             ],
             [
              0.2222222222222222,
              "#7201a8"
             ],
             [
              0.3333333333333333,
              "#9c179e"
             ],
             [
              0.4444444444444444,
              "#bd3786"
             ],
             [
              0.5555555555555556,
              "#d8576b"
             ],
             [
              0.6666666666666666,
              "#ed7953"
             ],
             [
              0.7777777777777778,
              "#fb9f3a"
             ],
             [
              0.8888888888888888,
              "#fdca26"
             ],
             [
              1,
              "#f0f921"
             ]
            ],
            "type": "histogram2dcontour"
           }
          ],
          "mesh3d": [
           {
            "colorbar": {
             "outlinewidth": 0,
             "ticks": ""
            },
            "type": "mesh3d"
           }
          ],
          "parcoords": [
           {
            "line": {
             "colorbar": {
              "outlinewidth": 0,
              "ticks": ""
             }
            },
            "type": "parcoords"
           }
          ],
          "pie": [
           {
            "automargin": true,
            "type": "pie"
           }
          ],
          "scatter": [
           {
            "fillpattern": {
             "fillmode": "overlay",
             "size": 10,
             "solidity": 0.2
            },
            "type": "scatter"
           }
          ],
          "scatter3d": [
           {
            "line": {
             "colorbar": {
              "outlinewidth": 0,
              "ticks": ""
             }
            },
            "marker": {
             "colorbar": {
              "outlinewidth": 0,
              "ticks": ""
             }
            },
            "type": "scatter3d"
           }
          ],
          "scattercarpet": [
           {
            "marker": {
             "colorbar": {
              "outlinewidth": 0,
              "ticks": ""
             }
            },
            "type": "scattercarpet"
           }
          ],
          "scattergeo": [
           {
            "marker": {
             "colorbar": {
              "outlinewidth": 0,
              "ticks": ""
             }
            },
            "type": "scattergeo"
           }
          ],
          "scattergl": [
           {
            "marker": {
             "colorbar": {
              "outlinewidth": 0,
              "ticks": ""
             }
            },
            "type": "scattergl"
           }
          ],
          "scattermapbox": [
           {
            "marker": {
             "colorbar": {
              "outlinewidth": 0,
              "ticks": ""
             }
            },
            "type": "scattermapbox"
           }
          ],
          "scatterpolar": [
           {
            "marker": {
             "colorbar": {
              "outlinewidth": 0,
              "ticks": ""
             }
            },
            "type": "scatterpolar"
           }
          ],
          "scatterpolargl": [
           {
            "marker": {
             "colorbar": {
              "outlinewidth": 0,
              "ticks": ""
             }
            },
            "type": "scatterpolargl"
           }
          ],
          "scatterternary": [
           {
            "marker": {
             "colorbar": {
              "outlinewidth": 0,
              "ticks": ""
             }
            },
            "type": "scatterternary"
           }
          ],
          "surface": [
           {
            "colorbar": {
             "outlinewidth": 0,
             "ticks": ""
            },
            "colorscale": [
             [
              0,
              "#0d0887"
             ],
             [
              0.1111111111111111,
              "#46039f"
             ],
             [
              0.2222222222222222,
              "#7201a8"
             ],
             [
              0.3333333333333333,
              "#9c179e"
             ],
             [
              0.4444444444444444,
              "#bd3786"
             ],
             [
              0.5555555555555556,
              "#d8576b"
             ],
             [
              0.6666666666666666,
              "#ed7953"
             ],
             [
              0.7777777777777778,
              "#fb9f3a"
             ],
             [
              0.8888888888888888,
              "#fdca26"
             ],
             [
              1,
              "#f0f921"
             ]
            ],
            "type": "surface"
           }
          ],
          "table": [
           {
            "cells": {
             "fill": {
              "color": "#EBF0F8"
             },
             "line": {
              "color": "white"
             }
            },
            "header": {
             "fill": {
              "color": "#C8D4E3"
             },
             "line": {
              "color": "white"
             }
            },
            "type": "table"
           }
          ]
         },
         "layout": {
          "annotationdefaults": {
           "arrowcolor": "#2a3f5f",
           "arrowhead": 0,
           "arrowwidth": 1
          },
          "autotypenumbers": "strict",
          "coloraxis": {
           "colorbar": {
            "outlinewidth": 0,
            "ticks": ""
           }
          },
          "colorscale": {
           "diverging": [
            [
             0,
             "#8e0152"
            ],
            [
             0.1,
             "#c51b7d"
            ],
            [
             0.2,
             "#de77ae"
            ],
            [
             0.3,
             "#f1b6da"
            ],
            [
             0.4,
             "#fde0ef"
            ],
            [
             0.5,
             "#f7f7f7"
            ],
            [
             0.6,
             "#e6f5d0"
            ],
            [
             0.7,
             "#b8e186"
            ],
            [
             0.8,
             "#7fbc41"
            ],
            [
             0.9,
             "#4d9221"
            ],
            [
             1,
             "#276419"
            ]
           ],
           "sequential": [
            [
             0,
             "#0d0887"
            ],
            [
             0.1111111111111111,
             "#46039f"
            ],
            [
             0.2222222222222222,
             "#7201a8"
            ],
            [
             0.3333333333333333,
             "#9c179e"
            ],
            [
             0.4444444444444444,
             "#bd3786"
            ],
            [
             0.5555555555555556,
             "#d8576b"
            ],
            [
             0.6666666666666666,
             "#ed7953"
            ],
            [
             0.7777777777777778,
             "#fb9f3a"
            ],
            [
             0.8888888888888888,
             "#fdca26"
            ],
            [
             1,
             "#f0f921"
            ]
           ],
           "sequentialminus": [
            [
             0,
             "#0d0887"
            ],
            [
             0.1111111111111111,
             "#46039f"
            ],
            [
             0.2222222222222222,
             "#7201a8"
            ],
            [
             0.3333333333333333,
             "#9c179e"
            ],
            [
             0.4444444444444444,
             "#bd3786"
            ],
            [
             0.5555555555555556,
             "#d8576b"
            ],
            [
             0.6666666666666666,
             "#ed7953"
            ],
            [
             0.7777777777777778,
             "#fb9f3a"
            ],
            [
             0.8888888888888888,
             "#fdca26"
            ],
            [
             1,
             "#f0f921"
            ]
           ]
          },
          "colorway": [
           "#636efa",
           "#EF553B",
           "#00cc96",
           "#ab63fa",
           "#FFA15A",
           "#19d3f3",
           "#FF6692",
           "#B6E880",
           "#FF97FF",
           "#FECB52"
          ],
          "font": {
           "color": "#2a3f5f"
          },
          "geo": {
           "bgcolor": "white",
           "lakecolor": "white",
           "landcolor": "#E5ECF6",
           "showlakes": true,
           "showland": true,
           "subunitcolor": "white"
          },
          "hoverlabel": {
           "align": "left"
          },
          "hovermode": "closest",
          "mapbox": {
           "style": "light"
          },
          "paper_bgcolor": "white",
          "plot_bgcolor": "#E5ECF6",
          "polar": {
           "angularaxis": {
            "gridcolor": "white",
            "linecolor": "white",
            "ticks": ""
           },
           "bgcolor": "#E5ECF6",
           "radialaxis": {
            "gridcolor": "white",
            "linecolor": "white",
            "ticks": ""
           }
          },
          "scene": {
           "xaxis": {
            "backgroundcolor": "#E5ECF6",
            "gridcolor": "white",
            "gridwidth": 2,
            "linecolor": "white",
            "showbackground": true,
            "ticks": "",
            "zerolinecolor": "white"
           },
           "yaxis": {
            "backgroundcolor": "#E5ECF6",
            "gridcolor": "white",
            "gridwidth": 2,
            "linecolor": "white",
            "showbackground": true,
            "ticks": "",
            "zerolinecolor": "white"
           },
           "zaxis": {
            "backgroundcolor": "#E5ECF6",
            "gridcolor": "white",
            "gridwidth": 2,
            "linecolor": "white",
            "showbackground": true,
            "ticks": "",
            "zerolinecolor": "white"
           }
          },
          "shapedefaults": {
           "line": {
            "color": "#2a3f5f"
           }
          },
          "ternary": {
           "aaxis": {
            "gridcolor": "white",
            "linecolor": "white",
            "ticks": ""
           },
           "baxis": {
            "gridcolor": "white",
            "linecolor": "white",
            "ticks": ""
           },
           "bgcolor": "#E5ECF6",
           "caxis": {
            "gridcolor": "white",
            "linecolor": "white",
            "ticks": ""
           }
          },
          "title": {
           "x": 0.05
          },
          "xaxis": {
           "automargin": true,
           "gridcolor": "white",
           "linecolor": "white",
           "ticks": "",
           "title": {
            "standoff": 15
           },
           "zerolinecolor": "white",
           "zerolinewidth": 2
          },
          "yaxis": {
           "automargin": true,
           "gridcolor": "white",
           "linecolor": "white",
           "ticks": "",
           "title": {
            "standoff": 15
           },
           "zerolinecolor": "white",
           "zerolinewidth": 2
          }
         }
        },
        "title": {
         "font": {
          "color": "#4D5663"
         }
        },
        "xaxis": {
         "gridcolor": "#E1E5ED",
         "showgrid": true,
         "tickfont": {
          "color": "#4D5663"
         },
         "title": {
          "font": {
           "color": "#4D5663"
          },
          "text": ""
         },
         "zerolinecolor": "#E1E5ED"
        },
        "yaxis": {
         "gridcolor": "#E1E5ED",
         "showgrid": true,
         "tickfont": {
          "color": "#4D5663"
         },
         "title": {
          "font": {
           "color": "#4D5663"
          },
          "text": ""
         },
         "zerolinecolor": "#E1E5ED"
        }
       }
      },
      "text/html": [
       "<div>                            <div id=\"7ec01070-0324-4c66-9dd9-0c2b61b98f6d\" class=\"plotly-graph-div\" style=\"height:525px; width:100%;\"></div>            <script type=\"text/javascript\">                require([\"plotly\"], function(Plotly) {                    window.PLOTLYENV=window.PLOTLYENV || {};\n",
       "                    window.PLOTLYENV.BASE_URL='https://plot.ly';                                    if (document.getElementById(\"7ec01070-0324-4c66-9dd9-0c2b61b98f6d\")) {                    Plotly.newPlot(                        \"7ec01070-0324-4c66-9dd9-0c2b61b98f6d\",                        [{\"marker\":{\"color\":\"rgba(255, 153, 51, 0.6)\",\"line\":{\"color\":\"rgba(255, 153, 51, 1.0)\",\"width\":1}},\"name\":\"None\",\"orientation\":\"v\",\"text\":\"\",\"x\":[\"A\",\"B\",\"C\",\"D\"],\"y\":[100,100,100,100],\"type\":\"bar\"}],                        {\"legend\":{\"bgcolor\":\"#F5F6F9\",\"font\":{\"color\":\"#4D5663\"}},\"paper_bgcolor\":\"#F5F6F9\",\"plot_bgcolor\":\"#F5F6F9\",\"template\":{\"data\":{\"barpolar\":[{\"marker\":{\"line\":{\"color\":\"#E5ECF6\",\"width\":0.5},\"pattern\":{\"fillmode\":\"overlay\",\"size\":10,\"solidity\":0.2}},\"type\":\"barpolar\"}],\"bar\":[{\"error_x\":{\"color\":\"#2a3f5f\"},\"error_y\":{\"color\":\"#2a3f5f\"},\"marker\":{\"line\":{\"color\":\"#E5ECF6\",\"width\":0.5},\"pattern\":{\"fillmode\":\"overlay\",\"size\":10,\"solidity\":0.2}},\"type\":\"bar\"}],\"carpet\":[{\"aaxis\":{\"endlinecolor\":\"#2a3f5f\",\"gridcolor\":\"white\",\"linecolor\":\"white\",\"minorgridcolor\":\"white\",\"startlinecolor\":\"#2a3f5f\"},\"baxis\":{\"endlinecolor\":\"#2a3f5f\",\"gridcolor\":\"white\",\"linecolor\":\"white\",\"minorgridcolor\":\"white\",\"startlinecolor\":\"#2a3f5f\"},\"type\":\"carpet\"}],\"choropleth\":[{\"colorbar\":{\"outlinewidth\":0,\"ticks\":\"\"},\"type\":\"choropleth\"}],\"contourcarpet\":[{\"colorbar\":{\"outlinewidth\":0,\"ticks\":\"\"},\"type\":\"contourcarpet\"}],\"contour\":[{\"colorbar\":{\"outlinewidth\":0,\"ticks\":\"\"},\"colorscale\":[[0.0,\"#0d0887\"],[0.1111111111111111,\"#46039f\"],[0.2222222222222222,\"#7201a8\"],[0.3333333333333333,\"#9c179e\"],[0.4444444444444444,\"#bd3786\"],[0.5555555555555556,\"#d8576b\"],[0.6666666666666666,\"#ed7953\"],[0.7777777777777778,\"#fb9f3a\"],[0.8888888888888888,\"#fdca26\"],[1.0,\"#f0f921\"]],\"type\":\"contour\"}],\"heatmapgl\":[{\"colorbar\":{\"outlinewidth\":0,\"ticks\":\"\"},\"colorscale\":[[0.0,\"#0d0887\"],[0.1111111111111111,\"#46039f\"],[0.2222222222222222,\"#7201a8\"],[0.3333333333333333,\"#9c179e\"],[0.4444444444444444,\"#bd3786\"],[0.5555555555555556,\"#d8576b\"],[0.6666666666666666,\"#ed7953\"],[0.7777777777777778,\"#fb9f3a\"],[0.8888888888888888,\"#fdca26\"],[1.0,\"#f0f921\"]],\"type\":\"heatmapgl\"}],\"heatmap\":[{\"colorbar\":{\"outlinewidth\":0,\"ticks\":\"\"},\"colorscale\":[[0.0,\"#0d0887\"],[0.1111111111111111,\"#46039f\"],[0.2222222222222222,\"#7201a8\"],[0.3333333333333333,\"#9c179e\"],[0.4444444444444444,\"#bd3786\"],[0.5555555555555556,\"#d8576b\"],[0.6666666666666666,\"#ed7953\"],[0.7777777777777778,\"#fb9f3a\"],[0.8888888888888888,\"#fdca26\"],[1.0,\"#f0f921\"]],\"type\":\"heatmap\"}],\"histogram2dcontour\":[{\"colorbar\":{\"outlinewidth\":0,\"ticks\":\"\"},\"colorscale\":[[0.0,\"#0d0887\"],[0.1111111111111111,\"#46039f\"],[0.2222222222222222,\"#7201a8\"],[0.3333333333333333,\"#9c179e\"],[0.4444444444444444,\"#bd3786\"],[0.5555555555555556,\"#d8576b\"],[0.6666666666666666,\"#ed7953\"],[0.7777777777777778,\"#fb9f3a\"],[0.8888888888888888,\"#fdca26\"],[1.0,\"#f0f921\"]],\"type\":\"histogram2dcontour\"}],\"histogram2d\":[{\"colorbar\":{\"outlinewidth\":0,\"ticks\":\"\"},\"colorscale\":[[0.0,\"#0d0887\"],[0.1111111111111111,\"#46039f\"],[0.2222222222222222,\"#7201a8\"],[0.3333333333333333,\"#9c179e\"],[0.4444444444444444,\"#bd3786\"],[0.5555555555555556,\"#d8576b\"],[0.6666666666666666,\"#ed7953\"],[0.7777777777777778,\"#fb9f3a\"],[0.8888888888888888,\"#fdca26\"],[1.0,\"#f0f921\"]],\"type\":\"histogram2d\"}],\"histogram\":[{\"marker\":{\"pattern\":{\"fillmode\":\"overlay\",\"size\":10,\"solidity\":0.2}},\"type\":\"histogram\"}],\"mesh3d\":[{\"colorbar\":{\"outlinewidth\":0,\"ticks\":\"\"},\"type\":\"mesh3d\"}],\"parcoords\":[{\"line\":{\"colorbar\":{\"outlinewidth\":0,\"ticks\":\"\"}},\"type\":\"parcoords\"}],\"pie\":[{\"automargin\":true,\"type\":\"pie\"}],\"scatter3d\":[{\"line\":{\"colorbar\":{\"outlinewidth\":0,\"ticks\":\"\"}},\"marker\":{\"colorbar\":{\"outlinewidth\":0,\"ticks\":\"\"}},\"type\":\"scatter3d\"}],\"scattercarpet\":[{\"marker\":{\"colorbar\":{\"outlinewidth\":0,\"ticks\":\"\"}},\"type\":\"scattercarpet\"}],\"scattergeo\":[{\"marker\":{\"colorbar\":{\"outlinewidth\":0,\"ticks\":\"\"}},\"type\":\"scattergeo\"}],\"scattergl\":[{\"marker\":{\"colorbar\":{\"outlinewidth\":0,\"ticks\":\"\"}},\"type\":\"scattergl\"}],\"scattermapbox\":[{\"marker\":{\"colorbar\":{\"outlinewidth\":0,\"ticks\":\"\"}},\"type\":\"scattermapbox\"}],\"scatterpolargl\":[{\"marker\":{\"colorbar\":{\"outlinewidth\":0,\"ticks\":\"\"}},\"type\":\"scatterpolargl\"}],\"scatterpolar\":[{\"marker\":{\"colorbar\":{\"outlinewidth\":0,\"ticks\":\"\"}},\"type\":\"scatterpolar\"}],\"scatter\":[{\"fillpattern\":{\"fillmode\":\"overlay\",\"size\":10,\"solidity\":0.2},\"type\":\"scatter\"}],\"scatterternary\":[{\"marker\":{\"colorbar\":{\"outlinewidth\":0,\"ticks\":\"\"}},\"type\":\"scatterternary\"}],\"surface\":[{\"colorbar\":{\"outlinewidth\":0,\"ticks\":\"\"},\"colorscale\":[[0.0,\"#0d0887\"],[0.1111111111111111,\"#46039f\"],[0.2222222222222222,\"#7201a8\"],[0.3333333333333333,\"#9c179e\"],[0.4444444444444444,\"#bd3786\"],[0.5555555555555556,\"#d8576b\"],[0.6666666666666666,\"#ed7953\"],[0.7777777777777778,\"#fb9f3a\"],[0.8888888888888888,\"#fdca26\"],[1.0,\"#f0f921\"]],\"type\":\"surface\"}],\"table\":[{\"cells\":{\"fill\":{\"color\":\"#EBF0F8\"},\"line\":{\"color\":\"white\"}},\"header\":{\"fill\":{\"color\":\"#C8D4E3\"},\"line\":{\"color\":\"white\"}},\"type\":\"table\"}]},\"layout\":{\"annotationdefaults\":{\"arrowcolor\":\"#2a3f5f\",\"arrowhead\":0,\"arrowwidth\":1},\"autotypenumbers\":\"strict\",\"coloraxis\":{\"colorbar\":{\"outlinewidth\":0,\"ticks\":\"\"}},\"colorscale\":{\"diverging\":[[0,\"#8e0152\"],[0.1,\"#c51b7d\"],[0.2,\"#de77ae\"],[0.3,\"#f1b6da\"],[0.4,\"#fde0ef\"],[0.5,\"#f7f7f7\"],[0.6,\"#e6f5d0\"],[0.7,\"#b8e186\"],[0.8,\"#7fbc41\"],[0.9,\"#4d9221\"],[1,\"#276419\"]],\"sequential\":[[0.0,\"#0d0887\"],[0.1111111111111111,\"#46039f\"],[0.2222222222222222,\"#7201a8\"],[0.3333333333333333,\"#9c179e\"],[0.4444444444444444,\"#bd3786\"],[0.5555555555555556,\"#d8576b\"],[0.6666666666666666,\"#ed7953\"],[0.7777777777777778,\"#fb9f3a\"],[0.8888888888888888,\"#fdca26\"],[1.0,\"#f0f921\"]],\"sequentialminus\":[[0.0,\"#0d0887\"],[0.1111111111111111,\"#46039f\"],[0.2222222222222222,\"#7201a8\"],[0.3333333333333333,\"#9c179e\"],[0.4444444444444444,\"#bd3786\"],[0.5555555555555556,\"#d8576b\"],[0.6666666666666666,\"#ed7953\"],[0.7777777777777778,\"#fb9f3a\"],[0.8888888888888888,\"#fdca26\"],[1.0,\"#f0f921\"]]},\"colorway\":[\"#636efa\",\"#EF553B\",\"#00cc96\",\"#ab63fa\",\"#FFA15A\",\"#19d3f3\",\"#FF6692\",\"#B6E880\",\"#FF97FF\",\"#FECB52\"],\"font\":{\"color\":\"#2a3f5f\"},\"geo\":{\"bgcolor\":\"white\",\"lakecolor\":\"white\",\"landcolor\":\"#E5ECF6\",\"showlakes\":true,\"showland\":true,\"subunitcolor\":\"white\"},\"hoverlabel\":{\"align\":\"left\"},\"hovermode\":\"closest\",\"mapbox\":{\"style\":\"light\"},\"paper_bgcolor\":\"white\",\"plot_bgcolor\":\"#E5ECF6\",\"polar\":{\"angularaxis\":{\"gridcolor\":\"white\",\"linecolor\":\"white\",\"ticks\":\"\"},\"bgcolor\":\"#E5ECF6\",\"radialaxis\":{\"gridcolor\":\"white\",\"linecolor\":\"white\",\"ticks\":\"\"}},\"scene\":{\"xaxis\":{\"backgroundcolor\":\"#E5ECF6\",\"gridcolor\":\"white\",\"gridwidth\":2,\"linecolor\":\"white\",\"showbackground\":true,\"ticks\":\"\",\"zerolinecolor\":\"white\"},\"yaxis\":{\"backgroundcolor\":\"#E5ECF6\",\"gridcolor\":\"white\",\"gridwidth\":2,\"linecolor\":\"white\",\"showbackground\":true,\"ticks\":\"\",\"zerolinecolor\":\"white\"},\"zaxis\":{\"backgroundcolor\":\"#E5ECF6\",\"gridcolor\":\"white\",\"gridwidth\":2,\"linecolor\":\"white\",\"showbackground\":true,\"ticks\":\"\",\"zerolinecolor\":\"white\"}},\"shapedefaults\":{\"line\":{\"color\":\"#2a3f5f\"}},\"ternary\":{\"aaxis\":{\"gridcolor\":\"white\",\"linecolor\":\"white\",\"ticks\":\"\"},\"baxis\":{\"gridcolor\":\"white\",\"linecolor\":\"white\",\"ticks\":\"\"},\"bgcolor\":\"#E5ECF6\",\"caxis\":{\"gridcolor\":\"white\",\"linecolor\":\"white\",\"ticks\":\"\"}},\"title\":{\"x\":0.05},\"xaxis\":{\"automargin\":true,\"gridcolor\":\"white\",\"linecolor\":\"white\",\"ticks\":\"\",\"title\":{\"standoff\":15},\"zerolinecolor\":\"white\",\"zerolinewidth\":2},\"yaxis\":{\"automargin\":true,\"gridcolor\":\"white\",\"linecolor\":\"white\",\"ticks\":\"\",\"title\":{\"standoff\":15},\"zerolinecolor\":\"white\",\"zerolinewidth\":2}}},\"title\":{\"font\":{\"color\":\"#4D5663\"}},\"xaxis\":{\"gridcolor\":\"#E1E5ED\",\"showgrid\":true,\"tickfont\":{\"color\":\"#4D5663\"},\"title\":{\"font\":{\"color\":\"#4D5663\"},\"text\":\"\"},\"zerolinecolor\":\"#E1E5ED\"},\"yaxis\":{\"gridcolor\":\"#E1E5ED\",\"showgrid\":true,\"tickfont\":{\"color\":\"#4D5663\"},\"title\":{\"font\":{\"color\":\"#4D5663\"},\"text\":\"\"},\"zerolinecolor\":\"#E1E5ED\"}},                        {\"showLink\": true, \"linkText\": \"Export to plot.ly\", \"plotlyServerURL\": \"https://plot.ly\", \"responsive\": true}                    ).then(function(){\n",
       "                            \n",
       "var gd = document.getElementById('7ec01070-0324-4c66-9dd9-0c2b61b98f6d');\n",
       "var x = new MutationObserver(function (mutations, observer) {{\n",
       "        var display = window.getComputedStyle(gd).display;\n",
       "        if (!display || display === 'none') {{\n",
       "            console.log([gd, 'removed!']);\n",
       "            Plotly.purge(gd);\n",
       "            observer.disconnect();\n",
       "        }}\n",
       "}});\n",
       "\n",
       "// Listen for the removal of the full notebook cells\n",
       "var notebookContainer = gd.closest('#notebook-container');\n",
       "if (notebookContainer) {{\n",
       "    x.observe(notebookContainer, {childList: true});\n",
       "}}\n",
       "\n",
       "// Listen for the clearing of the current output cell\n",
       "var outputEl = gd.closest('.output');\n",
       "if (outputEl) {{\n",
       "    x.observe(outputEl, {childList: true});\n",
       "}}\n",
       "\n",
       "                        })                };                });            </script>        </div>"
      ]
     },
     "metadata": {},
     "output_type": "display_data"
    }
   ],
   "source": [
    "df.count().iplot(kind='bar')"
   ]
  },
  {
   "cell_type": "markdown",
   "metadata": {},
   "source": [
    "## Boxplots"
   ]
  },
  {
   "cell_type": "code",
   "execution_count": 13,
   "metadata": {},
   "outputs": [
    {
     "data": {
      "application/vnd.plotly.v1+json": {
       "config": {
        "linkText": "Export to plot.ly",
        "plotlyServerURL": "https://plot.ly",
        "showLink": true
       },
       "data": [
        {
         "boxpoints": false,
         "line": {
          "width": 1.3
         },
         "marker": {
          "color": "rgba(255, 153, 51, 1.0)"
         },
         "name": "A",
         "orientation": "v",
         "type": "box",
         "y": [
          -0.32437935932286105,
          0.6507786303830336,
          -0.3895435206998073,
          0.09605366978079674,
          0.8197362293541232,
          -2.1736614086387034,
          0.5447989087977978,
          -0.48026307852395245,
          -0.9312791112381261,
          1.0234457605227858,
          2.602895318314027,
          0.22413905009816462,
          -0.821227335088624,
          -0.3856451712519905,
          0.8111171832248476,
          0.020787549685838753,
          1.0456525715167484,
          -0.46999110891348045,
          -1.8031559479012809,
          1.6790145550113407,
          -0.10326521597651746,
          -0.0699982364634295,
          0.0682181566995542,
          1.7559799602251849,
          -0.8835006562676381,
          0.08438188434314217,
          -0.3118089076470192,
          -0.14808980061376903,
          0.043576355483198256,
          0.3420442997233026,
          0.11894325264568689,
          -0.2577134208535056,
          0.6978036228013325,
          0.6113101405984447,
          -0.8642860355006269,
          1.0386104714627757,
          -0.5454469660239857,
          0.37359152088305875,
          -0.207414871750417,
          -0.2766082626107455,
          -0.09232179563923242,
          -0.22322258357986602,
          -0.2750041129199989,
          -0.6462565804188576,
          -0.7564544188020607,
          -0.3935935702016708,
          -0.6201830686920962,
          0.5032563482950011,
          -0.3400791520044989,
          -0.7217213231087968,
          0.03735172569908848,
          -1.3387465776407153,
          1.26320480969486,
          1.0391940167060385,
          0.07527735447324392,
          -0.04637228755826521,
          0.2407108736349752,
          0.6718242356571152,
          -0.5874185371180319,
          -0.05166639315432059,
          0.28546671957252895,
          -0.8393723817660538,
          3.6920994601597235,
          0.7140374705521528,
          -2.0311390810199197,
          -0.7656104217463565,
          -0.5706747095329012,
          1.44720934904325,
          -0.04684225993129464,
          1.7666836707342357,
          -0.25712128759980896,
          -0.7486717414586884,
          -0.14404899072278207,
          -2.847694864973696,
          0.5055476900344904,
          -0.9777980182604501,
          -0.3404777125900365,
          0.49896061289322263,
          -1.2666980908052186,
          -0.14298323017857129,
          -0.33134176695795176,
          -0.32793980022794733,
          -1.3223083663276318,
          -0.7638233684150882,
          -2.193080206212569,
          0.9998229351057568,
          0.636695813978981,
          -0.20155103698415303,
          1.4901288953563878,
          -1.5565718214852045,
          -0.7254474963551272,
          0.1256470565777697,
          1.445946008831829,
          -0.60092975865266,
          0.9270945867676877,
          1.2287517941705062,
          0.7216832535913091,
          -1.939902333371826,
          -1.3338304167761876,
          0.6727881223318196
         ]
        },
        {
         "boxpoints": false,
         "line": {
          "width": 1.3
         },
         "marker": {
          "color": "rgba(55, 128, 191, 1.0)"
         },
         "name": "B",
         "orientation": "v",
         "type": "box",
         "y": [
          0.5840159608274463,
          -0.6776725469281716,
          -0.08250716750184768,
          -0.6997003696662847,
          -0.02046542339042747,
          1.2973044459174985,
          -0.15269446165195133,
          -1.4060233979928802,
          -0.5155337860657689,
          -0.5736152041925673,
          1.357173046148224,
          0.8500626656020044,
          0.10844955804384164,
          -1.113034086831303,
          1.2664476181631814,
          0.5211478579740425,
          -0.07179164173708667,
          0.1862031755158228,
          -0.7119068102838787,
          0.9585466814679567,
          -0.8427877095541829,
          0.2861755512620451,
          0.5093489326745615,
          0.3787469242895969,
          -0.9445536130992522,
          0.35678791129132764,
          0.3853970213226538,
          0.7413345138100097,
          1.6806051224796448,
          -1.083973295584339,
          0.5506930858378145,
          1.5639483064191257,
          0.8824343297222614,
          -0.10628109258192349,
          -1.4162687762492605,
          0.9289603451115521,
          0.23602352635471763,
          1.1471291497038176,
          0.17164218020853547,
          -0.16497562804589852,
          0.7178070496418821,
          1.045121465527172,
          1.36845378138647,
          -0.5256492280256156,
          -0.37444234869325654,
          -1.2981424632591463,
          -0.9240607988811324,
          0.273143180228173,
          0.9988750799969999,
          -2.0064517053719846,
          0.11444308844932008,
          0.6848583984094578,
          -0.39553800528315075,
          -0.3144745974960851,
          -0.47359674536819757,
          -1.4573494915478733,
          0.174213316035283,
          2.2361965917768685,
          0.17517082060865113,
          2.332184289649614,
          1.7105058808082025,
          -1.706279525783847,
          0.5916358862419079,
          -0.46540652794985776,
          -1.7293639018946085,
          -1.2135524247347476,
          0.1790335731975688,
          -0.5699722220416938,
          -0.729331184902068,
          0.18117369443269593,
          -0.05635246315475032,
          0.39052174181601707,
          -0.6708788277038915,
          0.16103357730047088,
          1.573538234181239,
          -0.1953589263551798,
          0.080368461583438,
          0.2679163855152857,
          -0.15259967498329535,
          1.0616318376628848,
          -0.30502224143898055,
          1.2316319246538674,
          0.32709090752935904,
          -0.7106105752458274,
          0.001081946950240499,
          0.7494594826677379,
          -1.014585852439636,
          -1.128112386980834,
          0.14410131361648543,
          -1.496817504683681,
          -0.19954188369670103,
          1.4413043033258475,
          -0.6074730481305635,
          0.751125846459736,
          1.0867151412356497,
          0.02357154784848277,
          0.09231623762808776,
          -2.955157726525199,
          -0.47205442975871503,
          -1.3673663177768012
         ]
        },
        {
         "boxpoints": false,
         "line": {
          "width": 1.3
         },
         "marker": {
          "color": "rgba(50, 171, 96, 1.0)"
         },
         "name": "C",
         "orientation": "v",
         "type": "box",
         "y": [
          1.146611563349902,
          -0.761088837254447,
          -1.894326715200364,
          1.3055060471824547,
          -1.471362324415607,
          -2.3930488604815117,
          -0.04190170202730823,
          -0.6396350846980466,
          -0.9416261575912995,
          -0.7043826965259425,
          1.7325352312281856,
          -1.076813115738217,
          0.8603396025752142,
          -1.4178251395331756,
          -1.4083253789742467,
          -0.602432651109036,
          0.31290146941422,
          0.778709647539167,
          -0.04195371993520826,
          1.3092479790070546,
          0.5024571089057162,
          -1.0941808683887777,
          -1.1172154603849271,
          2.7775145279805873,
          -1.061893571149162,
          0.2757159091804494,
          -0.7186291598569715,
          2.2688433033063458,
          -2.277824884002865,
          -0.743477433858718,
          0.9683673922339631,
          1.201535884665647,
          -0.901638704479854,
          2.6392266929089283,
          0.2137313918761221,
          -2.142675022192311,
          -0.9496566315490367,
          0.8872230315510008,
          1.378743203190755,
          0.9740148368482646,
          0.5611615988675017,
          -0.020477945564687874,
          -0.8991496296656757,
          1.0847087999859244,
          -1.349743904416432,
          3.1002726646884287,
          0.10257416112189895,
          1.9304771347749836,
          1.2934402633971205,
          0.10487608323946647,
          -0.4609259112574587,
          2.856069611370185,
          1.3176794164579912,
          -0.05854508129603264,
          -0.9089306349901729,
          -0.009110016830243232,
          -0.4980743288957647,
          -0.23940099558340683,
          0.21721108748891652,
          -0.4530220631071767,
          0.564058289705138,
          -0.7222461918068702,
          0.6062288317920589,
          0.8304113921389529,
          -1.1835001412479258,
          -1.4604444835782933,
          -0.023233979873630836,
          -1.0650385207319413,
          1.0525587248204924,
          -1.1129669269305356,
          1.5295289876160099,
          -0.43917401925437594,
          1.6159452113634347,
          0.2085106909110855,
          -0.08689652728188826,
          -0.04972125600565643,
          0.9620203951830886,
          -0.13860795123980316,
          1.3487885879538584,
          -0.9022259380261738,
          0.6876135458967871,
          -2.1698377517338816,
          -1.7522838477460938,
          1.6873351932539282,
          0.9867778665009651,
          0.8694874167822337,
          1.0995300392341862,
          0.6818766300604583,
          -0.394810347217172,
          -0.2653026971492913,
          0.5872705806142731,
          1.1719476715661912,
          -0.5827424638925532,
          0.7097747174073475,
          0.2180619883892565,
          -0.34802989769291515,
          2.5618683795102646,
          0.5636593733438885,
          0.7095362847844509,
          1.0359247697977372
         ]
        },
        {
         "boxpoints": false,
         "line": {
          "width": 1.3
         },
         "marker": {
          "color": "rgba(128, 0, 128, 1.0)"
         },
         "name": "D",
         "orientation": "v",
         "type": "box",
         "y": [
          -0.17578973646317267,
          0.9278787400021398,
          -2.182677449913249,
          -2.396345023289566,
          0.48003741625709717,
          1.047518960575716,
          0.6100754852066674,
          -1.344179890686052,
          -1.1076326225860527,
          0.09301750944256627,
          0.5730312508830305,
          0.040432820293545835,
          1.1704259371606005,
          1.1510426286129267,
          -0.8138276275203944,
          -1.0968760151570967,
          0.08287078650187739,
          0.44319682155805257,
          -1.1582566186046355,
          0.8478621255692413,
          0.37660234824212485,
          0.11541673470683698,
          0.8988970774782885,
          0.13502754966225816,
          0.055944855853168905,
          -0.5744849746557522,
          0.28514102801490915,
          -1.4873030247313328,
          0.13022992101504688,
          0.2128575152251287,
          -0.14843777892871812,
          2.2880178719646524,
          -1.0502900218838402,
          0.5139741114262346,
          -0.20538383385912667,
          -1.725654753319287,
          -1.177971112937363,
          0.8957472535103304,
          1.6416059835990289,
          1.2336185344248412,
          -0.6772354531053224,
          -1.6445488147688594,
          0.02965654557736246,
          -1.1263933501160905,
          -0.1095058207538614,
          0.008232092411066915,
          0.8106473027651468,
          0.11364464185815298,
          0.7694218655173967,
          0.6468768797381542,
          -0.6944197325249837,
          1.1892392361790933,
          1.1878227747892696,
          -0.361155188586217,
          -1.511266963805173,
          -0.49790628823983446,
          1.9995572586627042,
          -1.1385309643498227,
          1.9075093889669785,
          -0.24652352769978877,
          0.8864608442812109,
          0.9218171539005922,
          0.9946321675922722,
          0.3794411477043499,
          0.17687000782678514,
          0.5340926886161836,
          0.7281931522486161,
          -0.5443279073908619,
          1.214410332690026,
          -0.06955844511028561,
          0.3778993656796964,
          0.96915492911502,
          -0.2796307174958231,
          -0.2963225746161983,
          -0.9817827002750537,
          -0.343294377381208,
          -0.7137835769329658,
          0.24207442443395807,
          0.30067768158565417,
          -0.10212944731863574,
          1.142641606505229,
          0.469865477326826,
          0.30919517777698313,
          0.7779946172803213,
          0.03185003902106065,
          -0.4342313894982847,
          -1.4298458973499455,
          0.38111256087461426,
          2.0155880426859003,
          1.38363513778326,
          0.7314112707662803,
          1.7970850998799364,
          0.5592199756951292,
          0.05317021511645505,
          0.3160459453040408,
          0.5911502889048841,
          0.743269569699162,
          1.3920743118952654,
          -1.3364864170711663,
          -0.08316266473902233
         ]
        }
       ],
       "layout": {
        "legend": {
         "bgcolor": "#F5F6F9",
         "font": {
          "color": "#4D5663"
         }
        },
        "paper_bgcolor": "#F5F6F9",
        "plot_bgcolor": "#F5F6F9",
        "template": {
         "data": {
          "bar": [
           {
            "error_x": {
             "color": "#2a3f5f"
            },
            "error_y": {
             "color": "#2a3f5f"
            },
            "marker": {
             "line": {
              "color": "#E5ECF6",
              "width": 0.5
             },
             "pattern": {
              "fillmode": "overlay",
              "size": 10,
              "solidity": 0.2
             }
            },
            "type": "bar"
           }
          ],
          "barpolar": [
           {
            "marker": {
             "line": {
              "color": "#E5ECF6",
              "width": 0.5
             },
             "pattern": {
              "fillmode": "overlay",
              "size": 10,
              "solidity": 0.2
             }
            },
            "type": "barpolar"
           }
          ],
          "carpet": [
           {
            "aaxis": {
             "endlinecolor": "#2a3f5f",
             "gridcolor": "white",
             "linecolor": "white",
             "minorgridcolor": "white",
             "startlinecolor": "#2a3f5f"
            },
            "baxis": {
             "endlinecolor": "#2a3f5f",
             "gridcolor": "white",
             "linecolor": "white",
             "minorgridcolor": "white",
             "startlinecolor": "#2a3f5f"
            },
            "type": "carpet"
           }
          ],
          "choropleth": [
           {
            "colorbar": {
             "outlinewidth": 0,
             "ticks": ""
            },
            "type": "choropleth"
           }
          ],
          "contour": [
           {
            "colorbar": {
             "outlinewidth": 0,
             "ticks": ""
            },
            "colorscale": [
             [
              0,
              "#0d0887"
             ],
             [
              0.1111111111111111,
              "#46039f"
             ],
             [
              0.2222222222222222,
              "#7201a8"
             ],
             [
              0.3333333333333333,
              "#9c179e"
             ],
             [
              0.4444444444444444,
              "#bd3786"
             ],
             [
              0.5555555555555556,
              "#d8576b"
             ],
             [
              0.6666666666666666,
              "#ed7953"
             ],
             [
              0.7777777777777778,
              "#fb9f3a"
             ],
             [
              0.8888888888888888,
              "#fdca26"
             ],
             [
              1,
              "#f0f921"
             ]
            ],
            "type": "contour"
           }
          ],
          "contourcarpet": [
           {
            "colorbar": {
             "outlinewidth": 0,
             "ticks": ""
            },
            "type": "contourcarpet"
           }
          ],
          "heatmap": [
           {
            "colorbar": {
             "outlinewidth": 0,
             "ticks": ""
            },
            "colorscale": [
             [
              0,
              "#0d0887"
             ],
             [
              0.1111111111111111,
              "#46039f"
             ],
             [
              0.2222222222222222,
              "#7201a8"
             ],
             [
              0.3333333333333333,
              "#9c179e"
             ],
             [
              0.4444444444444444,
              "#bd3786"
             ],
             [
              0.5555555555555556,
              "#d8576b"
             ],
             [
              0.6666666666666666,
              "#ed7953"
             ],
             [
              0.7777777777777778,
              "#fb9f3a"
             ],
             [
              0.8888888888888888,
              "#fdca26"
             ],
             [
              1,
              "#f0f921"
             ]
            ],
            "type": "heatmap"
           }
          ],
          "heatmapgl": [
           {
            "colorbar": {
             "outlinewidth": 0,
             "ticks": ""
            },
            "colorscale": [
             [
              0,
              "#0d0887"
             ],
             [
              0.1111111111111111,
              "#46039f"
             ],
             [
              0.2222222222222222,
              "#7201a8"
             ],
             [
              0.3333333333333333,
              "#9c179e"
             ],
             [
              0.4444444444444444,
              "#bd3786"
             ],
             [
              0.5555555555555556,
              "#d8576b"
             ],
             [
              0.6666666666666666,
              "#ed7953"
             ],
             [
              0.7777777777777778,
              "#fb9f3a"
             ],
             [
              0.8888888888888888,
              "#fdca26"
             ],
             [
              1,
              "#f0f921"
             ]
            ],
            "type": "heatmapgl"
           }
          ],
          "histogram": [
           {
            "marker": {
             "pattern": {
              "fillmode": "overlay",
              "size": 10,
              "solidity": 0.2
             }
            },
            "type": "histogram"
           }
          ],
          "histogram2d": [
           {
            "colorbar": {
             "outlinewidth": 0,
             "ticks": ""
            },
            "colorscale": [
             [
              0,
              "#0d0887"
             ],
             [
              0.1111111111111111,
              "#46039f"
             ],
             [
              0.2222222222222222,
              "#7201a8"
             ],
             [
              0.3333333333333333,
              "#9c179e"
             ],
             [
              0.4444444444444444,
              "#bd3786"
             ],
             [
              0.5555555555555556,
              "#d8576b"
             ],
             [
              0.6666666666666666,
              "#ed7953"
             ],
             [
              0.7777777777777778,
              "#fb9f3a"
             ],
             [
              0.8888888888888888,
              "#fdca26"
             ],
             [
              1,
              "#f0f921"
             ]
            ],
            "type": "histogram2d"
           }
          ],
          "histogram2dcontour": [
           {
            "colorbar": {
             "outlinewidth": 0,
             "ticks": ""
            },
            "colorscale": [
             [
              0,
              "#0d0887"
             ],
             [
              0.1111111111111111,
              "#46039f"
             ],
             [
              0.2222222222222222,
              "#7201a8"
             ],
             [
              0.3333333333333333,
              "#9c179e"
             ],
             [
              0.4444444444444444,
              "#bd3786"
             ],
             [
              0.5555555555555556,
              "#d8576b"
             ],
             [
              0.6666666666666666,
              "#ed7953"
             ],
             [
              0.7777777777777778,
              "#fb9f3a"
             ],
             [
              0.8888888888888888,
              "#fdca26"
             ],
             [
              1,
              "#f0f921"
             ]
            ],
            "type": "histogram2dcontour"
           }
          ],
          "mesh3d": [
           {
            "colorbar": {
             "outlinewidth": 0,
             "ticks": ""
            },
            "type": "mesh3d"
           }
          ],
          "parcoords": [
           {
            "line": {
             "colorbar": {
              "outlinewidth": 0,
              "ticks": ""
             }
            },
            "type": "parcoords"
           }
          ],
          "pie": [
           {
            "automargin": true,
            "type": "pie"
           }
          ],
          "scatter": [
           {
            "fillpattern": {
             "fillmode": "overlay",
             "size": 10,
             "solidity": 0.2
            },
            "type": "scatter"
           }
          ],
          "scatter3d": [
           {
            "line": {
             "colorbar": {
              "outlinewidth": 0,
              "ticks": ""
             }
            },
            "marker": {
             "colorbar": {
              "outlinewidth": 0,
              "ticks": ""
             }
            },
            "type": "scatter3d"
           }
          ],
          "scattercarpet": [
           {
            "marker": {
             "colorbar": {
              "outlinewidth": 0,
              "ticks": ""
             }
            },
            "type": "scattercarpet"
           }
          ],
          "scattergeo": [
           {
            "marker": {
             "colorbar": {
              "outlinewidth": 0,
              "ticks": ""
             }
            },
            "type": "scattergeo"
           }
          ],
          "scattergl": [
           {
            "marker": {
             "colorbar": {
              "outlinewidth": 0,
              "ticks": ""
             }
            },
            "type": "scattergl"
           }
          ],
          "scattermapbox": [
           {
            "marker": {
             "colorbar": {
              "outlinewidth": 0,
              "ticks": ""
             }
            },
            "type": "scattermapbox"
           }
          ],
          "scatterpolar": [
           {
            "marker": {
             "colorbar": {
              "outlinewidth": 0,
              "ticks": ""
             }
            },
            "type": "scatterpolar"
           }
          ],
          "scatterpolargl": [
           {
            "marker": {
             "colorbar": {
              "outlinewidth": 0,
              "ticks": ""
             }
            },
            "type": "scatterpolargl"
           }
          ],
          "scatterternary": [
           {
            "marker": {
             "colorbar": {
              "outlinewidth": 0,
              "ticks": ""
             }
            },
            "type": "scatterternary"
           }
          ],
          "surface": [
           {
            "colorbar": {
             "outlinewidth": 0,
             "ticks": ""
            },
            "colorscale": [
             [
              0,
              "#0d0887"
             ],
             [
              0.1111111111111111,
              "#46039f"
             ],
             [
              0.2222222222222222,
              "#7201a8"
             ],
             [
              0.3333333333333333,
              "#9c179e"
             ],
             [
              0.4444444444444444,
              "#bd3786"
             ],
             [
              0.5555555555555556,
              "#d8576b"
             ],
             [
              0.6666666666666666,
              "#ed7953"
             ],
             [
              0.7777777777777778,
              "#fb9f3a"
             ],
             [
              0.8888888888888888,
              "#fdca26"
             ],
             [
              1,
              "#f0f921"
             ]
            ],
            "type": "surface"
           }
          ],
          "table": [
           {
            "cells": {
             "fill": {
              "color": "#EBF0F8"
             },
             "line": {
              "color": "white"
             }
            },
            "header": {
             "fill": {
              "color": "#C8D4E3"
             },
             "line": {
              "color": "white"
             }
            },
            "type": "table"
           }
          ]
         },
         "layout": {
          "annotationdefaults": {
           "arrowcolor": "#2a3f5f",
           "arrowhead": 0,
           "arrowwidth": 1
          },
          "autotypenumbers": "strict",
          "coloraxis": {
           "colorbar": {
            "outlinewidth": 0,
            "ticks": ""
           }
          },
          "colorscale": {
           "diverging": [
            [
             0,
             "#8e0152"
            ],
            [
             0.1,
             "#c51b7d"
            ],
            [
             0.2,
             "#de77ae"
            ],
            [
             0.3,
             "#f1b6da"
            ],
            [
             0.4,
             "#fde0ef"
            ],
            [
             0.5,
             "#f7f7f7"
            ],
            [
             0.6,
             "#e6f5d0"
            ],
            [
             0.7,
             "#b8e186"
            ],
            [
             0.8,
             "#7fbc41"
            ],
            [
             0.9,
             "#4d9221"
            ],
            [
             1,
             "#276419"
            ]
           ],
           "sequential": [
            [
             0,
             "#0d0887"
            ],
            [
             0.1111111111111111,
             "#46039f"
            ],
            [
             0.2222222222222222,
             "#7201a8"
            ],
            [
             0.3333333333333333,
             "#9c179e"
            ],
            [
             0.4444444444444444,
             "#bd3786"
            ],
            [
             0.5555555555555556,
             "#d8576b"
            ],
            [
             0.6666666666666666,
             "#ed7953"
            ],
            [
             0.7777777777777778,
             "#fb9f3a"
            ],
            [
             0.8888888888888888,
             "#fdca26"
            ],
            [
             1,
             "#f0f921"
            ]
           ],
           "sequentialminus": [
            [
             0,
             "#0d0887"
            ],
            [
             0.1111111111111111,
             "#46039f"
            ],
            [
             0.2222222222222222,
             "#7201a8"
            ],
            [
             0.3333333333333333,
             "#9c179e"
            ],
            [
             0.4444444444444444,
             "#bd3786"
            ],
            [
             0.5555555555555556,
             "#d8576b"
            ],
            [
             0.6666666666666666,
             "#ed7953"
            ],
            [
             0.7777777777777778,
             "#fb9f3a"
            ],
            [
             0.8888888888888888,
             "#fdca26"
            ],
            [
             1,
             "#f0f921"
            ]
           ]
          },
          "colorway": [
           "#636efa",
           "#EF553B",
           "#00cc96",
           "#ab63fa",
           "#FFA15A",
           "#19d3f3",
           "#FF6692",
           "#B6E880",
           "#FF97FF",
           "#FECB52"
          ],
          "font": {
           "color": "#2a3f5f"
          },
          "geo": {
           "bgcolor": "white",
           "lakecolor": "white",
           "landcolor": "#E5ECF6",
           "showlakes": true,
           "showland": true,
           "subunitcolor": "white"
          },
          "hoverlabel": {
           "align": "left"
          },
          "hovermode": "closest",
          "mapbox": {
           "style": "light"
          },
          "paper_bgcolor": "white",
          "plot_bgcolor": "#E5ECF6",
          "polar": {
           "angularaxis": {
            "gridcolor": "white",
            "linecolor": "white",
            "ticks": ""
           },
           "bgcolor": "#E5ECF6",
           "radialaxis": {
            "gridcolor": "white",
            "linecolor": "white",
            "ticks": ""
           }
          },
          "scene": {
           "xaxis": {
            "backgroundcolor": "#E5ECF6",
            "gridcolor": "white",
            "gridwidth": 2,
            "linecolor": "white",
            "showbackground": true,
            "ticks": "",
            "zerolinecolor": "white"
           },
           "yaxis": {
            "backgroundcolor": "#E5ECF6",
            "gridcolor": "white",
            "gridwidth": 2,
            "linecolor": "white",
            "showbackground": true,
            "ticks": "",
            "zerolinecolor": "white"
           },
           "zaxis": {
            "backgroundcolor": "#E5ECF6",
            "gridcolor": "white",
            "gridwidth": 2,
            "linecolor": "white",
            "showbackground": true,
            "ticks": "",
            "zerolinecolor": "white"
           }
          },
          "shapedefaults": {
           "line": {
            "color": "#2a3f5f"
           }
          },
          "ternary": {
           "aaxis": {
            "gridcolor": "white",
            "linecolor": "white",
            "ticks": ""
           },
           "baxis": {
            "gridcolor": "white",
            "linecolor": "white",
            "ticks": ""
           },
           "bgcolor": "#E5ECF6",
           "caxis": {
            "gridcolor": "white",
            "linecolor": "white",
            "ticks": ""
           }
          },
          "title": {
           "x": 0.05
          },
          "xaxis": {
           "automargin": true,
           "gridcolor": "white",
           "linecolor": "white",
           "ticks": "",
           "title": {
            "standoff": 15
           },
           "zerolinecolor": "white",
           "zerolinewidth": 2
          },
          "yaxis": {
           "automargin": true,
           "gridcolor": "white",
           "linecolor": "white",
           "ticks": "",
           "title": {
            "standoff": 15
           },
           "zerolinecolor": "white",
           "zerolinewidth": 2
          }
         }
        },
        "title": {
         "font": {
          "color": "#4D5663"
         }
        },
        "xaxis": {
         "gridcolor": "#E1E5ED",
         "showgrid": true,
         "tickfont": {
          "color": "#4D5663"
         },
         "title": {
          "font": {
           "color": "#4D5663"
          },
          "text": ""
         },
         "zerolinecolor": "#E1E5ED"
        },
        "yaxis": {
         "gridcolor": "#E1E5ED",
         "showgrid": true,
         "tickfont": {
          "color": "#4D5663"
         },
         "title": {
          "font": {
           "color": "#4D5663"
          },
          "text": ""
         },
         "zerolinecolor": "#E1E5ED"
        }
       }
      },
      "text/html": [
       "<div>                            <div id=\"3052c4be-38ab-479c-a9e3-4df2a011861d\" class=\"plotly-graph-div\" style=\"height:525px; width:100%;\"></div>            <script type=\"text/javascript\">                require([\"plotly\"], function(Plotly) {                    window.PLOTLYENV=window.PLOTLYENV || {};\n",
       "                    window.PLOTLYENV.BASE_URL='https://plot.ly';                                    if (document.getElementById(\"3052c4be-38ab-479c-a9e3-4df2a011861d\")) {                    Plotly.newPlot(                        \"3052c4be-38ab-479c-a9e3-4df2a011861d\",                        [{\"boxpoints\":false,\"line\":{\"width\":1.3},\"marker\":{\"color\":\"rgba(255, 153, 51, 1.0)\"},\"name\":\"A\",\"orientation\":\"v\",\"y\":[-0.32437935932286105,0.6507786303830336,-0.3895435206998073,0.09605366978079674,0.8197362293541232,-2.1736614086387034,0.5447989087977978,-0.48026307852395245,-0.9312791112381261,1.0234457605227858,2.602895318314027,0.22413905009816462,-0.821227335088624,-0.3856451712519905,0.8111171832248476,0.020787549685838753,1.0456525715167484,-0.46999110891348045,-1.8031559479012809,1.6790145550113407,-0.10326521597651746,-0.0699982364634295,0.0682181566995542,1.7559799602251849,-0.8835006562676381,0.08438188434314217,-0.3118089076470192,-0.14808980061376903,0.043576355483198256,0.3420442997233026,0.11894325264568689,-0.2577134208535056,0.6978036228013325,0.6113101405984447,-0.8642860355006269,1.0386104714627757,-0.5454469660239857,0.37359152088305875,-0.207414871750417,-0.2766082626107455,-0.09232179563923242,-0.22322258357986602,-0.2750041129199989,-0.6462565804188576,-0.7564544188020607,-0.3935935702016708,-0.6201830686920962,0.5032563482950011,-0.3400791520044989,-0.7217213231087968,0.03735172569908848,-1.3387465776407153,1.26320480969486,1.0391940167060385,0.07527735447324392,-0.04637228755826521,0.2407108736349752,0.6718242356571152,-0.5874185371180319,-0.05166639315432059,0.28546671957252895,-0.8393723817660538,3.6920994601597235,0.7140374705521528,-2.0311390810199197,-0.7656104217463565,-0.5706747095329012,1.44720934904325,-0.04684225993129464,1.7666836707342357,-0.25712128759980896,-0.7486717414586884,-0.14404899072278207,-2.847694864973696,0.5055476900344904,-0.9777980182604501,-0.3404777125900365,0.49896061289322263,-1.2666980908052186,-0.14298323017857129,-0.33134176695795176,-0.32793980022794733,-1.3223083663276318,-0.7638233684150882,-2.193080206212569,0.9998229351057568,0.636695813978981,-0.20155103698415303,1.4901288953563878,-1.5565718214852045,-0.7254474963551272,0.1256470565777697,1.445946008831829,-0.60092975865266,0.9270945867676877,1.2287517941705062,0.7216832535913091,-1.939902333371826,-1.3338304167761876,0.6727881223318196],\"type\":\"box\"},{\"boxpoints\":false,\"line\":{\"width\":1.3},\"marker\":{\"color\":\"rgba(55, 128, 191, 1.0)\"},\"name\":\"B\",\"orientation\":\"v\",\"y\":[0.5840159608274463,-0.6776725469281716,-0.08250716750184768,-0.6997003696662847,-0.02046542339042747,1.2973044459174985,-0.15269446165195133,-1.4060233979928802,-0.5155337860657689,-0.5736152041925673,1.357173046148224,0.8500626656020044,0.10844955804384164,-1.113034086831303,1.2664476181631814,0.5211478579740425,-0.07179164173708667,0.1862031755158228,-0.7119068102838787,0.9585466814679567,-0.8427877095541829,0.2861755512620451,0.5093489326745615,0.3787469242895969,-0.9445536130992522,0.35678791129132764,0.3853970213226538,0.7413345138100097,1.6806051224796448,-1.083973295584339,0.5506930858378145,1.5639483064191257,0.8824343297222614,-0.10628109258192349,-1.4162687762492605,0.9289603451115521,0.23602352635471763,1.1471291497038176,0.17164218020853547,-0.16497562804589852,0.7178070496418821,1.045121465527172,1.36845378138647,-0.5256492280256156,-0.37444234869325654,-1.2981424632591463,-0.9240607988811324,0.273143180228173,0.9988750799969999,-2.0064517053719846,0.11444308844932008,0.6848583984094578,-0.39553800528315075,-0.3144745974960851,-0.47359674536819757,-1.4573494915478733,0.174213316035283,2.2361965917768685,0.17517082060865113,2.332184289649614,1.7105058808082025,-1.706279525783847,0.5916358862419079,-0.46540652794985776,-1.7293639018946085,-1.2135524247347476,0.1790335731975688,-0.5699722220416938,-0.729331184902068,0.18117369443269593,-0.05635246315475032,0.39052174181601707,-0.6708788277038915,0.16103357730047088,1.573538234181239,-0.1953589263551798,0.080368461583438,0.2679163855152857,-0.15259967498329535,1.0616318376628848,-0.30502224143898055,1.2316319246538674,0.32709090752935904,-0.7106105752458274,0.001081946950240499,0.7494594826677379,-1.014585852439636,-1.128112386980834,0.14410131361648543,-1.496817504683681,-0.19954188369670103,1.4413043033258475,-0.6074730481305635,0.751125846459736,1.0867151412356497,0.02357154784848277,0.09231623762808776,-2.955157726525199,-0.47205442975871503,-1.3673663177768012],\"type\":\"box\"},{\"boxpoints\":false,\"line\":{\"width\":1.3},\"marker\":{\"color\":\"rgba(50, 171, 96, 1.0)\"},\"name\":\"C\",\"orientation\":\"v\",\"y\":[1.146611563349902,-0.761088837254447,-1.894326715200364,1.3055060471824547,-1.471362324415607,-2.3930488604815117,-0.04190170202730823,-0.6396350846980466,-0.9416261575912995,-0.7043826965259425,1.7325352312281856,-1.076813115738217,0.8603396025752142,-1.4178251395331756,-1.4083253789742467,-0.602432651109036,0.31290146941422,0.778709647539167,-0.04195371993520826,1.3092479790070546,0.5024571089057162,-1.0941808683887777,-1.1172154603849271,2.7775145279805873,-1.061893571149162,0.2757159091804494,-0.7186291598569715,2.2688433033063458,-2.277824884002865,-0.743477433858718,0.9683673922339631,1.201535884665647,-0.901638704479854,2.6392266929089283,0.2137313918761221,-2.142675022192311,-0.9496566315490367,0.8872230315510008,1.378743203190755,0.9740148368482646,0.5611615988675017,-0.020477945564687874,-0.8991496296656757,1.0847087999859244,-1.349743904416432,3.1002726646884287,0.10257416112189895,1.9304771347749836,1.2934402633971205,0.10487608323946647,-0.4609259112574587,2.856069611370185,1.3176794164579912,-0.05854508129603264,-0.9089306349901729,-0.009110016830243232,-0.4980743288957647,-0.23940099558340683,0.21721108748891652,-0.4530220631071767,0.564058289705138,-0.7222461918068702,0.6062288317920589,0.8304113921389529,-1.1835001412479258,-1.4604444835782933,-0.023233979873630836,-1.0650385207319413,1.0525587248204924,-1.1129669269305356,1.5295289876160099,-0.43917401925437594,1.6159452113634347,0.2085106909110855,-0.08689652728188826,-0.04972125600565643,0.9620203951830886,-0.13860795123980316,1.3487885879538584,-0.9022259380261738,0.6876135458967871,-2.1698377517338816,-1.7522838477460938,1.6873351932539282,0.9867778665009651,0.8694874167822337,1.0995300392341862,0.6818766300604583,-0.394810347217172,-0.2653026971492913,0.5872705806142731,1.1719476715661912,-0.5827424638925532,0.7097747174073475,0.2180619883892565,-0.34802989769291515,2.5618683795102646,0.5636593733438885,0.7095362847844509,1.0359247697977372],\"type\":\"box\"},{\"boxpoints\":false,\"line\":{\"width\":1.3},\"marker\":{\"color\":\"rgba(128, 0, 128, 1.0)\"},\"name\":\"D\",\"orientation\":\"v\",\"y\":[-0.17578973646317267,0.9278787400021398,-2.182677449913249,-2.396345023289566,0.48003741625709717,1.047518960575716,0.6100754852066674,-1.344179890686052,-1.1076326225860527,0.09301750944256627,0.5730312508830305,0.040432820293545835,1.1704259371606005,1.1510426286129267,-0.8138276275203944,-1.0968760151570967,0.08287078650187739,0.44319682155805257,-1.1582566186046355,0.8478621255692413,0.37660234824212485,0.11541673470683698,0.8988970774782885,0.13502754966225816,0.055944855853168905,-0.5744849746557522,0.28514102801490915,-1.4873030247313328,0.13022992101504688,0.2128575152251287,-0.14843777892871812,2.2880178719646524,-1.0502900218838402,0.5139741114262346,-0.20538383385912667,-1.725654753319287,-1.177971112937363,0.8957472535103304,1.6416059835990289,1.2336185344248412,-0.6772354531053224,-1.6445488147688594,0.02965654557736246,-1.1263933501160905,-0.1095058207538614,0.008232092411066915,0.8106473027651468,0.11364464185815298,0.7694218655173967,0.6468768797381542,-0.6944197325249837,1.1892392361790933,1.1878227747892696,-0.361155188586217,-1.511266963805173,-0.49790628823983446,1.9995572586627042,-1.1385309643498227,1.9075093889669785,-0.24652352769978877,0.8864608442812109,0.9218171539005922,0.9946321675922722,0.3794411477043499,0.17687000782678514,0.5340926886161836,0.7281931522486161,-0.5443279073908619,1.214410332690026,-0.06955844511028561,0.3778993656796964,0.96915492911502,-0.2796307174958231,-0.2963225746161983,-0.9817827002750537,-0.343294377381208,-0.7137835769329658,0.24207442443395807,0.30067768158565417,-0.10212944731863574,1.142641606505229,0.469865477326826,0.30919517777698313,0.7779946172803213,0.03185003902106065,-0.4342313894982847,-1.4298458973499455,0.38111256087461426,2.0155880426859003,1.38363513778326,0.7314112707662803,1.7970850998799364,0.5592199756951292,0.05317021511645505,0.3160459453040408,0.5911502889048841,0.743269569699162,1.3920743118952654,-1.3364864170711663,-0.08316266473902233],\"type\":\"box\"}],                        {\"legend\":{\"bgcolor\":\"#F5F6F9\",\"font\":{\"color\":\"#4D5663\"}},\"paper_bgcolor\":\"#F5F6F9\",\"plot_bgcolor\":\"#F5F6F9\",\"template\":{\"data\":{\"barpolar\":[{\"marker\":{\"line\":{\"color\":\"#E5ECF6\",\"width\":0.5},\"pattern\":{\"fillmode\":\"overlay\",\"size\":10,\"solidity\":0.2}},\"type\":\"barpolar\"}],\"bar\":[{\"error_x\":{\"color\":\"#2a3f5f\"},\"error_y\":{\"color\":\"#2a3f5f\"},\"marker\":{\"line\":{\"color\":\"#E5ECF6\",\"width\":0.5},\"pattern\":{\"fillmode\":\"overlay\",\"size\":10,\"solidity\":0.2}},\"type\":\"bar\"}],\"carpet\":[{\"aaxis\":{\"endlinecolor\":\"#2a3f5f\",\"gridcolor\":\"white\",\"linecolor\":\"white\",\"minorgridcolor\":\"white\",\"startlinecolor\":\"#2a3f5f\"},\"baxis\":{\"endlinecolor\":\"#2a3f5f\",\"gridcolor\":\"white\",\"linecolor\":\"white\",\"minorgridcolor\":\"white\",\"startlinecolor\":\"#2a3f5f\"},\"type\":\"carpet\"}],\"choropleth\":[{\"colorbar\":{\"outlinewidth\":0,\"ticks\":\"\"},\"type\":\"choropleth\"}],\"contourcarpet\":[{\"colorbar\":{\"outlinewidth\":0,\"ticks\":\"\"},\"type\":\"contourcarpet\"}],\"contour\":[{\"colorbar\":{\"outlinewidth\":0,\"ticks\":\"\"},\"colorscale\":[[0.0,\"#0d0887\"],[0.1111111111111111,\"#46039f\"],[0.2222222222222222,\"#7201a8\"],[0.3333333333333333,\"#9c179e\"],[0.4444444444444444,\"#bd3786\"],[0.5555555555555556,\"#d8576b\"],[0.6666666666666666,\"#ed7953\"],[0.7777777777777778,\"#fb9f3a\"],[0.8888888888888888,\"#fdca26\"],[1.0,\"#f0f921\"]],\"type\":\"contour\"}],\"heatmapgl\":[{\"colorbar\":{\"outlinewidth\":0,\"ticks\":\"\"},\"colorscale\":[[0.0,\"#0d0887\"],[0.1111111111111111,\"#46039f\"],[0.2222222222222222,\"#7201a8\"],[0.3333333333333333,\"#9c179e\"],[0.4444444444444444,\"#bd3786\"],[0.5555555555555556,\"#d8576b\"],[0.6666666666666666,\"#ed7953\"],[0.7777777777777778,\"#fb9f3a\"],[0.8888888888888888,\"#fdca26\"],[1.0,\"#f0f921\"]],\"type\":\"heatmapgl\"}],\"heatmap\":[{\"colorbar\":{\"outlinewidth\":0,\"ticks\":\"\"},\"colorscale\":[[0.0,\"#0d0887\"],[0.1111111111111111,\"#46039f\"],[0.2222222222222222,\"#7201a8\"],[0.3333333333333333,\"#9c179e\"],[0.4444444444444444,\"#bd3786\"],[0.5555555555555556,\"#d8576b\"],[0.6666666666666666,\"#ed7953\"],[0.7777777777777778,\"#fb9f3a\"],[0.8888888888888888,\"#fdca26\"],[1.0,\"#f0f921\"]],\"type\":\"heatmap\"}],\"histogram2dcontour\":[{\"colorbar\":{\"outlinewidth\":0,\"ticks\":\"\"},\"colorscale\":[[0.0,\"#0d0887\"],[0.1111111111111111,\"#46039f\"],[0.2222222222222222,\"#7201a8\"],[0.3333333333333333,\"#9c179e\"],[0.4444444444444444,\"#bd3786\"],[0.5555555555555556,\"#d8576b\"],[0.6666666666666666,\"#ed7953\"],[0.7777777777777778,\"#fb9f3a\"],[0.8888888888888888,\"#fdca26\"],[1.0,\"#f0f921\"]],\"type\":\"histogram2dcontour\"}],\"histogram2d\":[{\"colorbar\":{\"outlinewidth\":0,\"ticks\":\"\"},\"colorscale\":[[0.0,\"#0d0887\"],[0.1111111111111111,\"#46039f\"],[0.2222222222222222,\"#7201a8\"],[0.3333333333333333,\"#9c179e\"],[0.4444444444444444,\"#bd3786\"],[0.5555555555555556,\"#d8576b\"],[0.6666666666666666,\"#ed7953\"],[0.7777777777777778,\"#fb9f3a\"],[0.8888888888888888,\"#fdca26\"],[1.0,\"#f0f921\"]],\"type\":\"histogram2d\"}],\"histogram\":[{\"marker\":{\"pattern\":{\"fillmode\":\"overlay\",\"size\":10,\"solidity\":0.2}},\"type\":\"histogram\"}],\"mesh3d\":[{\"colorbar\":{\"outlinewidth\":0,\"ticks\":\"\"},\"type\":\"mesh3d\"}],\"parcoords\":[{\"line\":{\"colorbar\":{\"outlinewidth\":0,\"ticks\":\"\"}},\"type\":\"parcoords\"}],\"pie\":[{\"automargin\":true,\"type\":\"pie\"}],\"scatter3d\":[{\"line\":{\"colorbar\":{\"outlinewidth\":0,\"ticks\":\"\"}},\"marker\":{\"colorbar\":{\"outlinewidth\":0,\"ticks\":\"\"}},\"type\":\"scatter3d\"}],\"scattercarpet\":[{\"marker\":{\"colorbar\":{\"outlinewidth\":0,\"ticks\":\"\"}},\"type\":\"scattercarpet\"}],\"scattergeo\":[{\"marker\":{\"colorbar\":{\"outlinewidth\":0,\"ticks\":\"\"}},\"type\":\"scattergeo\"}],\"scattergl\":[{\"marker\":{\"colorbar\":{\"outlinewidth\":0,\"ticks\":\"\"}},\"type\":\"scattergl\"}],\"scattermapbox\":[{\"marker\":{\"colorbar\":{\"outlinewidth\":0,\"ticks\":\"\"}},\"type\":\"scattermapbox\"}],\"scatterpolargl\":[{\"marker\":{\"colorbar\":{\"outlinewidth\":0,\"ticks\":\"\"}},\"type\":\"scatterpolargl\"}],\"scatterpolar\":[{\"marker\":{\"colorbar\":{\"outlinewidth\":0,\"ticks\":\"\"}},\"type\":\"scatterpolar\"}],\"scatter\":[{\"fillpattern\":{\"fillmode\":\"overlay\",\"size\":10,\"solidity\":0.2},\"type\":\"scatter\"}],\"scatterternary\":[{\"marker\":{\"colorbar\":{\"outlinewidth\":0,\"ticks\":\"\"}},\"type\":\"scatterternary\"}],\"surface\":[{\"colorbar\":{\"outlinewidth\":0,\"ticks\":\"\"},\"colorscale\":[[0.0,\"#0d0887\"],[0.1111111111111111,\"#46039f\"],[0.2222222222222222,\"#7201a8\"],[0.3333333333333333,\"#9c179e\"],[0.4444444444444444,\"#bd3786\"],[0.5555555555555556,\"#d8576b\"],[0.6666666666666666,\"#ed7953\"],[0.7777777777777778,\"#fb9f3a\"],[0.8888888888888888,\"#fdca26\"],[1.0,\"#f0f921\"]],\"type\":\"surface\"}],\"table\":[{\"cells\":{\"fill\":{\"color\":\"#EBF0F8\"},\"line\":{\"color\":\"white\"}},\"header\":{\"fill\":{\"color\":\"#C8D4E3\"},\"line\":{\"color\":\"white\"}},\"type\":\"table\"}]},\"layout\":{\"annotationdefaults\":{\"arrowcolor\":\"#2a3f5f\",\"arrowhead\":0,\"arrowwidth\":1},\"autotypenumbers\":\"strict\",\"coloraxis\":{\"colorbar\":{\"outlinewidth\":0,\"ticks\":\"\"}},\"colorscale\":{\"diverging\":[[0,\"#8e0152\"],[0.1,\"#c51b7d\"],[0.2,\"#de77ae\"],[0.3,\"#f1b6da\"],[0.4,\"#fde0ef\"],[0.5,\"#f7f7f7\"],[0.6,\"#e6f5d0\"],[0.7,\"#b8e186\"],[0.8,\"#7fbc41\"],[0.9,\"#4d9221\"],[1,\"#276419\"]],\"sequential\":[[0.0,\"#0d0887\"],[0.1111111111111111,\"#46039f\"],[0.2222222222222222,\"#7201a8\"],[0.3333333333333333,\"#9c179e\"],[0.4444444444444444,\"#bd3786\"],[0.5555555555555556,\"#d8576b\"],[0.6666666666666666,\"#ed7953\"],[0.7777777777777778,\"#fb9f3a\"],[0.8888888888888888,\"#fdca26\"],[1.0,\"#f0f921\"]],\"sequentialminus\":[[0.0,\"#0d0887\"],[0.1111111111111111,\"#46039f\"],[0.2222222222222222,\"#7201a8\"],[0.3333333333333333,\"#9c179e\"],[0.4444444444444444,\"#bd3786\"],[0.5555555555555556,\"#d8576b\"],[0.6666666666666666,\"#ed7953\"],[0.7777777777777778,\"#fb9f3a\"],[0.8888888888888888,\"#fdca26\"],[1.0,\"#f0f921\"]]},\"colorway\":[\"#636efa\",\"#EF553B\",\"#00cc96\",\"#ab63fa\",\"#FFA15A\",\"#19d3f3\",\"#FF6692\",\"#B6E880\",\"#FF97FF\",\"#FECB52\"],\"font\":{\"color\":\"#2a3f5f\"},\"geo\":{\"bgcolor\":\"white\",\"lakecolor\":\"white\",\"landcolor\":\"#E5ECF6\",\"showlakes\":true,\"showland\":true,\"subunitcolor\":\"white\"},\"hoverlabel\":{\"align\":\"left\"},\"hovermode\":\"closest\",\"mapbox\":{\"style\":\"light\"},\"paper_bgcolor\":\"white\",\"plot_bgcolor\":\"#E5ECF6\",\"polar\":{\"angularaxis\":{\"gridcolor\":\"white\",\"linecolor\":\"white\",\"ticks\":\"\"},\"bgcolor\":\"#E5ECF6\",\"radialaxis\":{\"gridcolor\":\"white\",\"linecolor\":\"white\",\"ticks\":\"\"}},\"scene\":{\"xaxis\":{\"backgroundcolor\":\"#E5ECF6\",\"gridcolor\":\"white\",\"gridwidth\":2,\"linecolor\":\"white\",\"showbackground\":true,\"ticks\":\"\",\"zerolinecolor\":\"white\"},\"yaxis\":{\"backgroundcolor\":\"#E5ECF6\",\"gridcolor\":\"white\",\"gridwidth\":2,\"linecolor\":\"white\",\"showbackground\":true,\"ticks\":\"\",\"zerolinecolor\":\"white\"},\"zaxis\":{\"backgroundcolor\":\"#E5ECF6\",\"gridcolor\":\"white\",\"gridwidth\":2,\"linecolor\":\"white\",\"showbackground\":true,\"ticks\":\"\",\"zerolinecolor\":\"white\"}},\"shapedefaults\":{\"line\":{\"color\":\"#2a3f5f\"}},\"ternary\":{\"aaxis\":{\"gridcolor\":\"white\",\"linecolor\":\"white\",\"ticks\":\"\"},\"baxis\":{\"gridcolor\":\"white\",\"linecolor\":\"white\",\"ticks\":\"\"},\"bgcolor\":\"#E5ECF6\",\"caxis\":{\"gridcolor\":\"white\",\"linecolor\":\"white\",\"ticks\":\"\"}},\"title\":{\"x\":0.05},\"xaxis\":{\"automargin\":true,\"gridcolor\":\"white\",\"linecolor\":\"white\",\"ticks\":\"\",\"title\":{\"standoff\":15},\"zerolinecolor\":\"white\",\"zerolinewidth\":2},\"yaxis\":{\"automargin\":true,\"gridcolor\":\"white\",\"linecolor\":\"white\",\"ticks\":\"\",\"title\":{\"standoff\":15},\"zerolinecolor\":\"white\",\"zerolinewidth\":2}}},\"title\":{\"font\":{\"color\":\"#4D5663\"}},\"xaxis\":{\"gridcolor\":\"#E1E5ED\",\"showgrid\":true,\"tickfont\":{\"color\":\"#4D5663\"},\"title\":{\"font\":{\"color\":\"#4D5663\"},\"text\":\"\"},\"zerolinecolor\":\"#E1E5ED\"},\"yaxis\":{\"gridcolor\":\"#E1E5ED\",\"showgrid\":true,\"tickfont\":{\"color\":\"#4D5663\"},\"title\":{\"font\":{\"color\":\"#4D5663\"},\"text\":\"\"},\"zerolinecolor\":\"#E1E5ED\"}},                        {\"showLink\": true, \"linkText\": \"Export to plot.ly\", \"plotlyServerURL\": \"https://plot.ly\", \"responsive\": true}                    ).then(function(){\n",
       "                            \n",
       "var gd = document.getElementById('3052c4be-38ab-479c-a9e3-4df2a011861d');\n",
       "var x = new MutationObserver(function (mutations, observer) {{\n",
       "        var display = window.getComputedStyle(gd).display;\n",
       "        if (!display || display === 'none') {{\n",
       "            console.log([gd, 'removed!']);\n",
       "            Plotly.purge(gd);\n",
       "            observer.disconnect();\n",
       "        }}\n",
       "}});\n",
       "\n",
       "// Listen for the removal of the full notebook cells\n",
       "var notebookContainer = gd.closest('#notebook-container');\n",
       "if (notebookContainer) {{\n",
       "    x.observe(notebookContainer, {childList: true});\n",
       "}}\n",
       "\n",
       "// Listen for the clearing of the current output cell\n",
       "var outputEl = gd.closest('.output');\n",
       "if (outputEl) {{\n",
       "    x.observe(outputEl, {childList: true});\n",
       "}}\n",
       "\n",
       "                        })                };                });            </script>        </div>"
      ]
     },
     "metadata": {},
     "output_type": "display_data"
    }
   ],
   "source": [
    "df.iplot(kind='box')"
   ]
  },
  {
   "cell_type": "markdown",
   "metadata": {},
   "source": [
    "## 3d Surface"
   ]
  },
  {
   "cell_type": "code",
   "execution_count": 14,
   "metadata": {},
   "outputs": [
    {
     "data": {
      "application/vnd.plotly.v1+json": {
       "config": {
        "linkText": "Export to plot.ly",
        "plotlyServerURL": "https://plot.ly",
        "showLink": true
       },
       "data": [
        {
         "colorscale": [
          [
           0,
           "rgb(165,0,38)"
          ],
          [
           0.1,
           "rgb(215,48,39)"
          ],
          [
           0.2,
           "rgb(244,109,67)"
          ],
          [
           0.3,
           "rgb(253,174,97)"
          ],
          [
           0.4,
           "rgb(254,224,144)"
          ],
          [
           0.5,
           "rgb(255,255,191)"
          ],
          [
           0.6,
           "rgb(224,243,248)"
          ],
          [
           0.7,
           "rgb(171,217,233)"
          ],
          [
           0.8,
           "rgb(116,173,209)"
          ],
          [
           0.9,
           "rgb(69,117,180)"
          ],
          [
           1,
           "rgb(49,54,149)"
          ]
         ],
         "type": "surface",
         "x": [
          0,
          1,
          2,
          3,
          4
         ],
         "y": [
          "x",
          "y",
          "z"
         ],
         "z": [
          [
           1,
           2,
           3,
           4,
           5
          ],
          [
           10,
           20,
           30,
           20,
           10
          ],
          [
           5,
           4,
           3,
           2,
           1
          ]
         ]
        }
       ],
       "layout": {
        "legend": {
         "bgcolor": "#F5F6F9",
         "font": {
          "color": "#4D5663"
         }
        },
        "paper_bgcolor": "#F5F6F9",
        "plot_bgcolor": "#F5F6F9",
        "template": {
         "data": {
          "bar": [
           {
            "error_x": {
             "color": "#2a3f5f"
            },
            "error_y": {
             "color": "#2a3f5f"
            },
            "marker": {
             "line": {
              "color": "#E5ECF6",
              "width": 0.5
             },
             "pattern": {
              "fillmode": "overlay",
              "size": 10,
              "solidity": 0.2
             }
            },
            "type": "bar"
           }
          ],
          "barpolar": [
           {
            "marker": {
             "line": {
              "color": "#E5ECF6",
              "width": 0.5
             },
             "pattern": {
              "fillmode": "overlay",
              "size": 10,
              "solidity": 0.2
             }
            },
            "type": "barpolar"
           }
          ],
          "carpet": [
           {
            "aaxis": {
             "endlinecolor": "#2a3f5f",
             "gridcolor": "white",
             "linecolor": "white",
             "minorgridcolor": "white",
             "startlinecolor": "#2a3f5f"
            },
            "baxis": {
             "endlinecolor": "#2a3f5f",
             "gridcolor": "white",
             "linecolor": "white",
             "minorgridcolor": "white",
             "startlinecolor": "#2a3f5f"
            },
            "type": "carpet"
           }
          ],
          "choropleth": [
           {
            "colorbar": {
             "outlinewidth": 0,
             "ticks": ""
            },
            "type": "choropleth"
           }
          ],
          "contour": [
           {
            "colorbar": {
             "outlinewidth": 0,
             "ticks": ""
            },
            "colorscale": [
             [
              0,
              "#0d0887"
             ],
             [
              0.1111111111111111,
              "#46039f"
             ],
             [
              0.2222222222222222,
              "#7201a8"
             ],
             [
              0.3333333333333333,
              "#9c179e"
             ],
             [
              0.4444444444444444,
              "#bd3786"
             ],
             [
              0.5555555555555556,
              "#d8576b"
             ],
             [
              0.6666666666666666,
              "#ed7953"
             ],
             [
              0.7777777777777778,
              "#fb9f3a"
             ],
             [
              0.8888888888888888,
              "#fdca26"
             ],
             [
              1,
              "#f0f921"
             ]
            ],
            "type": "contour"
           }
          ],
          "contourcarpet": [
           {
            "colorbar": {
             "outlinewidth": 0,
             "ticks": ""
            },
            "type": "contourcarpet"
           }
          ],
          "heatmap": [
           {
            "colorbar": {
             "outlinewidth": 0,
             "ticks": ""
            },
            "colorscale": [
             [
              0,
              "#0d0887"
             ],
             [
              0.1111111111111111,
              "#46039f"
             ],
             [
              0.2222222222222222,
              "#7201a8"
             ],
             [
              0.3333333333333333,
              "#9c179e"
             ],
             [
              0.4444444444444444,
              "#bd3786"
             ],
             [
              0.5555555555555556,
              "#d8576b"
             ],
             [
              0.6666666666666666,
              "#ed7953"
             ],
             [
              0.7777777777777778,
              "#fb9f3a"
             ],
             [
              0.8888888888888888,
              "#fdca26"
             ],
             [
              1,
              "#f0f921"
             ]
            ],
            "type": "heatmap"
           }
          ],
          "heatmapgl": [
           {
            "colorbar": {
             "outlinewidth": 0,
             "ticks": ""
            },
            "colorscale": [
             [
              0,
              "#0d0887"
             ],
             [
              0.1111111111111111,
              "#46039f"
             ],
             [
              0.2222222222222222,
              "#7201a8"
             ],
             [
              0.3333333333333333,
              "#9c179e"
             ],
             [
              0.4444444444444444,
              "#bd3786"
             ],
             [
              0.5555555555555556,
              "#d8576b"
             ],
             [
              0.6666666666666666,
              "#ed7953"
             ],
             [
              0.7777777777777778,
              "#fb9f3a"
             ],
             [
              0.8888888888888888,
              "#fdca26"
             ],
             [
              1,
              "#f0f921"
             ]
            ],
            "type": "heatmapgl"
           }
          ],
          "histogram": [
           {
            "marker": {
             "pattern": {
              "fillmode": "overlay",
              "size": 10,
              "solidity": 0.2
             }
            },
            "type": "histogram"
           }
          ],
          "histogram2d": [
           {
            "colorbar": {
             "outlinewidth": 0,
             "ticks": ""
            },
            "colorscale": [
             [
              0,
              "#0d0887"
             ],
             [
              0.1111111111111111,
              "#46039f"
             ],
             [
              0.2222222222222222,
              "#7201a8"
             ],
             [
              0.3333333333333333,
              "#9c179e"
             ],
             [
              0.4444444444444444,
              "#bd3786"
             ],
             [
              0.5555555555555556,
              "#d8576b"
             ],
             [
              0.6666666666666666,
              "#ed7953"
             ],
             [
              0.7777777777777778,
              "#fb9f3a"
             ],
             [
              0.8888888888888888,
              "#fdca26"
             ],
             [
              1,
              "#f0f921"
             ]
            ],
            "type": "histogram2d"
           }
          ],
          "histogram2dcontour": [
           {
            "colorbar": {
             "outlinewidth": 0,
             "ticks": ""
            },
            "colorscale": [
             [
              0,
              "#0d0887"
             ],
             [
              0.1111111111111111,
              "#46039f"
             ],
             [
              0.2222222222222222,
              "#7201a8"
             ],
             [
              0.3333333333333333,
              "#9c179e"
             ],
             [
              0.4444444444444444,
              "#bd3786"
             ],
             [
              0.5555555555555556,
              "#d8576b"
             ],
             [
              0.6666666666666666,
              "#ed7953"
             ],
             [
              0.7777777777777778,
              "#fb9f3a"
             ],
             [
              0.8888888888888888,
              "#fdca26"
             ],
             [
              1,
              "#f0f921"
             ]
            ],
            "type": "histogram2dcontour"
           }
          ],
          "mesh3d": [
           {
            "colorbar": {
             "outlinewidth": 0,
             "ticks": ""
            },
            "type": "mesh3d"
           }
          ],
          "parcoords": [
           {
            "line": {
             "colorbar": {
              "outlinewidth": 0,
              "ticks": ""
             }
            },
            "type": "parcoords"
           }
          ],
          "pie": [
           {
            "automargin": true,
            "type": "pie"
           }
          ],
          "scatter": [
           {
            "fillpattern": {
             "fillmode": "overlay",
             "size": 10,
             "solidity": 0.2
            },
            "type": "scatter"
           }
          ],
          "scatter3d": [
           {
            "line": {
             "colorbar": {
              "outlinewidth": 0,
              "ticks": ""
             }
            },
            "marker": {
             "colorbar": {
              "outlinewidth": 0,
              "ticks": ""
             }
            },
            "type": "scatter3d"
           }
          ],
          "scattercarpet": [
           {
            "marker": {
             "colorbar": {
              "outlinewidth": 0,
              "ticks": ""
             }
            },
            "type": "scattercarpet"
           }
          ],
          "scattergeo": [
           {
            "marker": {
             "colorbar": {
              "outlinewidth": 0,
              "ticks": ""
             }
            },
            "type": "scattergeo"
           }
          ],
          "scattergl": [
           {
            "marker": {
             "colorbar": {
              "outlinewidth": 0,
              "ticks": ""
             }
            },
            "type": "scattergl"
           }
          ],
          "scattermapbox": [
           {
            "marker": {
             "colorbar": {
              "outlinewidth": 0,
              "ticks": ""
             }
            },
            "type": "scattermapbox"
           }
          ],
          "scatterpolar": [
           {
            "marker": {
             "colorbar": {
              "outlinewidth": 0,
              "ticks": ""
             }
            },
            "type": "scatterpolar"
           }
          ],
          "scatterpolargl": [
           {
            "marker": {
             "colorbar": {
              "outlinewidth": 0,
              "ticks": ""
             }
            },
            "type": "scatterpolargl"
           }
          ],
          "scatterternary": [
           {
            "marker": {
             "colorbar": {
              "outlinewidth": 0,
              "ticks": ""
             }
            },
            "type": "scatterternary"
           }
          ],
          "surface": [
           {
            "colorbar": {
             "outlinewidth": 0,
             "ticks": ""
            },
            "colorscale": [
             [
              0,
              "#0d0887"
             ],
             [
              0.1111111111111111,
              "#46039f"
             ],
             [
              0.2222222222222222,
              "#7201a8"
             ],
             [
              0.3333333333333333,
              "#9c179e"
             ],
             [
              0.4444444444444444,
              "#bd3786"
             ],
             [
              0.5555555555555556,
              "#d8576b"
             ],
             [
              0.6666666666666666,
              "#ed7953"
             ],
             [
              0.7777777777777778,
              "#fb9f3a"
             ],
             [
              0.8888888888888888,
              "#fdca26"
             ],
             [
              1,
              "#f0f921"
             ]
            ],
            "type": "surface"
           }
          ],
          "table": [
           {
            "cells": {
             "fill": {
              "color": "#EBF0F8"
             },
             "line": {
              "color": "white"
             }
            },
            "header": {
             "fill": {
              "color": "#C8D4E3"
             },
             "line": {
              "color": "white"
             }
            },
            "type": "table"
           }
          ]
         },
         "layout": {
          "annotationdefaults": {
           "arrowcolor": "#2a3f5f",
           "arrowhead": 0,
           "arrowwidth": 1
          },
          "autotypenumbers": "strict",
          "coloraxis": {
           "colorbar": {
            "outlinewidth": 0,
            "ticks": ""
           }
          },
          "colorscale": {
           "diverging": [
            [
             0,
             "#8e0152"
            ],
            [
             0.1,
             "#c51b7d"
            ],
            [
             0.2,
             "#de77ae"
            ],
            [
             0.3,
             "#f1b6da"
            ],
            [
             0.4,
             "#fde0ef"
            ],
            [
             0.5,
             "#f7f7f7"
            ],
            [
             0.6,
             "#e6f5d0"
            ],
            [
             0.7,
             "#b8e186"
            ],
            [
             0.8,
             "#7fbc41"
            ],
            [
             0.9,
             "#4d9221"
            ],
            [
             1,
             "#276419"
            ]
           ],
           "sequential": [
            [
             0,
             "#0d0887"
            ],
            [
             0.1111111111111111,
             "#46039f"
            ],
            [
             0.2222222222222222,
             "#7201a8"
            ],
            [
             0.3333333333333333,
             "#9c179e"
            ],
            [
             0.4444444444444444,
             "#bd3786"
            ],
            [
             0.5555555555555556,
             "#d8576b"
            ],
            [
             0.6666666666666666,
             "#ed7953"
            ],
            [
             0.7777777777777778,
             "#fb9f3a"
            ],
            [
             0.8888888888888888,
             "#fdca26"
            ],
            [
             1,
             "#f0f921"
            ]
           ],
           "sequentialminus": [
            [
             0,
             "#0d0887"
            ],
            [
             0.1111111111111111,
             "#46039f"
            ],
            [
             0.2222222222222222,
             "#7201a8"
            ],
            [
             0.3333333333333333,
             "#9c179e"
            ],
            [
             0.4444444444444444,
             "#bd3786"
            ],
            [
             0.5555555555555556,
             "#d8576b"
            ],
            [
             0.6666666666666666,
             "#ed7953"
            ],
            [
             0.7777777777777778,
             "#fb9f3a"
            ],
            [
             0.8888888888888888,
             "#fdca26"
            ],
            [
             1,
             "#f0f921"
            ]
           ]
          },
          "colorway": [
           "#636efa",
           "#EF553B",
           "#00cc96",
           "#ab63fa",
           "#FFA15A",
           "#19d3f3",
           "#FF6692",
           "#B6E880",
           "#FF97FF",
           "#FECB52"
          ],
          "font": {
           "color": "#2a3f5f"
          },
          "geo": {
           "bgcolor": "white",
           "lakecolor": "white",
           "landcolor": "#E5ECF6",
           "showlakes": true,
           "showland": true,
           "subunitcolor": "white"
          },
          "hoverlabel": {
           "align": "left"
          },
          "hovermode": "closest",
          "mapbox": {
           "style": "light"
          },
          "paper_bgcolor": "white",
          "plot_bgcolor": "#E5ECF6",
          "polar": {
           "angularaxis": {
            "gridcolor": "white",
            "linecolor": "white",
            "ticks": ""
           },
           "bgcolor": "#E5ECF6",
           "radialaxis": {
            "gridcolor": "white",
            "linecolor": "white",
            "ticks": ""
           }
          },
          "scene": {
           "xaxis": {
            "backgroundcolor": "#E5ECF6",
            "gridcolor": "white",
            "gridwidth": 2,
            "linecolor": "white",
            "showbackground": true,
            "ticks": "",
            "zerolinecolor": "white"
           },
           "yaxis": {
            "backgroundcolor": "#E5ECF6",
            "gridcolor": "white",
            "gridwidth": 2,
            "linecolor": "white",
            "showbackground": true,
            "ticks": "",
            "zerolinecolor": "white"
           },
           "zaxis": {
            "backgroundcolor": "#E5ECF6",
            "gridcolor": "white",
            "gridwidth": 2,
            "linecolor": "white",
            "showbackground": true,
            "ticks": "",
            "zerolinecolor": "white"
           }
          },
          "shapedefaults": {
           "line": {
            "color": "#2a3f5f"
           }
          },
          "ternary": {
           "aaxis": {
            "gridcolor": "white",
            "linecolor": "white",
            "ticks": ""
           },
           "baxis": {
            "gridcolor": "white",
            "linecolor": "white",
            "ticks": ""
           },
           "bgcolor": "#E5ECF6",
           "caxis": {
            "gridcolor": "white",
            "linecolor": "white",
            "ticks": ""
           }
          },
          "title": {
           "x": 0.05
          },
          "xaxis": {
           "automargin": true,
           "gridcolor": "white",
           "linecolor": "white",
           "ticks": "",
           "title": {
            "standoff": 15
           },
           "zerolinecolor": "white",
           "zerolinewidth": 2
          },
          "yaxis": {
           "automargin": true,
           "gridcolor": "white",
           "linecolor": "white",
           "ticks": "",
           "title": {
            "standoff": 15
           },
           "zerolinecolor": "white",
           "zerolinewidth": 2
          }
         }
        },
        "title": {
         "font": {
          "color": "#4D5663"
         }
        },
        "xaxis": {
         "gridcolor": "#E1E5ED",
         "showgrid": true,
         "tickfont": {
          "color": "#4D5663"
         },
         "title": {
          "font": {
           "color": "#4D5663"
          },
          "text": ""
         },
         "zerolinecolor": "#E1E5ED"
        },
        "yaxis": {
         "gridcolor": "#E1E5ED",
         "showgrid": true,
         "tickfont": {
          "color": "#4D5663"
         },
         "title": {
          "font": {
           "color": "#4D5663"
          },
          "text": ""
         },
         "zerolinecolor": "#E1E5ED"
        }
       }
      },
      "text/html": [
       "<div>                            <div id=\"7f41dcbf-75a9-452d-8007-76c35c91a9e6\" class=\"plotly-graph-div\" style=\"height:525px; width:100%;\"></div>            <script type=\"text/javascript\">                require([\"plotly\"], function(Plotly) {                    window.PLOTLYENV=window.PLOTLYENV || {};\n",
       "                    window.PLOTLYENV.BASE_URL='https://plot.ly';                                    if (document.getElementById(\"7f41dcbf-75a9-452d-8007-76c35c91a9e6\")) {                    Plotly.newPlot(                        \"7f41dcbf-75a9-452d-8007-76c35c91a9e6\",                        [{\"colorscale\":[[0.0,\"rgb(165,0,38)\"],[0.1,\"rgb(215,48,39)\"],[0.2,\"rgb(244,109,67)\"],[0.3,\"rgb(253,174,97)\"],[0.4,\"rgb(254,224,144)\"],[0.5,\"rgb(255,255,191)\"],[0.6,\"rgb(224,243,248)\"],[0.7,\"rgb(171,217,233)\"],[0.8,\"rgb(116,173,209)\"],[0.9,\"rgb(69,117,180)\"],[1.0,\"rgb(49,54,149)\"]],\"x\":[0,1,2,3,4],\"y\":[\"x\",\"y\",\"z\"],\"z\":[[1,2,3,4,5],[10,20,30,20,10],[5,4,3,2,1]],\"type\":\"surface\"}],                        {\"legend\":{\"bgcolor\":\"#F5F6F9\",\"font\":{\"color\":\"#4D5663\"}},\"paper_bgcolor\":\"#F5F6F9\",\"plot_bgcolor\":\"#F5F6F9\",\"template\":{\"data\":{\"barpolar\":[{\"marker\":{\"line\":{\"color\":\"#E5ECF6\",\"width\":0.5},\"pattern\":{\"fillmode\":\"overlay\",\"size\":10,\"solidity\":0.2}},\"type\":\"barpolar\"}],\"bar\":[{\"error_x\":{\"color\":\"#2a3f5f\"},\"error_y\":{\"color\":\"#2a3f5f\"},\"marker\":{\"line\":{\"color\":\"#E5ECF6\",\"width\":0.5},\"pattern\":{\"fillmode\":\"overlay\",\"size\":10,\"solidity\":0.2}},\"type\":\"bar\"}],\"carpet\":[{\"aaxis\":{\"endlinecolor\":\"#2a3f5f\",\"gridcolor\":\"white\",\"linecolor\":\"white\",\"minorgridcolor\":\"white\",\"startlinecolor\":\"#2a3f5f\"},\"baxis\":{\"endlinecolor\":\"#2a3f5f\",\"gridcolor\":\"white\",\"linecolor\":\"white\",\"minorgridcolor\":\"white\",\"startlinecolor\":\"#2a3f5f\"},\"type\":\"carpet\"}],\"choropleth\":[{\"colorbar\":{\"outlinewidth\":0,\"ticks\":\"\"},\"type\":\"choropleth\"}],\"contourcarpet\":[{\"colorbar\":{\"outlinewidth\":0,\"ticks\":\"\"},\"type\":\"contourcarpet\"}],\"contour\":[{\"colorbar\":{\"outlinewidth\":0,\"ticks\":\"\"},\"colorscale\":[[0.0,\"#0d0887\"],[0.1111111111111111,\"#46039f\"],[0.2222222222222222,\"#7201a8\"],[0.3333333333333333,\"#9c179e\"],[0.4444444444444444,\"#bd3786\"],[0.5555555555555556,\"#d8576b\"],[0.6666666666666666,\"#ed7953\"],[0.7777777777777778,\"#fb9f3a\"],[0.8888888888888888,\"#fdca26\"],[1.0,\"#f0f921\"]],\"type\":\"contour\"}],\"heatmapgl\":[{\"colorbar\":{\"outlinewidth\":0,\"ticks\":\"\"},\"colorscale\":[[0.0,\"#0d0887\"],[0.1111111111111111,\"#46039f\"],[0.2222222222222222,\"#7201a8\"],[0.3333333333333333,\"#9c179e\"],[0.4444444444444444,\"#bd3786\"],[0.5555555555555556,\"#d8576b\"],[0.6666666666666666,\"#ed7953\"],[0.7777777777777778,\"#fb9f3a\"],[0.8888888888888888,\"#fdca26\"],[1.0,\"#f0f921\"]],\"type\":\"heatmapgl\"}],\"heatmap\":[{\"colorbar\":{\"outlinewidth\":0,\"ticks\":\"\"},\"colorscale\":[[0.0,\"#0d0887\"],[0.1111111111111111,\"#46039f\"],[0.2222222222222222,\"#7201a8\"],[0.3333333333333333,\"#9c179e\"],[0.4444444444444444,\"#bd3786\"],[0.5555555555555556,\"#d8576b\"],[0.6666666666666666,\"#ed7953\"],[0.7777777777777778,\"#fb9f3a\"],[0.8888888888888888,\"#fdca26\"],[1.0,\"#f0f921\"]],\"type\":\"heatmap\"}],\"histogram2dcontour\":[{\"colorbar\":{\"outlinewidth\":0,\"ticks\":\"\"},\"colorscale\":[[0.0,\"#0d0887\"],[0.1111111111111111,\"#46039f\"],[0.2222222222222222,\"#7201a8\"],[0.3333333333333333,\"#9c179e\"],[0.4444444444444444,\"#bd3786\"],[0.5555555555555556,\"#d8576b\"],[0.6666666666666666,\"#ed7953\"],[0.7777777777777778,\"#fb9f3a\"],[0.8888888888888888,\"#fdca26\"],[1.0,\"#f0f921\"]],\"type\":\"histogram2dcontour\"}],\"histogram2d\":[{\"colorbar\":{\"outlinewidth\":0,\"ticks\":\"\"},\"colorscale\":[[0.0,\"#0d0887\"],[0.1111111111111111,\"#46039f\"],[0.2222222222222222,\"#7201a8\"],[0.3333333333333333,\"#9c179e\"],[0.4444444444444444,\"#bd3786\"],[0.5555555555555556,\"#d8576b\"],[0.6666666666666666,\"#ed7953\"],[0.7777777777777778,\"#fb9f3a\"],[0.8888888888888888,\"#fdca26\"],[1.0,\"#f0f921\"]],\"type\":\"histogram2d\"}],\"histogram\":[{\"marker\":{\"pattern\":{\"fillmode\":\"overlay\",\"size\":10,\"solidity\":0.2}},\"type\":\"histogram\"}],\"mesh3d\":[{\"colorbar\":{\"outlinewidth\":0,\"ticks\":\"\"},\"type\":\"mesh3d\"}],\"parcoords\":[{\"line\":{\"colorbar\":{\"outlinewidth\":0,\"ticks\":\"\"}},\"type\":\"parcoords\"}],\"pie\":[{\"automargin\":true,\"type\":\"pie\"}],\"scatter3d\":[{\"line\":{\"colorbar\":{\"outlinewidth\":0,\"ticks\":\"\"}},\"marker\":{\"colorbar\":{\"outlinewidth\":0,\"ticks\":\"\"}},\"type\":\"scatter3d\"}],\"scattercarpet\":[{\"marker\":{\"colorbar\":{\"outlinewidth\":0,\"ticks\":\"\"}},\"type\":\"scattercarpet\"}],\"scattergeo\":[{\"marker\":{\"colorbar\":{\"outlinewidth\":0,\"ticks\":\"\"}},\"type\":\"scattergeo\"}],\"scattergl\":[{\"marker\":{\"colorbar\":{\"outlinewidth\":0,\"ticks\":\"\"}},\"type\":\"scattergl\"}],\"scattermapbox\":[{\"marker\":{\"colorbar\":{\"outlinewidth\":0,\"ticks\":\"\"}},\"type\":\"scattermapbox\"}],\"scatterpolargl\":[{\"marker\":{\"colorbar\":{\"outlinewidth\":0,\"ticks\":\"\"}},\"type\":\"scatterpolargl\"}],\"scatterpolar\":[{\"marker\":{\"colorbar\":{\"outlinewidth\":0,\"ticks\":\"\"}},\"type\":\"scatterpolar\"}],\"scatter\":[{\"fillpattern\":{\"fillmode\":\"overlay\",\"size\":10,\"solidity\":0.2},\"type\":\"scatter\"}],\"scatterternary\":[{\"marker\":{\"colorbar\":{\"outlinewidth\":0,\"ticks\":\"\"}},\"type\":\"scatterternary\"}],\"surface\":[{\"colorbar\":{\"outlinewidth\":0,\"ticks\":\"\"},\"colorscale\":[[0.0,\"#0d0887\"],[0.1111111111111111,\"#46039f\"],[0.2222222222222222,\"#7201a8\"],[0.3333333333333333,\"#9c179e\"],[0.4444444444444444,\"#bd3786\"],[0.5555555555555556,\"#d8576b\"],[0.6666666666666666,\"#ed7953\"],[0.7777777777777778,\"#fb9f3a\"],[0.8888888888888888,\"#fdca26\"],[1.0,\"#f0f921\"]],\"type\":\"surface\"}],\"table\":[{\"cells\":{\"fill\":{\"color\":\"#EBF0F8\"},\"line\":{\"color\":\"white\"}},\"header\":{\"fill\":{\"color\":\"#C8D4E3\"},\"line\":{\"color\":\"white\"}},\"type\":\"table\"}]},\"layout\":{\"annotationdefaults\":{\"arrowcolor\":\"#2a3f5f\",\"arrowhead\":0,\"arrowwidth\":1},\"autotypenumbers\":\"strict\",\"coloraxis\":{\"colorbar\":{\"outlinewidth\":0,\"ticks\":\"\"}},\"colorscale\":{\"diverging\":[[0,\"#8e0152\"],[0.1,\"#c51b7d\"],[0.2,\"#de77ae\"],[0.3,\"#f1b6da\"],[0.4,\"#fde0ef\"],[0.5,\"#f7f7f7\"],[0.6,\"#e6f5d0\"],[0.7,\"#b8e186\"],[0.8,\"#7fbc41\"],[0.9,\"#4d9221\"],[1,\"#276419\"]],\"sequential\":[[0.0,\"#0d0887\"],[0.1111111111111111,\"#46039f\"],[0.2222222222222222,\"#7201a8\"],[0.3333333333333333,\"#9c179e\"],[0.4444444444444444,\"#bd3786\"],[0.5555555555555556,\"#d8576b\"],[0.6666666666666666,\"#ed7953\"],[0.7777777777777778,\"#fb9f3a\"],[0.8888888888888888,\"#fdca26\"],[1.0,\"#f0f921\"]],\"sequentialminus\":[[0.0,\"#0d0887\"],[0.1111111111111111,\"#46039f\"],[0.2222222222222222,\"#7201a8\"],[0.3333333333333333,\"#9c179e\"],[0.4444444444444444,\"#bd3786\"],[0.5555555555555556,\"#d8576b\"],[0.6666666666666666,\"#ed7953\"],[0.7777777777777778,\"#fb9f3a\"],[0.8888888888888888,\"#fdca26\"],[1.0,\"#f0f921\"]]},\"colorway\":[\"#636efa\",\"#EF553B\",\"#00cc96\",\"#ab63fa\",\"#FFA15A\",\"#19d3f3\",\"#FF6692\",\"#B6E880\",\"#FF97FF\",\"#FECB52\"],\"font\":{\"color\":\"#2a3f5f\"},\"geo\":{\"bgcolor\":\"white\",\"lakecolor\":\"white\",\"landcolor\":\"#E5ECF6\",\"showlakes\":true,\"showland\":true,\"subunitcolor\":\"white\"},\"hoverlabel\":{\"align\":\"left\"},\"hovermode\":\"closest\",\"mapbox\":{\"style\":\"light\"},\"paper_bgcolor\":\"white\",\"plot_bgcolor\":\"#E5ECF6\",\"polar\":{\"angularaxis\":{\"gridcolor\":\"white\",\"linecolor\":\"white\",\"ticks\":\"\"},\"bgcolor\":\"#E5ECF6\",\"radialaxis\":{\"gridcolor\":\"white\",\"linecolor\":\"white\",\"ticks\":\"\"}},\"scene\":{\"xaxis\":{\"backgroundcolor\":\"#E5ECF6\",\"gridcolor\":\"white\",\"gridwidth\":2,\"linecolor\":\"white\",\"showbackground\":true,\"ticks\":\"\",\"zerolinecolor\":\"white\"},\"yaxis\":{\"backgroundcolor\":\"#E5ECF6\",\"gridcolor\":\"white\",\"gridwidth\":2,\"linecolor\":\"white\",\"showbackground\":true,\"ticks\":\"\",\"zerolinecolor\":\"white\"},\"zaxis\":{\"backgroundcolor\":\"#E5ECF6\",\"gridcolor\":\"white\",\"gridwidth\":2,\"linecolor\":\"white\",\"showbackground\":true,\"ticks\":\"\",\"zerolinecolor\":\"white\"}},\"shapedefaults\":{\"line\":{\"color\":\"#2a3f5f\"}},\"ternary\":{\"aaxis\":{\"gridcolor\":\"white\",\"linecolor\":\"white\",\"ticks\":\"\"},\"baxis\":{\"gridcolor\":\"white\",\"linecolor\":\"white\",\"ticks\":\"\"},\"bgcolor\":\"#E5ECF6\",\"caxis\":{\"gridcolor\":\"white\",\"linecolor\":\"white\",\"ticks\":\"\"}},\"title\":{\"x\":0.05},\"xaxis\":{\"automargin\":true,\"gridcolor\":\"white\",\"linecolor\":\"white\",\"ticks\":\"\",\"title\":{\"standoff\":15},\"zerolinecolor\":\"white\",\"zerolinewidth\":2},\"yaxis\":{\"automargin\":true,\"gridcolor\":\"white\",\"linecolor\":\"white\",\"ticks\":\"\",\"title\":{\"standoff\":15},\"zerolinecolor\":\"white\",\"zerolinewidth\":2}}},\"title\":{\"font\":{\"color\":\"#4D5663\"}},\"xaxis\":{\"gridcolor\":\"#E1E5ED\",\"showgrid\":true,\"tickfont\":{\"color\":\"#4D5663\"},\"title\":{\"font\":{\"color\":\"#4D5663\"},\"text\":\"\"},\"zerolinecolor\":\"#E1E5ED\"},\"yaxis\":{\"gridcolor\":\"#E1E5ED\",\"showgrid\":true,\"tickfont\":{\"color\":\"#4D5663\"},\"title\":{\"font\":{\"color\":\"#4D5663\"},\"text\":\"\"},\"zerolinecolor\":\"#E1E5ED\"}},                        {\"showLink\": true, \"linkText\": \"Export to plot.ly\", \"plotlyServerURL\": \"https://plot.ly\", \"responsive\": true}                    ).then(function(){\n",
       "                            \n",
       "var gd = document.getElementById('7f41dcbf-75a9-452d-8007-76c35c91a9e6');\n",
       "var x = new MutationObserver(function (mutations, observer) {{\n",
       "        var display = window.getComputedStyle(gd).display;\n",
       "        if (!display || display === 'none') {{\n",
       "            console.log([gd, 'removed!']);\n",
       "            Plotly.purge(gd);\n",
       "            observer.disconnect();\n",
       "        }}\n",
       "}});\n",
       "\n",
       "// Listen for the removal of the full notebook cells\n",
       "var notebookContainer = gd.closest('#notebook-container');\n",
       "if (notebookContainer) {{\n",
       "    x.observe(notebookContainer, {childList: true});\n",
       "}}\n",
       "\n",
       "// Listen for the clearing of the current output cell\n",
       "var outputEl = gd.closest('.output');\n",
       "if (outputEl) {{\n",
       "    x.observe(outputEl, {childList: true});\n",
       "}}\n",
       "\n",
       "                        })                };                });            </script>        </div>"
      ]
     },
     "metadata": {},
     "output_type": "display_data"
    }
   ],
   "source": [
    "df3 = pd.DataFrame({'x':[1,2,3,4,5],'y':[10,20,30,20,10],'z':[5,4,3,2,1]})\n",
    "df3.iplot(kind='surface',colorscale='rdylbu')"
   ]
  },
  {
   "cell_type": "markdown",
   "metadata": {},
   "source": [
    "## Spread"
   ]
  },
  {
   "cell_type": "code",
   "execution_count": 15,
   "metadata": {},
   "outputs": [
    {
     "name": "stderr",
     "output_type": "stream",
     "text": [
      "C:\\Users\\zxy23\\anaconda3\\Lib\\site-packages\\cufflinks\\plotlytools.py:849: FutureWarning:\n",
      "\n",
      "The pandas.np module is deprecated and will be removed from pandas in a future version. Import numpy directly instead.\n",
      "\n",
      "C:\\Users\\zxy23\\anaconda3\\Lib\\site-packages\\cufflinks\\plotlytools.py:850: FutureWarning:\n",
      "\n",
      "The pandas.np module is deprecated and will be removed from pandas in a future version. Import numpy directly instead.\n",
      "\n"
     ]
    },
    {
     "data": {
      "application/vnd.plotly.v1+json": {
       "config": {
        "linkText": "Export to plot.ly",
        "plotlyServerURL": "https://plot.ly",
        "showLink": true
       },
       "data": [
        {
         "line": {
          "color": "rgba(255, 153, 51, 1.0)",
          "dash": "solid",
          "shape": "linear",
          "width": 1.3
         },
         "mode": "lines",
         "name": "A",
         "text": "",
         "type": "scatter",
         "x": [
          0,
          1,
          2,
          3,
          4,
          5,
          6,
          7,
          8,
          9,
          10,
          11,
          12,
          13,
          14,
          15,
          16,
          17,
          18,
          19,
          20,
          21,
          22,
          23,
          24,
          25,
          26,
          27,
          28,
          29,
          30,
          31,
          32,
          33,
          34,
          35,
          36,
          37,
          38,
          39,
          40,
          41,
          42,
          43,
          44,
          45,
          46,
          47,
          48,
          49,
          50,
          51,
          52,
          53,
          54,
          55,
          56,
          57,
          58,
          59,
          60,
          61,
          62,
          63,
          64,
          65,
          66,
          67,
          68,
          69,
          70,
          71,
          72,
          73,
          74,
          75,
          76,
          77,
          78,
          79,
          80,
          81,
          82,
          83,
          84,
          85,
          86,
          87,
          88,
          89,
          90,
          91,
          92,
          93,
          94,
          95,
          96,
          97,
          98,
          99
         ],
         "y": [
          -0.32437935932286105,
          0.6507786303830336,
          -0.3895435206998073,
          0.09605366978079674,
          0.8197362293541232,
          -2.1736614086387034,
          0.5447989087977978,
          -0.48026307852395245,
          -0.9312791112381261,
          1.0234457605227858,
          2.602895318314027,
          0.22413905009816462,
          -0.821227335088624,
          -0.3856451712519905,
          0.8111171832248476,
          0.020787549685838753,
          1.0456525715167484,
          -0.46999110891348045,
          -1.8031559479012809,
          1.6790145550113407,
          -0.10326521597651746,
          -0.0699982364634295,
          0.0682181566995542,
          1.7559799602251849,
          -0.8835006562676381,
          0.08438188434314217,
          -0.3118089076470192,
          -0.14808980061376903,
          0.043576355483198256,
          0.3420442997233026,
          0.11894325264568689,
          -0.2577134208535056,
          0.6978036228013325,
          0.6113101405984447,
          -0.8642860355006269,
          1.0386104714627757,
          -0.5454469660239857,
          0.37359152088305875,
          -0.207414871750417,
          -0.2766082626107455,
          -0.09232179563923242,
          -0.22322258357986602,
          -0.2750041129199989,
          -0.6462565804188576,
          -0.7564544188020607,
          -0.3935935702016708,
          -0.6201830686920962,
          0.5032563482950011,
          -0.3400791520044989,
          -0.7217213231087968,
          0.03735172569908848,
          -1.3387465776407153,
          1.26320480969486,
          1.0391940167060385,
          0.07527735447324392,
          -0.04637228755826521,
          0.2407108736349752,
          0.6718242356571152,
          -0.5874185371180319,
          -0.05166639315432059,
          0.28546671957252895,
          -0.8393723817660538,
          3.6920994601597235,
          0.7140374705521528,
          -2.0311390810199197,
          -0.7656104217463565,
          -0.5706747095329012,
          1.44720934904325,
          -0.04684225993129464,
          1.7666836707342357,
          -0.25712128759980896,
          -0.7486717414586884,
          -0.14404899072278207,
          -2.847694864973696,
          0.5055476900344904,
          -0.9777980182604501,
          -0.3404777125900365,
          0.49896061289322263,
          -1.2666980908052186,
          -0.14298323017857129,
          -0.33134176695795176,
          -0.32793980022794733,
          -1.3223083663276318,
          -0.7638233684150882,
          -2.193080206212569,
          0.9998229351057568,
          0.636695813978981,
          -0.20155103698415303,
          1.4901288953563878,
          -1.5565718214852045,
          -0.7254474963551272,
          0.1256470565777697,
          1.445946008831829,
          -0.60092975865266,
          0.9270945867676877,
          1.2287517941705062,
          0.7216832535913091,
          -1.939902333371826,
          -1.3338304167761876,
          0.6727881223318196
         ]
        },
        {
         "line": {
          "color": "rgba(55, 128, 191, 1.0)",
          "dash": "solid",
          "shape": "linear",
          "width": 1.3
         },
         "mode": "lines",
         "name": "B",
         "text": "",
         "type": "scatter",
         "x": [
          0,
          1,
          2,
          3,
          4,
          5,
          6,
          7,
          8,
          9,
          10,
          11,
          12,
          13,
          14,
          15,
          16,
          17,
          18,
          19,
          20,
          21,
          22,
          23,
          24,
          25,
          26,
          27,
          28,
          29,
          30,
          31,
          32,
          33,
          34,
          35,
          36,
          37,
          38,
          39,
          40,
          41,
          42,
          43,
          44,
          45,
          46,
          47,
          48,
          49,
          50,
          51,
          52,
          53,
          54,
          55,
          56,
          57,
          58,
          59,
          60,
          61,
          62,
          63,
          64,
          65,
          66,
          67,
          68,
          69,
          70,
          71,
          72,
          73,
          74,
          75,
          76,
          77,
          78,
          79,
          80,
          81,
          82,
          83,
          84,
          85,
          86,
          87,
          88,
          89,
          90,
          91,
          92,
          93,
          94,
          95,
          96,
          97,
          98,
          99
         ],
         "y": [
          0.5840159608274463,
          -0.6776725469281716,
          -0.08250716750184768,
          -0.6997003696662847,
          -0.02046542339042747,
          1.2973044459174985,
          -0.15269446165195133,
          -1.4060233979928802,
          -0.5155337860657689,
          -0.5736152041925673,
          1.357173046148224,
          0.8500626656020044,
          0.10844955804384164,
          -1.113034086831303,
          1.2664476181631814,
          0.5211478579740425,
          -0.07179164173708667,
          0.1862031755158228,
          -0.7119068102838787,
          0.9585466814679567,
          -0.8427877095541829,
          0.2861755512620451,
          0.5093489326745615,
          0.3787469242895969,
          -0.9445536130992522,
          0.35678791129132764,
          0.3853970213226538,
          0.7413345138100097,
          1.6806051224796448,
          -1.083973295584339,
          0.5506930858378145,
          1.5639483064191257,
          0.8824343297222614,
          -0.10628109258192349,
          -1.4162687762492605,
          0.9289603451115521,
          0.23602352635471763,
          1.1471291497038176,
          0.17164218020853547,
          -0.16497562804589852,
          0.7178070496418821,
          1.045121465527172,
          1.36845378138647,
          -0.5256492280256156,
          -0.37444234869325654,
          -1.2981424632591463,
          -0.9240607988811324,
          0.273143180228173,
          0.9988750799969999,
          -2.0064517053719846,
          0.11444308844932008,
          0.6848583984094578,
          -0.39553800528315075,
          -0.3144745974960851,
          -0.47359674536819757,
          -1.4573494915478733,
          0.174213316035283,
          2.2361965917768685,
          0.17517082060865113,
          2.332184289649614,
          1.7105058808082025,
          -1.706279525783847,
          0.5916358862419079,
          -0.46540652794985776,
          -1.7293639018946085,
          -1.2135524247347476,
          0.1790335731975688,
          -0.5699722220416938,
          -0.729331184902068,
          0.18117369443269593,
          -0.05635246315475032,
          0.39052174181601707,
          -0.6708788277038915,
          0.16103357730047088,
          1.573538234181239,
          -0.1953589263551798,
          0.080368461583438,
          0.2679163855152857,
          -0.15259967498329535,
          1.0616318376628848,
          -0.30502224143898055,
          1.2316319246538674,
          0.32709090752935904,
          -0.7106105752458274,
          0.001081946950240499,
          0.7494594826677379,
          -1.014585852439636,
          -1.128112386980834,
          0.14410131361648543,
          -1.496817504683681,
          -0.19954188369670103,
          1.4413043033258475,
          -0.6074730481305635,
          0.751125846459736,
          1.0867151412356497,
          0.02357154784848277,
          0.09231623762808776,
          -2.955157726525199,
          -0.47205442975871503,
          -1.3673663177768012
         ]
        },
        {
         "connectgaps": false,
         "fill": "tozeroy",
         "line": {
          "color": "green",
          "dash": "solid",
          "shape": "linear",
          "width": 0.5
         },
         "mode": "lines",
         "name": "Spread",
         "showlegend": false,
         "type": "scatter",
         "x": [
          0,
          1,
          2,
          3,
          4,
          5,
          6,
          7,
          8,
          9,
          10,
          11,
          12,
          13,
          14,
          15,
          16,
          17,
          18,
          19,
          20,
          21,
          22,
          23,
          24,
          25,
          26,
          27,
          28,
          29,
          30,
          31,
          32,
          33,
          34,
          35,
          36,
          37,
          38,
          39,
          40,
          41,
          42,
          43,
          44,
          45,
          46,
          47,
          48,
          49,
          50,
          51,
          52,
          53,
          54,
          55,
          56,
          57,
          58,
          59,
          60,
          61,
          62,
          63,
          64,
          65,
          66,
          67,
          68,
          69,
          70,
          71,
          72,
          73,
          74,
          75,
          76,
          77,
          78,
          79,
          80,
          81,
          82,
          83,
          84,
          85,
          86,
          87,
          88,
          89,
          90,
          91,
          92,
          93,
          94,
          95,
          96,
          97,
          98,
          99
         ],
         "xaxis": "x2",
         "y": [
          "",
          1.328451177311205,
          "",
          0.7957540394470815,
          0.8402016527445506,
          "",
          0.6974933704497491,
          0.9257603194689278,
          "",
          1.597060964715353,
          1.2457222721658028,
          "",
          "",
          0.7273889155793124,
          "",
          "",
          1.1174442132538351,
          "",
          "",
          0.7204678735433839,
          0.7395224935776654,
          "",
          "",
          1.377233035935588,
          0.06105295683161416,
          "",
          "",
          "",
          "",
          1.4260175953076417,
          "",
          "",
          "",
          0.7175912331803682,
          0.5519827407486336,
          0.10965012635122362,
          "",
          "",
          "",
          "",
          "",
          "",
          "",
          "",
          "",
          0.9045488930574754,
          0.3038777301890362,
          0.23011316806682808,
          "",
          1.284730382263188,
          "",
          "",
          1.6587428149780108,
          1.3536686142021237,
          0.5488740998414415,
          1.410977203989608,
          0.0664975575996922,
          "",
          "",
          "",
          "",
          0.8669071440177932,
          3.1004635739178155,
          1.1794439985020106,
          "",
          0.44794200298839104,
          "",
          2.0171815710849437,
          0.6824889249707734,
          1.5855099763015397,
          "",
          "",
          0.5268298369811094,
          "",
          "",
          "",
          "",
          0.23104422737793695,
          "",
          "",
          "",
          "",
          "",
          "",
          "",
          0.25036345243801894,
          1.6512816664186172,
          0.926561349996681,
          1.3460275817399023,
          "",
          "",
          "",
          2.0534190569623925,
          "",
          "",
          1.2051802463220234,
          0.6293670159632214,
          1.015255393153373,
          "",
          2.040154440108621
         ],
         "yaxis": "y2"
        },
        {
         "connectgaps": false,
         "fill": "tozeroy",
         "line": {
          "color": "red",
          "dash": "solid",
          "shape": "linear",
          "width": 0.5
         },
         "mode": "lines",
         "name": "Spread",
         "showlegend": false,
         "type": "scatter",
         "x": [
          0,
          1,
          2,
          3,
          4,
          5,
          6,
          7,
          8,
          9,
          10,
          11,
          12,
          13,
          14,
          15,
          16,
          17,
          18,
          19,
          20,
          21,
          22,
          23,
          24,
          25,
          26,
          27,
          28,
          29,
          30,
          31,
          32,
          33,
          34,
          35,
          36,
          37,
          38,
          39,
          40,
          41,
          42,
          43,
          44,
          45,
          46,
          47,
          48,
          49,
          50,
          51,
          52,
          53,
          54,
          55,
          56,
          57,
          58,
          59,
          60,
          61,
          62,
          63,
          64,
          65,
          66,
          67,
          68,
          69,
          70,
          71,
          72,
          73,
          74,
          75,
          76,
          77,
          78,
          79,
          80,
          81,
          82,
          83,
          84,
          85,
          86,
          87,
          88,
          89,
          90,
          91,
          92,
          93,
          94,
          95,
          96,
          97,
          98,
          99
         ],
         "xaxis": "x2",
         "y": [
          -0.9083953201503074,
          "",
          -0.30703635319795963,
          "",
          "",
          -3.470965854556202,
          "",
          "",
          -0.4157453251723572,
          "",
          "",
          -0.6259236155038398,
          -0.9296768931324656,
          "",
          -0.4553304349383338,
          -0.5003603082882038,
          "",
          -0.6561942844293033,
          -1.0912491376174023,
          "",
          "",
          -0.3561737877254746,
          -0.44113077597500727,
          "",
          "",
          -0.2724060269481855,
          -0.697205928969673,
          -0.8894243144237788,
          -1.6370287669964465,
          "",
          -0.4317498331921276,
          -1.8216617272726314,
          -0.18463070692092898,
          "",
          "",
          "",
          -0.7814704923787033,
          -0.7735376288207589,
          -0.37905705195895245,
          -0.11163263456484698,
          -0.8101288452811145,
          -1.2683440491070381,
          -1.6434578943064688,
          -0.12060735239324194,
          -0.3820120701088041,
          "",
          "",
          "",
          -1.3389542320014987,
          "",
          -0.0770913627502316,
          -2.023604976050173,
          "",
          "",
          "",
          "",
          "",
          -1.5643723561197533,
          -0.7625893577266831,
          -2.3838506828039345,
          -1.4250391612356736,
          "",
          "",
          "",
          -0.30177517912531115,
          "",
          -0.74970828273047,
          "",
          "",
          "",
          -0.20076882444505864,
          -1.1391934832747055,
          "",
          -3.0087284422741667,
          -1.0679905441467485,
          -0.7824390919052703,
          -0.4208461741734745,
          "",
          -1.1140984158219231,
          -1.204615067841456,
          -0.02631952551897121,
          -1.5595717248818146,
          -1.649399273856991,
          -0.053212793169260864,
          -2.1941621531628095,
          "",
          "",
          "",
          "",
          -0.059754316801523544,
          -0.5259056126584262,
          -1.3156572467480778,
          "",
          -1.352055605112396,
          -0.15962055446796197,
          "",
          "",
          "",
          -0.8617759870174726,
          ""
         ],
         "yaxis": "y2"
        }
       ],
       "layout": {
        "hovermode": "x",
        "legend": {
         "bgcolor": "#F5F6F9",
         "font": {
          "color": "#4D5663"
         }
        },
        "paper_bgcolor": "#F5F6F9",
        "plot_bgcolor": "#F5F6F9",
        "template": {
         "data": {
          "bar": [
           {
            "error_x": {
             "color": "#2a3f5f"
            },
            "error_y": {
             "color": "#2a3f5f"
            },
            "marker": {
             "line": {
              "color": "#E5ECF6",
              "width": 0.5
             },
             "pattern": {
              "fillmode": "overlay",
              "size": 10,
              "solidity": 0.2
             }
            },
            "type": "bar"
           }
          ],
          "barpolar": [
           {
            "marker": {
             "line": {
              "color": "#E5ECF6",
              "width": 0.5
             },
             "pattern": {
              "fillmode": "overlay",
              "size": 10,
              "solidity": 0.2
             }
            },
            "type": "barpolar"
           }
          ],
          "carpet": [
           {
            "aaxis": {
             "endlinecolor": "#2a3f5f",
             "gridcolor": "white",
             "linecolor": "white",
             "minorgridcolor": "white",
             "startlinecolor": "#2a3f5f"
            },
            "baxis": {
             "endlinecolor": "#2a3f5f",
             "gridcolor": "white",
             "linecolor": "white",
             "minorgridcolor": "white",
             "startlinecolor": "#2a3f5f"
            },
            "type": "carpet"
           }
          ],
          "choropleth": [
           {
            "colorbar": {
             "outlinewidth": 0,
             "ticks": ""
            },
            "type": "choropleth"
           }
          ],
          "contour": [
           {
            "colorbar": {
             "outlinewidth": 0,
             "ticks": ""
            },
            "colorscale": [
             [
              0,
              "#0d0887"
             ],
             [
              0.1111111111111111,
              "#46039f"
             ],
             [
              0.2222222222222222,
              "#7201a8"
             ],
             [
              0.3333333333333333,
              "#9c179e"
             ],
             [
              0.4444444444444444,
              "#bd3786"
             ],
             [
              0.5555555555555556,
              "#d8576b"
             ],
             [
              0.6666666666666666,
              "#ed7953"
             ],
             [
              0.7777777777777778,
              "#fb9f3a"
             ],
             [
              0.8888888888888888,
              "#fdca26"
             ],
             [
              1,
              "#f0f921"
             ]
            ],
            "type": "contour"
           }
          ],
          "contourcarpet": [
           {
            "colorbar": {
             "outlinewidth": 0,
             "ticks": ""
            },
            "type": "contourcarpet"
           }
          ],
          "heatmap": [
           {
            "colorbar": {
             "outlinewidth": 0,
             "ticks": ""
            },
            "colorscale": [
             [
              0,
              "#0d0887"
             ],
             [
              0.1111111111111111,
              "#46039f"
             ],
             [
              0.2222222222222222,
              "#7201a8"
             ],
             [
              0.3333333333333333,
              "#9c179e"
             ],
             [
              0.4444444444444444,
              "#bd3786"
             ],
             [
              0.5555555555555556,
              "#d8576b"
             ],
             [
              0.6666666666666666,
              "#ed7953"
             ],
             [
              0.7777777777777778,
              "#fb9f3a"
             ],
             [
              0.8888888888888888,
              "#fdca26"
             ],
             [
              1,
              "#f0f921"
             ]
            ],
            "type": "heatmap"
           }
          ],
          "heatmapgl": [
           {
            "colorbar": {
             "outlinewidth": 0,
             "ticks": ""
            },
            "colorscale": [
             [
              0,
              "#0d0887"
             ],
             [
              0.1111111111111111,
              "#46039f"
             ],
             [
              0.2222222222222222,
              "#7201a8"
             ],
             [
              0.3333333333333333,
              "#9c179e"
             ],
             [
              0.4444444444444444,
              "#bd3786"
             ],
             [
              0.5555555555555556,
              "#d8576b"
             ],
             [
              0.6666666666666666,
              "#ed7953"
             ],
             [
              0.7777777777777778,
              "#fb9f3a"
             ],
             [
              0.8888888888888888,
              "#fdca26"
             ],
             [
              1,
              "#f0f921"
             ]
            ],
            "type": "heatmapgl"
           }
          ],
          "histogram": [
           {
            "marker": {
             "pattern": {
              "fillmode": "overlay",
              "size": 10,
              "solidity": 0.2
             }
            },
            "type": "histogram"
           }
          ],
          "histogram2d": [
           {
            "colorbar": {
             "outlinewidth": 0,
             "ticks": ""
            },
            "colorscale": [
             [
              0,
              "#0d0887"
             ],
             [
              0.1111111111111111,
              "#46039f"
             ],
             [
              0.2222222222222222,
              "#7201a8"
             ],
             [
              0.3333333333333333,
              "#9c179e"
             ],
             [
              0.4444444444444444,
              "#bd3786"
             ],
             [
              0.5555555555555556,
              "#d8576b"
             ],
             [
              0.6666666666666666,
              "#ed7953"
             ],
             [
              0.7777777777777778,
              "#fb9f3a"
             ],
             [
              0.8888888888888888,
              "#fdca26"
             ],
             [
              1,
              "#f0f921"
             ]
            ],
            "type": "histogram2d"
           }
          ],
          "histogram2dcontour": [
           {
            "colorbar": {
             "outlinewidth": 0,
             "ticks": ""
            },
            "colorscale": [
             [
              0,
              "#0d0887"
             ],
             [
              0.1111111111111111,
              "#46039f"
             ],
             [
              0.2222222222222222,
              "#7201a8"
             ],
             [
              0.3333333333333333,
              "#9c179e"
             ],
             [
              0.4444444444444444,
              "#bd3786"
             ],
             [
              0.5555555555555556,
              "#d8576b"
             ],
             [
              0.6666666666666666,
              "#ed7953"
             ],
             [
              0.7777777777777778,
              "#fb9f3a"
             ],
             [
              0.8888888888888888,
              "#fdca26"
             ],
             [
              1,
              "#f0f921"
             ]
            ],
            "type": "histogram2dcontour"
           }
          ],
          "mesh3d": [
           {
            "colorbar": {
             "outlinewidth": 0,
             "ticks": ""
            },
            "type": "mesh3d"
           }
          ],
          "parcoords": [
           {
            "line": {
             "colorbar": {
              "outlinewidth": 0,
              "ticks": ""
             }
            },
            "type": "parcoords"
           }
          ],
          "pie": [
           {
            "automargin": true,
            "type": "pie"
           }
          ],
          "scatter": [
           {
            "fillpattern": {
             "fillmode": "overlay",
             "size": 10,
             "solidity": 0.2
            },
            "type": "scatter"
           }
          ],
          "scatter3d": [
           {
            "line": {
             "colorbar": {
              "outlinewidth": 0,
              "ticks": ""
             }
            },
            "marker": {
             "colorbar": {
              "outlinewidth": 0,
              "ticks": ""
             }
            },
            "type": "scatter3d"
           }
          ],
          "scattercarpet": [
           {
            "marker": {
             "colorbar": {
              "outlinewidth": 0,
              "ticks": ""
             }
            },
            "type": "scattercarpet"
           }
          ],
          "scattergeo": [
           {
            "marker": {
             "colorbar": {
              "outlinewidth": 0,
              "ticks": ""
             }
            },
            "type": "scattergeo"
           }
          ],
          "scattergl": [
           {
            "marker": {
             "colorbar": {
              "outlinewidth": 0,
              "ticks": ""
             }
            },
            "type": "scattergl"
           }
          ],
          "scattermapbox": [
           {
            "marker": {
             "colorbar": {
              "outlinewidth": 0,
              "ticks": ""
             }
            },
            "type": "scattermapbox"
           }
          ],
          "scatterpolar": [
           {
            "marker": {
             "colorbar": {
              "outlinewidth": 0,
              "ticks": ""
             }
            },
            "type": "scatterpolar"
           }
          ],
          "scatterpolargl": [
           {
            "marker": {
             "colorbar": {
              "outlinewidth": 0,
              "ticks": ""
             }
            },
            "type": "scatterpolargl"
           }
          ],
          "scatterternary": [
           {
            "marker": {
             "colorbar": {
              "outlinewidth": 0,
              "ticks": ""
             }
            },
            "type": "scatterternary"
           }
          ],
          "surface": [
           {
            "colorbar": {
             "outlinewidth": 0,
             "ticks": ""
            },
            "colorscale": [
             [
              0,
              "#0d0887"
             ],
             [
              0.1111111111111111,
              "#46039f"
             ],
             [
              0.2222222222222222,
              "#7201a8"
             ],
             [
              0.3333333333333333,
              "#9c179e"
             ],
             [
              0.4444444444444444,
              "#bd3786"
             ],
             [
              0.5555555555555556,
              "#d8576b"
             ],
             [
              0.6666666666666666,
              "#ed7953"
             ],
             [
              0.7777777777777778,
              "#fb9f3a"
             ],
             [
              0.8888888888888888,
              "#fdca26"
             ],
             [
              1,
              "#f0f921"
             ]
            ],
            "type": "surface"
           }
          ],
          "table": [
           {
            "cells": {
             "fill": {
              "color": "#EBF0F8"
             },
             "line": {
              "color": "white"
             }
            },
            "header": {
             "fill": {
              "color": "#C8D4E3"
             },
             "line": {
              "color": "white"
             }
            },
            "type": "table"
           }
          ]
         },
         "layout": {
          "annotationdefaults": {
           "arrowcolor": "#2a3f5f",
           "arrowhead": 0,
           "arrowwidth": 1
          },
          "autotypenumbers": "strict",
          "coloraxis": {
           "colorbar": {
            "outlinewidth": 0,
            "ticks": ""
           }
          },
          "colorscale": {
           "diverging": [
            [
             0,
             "#8e0152"
            ],
            [
             0.1,
             "#c51b7d"
            ],
            [
             0.2,
             "#de77ae"
            ],
            [
             0.3,
             "#f1b6da"
            ],
            [
             0.4,
             "#fde0ef"
            ],
            [
             0.5,
             "#f7f7f7"
            ],
            [
             0.6,
             "#e6f5d0"
            ],
            [
             0.7,
             "#b8e186"
            ],
            [
             0.8,
             "#7fbc41"
            ],
            [
             0.9,
             "#4d9221"
            ],
            [
             1,
             "#276419"
            ]
           ],
           "sequential": [
            [
             0,
             "#0d0887"
            ],
            [
             0.1111111111111111,
             "#46039f"
            ],
            [
             0.2222222222222222,
             "#7201a8"
            ],
            [
             0.3333333333333333,
             "#9c179e"
            ],
            [
             0.4444444444444444,
             "#bd3786"
            ],
            [
             0.5555555555555556,
             "#d8576b"
            ],
            [
             0.6666666666666666,
             "#ed7953"
            ],
            [
             0.7777777777777778,
             "#fb9f3a"
            ],
            [
             0.8888888888888888,
             "#fdca26"
            ],
            [
             1,
             "#f0f921"
            ]
           ],
           "sequentialminus": [
            [
             0,
             "#0d0887"
            ],
            [
             0.1111111111111111,
             "#46039f"
            ],
            [
             0.2222222222222222,
             "#7201a8"
            ],
            [
             0.3333333333333333,
             "#9c179e"
            ],
            [
             0.4444444444444444,
             "#bd3786"
            ],
            [
             0.5555555555555556,
             "#d8576b"
            ],
            [
             0.6666666666666666,
             "#ed7953"
            ],
            [
             0.7777777777777778,
             "#fb9f3a"
            ],
            [
             0.8888888888888888,
             "#fdca26"
            ],
            [
             1,
             "#f0f921"
            ]
           ]
          },
          "colorway": [
           "#636efa",
           "#EF553B",
           "#00cc96",
           "#ab63fa",
           "#FFA15A",
           "#19d3f3",
           "#FF6692",
           "#B6E880",
           "#FF97FF",
           "#FECB52"
          ],
          "font": {
           "color": "#2a3f5f"
          },
          "geo": {
           "bgcolor": "white",
           "lakecolor": "white",
           "landcolor": "#E5ECF6",
           "showlakes": true,
           "showland": true,
           "subunitcolor": "white"
          },
          "hoverlabel": {
           "align": "left"
          },
          "hovermode": "closest",
          "mapbox": {
           "style": "light"
          },
          "paper_bgcolor": "white",
          "plot_bgcolor": "#E5ECF6",
          "polar": {
           "angularaxis": {
            "gridcolor": "white",
            "linecolor": "white",
            "ticks": ""
           },
           "bgcolor": "#E5ECF6",
           "radialaxis": {
            "gridcolor": "white",
            "linecolor": "white",
            "ticks": ""
           }
          },
          "scene": {
           "xaxis": {
            "backgroundcolor": "#E5ECF6",
            "gridcolor": "white",
            "gridwidth": 2,
            "linecolor": "white",
            "showbackground": true,
            "ticks": "",
            "zerolinecolor": "white"
           },
           "yaxis": {
            "backgroundcolor": "#E5ECF6",
            "gridcolor": "white",
            "gridwidth": 2,
            "linecolor": "white",
            "showbackground": true,
            "ticks": "",
            "zerolinecolor": "white"
           },
           "zaxis": {
            "backgroundcolor": "#E5ECF6",
            "gridcolor": "white",
            "gridwidth": 2,
            "linecolor": "white",
            "showbackground": true,
            "ticks": "",
            "zerolinecolor": "white"
           }
          },
          "shapedefaults": {
           "line": {
            "color": "#2a3f5f"
           }
          },
          "ternary": {
           "aaxis": {
            "gridcolor": "white",
            "linecolor": "white",
            "ticks": ""
           },
           "baxis": {
            "gridcolor": "white",
            "linecolor": "white",
            "ticks": ""
           },
           "bgcolor": "#E5ECF6",
           "caxis": {
            "gridcolor": "white",
            "linecolor": "white",
            "ticks": ""
           }
          },
          "title": {
           "x": 0.05
          },
          "xaxis": {
           "automargin": true,
           "gridcolor": "white",
           "linecolor": "white",
           "ticks": "",
           "title": {
            "standoff": 15
           },
           "zerolinecolor": "white",
           "zerolinewidth": 2
          },
          "yaxis": {
           "automargin": true,
           "gridcolor": "white",
           "linecolor": "white",
           "ticks": "",
           "title": {
            "standoff": 15
           },
           "zerolinecolor": "white",
           "zerolinewidth": 2
          }
         }
        },
        "title": {
         "font": {
          "color": "#4D5663"
         }
        },
        "xaxis": {
         "gridcolor": "#E1E5ED",
         "showgrid": true,
         "tickfont": {
          "color": "#4D5663"
         },
         "title": {
          "font": {
           "color": "#4D5663"
          },
          "text": ""
         },
         "zerolinecolor": "#E1E5ED"
        },
        "xaxis2": {
         "anchor": "y2",
         "gridcolor": "#E1E5ED",
         "showgrid": true,
         "showticklabels": false,
         "tickfont": {
          "color": "#4D5663"
         },
         "title": {
          "font": {
           "color": "#4D5663"
          },
          "text": ""
         },
         "zerolinecolor": "#E1E5ED"
        },
        "yaxis": {
         "domain": [
          0.3,
          1
         ],
         "gridcolor": "#E1E5ED",
         "showgrid": true,
         "tickfont": {
          "color": "#4D5663"
         },
         "title": {
          "font": {
           "color": "#4D5663"
          },
          "text": ""
         },
         "zerolinecolor": "#E1E5ED"
        },
        "yaxis2": {
         "domain": [
          0,
          0.25
         ],
         "gridcolor": "#E1E5ED",
         "showgrid": true,
         "tickfont": {
          "color": "#4D5663"
         },
         "title": {
          "font": {
           "color": "#4D5663"
          },
          "text": "Spread"
         },
         "zerolinecolor": "#E1E5ED"
        }
       }
      },
      "text/html": [
       "<div>                            <div id=\"62064936-2027-40e3-a45a-1aba5b97ae65\" class=\"plotly-graph-div\" style=\"height:525px; width:100%;\"></div>            <script type=\"text/javascript\">                require([\"plotly\"], function(Plotly) {                    window.PLOTLYENV=window.PLOTLYENV || {};\n",
       "                    window.PLOTLYENV.BASE_URL='https://plot.ly';                                    if (document.getElementById(\"62064936-2027-40e3-a45a-1aba5b97ae65\")) {                    Plotly.newPlot(                        \"62064936-2027-40e3-a45a-1aba5b97ae65\",                        [{\"line\":{\"color\":\"rgba(255, 153, 51, 1.0)\",\"dash\":\"solid\",\"shape\":\"linear\",\"width\":1.3},\"mode\":\"lines\",\"name\":\"A\",\"text\":\"\",\"x\":[0,1,2,3,4,5,6,7,8,9,10,11,12,13,14,15,16,17,18,19,20,21,22,23,24,25,26,27,28,29,30,31,32,33,34,35,36,37,38,39,40,41,42,43,44,45,46,47,48,49,50,51,52,53,54,55,56,57,58,59,60,61,62,63,64,65,66,67,68,69,70,71,72,73,74,75,76,77,78,79,80,81,82,83,84,85,86,87,88,89,90,91,92,93,94,95,96,97,98,99],\"y\":[-0.32437935932286105,0.6507786303830336,-0.3895435206998073,0.09605366978079674,0.8197362293541232,-2.1736614086387034,0.5447989087977978,-0.48026307852395245,-0.9312791112381261,1.0234457605227858,2.602895318314027,0.22413905009816462,-0.821227335088624,-0.3856451712519905,0.8111171832248476,0.020787549685838753,1.0456525715167484,-0.46999110891348045,-1.8031559479012809,1.6790145550113407,-0.10326521597651746,-0.0699982364634295,0.0682181566995542,1.7559799602251849,-0.8835006562676381,0.08438188434314217,-0.3118089076470192,-0.14808980061376903,0.043576355483198256,0.3420442997233026,0.11894325264568689,-0.2577134208535056,0.6978036228013325,0.6113101405984447,-0.8642860355006269,1.0386104714627757,-0.5454469660239857,0.37359152088305875,-0.207414871750417,-0.2766082626107455,-0.09232179563923242,-0.22322258357986602,-0.2750041129199989,-0.6462565804188576,-0.7564544188020607,-0.3935935702016708,-0.6201830686920962,0.5032563482950011,-0.3400791520044989,-0.7217213231087968,0.03735172569908848,-1.3387465776407153,1.26320480969486,1.0391940167060385,0.07527735447324392,-0.04637228755826521,0.2407108736349752,0.6718242356571152,-0.5874185371180319,-0.05166639315432059,0.28546671957252895,-0.8393723817660538,3.6920994601597235,0.7140374705521528,-2.0311390810199197,-0.7656104217463565,-0.5706747095329012,1.44720934904325,-0.04684225993129464,1.7666836707342357,-0.25712128759980896,-0.7486717414586884,-0.14404899072278207,-2.847694864973696,0.5055476900344904,-0.9777980182604501,-0.3404777125900365,0.49896061289322263,-1.2666980908052186,-0.14298323017857129,-0.33134176695795176,-0.32793980022794733,-1.3223083663276318,-0.7638233684150882,-2.193080206212569,0.9998229351057568,0.636695813978981,-0.20155103698415303,1.4901288953563878,-1.5565718214852045,-0.7254474963551272,0.1256470565777697,1.445946008831829,-0.60092975865266,0.9270945867676877,1.2287517941705062,0.7216832535913091,-1.939902333371826,-1.3338304167761876,0.6727881223318196],\"type\":\"scatter\"},{\"line\":{\"color\":\"rgba(55, 128, 191, 1.0)\",\"dash\":\"solid\",\"shape\":\"linear\",\"width\":1.3},\"mode\":\"lines\",\"name\":\"B\",\"text\":\"\",\"x\":[0,1,2,3,4,5,6,7,8,9,10,11,12,13,14,15,16,17,18,19,20,21,22,23,24,25,26,27,28,29,30,31,32,33,34,35,36,37,38,39,40,41,42,43,44,45,46,47,48,49,50,51,52,53,54,55,56,57,58,59,60,61,62,63,64,65,66,67,68,69,70,71,72,73,74,75,76,77,78,79,80,81,82,83,84,85,86,87,88,89,90,91,92,93,94,95,96,97,98,99],\"y\":[0.5840159608274463,-0.6776725469281716,-0.08250716750184768,-0.6997003696662847,-0.02046542339042747,1.2973044459174985,-0.15269446165195133,-1.4060233979928802,-0.5155337860657689,-0.5736152041925673,1.357173046148224,0.8500626656020044,0.10844955804384164,-1.113034086831303,1.2664476181631814,0.5211478579740425,-0.07179164173708667,0.1862031755158228,-0.7119068102838787,0.9585466814679567,-0.8427877095541829,0.2861755512620451,0.5093489326745615,0.3787469242895969,-0.9445536130992522,0.35678791129132764,0.3853970213226538,0.7413345138100097,1.6806051224796448,-1.083973295584339,0.5506930858378145,1.5639483064191257,0.8824343297222614,-0.10628109258192349,-1.4162687762492605,0.9289603451115521,0.23602352635471763,1.1471291497038176,0.17164218020853547,-0.16497562804589852,0.7178070496418821,1.045121465527172,1.36845378138647,-0.5256492280256156,-0.37444234869325654,-1.2981424632591463,-0.9240607988811324,0.273143180228173,0.9988750799969999,-2.0064517053719846,0.11444308844932008,0.6848583984094578,-0.39553800528315075,-0.3144745974960851,-0.47359674536819757,-1.4573494915478733,0.174213316035283,2.2361965917768685,0.17517082060865113,2.332184289649614,1.7105058808082025,-1.706279525783847,0.5916358862419079,-0.46540652794985776,-1.7293639018946085,-1.2135524247347476,0.1790335731975688,-0.5699722220416938,-0.729331184902068,0.18117369443269593,-0.05635246315475032,0.39052174181601707,-0.6708788277038915,0.16103357730047088,1.573538234181239,-0.1953589263551798,0.080368461583438,0.2679163855152857,-0.15259967498329535,1.0616318376628848,-0.30502224143898055,1.2316319246538674,0.32709090752935904,-0.7106105752458274,0.001081946950240499,0.7494594826677379,-1.014585852439636,-1.128112386980834,0.14410131361648543,-1.496817504683681,-0.19954188369670103,1.4413043033258475,-0.6074730481305635,0.751125846459736,1.0867151412356497,0.02357154784848277,0.09231623762808776,-2.955157726525199,-0.47205442975871503,-1.3673663177768012],\"type\":\"scatter\"},{\"connectgaps\":false,\"fill\":\"tozeroy\",\"line\":{\"color\":\"green\",\"dash\":\"solid\",\"shape\":\"linear\",\"width\":0.5},\"mode\":\"lines\",\"name\":\"Spread\",\"showlegend\":false,\"x\":[0,1,2,3,4,5,6,7,8,9,10,11,12,13,14,15,16,17,18,19,20,21,22,23,24,25,26,27,28,29,30,31,32,33,34,35,36,37,38,39,40,41,42,43,44,45,46,47,48,49,50,51,52,53,54,55,56,57,58,59,60,61,62,63,64,65,66,67,68,69,70,71,72,73,74,75,76,77,78,79,80,81,82,83,84,85,86,87,88,89,90,91,92,93,94,95,96,97,98,99],\"xaxis\":\"x2\",\"y\":[\"\",1.328451177311205,\"\",0.7957540394470815,0.8402016527445506,\"\",0.6974933704497491,0.9257603194689278,\"\",1.597060964715353,1.2457222721658028,\"\",\"\",0.7273889155793124,\"\",\"\",1.1174442132538351,\"\",\"\",0.7204678735433839,0.7395224935776654,\"\",\"\",1.377233035935588,0.06105295683161416,\"\",\"\",\"\",\"\",1.4260175953076417,\"\",\"\",\"\",0.7175912331803682,0.5519827407486336,0.10965012635122362,\"\",\"\",\"\",\"\",\"\",\"\",\"\",\"\",\"\",0.9045488930574754,0.3038777301890362,0.23011316806682808,\"\",1.284730382263188,\"\",\"\",1.6587428149780108,1.3536686142021237,0.5488740998414415,1.410977203989608,0.0664975575996922,\"\",\"\",\"\",\"\",0.8669071440177932,3.1004635739178155,1.1794439985020106,\"\",0.44794200298839104,\"\",2.0171815710849437,0.6824889249707734,1.5855099763015397,\"\",\"\",0.5268298369811094,\"\",\"\",\"\",\"\",0.23104422737793695,\"\",\"\",\"\",\"\",\"\",\"\",\"\",0.25036345243801894,1.6512816664186172,0.926561349996681,1.3460275817399023,\"\",\"\",\"\",2.0534190569623925,\"\",\"\",1.2051802463220234,0.6293670159632214,1.015255393153373,\"\",2.040154440108621],\"yaxis\":\"y2\",\"type\":\"scatter\"},{\"connectgaps\":false,\"fill\":\"tozeroy\",\"line\":{\"color\":\"red\",\"dash\":\"solid\",\"shape\":\"linear\",\"width\":0.5},\"mode\":\"lines\",\"name\":\"Spread\",\"showlegend\":false,\"x\":[0,1,2,3,4,5,6,7,8,9,10,11,12,13,14,15,16,17,18,19,20,21,22,23,24,25,26,27,28,29,30,31,32,33,34,35,36,37,38,39,40,41,42,43,44,45,46,47,48,49,50,51,52,53,54,55,56,57,58,59,60,61,62,63,64,65,66,67,68,69,70,71,72,73,74,75,76,77,78,79,80,81,82,83,84,85,86,87,88,89,90,91,92,93,94,95,96,97,98,99],\"xaxis\":\"x2\",\"y\":[-0.9083953201503074,\"\",-0.30703635319795963,\"\",\"\",-3.470965854556202,\"\",\"\",-0.4157453251723572,\"\",\"\",-0.6259236155038398,-0.9296768931324656,\"\",-0.4553304349383338,-0.5003603082882038,\"\",-0.6561942844293033,-1.0912491376174023,\"\",\"\",-0.3561737877254746,-0.44113077597500727,\"\",\"\",-0.2724060269481855,-0.697205928969673,-0.8894243144237788,-1.6370287669964465,\"\",-0.4317498331921276,-1.8216617272726314,-0.18463070692092898,\"\",\"\",\"\",-0.7814704923787033,-0.7735376288207589,-0.37905705195895245,-0.11163263456484698,-0.8101288452811145,-1.2683440491070381,-1.6434578943064688,-0.12060735239324194,-0.3820120701088041,\"\",\"\",\"\",-1.3389542320014987,\"\",-0.0770913627502316,-2.023604976050173,\"\",\"\",\"\",\"\",\"\",-1.5643723561197533,-0.7625893577266831,-2.3838506828039345,-1.4250391612356736,\"\",\"\",\"\",-0.30177517912531115,\"\",-0.74970828273047,\"\",\"\",\"\",-0.20076882444505864,-1.1391934832747055,\"\",-3.0087284422741667,-1.0679905441467485,-0.7824390919052703,-0.4208461741734745,\"\",-1.1140984158219231,-1.204615067841456,-0.02631952551897121,-1.5595717248818146,-1.649399273856991,-0.053212793169260864,-2.1941621531628095,\"\",\"\",\"\",\"\",-0.059754316801523544,-0.5259056126584262,-1.3156572467480778,\"\",-1.352055605112396,-0.15962055446796197,\"\",\"\",\"\",-0.8617759870174726,\"\"],\"yaxis\":\"y2\",\"type\":\"scatter\"}],                        {\"hovermode\":\"x\",\"legend\":{\"bgcolor\":\"#F5F6F9\",\"font\":{\"color\":\"#4D5663\"}},\"paper_bgcolor\":\"#F5F6F9\",\"plot_bgcolor\":\"#F5F6F9\",\"template\":{\"data\":{\"barpolar\":[{\"marker\":{\"line\":{\"color\":\"#E5ECF6\",\"width\":0.5},\"pattern\":{\"fillmode\":\"overlay\",\"size\":10,\"solidity\":0.2}},\"type\":\"barpolar\"}],\"bar\":[{\"error_x\":{\"color\":\"#2a3f5f\"},\"error_y\":{\"color\":\"#2a3f5f\"},\"marker\":{\"line\":{\"color\":\"#E5ECF6\",\"width\":0.5},\"pattern\":{\"fillmode\":\"overlay\",\"size\":10,\"solidity\":0.2}},\"type\":\"bar\"}],\"carpet\":[{\"aaxis\":{\"endlinecolor\":\"#2a3f5f\",\"gridcolor\":\"white\",\"linecolor\":\"white\",\"minorgridcolor\":\"white\",\"startlinecolor\":\"#2a3f5f\"},\"baxis\":{\"endlinecolor\":\"#2a3f5f\",\"gridcolor\":\"white\",\"linecolor\":\"white\",\"minorgridcolor\":\"white\",\"startlinecolor\":\"#2a3f5f\"},\"type\":\"carpet\"}],\"choropleth\":[{\"colorbar\":{\"outlinewidth\":0,\"ticks\":\"\"},\"type\":\"choropleth\"}],\"contourcarpet\":[{\"colorbar\":{\"outlinewidth\":0,\"ticks\":\"\"},\"type\":\"contourcarpet\"}],\"contour\":[{\"colorbar\":{\"outlinewidth\":0,\"ticks\":\"\"},\"colorscale\":[[0.0,\"#0d0887\"],[0.1111111111111111,\"#46039f\"],[0.2222222222222222,\"#7201a8\"],[0.3333333333333333,\"#9c179e\"],[0.4444444444444444,\"#bd3786\"],[0.5555555555555556,\"#d8576b\"],[0.6666666666666666,\"#ed7953\"],[0.7777777777777778,\"#fb9f3a\"],[0.8888888888888888,\"#fdca26\"],[1.0,\"#f0f921\"]],\"type\":\"contour\"}],\"heatmapgl\":[{\"colorbar\":{\"outlinewidth\":0,\"ticks\":\"\"},\"colorscale\":[[0.0,\"#0d0887\"],[0.1111111111111111,\"#46039f\"],[0.2222222222222222,\"#7201a8\"],[0.3333333333333333,\"#9c179e\"],[0.4444444444444444,\"#bd3786\"],[0.5555555555555556,\"#d8576b\"],[0.6666666666666666,\"#ed7953\"],[0.7777777777777778,\"#fb9f3a\"],[0.8888888888888888,\"#fdca26\"],[1.0,\"#f0f921\"]],\"type\":\"heatmapgl\"}],\"heatmap\":[{\"colorbar\":{\"outlinewidth\":0,\"ticks\":\"\"},\"colorscale\":[[0.0,\"#0d0887\"],[0.1111111111111111,\"#46039f\"],[0.2222222222222222,\"#7201a8\"],[0.3333333333333333,\"#9c179e\"],[0.4444444444444444,\"#bd3786\"],[0.5555555555555556,\"#d8576b\"],[0.6666666666666666,\"#ed7953\"],[0.7777777777777778,\"#fb9f3a\"],[0.8888888888888888,\"#fdca26\"],[1.0,\"#f0f921\"]],\"type\":\"heatmap\"}],\"histogram2dcontour\":[{\"colorbar\":{\"outlinewidth\":0,\"ticks\":\"\"},\"colorscale\":[[0.0,\"#0d0887\"],[0.1111111111111111,\"#46039f\"],[0.2222222222222222,\"#7201a8\"],[0.3333333333333333,\"#9c179e\"],[0.4444444444444444,\"#bd3786\"],[0.5555555555555556,\"#d8576b\"],[0.6666666666666666,\"#ed7953\"],[0.7777777777777778,\"#fb9f3a\"],[0.8888888888888888,\"#fdca26\"],[1.0,\"#f0f921\"]],\"type\":\"histogram2dcontour\"}],\"histogram2d\":[{\"colorbar\":{\"outlinewidth\":0,\"ticks\":\"\"},\"colorscale\":[[0.0,\"#0d0887\"],[0.1111111111111111,\"#46039f\"],[0.2222222222222222,\"#7201a8\"],[0.3333333333333333,\"#9c179e\"],[0.4444444444444444,\"#bd3786\"],[0.5555555555555556,\"#d8576b\"],[0.6666666666666666,\"#ed7953\"],[0.7777777777777778,\"#fb9f3a\"],[0.8888888888888888,\"#fdca26\"],[1.0,\"#f0f921\"]],\"type\":\"histogram2d\"}],\"histogram\":[{\"marker\":{\"pattern\":{\"fillmode\":\"overlay\",\"size\":10,\"solidity\":0.2}},\"type\":\"histogram\"}],\"mesh3d\":[{\"colorbar\":{\"outlinewidth\":0,\"ticks\":\"\"},\"type\":\"mesh3d\"}],\"parcoords\":[{\"line\":{\"colorbar\":{\"outlinewidth\":0,\"ticks\":\"\"}},\"type\":\"parcoords\"}],\"pie\":[{\"automargin\":true,\"type\":\"pie\"}],\"scatter3d\":[{\"line\":{\"colorbar\":{\"outlinewidth\":0,\"ticks\":\"\"}},\"marker\":{\"colorbar\":{\"outlinewidth\":0,\"ticks\":\"\"}},\"type\":\"scatter3d\"}],\"scattercarpet\":[{\"marker\":{\"colorbar\":{\"outlinewidth\":0,\"ticks\":\"\"}},\"type\":\"scattercarpet\"}],\"scattergeo\":[{\"marker\":{\"colorbar\":{\"outlinewidth\":0,\"ticks\":\"\"}},\"type\":\"scattergeo\"}],\"scattergl\":[{\"marker\":{\"colorbar\":{\"outlinewidth\":0,\"ticks\":\"\"}},\"type\":\"scattergl\"}],\"scattermapbox\":[{\"marker\":{\"colorbar\":{\"outlinewidth\":0,\"ticks\":\"\"}},\"type\":\"scattermapbox\"}],\"scatterpolargl\":[{\"marker\":{\"colorbar\":{\"outlinewidth\":0,\"ticks\":\"\"}},\"type\":\"scatterpolargl\"}],\"scatterpolar\":[{\"marker\":{\"colorbar\":{\"outlinewidth\":0,\"ticks\":\"\"}},\"type\":\"scatterpolar\"}],\"scatter\":[{\"fillpattern\":{\"fillmode\":\"overlay\",\"size\":10,\"solidity\":0.2},\"type\":\"scatter\"}],\"scatterternary\":[{\"marker\":{\"colorbar\":{\"outlinewidth\":0,\"ticks\":\"\"}},\"type\":\"scatterternary\"}],\"surface\":[{\"colorbar\":{\"outlinewidth\":0,\"ticks\":\"\"},\"colorscale\":[[0.0,\"#0d0887\"],[0.1111111111111111,\"#46039f\"],[0.2222222222222222,\"#7201a8\"],[0.3333333333333333,\"#9c179e\"],[0.4444444444444444,\"#bd3786\"],[0.5555555555555556,\"#d8576b\"],[0.6666666666666666,\"#ed7953\"],[0.7777777777777778,\"#fb9f3a\"],[0.8888888888888888,\"#fdca26\"],[1.0,\"#f0f921\"]],\"type\":\"surface\"}],\"table\":[{\"cells\":{\"fill\":{\"color\":\"#EBF0F8\"},\"line\":{\"color\":\"white\"}},\"header\":{\"fill\":{\"color\":\"#C8D4E3\"},\"line\":{\"color\":\"white\"}},\"type\":\"table\"}]},\"layout\":{\"annotationdefaults\":{\"arrowcolor\":\"#2a3f5f\",\"arrowhead\":0,\"arrowwidth\":1},\"autotypenumbers\":\"strict\",\"coloraxis\":{\"colorbar\":{\"outlinewidth\":0,\"ticks\":\"\"}},\"colorscale\":{\"diverging\":[[0,\"#8e0152\"],[0.1,\"#c51b7d\"],[0.2,\"#de77ae\"],[0.3,\"#f1b6da\"],[0.4,\"#fde0ef\"],[0.5,\"#f7f7f7\"],[0.6,\"#e6f5d0\"],[0.7,\"#b8e186\"],[0.8,\"#7fbc41\"],[0.9,\"#4d9221\"],[1,\"#276419\"]],\"sequential\":[[0.0,\"#0d0887\"],[0.1111111111111111,\"#46039f\"],[0.2222222222222222,\"#7201a8\"],[0.3333333333333333,\"#9c179e\"],[0.4444444444444444,\"#bd3786\"],[0.5555555555555556,\"#d8576b\"],[0.6666666666666666,\"#ed7953\"],[0.7777777777777778,\"#fb9f3a\"],[0.8888888888888888,\"#fdca26\"],[1.0,\"#f0f921\"]],\"sequentialminus\":[[0.0,\"#0d0887\"],[0.1111111111111111,\"#46039f\"],[0.2222222222222222,\"#7201a8\"],[0.3333333333333333,\"#9c179e\"],[0.4444444444444444,\"#bd3786\"],[0.5555555555555556,\"#d8576b\"],[0.6666666666666666,\"#ed7953\"],[0.7777777777777778,\"#fb9f3a\"],[0.8888888888888888,\"#fdca26\"],[1.0,\"#f0f921\"]]},\"colorway\":[\"#636efa\",\"#EF553B\",\"#00cc96\",\"#ab63fa\",\"#FFA15A\",\"#19d3f3\",\"#FF6692\",\"#B6E880\",\"#FF97FF\",\"#FECB52\"],\"font\":{\"color\":\"#2a3f5f\"},\"geo\":{\"bgcolor\":\"white\",\"lakecolor\":\"white\",\"landcolor\":\"#E5ECF6\",\"showlakes\":true,\"showland\":true,\"subunitcolor\":\"white\"},\"hoverlabel\":{\"align\":\"left\"},\"hovermode\":\"closest\",\"mapbox\":{\"style\":\"light\"},\"paper_bgcolor\":\"white\",\"plot_bgcolor\":\"#E5ECF6\",\"polar\":{\"angularaxis\":{\"gridcolor\":\"white\",\"linecolor\":\"white\",\"ticks\":\"\"},\"bgcolor\":\"#E5ECF6\",\"radialaxis\":{\"gridcolor\":\"white\",\"linecolor\":\"white\",\"ticks\":\"\"}},\"scene\":{\"xaxis\":{\"backgroundcolor\":\"#E5ECF6\",\"gridcolor\":\"white\",\"gridwidth\":2,\"linecolor\":\"white\",\"showbackground\":true,\"ticks\":\"\",\"zerolinecolor\":\"white\"},\"yaxis\":{\"backgroundcolor\":\"#E5ECF6\",\"gridcolor\":\"white\",\"gridwidth\":2,\"linecolor\":\"white\",\"showbackground\":true,\"ticks\":\"\",\"zerolinecolor\":\"white\"},\"zaxis\":{\"backgroundcolor\":\"#E5ECF6\",\"gridcolor\":\"white\",\"gridwidth\":2,\"linecolor\":\"white\",\"showbackground\":true,\"ticks\":\"\",\"zerolinecolor\":\"white\"}},\"shapedefaults\":{\"line\":{\"color\":\"#2a3f5f\"}},\"ternary\":{\"aaxis\":{\"gridcolor\":\"white\",\"linecolor\":\"white\",\"ticks\":\"\"},\"baxis\":{\"gridcolor\":\"white\",\"linecolor\":\"white\",\"ticks\":\"\"},\"bgcolor\":\"#E5ECF6\",\"caxis\":{\"gridcolor\":\"white\",\"linecolor\":\"white\",\"ticks\":\"\"}},\"title\":{\"x\":0.05},\"xaxis\":{\"automargin\":true,\"gridcolor\":\"white\",\"linecolor\":\"white\",\"ticks\":\"\",\"title\":{\"standoff\":15},\"zerolinecolor\":\"white\",\"zerolinewidth\":2},\"yaxis\":{\"automargin\":true,\"gridcolor\":\"white\",\"linecolor\":\"white\",\"ticks\":\"\",\"title\":{\"standoff\":15},\"zerolinecolor\":\"white\",\"zerolinewidth\":2}}},\"title\":{\"font\":{\"color\":\"#4D5663\"}},\"xaxis\":{\"gridcolor\":\"#E1E5ED\",\"showgrid\":true,\"tickfont\":{\"color\":\"#4D5663\"},\"title\":{\"font\":{\"color\":\"#4D5663\"},\"text\":\"\"},\"zerolinecolor\":\"#E1E5ED\"},\"yaxis\":{\"domain\":[0.3,1],\"gridcolor\":\"#E1E5ED\",\"showgrid\":true,\"tickfont\":{\"color\":\"#4D5663\"},\"title\":{\"font\":{\"color\":\"#4D5663\"},\"text\":\"\"},\"zerolinecolor\":\"#E1E5ED\"},\"yaxis2\":{\"domain\":[0,0.25],\"gridcolor\":\"#E1E5ED\",\"showgrid\":true,\"tickfont\":{\"color\":\"#4D5663\"},\"title\":{\"font\":{\"color\":\"#4D5663\"},\"text\":\"Spread\"},\"zerolinecolor\":\"#E1E5ED\"},\"xaxis2\":{\"anchor\":\"y2\",\"gridcolor\":\"#E1E5ED\",\"showgrid\":true,\"showticklabels\":false,\"tickfont\":{\"color\":\"#4D5663\"},\"title\":{\"font\":{\"color\":\"#4D5663\"},\"text\":\"\"},\"zerolinecolor\":\"#E1E5ED\"}},                        {\"showLink\": true, \"linkText\": \"Export to plot.ly\", \"plotlyServerURL\": \"https://plot.ly\", \"responsive\": true}                    ).then(function(){\n",
       "                            \n",
       "var gd = document.getElementById('62064936-2027-40e3-a45a-1aba5b97ae65');\n",
       "var x = new MutationObserver(function (mutations, observer) {{\n",
       "        var display = window.getComputedStyle(gd).display;\n",
       "        if (!display || display === 'none') {{\n",
       "            console.log([gd, 'removed!']);\n",
       "            Plotly.purge(gd);\n",
       "            observer.disconnect();\n",
       "        }}\n",
       "}});\n",
       "\n",
       "// Listen for the removal of the full notebook cells\n",
       "var notebookContainer = gd.closest('#notebook-container');\n",
       "if (notebookContainer) {{\n",
       "    x.observe(notebookContainer, {childList: true});\n",
       "}}\n",
       "\n",
       "// Listen for the clearing of the current output cell\n",
       "var outputEl = gd.closest('.output');\n",
       "if (outputEl) {{\n",
       "    x.observe(outputEl, {childList: true});\n",
       "}}\n",
       "\n",
       "                        })                };                });            </script>        </div>"
      ]
     },
     "metadata": {},
     "output_type": "display_data"
    }
   ],
   "source": [
    "df[['A','B']].iplot(kind='spread')"
   ]
  },
  {
   "cell_type": "markdown",
   "metadata": {},
   "source": [
    "## histogram"
   ]
  },
  {
   "cell_type": "code",
   "execution_count": 16,
   "metadata": {},
   "outputs": [
    {
     "data": {
      "application/vnd.plotly.v1+json": {
       "config": {
        "linkText": "Export to plot.ly",
        "plotlyServerURL": "https://plot.ly",
        "showLink": true
       },
       "data": [
        {
         "histfunc": "count",
         "histnorm": "",
         "marker": {
          "color": "rgba(255, 153, 51, 1.0)",
          "line": {
           "color": "#4D5663",
           "width": 1.3
          }
         },
         "name": "A",
         "nbinsx": 25,
         "opacity": 0.8,
         "orientation": "v",
         "type": "histogram",
         "x": [
          -0.32437935932286105,
          0.6507786303830336,
          -0.3895435206998073,
          0.09605366978079674,
          0.8197362293541232,
          -2.1736614086387034,
          0.5447989087977978,
          -0.48026307852395245,
          -0.9312791112381261,
          1.0234457605227858,
          2.602895318314027,
          0.22413905009816462,
          -0.821227335088624,
          -0.3856451712519905,
          0.8111171832248476,
          0.020787549685838753,
          1.0456525715167484,
          -0.46999110891348045,
          -1.8031559479012809,
          1.6790145550113407,
          -0.10326521597651746,
          -0.0699982364634295,
          0.0682181566995542,
          1.7559799602251849,
          -0.8835006562676381,
          0.08438188434314217,
          -0.3118089076470192,
          -0.14808980061376903,
          0.043576355483198256,
          0.3420442997233026,
          0.11894325264568689,
          -0.2577134208535056,
          0.6978036228013325,
          0.6113101405984447,
          -0.8642860355006269,
          1.0386104714627757,
          -0.5454469660239857,
          0.37359152088305875,
          -0.207414871750417,
          -0.2766082626107455,
          -0.09232179563923242,
          -0.22322258357986602,
          -0.2750041129199989,
          -0.6462565804188576,
          -0.7564544188020607,
          -0.3935935702016708,
          -0.6201830686920962,
          0.5032563482950011,
          -0.3400791520044989,
          -0.7217213231087968,
          0.03735172569908848,
          -1.3387465776407153,
          1.26320480969486,
          1.0391940167060385,
          0.07527735447324392,
          -0.04637228755826521,
          0.2407108736349752,
          0.6718242356571152,
          -0.5874185371180319,
          -0.05166639315432059,
          0.28546671957252895,
          -0.8393723817660538,
          3.6920994601597235,
          0.7140374705521528,
          -2.0311390810199197,
          -0.7656104217463565,
          -0.5706747095329012,
          1.44720934904325,
          -0.04684225993129464,
          1.7666836707342357,
          -0.25712128759980896,
          -0.7486717414586884,
          -0.14404899072278207,
          -2.847694864973696,
          0.5055476900344904,
          -0.9777980182604501,
          -0.3404777125900365,
          0.49896061289322263,
          -1.2666980908052186,
          -0.14298323017857129,
          -0.33134176695795176,
          -0.32793980022794733,
          -1.3223083663276318,
          -0.7638233684150882,
          -2.193080206212569,
          0.9998229351057568,
          0.636695813978981,
          -0.20155103698415303,
          1.4901288953563878,
          -1.5565718214852045,
          -0.7254474963551272,
          0.1256470565777697,
          1.445946008831829,
          -0.60092975865266,
          0.9270945867676877,
          1.2287517941705062,
          0.7216832535913091,
          -1.939902333371826,
          -1.3338304167761876,
          0.6727881223318196
         ]
        }
       ],
       "layout": {
        "barmode": "overlay",
        "legend": {
         "bgcolor": "#F5F6F9",
         "font": {
          "color": "#4D5663"
         }
        },
        "paper_bgcolor": "#F5F6F9",
        "plot_bgcolor": "#F5F6F9",
        "template": {
         "data": {
          "bar": [
           {
            "error_x": {
             "color": "#2a3f5f"
            },
            "error_y": {
             "color": "#2a3f5f"
            },
            "marker": {
             "line": {
              "color": "#E5ECF6",
              "width": 0.5
             },
             "pattern": {
              "fillmode": "overlay",
              "size": 10,
              "solidity": 0.2
             }
            },
            "type": "bar"
           }
          ],
          "barpolar": [
           {
            "marker": {
             "line": {
              "color": "#E5ECF6",
              "width": 0.5
             },
             "pattern": {
              "fillmode": "overlay",
              "size": 10,
              "solidity": 0.2
             }
            },
            "type": "barpolar"
           }
          ],
          "carpet": [
           {
            "aaxis": {
             "endlinecolor": "#2a3f5f",
             "gridcolor": "white",
             "linecolor": "white",
             "minorgridcolor": "white",
             "startlinecolor": "#2a3f5f"
            },
            "baxis": {
             "endlinecolor": "#2a3f5f",
             "gridcolor": "white",
             "linecolor": "white",
             "minorgridcolor": "white",
             "startlinecolor": "#2a3f5f"
            },
            "type": "carpet"
           }
          ],
          "choropleth": [
           {
            "colorbar": {
             "outlinewidth": 0,
             "ticks": ""
            },
            "type": "choropleth"
           }
          ],
          "contour": [
           {
            "colorbar": {
             "outlinewidth": 0,
             "ticks": ""
            },
            "colorscale": [
             [
              0,
              "#0d0887"
             ],
             [
              0.1111111111111111,
              "#46039f"
             ],
             [
              0.2222222222222222,
              "#7201a8"
             ],
             [
              0.3333333333333333,
              "#9c179e"
             ],
             [
              0.4444444444444444,
              "#bd3786"
             ],
             [
              0.5555555555555556,
              "#d8576b"
             ],
             [
              0.6666666666666666,
              "#ed7953"
             ],
             [
              0.7777777777777778,
              "#fb9f3a"
             ],
             [
              0.8888888888888888,
              "#fdca26"
             ],
             [
              1,
              "#f0f921"
             ]
            ],
            "type": "contour"
           }
          ],
          "contourcarpet": [
           {
            "colorbar": {
             "outlinewidth": 0,
             "ticks": ""
            },
            "type": "contourcarpet"
           }
          ],
          "heatmap": [
           {
            "colorbar": {
             "outlinewidth": 0,
             "ticks": ""
            },
            "colorscale": [
             [
              0,
              "#0d0887"
             ],
             [
              0.1111111111111111,
              "#46039f"
             ],
             [
              0.2222222222222222,
              "#7201a8"
             ],
             [
              0.3333333333333333,
              "#9c179e"
             ],
             [
              0.4444444444444444,
              "#bd3786"
             ],
             [
              0.5555555555555556,
              "#d8576b"
             ],
             [
              0.6666666666666666,
              "#ed7953"
             ],
             [
              0.7777777777777778,
              "#fb9f3a"
             ],
             [
              0.8888888888888888,
              "#fdca26"
             ],
             [
              1,
              "#f0f921"
             ]
            ],
            "type": "heatmap"
           }
          ],
          "heatmapgl": [
           {
            "colorbar": {
             "outlinewidth": 0,
             "ticks": ""
            },
            "colorscale": [
             [
              0,
              "#0d0887"
             ],
             [
              0.1111111111111111,
              "#46039f"
             ],
             [
              0.2222222222222222,
              "#7201a8"
             ],
             [
              0.3333333333333333,
              "#9c179e"
             ],
             [
              0.4444444444444444,
              "#bd3786"
             ],
             [
              0.5555555555555556,
              "#d8576b"
             ],
             [
              0.6666666666666666,
              "#ed7953"
             ],
             [
              0.7777777777777778,
              "#fb9f3a"
             ],
             [
              0.8888888888888888,
              "#fdca26"
             ],
             [
              1,
              "#f0f921"
             ]
            ],
            "type": "heatmapgl"
           }
          ],
          "histogram": [
           {
            "marker": {
             "pattern": {
              "fillmode": "overlay",
              "size": 10,
              "solidity": 0.2
             }
            },
            "type": "histogram"
           }
          ],
          "histogram2d": [
           {
            "colorbar": {
             "outlinewidth": 0,
             "ticks": ""
            },
            "colorscale": [
             [
              0,
              "#0d0887"
             ],
             [
              0.1111111111111111,
              "#46039f"
             ],
             [
              0.2222222222222222,
              "#7201a8"
             ],
             [
              0.3333333333333333,
              "#9c179e"
             ],
             [
              0.4444444444444444,
              "#bd3786"
             ],
             [
              0.5555555555555556,
              "#d8576b"
             ],
             [
              0.6666666666666666,
              "#ed7953"
             ],
             [
              0.7777777777777778,
              "#fb9f3a"
             ],
             [
              0.8888888888888888,
              "#fdca26"
             ],
             [
              1,
              "#f0f921"
             ]
            ],
            "type": "histogram2d"
           }
          ],
          "histogram2dcontour": [
           {
            "colorbar": {
             "outlinewidth": 0,
             "ticks": ""
            },
            "colorscale": [
             [
              0,
              "#0d0887"
             ],
             [
              0.1111111111111111,
              "#46039f"
             ],
             [
              0.2222222222222222,
              "#7201a8"
             ],
             [
              0.3333333333333333,
              "#9c179e"
             ],
             [
              0.4444444444444444,
              "#bd3786"
             ],
             [
              0.5555555555555556,
              "#d8576b"
             ],
             [
              0.6666666666666666,
              "#ed7953"
             ],
             [
              0.7777777777777778,
              "#fb9f3a"
             ],
             [
              0.8888888888888888,
              "#fdca26"
             ],
             [
              1,
              "#f0f921"
             ]
            ],
            "type": "histogram2dcontour"
           }
          ],
          "mesh3d": [
           {
            "colorbar": {
             "outlinewidth": 0,
             "ticks": ""
            },
            "type": "mesh3d"
           }
          ],
          "parcoords": [
           {
            "line": {
             "colorbar": {
              "outlinewidth": 0,
              "ticks": ""
             }
            },
            "type": "parcoords"
           }
          ],
          "pie": [
           {
            "automargin": true,
            "type": "pie"
           }
          ],
          "scatter": [
           {
            "fillpattern": {
             "fillmode": "overlay",
             "size": 10,
             "solidity": 0.2
            },
            "type": "scatter"
           }
          ],
          "scatter3d": [
           {
            "line": {
             "colorbar": {
              "outlinewidth": 0,
              "ticks": ""
             }
            },
            "marker": {
             "colorbar": {
              "outlinewidth": 0,
              "ticks": ""
             }
            },
            "type": "scatter3d"
           }
          ],
          "scattercarpet": [
           {
            "marker": {
             "colorbar": {
              "outlinewidth": 0,
              "ticks": ""
             }
            },
            "type": "scattercarpet"
           }
          ],
          "scattergeo": [
           {
            "marker": {
             "colorbar": {
              "outlinewidth": 0,
              "ticks": ""
             }
            },
            "type": "scattergeo"
           }
          ],
          "scattergl": [
           {
            "marker": {
             "colorbar": {
              "outlinewidth": 0,
              "ticks": ""
             }
            },
            "type": "scattergl"
           }
          ],
          "scattermapbox": [
           {
            "marker": {
             "colorbar": {
              "outlinewidth": 0,
              "ticks": ""
             }
            },
            "type": "scattermapbox"
           }
          ],
          "scatterpolar": [
           {
            "marker": {
             "colorbar": {
              "outlinewidth": 0,
              "ticks": ""
             }
            },
            "type": "scatterpolar"
           }
          ],
          "scatterpolargl": [
           {
            "marker": {
             "colorbar": {
              "outlinewidth": 0,
              "ticks": ""
             }
            },
            "type": "scatterpolargl"
           }
          ],
          "scatterternary": [
           {
            "marker": {
             "colorbar": {
              "outlinewidth": 0,
              "ticks": ""
             }
            },
            "type": "scatterternary"
           }
          ],
          "surface": [
           {
            "colorbar": {
             "outlinewidth": 0,
             "ticks": ""
            },
            "colorscale": [
             [
              0,
              "#0d0887"
             ],
             [
              0.1111111111111111,
              "#46039f"
             ],
             [
              0.2222222222222222,
              "#7201a8"
             ],
             [
              0.3333333333333333,
              "#9c179e"
             ],
             [
              0.4444444444444444,
              "#bd3786"
             ],
             [
              0.5555555555555556,
              "#d8576b"
             ],
             [
              0.6666666666666666,
              "#ed7953"
             ],
             [
              0.7777777777777778,
              "#fb9f3a"
             ],
             [
              0.8888888888888888,
              "#fdca26"
             ],
             [
              1,
              "#f0f921"
             ]
            ],
            "type": "surface"
           }
          ],
          "table": [
           {
            "cells": {
             "fill": {
              "color": "#EBF0F8"
             },
             "line": {
              "color": "white"
             }
            },
            "header": {
             "fill": {
              "color": "#C8D4E3"
             },
             "line": {
              "color": "white"
             }
            },
            "type": "table"
           }
          ]
         },
         "layout": {
          "annotationdefaults": {
           "arrowcolor": "#2a3f5f",
           "arrowhead": 0,
           "arrowwidth": 1
          },
          "autotypenumbers": "strict",
          "coloraxis": {
           "colorbar": {
            "outlinewidth": 0,
            "ticks": ""
           }
          },
          "colorscale": {
           "diverging": [
            [
             0,
             "#8e0152"
            ],
            [
             0.1,
             "#c51b7d"
            ],
            [
             0.2,
             "#de77ae"
            ],
            [
             0.3,
             "#f1b6da"
            ],
            [
             0.4,
             "#fde0ef"
            ],
            [
             0.5,
             "#f7f7f7"
            ],
            [
             0.6,
             "#e6f5d0"
            ],
            [
             0.7,
             "#b8e186"
            ],
            [
             0.8,
             "#7fbc41"
            ],
            [
             0.9,
             "#4d9221"
            ],
            [
             1,
             "#276419"
            ]
           ],
           "sequential": [
            [
             0,
             "#0d0887"
            ],
            [
             0.1111111111111111,
             "#46039f"
            ],
            [
             0.2222222222222222,
             "#7201a8"
            ],
            [
             0.3333333333333333,
             "#9c179e"
            ],
            [
             0.4444444444444444,
             "#bd3786"
            ],
            [
             0.5555555555555556,
             "#d8576b"
            ],
            [
             0.6666666666666666,
             "#ed7953"
            ],
            [
             0.7777777777777778,
             "#fb9f3a"
            ],
            [
             0.8888888888888888,
             "#fdca26"
            ],
            [
             1,
             "#f0f921"
            ]
           ],
           "sequentialminus": [
            [
             0,
             "#0d0887"
            ],
            [
             0.1111111111111111,
             "#46039f"
            ],
            [
             0.2222222222222222,
             "#7201a8"
            ],
            [
             0.3333333333333333,
             "#9c179e"
            ],
            [
             0.4444444444444444,
             "#bd3786"
            ],
            [
             0.5555555555555556,
             "#d8576b"
            ],
            [
             0.6666666666666666,
             "#ed7953"
            ],
            [
             0.7777777777777778,
             "#fb9f3a"
            ],
            [
             0.8888888888888888,
             "#fdca26"
            ],
            [
             1,
             "#f0f921"
            ]
           ]
          },
          "colorway": [
           "#636efa",
           "#EF553B",
           "#00cc96",
           "#ab63fa",
           "#FFA15A",
           "#19d3f3",
           "#FF6692",
           "#B6E880",
           "#FF97FF",
           "#FECB52"
          ],
          "font": {
           "color": "#2a3f5f"
          },
          "geo": {
           "bgcolor": "white",
           "lakecolor": "white",
           "landcolor": "#E5ECF6",
           "showlakes": true,
           "showland": true,
           "subunitcolor": "white"
          },
          "hoverlabel": {
           "align": "left"
          },
          "hovermode": "closest",
          "mapbox": {
           "style": "light"
          },
          "paper_bgcolor": "white",
          "plot_bgcolor": "#E5ECF6",
          "polar": {
           "angularaxis": {
            "gridcolor": "white",
            "linecolor": "white",
            "ticks": ""
           },
           "bgcolor": "#E5ECF6",
           "radialaxis": {
            "gridcolor": "white",
            "linecolor": "white",
            "ticks": ""
           }
          },
          "scene": {
           "xaxis": {
            "backgroundcolor": "#E5ECF6",
            "gridcolor": "white",
            "gridwidth": 2,
            "linecolor": "white",
            "showbackground": true,
            "ticks": "",
            "zerolinecolor": "white"
           },
           "yaxis": {
            "backgroundcolor": "#E5ECF6",
            "gridcolor": "white",
            "gridwidth": 2,
            "linecolor": "white",
            "showbackground": true,
            "ticks": "",
            "zerolinecolor": "white"
           },
           "zaxis": {
            "backgroundcolor": "#E5ECF6",
            "gridcolor": "white",
            "gridwidth": 2,
            "linecolor": "white",
            "showbackground": true,
            "ticks": "",
            "zerolinecolor": "white"
           }
          },
          "shapedefaults": {
           "line": {
            "color": "#2a3f5f"
           }
          },
          "ternary": {
           "aaxis": {
            "gridcolor": "white",
            "linecolor": "white",
            "ticks": ""
           },
           "baxis": {
            "gridcolor": "white",
            "linecolor": "white",
            "ticks": ""
           },
           "bgcolor": "#E5ECF6",
           "caxis": {
            "gridcolor": "white",
            "linecolor": "white",
            "ticks": ""
           }
          },
          "title": {
           "x": 0.05
          },
          "xaxis": {
           "automargin": true,
           "gridcolor": "white",
           "linecolor": "white",
           "ticks": "",
           "title": {
            "standoff": 15
           },
           "zerolinecolor": "white",
           "zerolinewidth": 2
          },
          "yaxis": {
           "automargin": true,
           "gridcolor": "white",
           "linecolor": "white",
           "ticks": "",
           "title": {
            "standoff": 15
           },
           "zerolinecolor": "white",
           "zerolinewidth": 2
          }
         }
        },
        "title": {
         "font": {
          "color": "#4D5663"
         }
        },
        "xaxis": {
         "gridcolor": "#E1E5ED",
         "showgrid": true,
         "tickfont": {
          "color": "#4D5663"
         },
         "title": {
          "font": {
           "color": "#4D5663"
          },
          "text": ""
         },
         "zerolinecolor": "#E1E5ED"
        },
        "yaxis": {
         "gridcolor": "#E1E5ED",
         "showgrid": true,
         "tickfont": {
          "color": "#4D5663"
         },
         "title": {
          "font": {
           "color": "#4D5663"
          },
          "text": ""
         },
         "zerolinecolor": "#E1E5ED"
        }
       }
      },
      "text/html": [
       "<div>                            <div id=\"7349312d-fc7f-42a6-bff9-e7c618cdee6f\" class=\"plotly-graph-div\" style=\"height:525px; width:100%;\"></div>            <script type=\"text/javascript\">                require([\"plotly\"], function(Plotly) {                    window.PLOTLYENV=window.PLOTLYENV || {};\n",
       "                    window.PLOTLYENV.BASE_URL='https://plot.ly';                                    if (document.getElementById(\"7349312d-fc7f-42a6-bff9-e7c618cdee6f\")) {                    Plotly.newPlot(                        \"7349312d-fc7f-42a6-bff9-e7c618cdee6f\",                        [{\"histfunc\":\"count\",\"histnorm\":\"\",\"marker\":{\"color\":\"rgba(255, 153, 51, 1.0)\",\"line\":{\"color\":\"#4D5663\",\"width\":1.3}},\"name\":\"A\",\"nbinsx\":25,\"opacity\":0.8,\"orientation\":\"v\",\"x\":[-0.32437935932286105,0.6507786303830336,-0.3895435206998073,0.09605366978079674,0.8197362293541232,-2.1736614086387034,0.5447989087977978,-0.48026307852395245,-0.9312791112381261,1.0234457605227858,2.602895318314027,0.22413905009816462,-0.821227335088624,-0.3856451712519905,0.8111171832248476,0.020787549685838753,1.0456525715167484,-0.46999110891348045,-1.8031559479012809,1.6790145550113407,-0.10326521597651746,-0.0699982364634295,0.0682181566995542,1.7559799602251849,-0.8835006562676381,0.08438188434314217,-0.3118089076470192,-0.14808980061376903,0.043576355483198256,0.3420442997233026,0.11894325264568689,-0.2577134208535056,0.6978036228013325,0.6113101405984447,-0.8642860355006269,1.0386104714627757,-0.5454469660239857,0.37359152088305875,-0.207414871750417,-0.2766082626107455,-0.09232179563923242,-0.22322258357986602,-0.2750041129199989,-0.6462565804188576,-0.7564544188020607,-0.3935935702016708,-0.6201830686920962,0.5032563482950011,-0.3400791520044989,-0.7217213231087968,0.03735172569908848,-1.3387465776407153,1.26320480969486,1.0391940167060385,0.07527735447324392,-0.04637228755826521,0.2407108736349752,0.6718242356571152,-0.5874185371180319,-0.05166639315432059,0.28546671957252895,-0.8393723817660538,3.6920994601597235,0.7140374705521528,-2.0311390810199197,-0.7656104217463565,-0.5706747095329012,1.44720934904325,-0.04684225993129464,1.7666836707342357,-0.25712128759980896,-0.7486717414586884,-0.14404899072278207,-2.847694864973696,0.5055476900344904,-0.9777980182604501,-0.3404777125900365,0.49896061289322263,-1.2666980908052186,-0.14298323017857129,-0.33134176695795176,-0.32793980022794733,-1.3223083663276318,-0.7638233684150882,-2.193080206212569,0.9998229351057568,0.636695813978981,-0.20155103698415303,1.4901288953563878,-1.5565718214852045,-0.7254474963551272,0.1256470565777697,1.445946008831829,-0.60092975865266,0.9270945867676877,1.2287517941705062,0.7216832535913091,-1.939902333371826,-1.3338304167761876,0.6727881223318196],\"type\":\"histogram\"}],                        {\"barmode\":\"overlay\",\"legend\":{\"bgcolor\":\"#F5F6F9\",\"font\":{\"color\":\"#4D5663\"}},\"paper_bgcolor\":\"#F5F6F9\",\"plot_bgcolor\":\"#F5F6F9\",\"template\":{\"data\":{\"barpolar\":[{\"marker\":{\"line\":{\"color\":\"#E5ECF6\",\"width\":0.5},\"pattern\":{\"fillmode\":\"overlay\",\"size\":10,\"solidity\":0.2}},\"type\":\"barpolar\"}],\"bar\":[{\"error_x\":{\"color\":\"#2a3f5f\"},\"error_y\":{\"color\":\"#2a3f5f\"},\"marker\":{\"line\":{\"color\":\"#E5ECF6\",\"width\":0.5},\"pattern\":{\"fillmode\":\"overlay\",\"size\":10,\"solidity\":0.2}},\"type\":\"bar\"}],\"carpet\":[{\"aaxis\":{\"endlinecolor\":\"#2a3f5f\",\"gridcolor\":\"white\",\"linecolor\":\"white\",\"minorgridcolor\":\"white\",\"startlinecolor\":\"#2a3f5f\"},\"baxis\":{\"endlinecolor\":\"#2a3f5f\",\"gridcolor\":\"white\",\"linecolor\":\"white\",\"minorgridcolor\":\"white\",\"startlinecolor\":\"#2a3f5f\"},\"type\":\"carpet\"}],\"choropleth\":[{\"colorbar\":{\"outlinewidth\":0,\"ticks\":\"\"},\"type\":\"choropleth\"}],\"contourcarpet\":[{\"colorbar\":{\"outlinewidth\":0,\"ticks\":\"\"},\"type\":\"contourcarpet\"}],\"contour\":[{\"colorbar\":{\"outlinewidth\":0,\"ticks\":\"\"},\"colorscale\":[[0.0,\"#0d0887\"],[0.1111111111111111,\"#46039f\"],[0.2222222222222222,\"#7201a8\"],[0.3333333333333333,\"#9c179e\"],[0.4444444444444444,\"#bd3786\"],[0.5555555555555556,\"#d8576b\"],[0.6666666666666666,\"#ed7953\"],[0.7777777777777778,\"#fb9f3a\"],[0.8888888888888888,\"#fdca26\"],[1.0,\"#f0f921\"]],\"type\":\"contour\"}],\"heatmapgl\":[{\"colorbar\":{\"outlinewidth\":0,\"ticks\":\"\"},\"colorscale\":[[0.0,\"#0d0887\"],[0.1111111111111111,\"#46039f\"],[0.2222222222222222,\"#7201a8\"],[0.3333333333333333,\"#9c179e\"],[0.4444444444444444,\"#bd3786\"],[0.5555555555555556,\"#d8576b\"],[0.6666666666666666,\"#ed7953\"],[0.7777777777777778,\"#fb9f3a\"],[0.8888888888888888,\"#fdca26\"],[1.0,\"#f0f921\"]],\"type\":\"heatmapgl\"}],\"heatmap\":[{\"colorbar\":{\"outlinewidth\":0,\"ticks\":\"\"},\"colorscale\":[[0.0,\"#0d0887\"],[0.1111111111111111,\"#46039f\"],[0.2222222222222222,\"#7201a8\"],[0.3333333333333333,\"#9c179e\"],[0.4444444444444444,\"#bd3786\"],[0.5555555555555556,\"#d8576b\"],[0.6666666666666666,\"#ed7953\"],[0.7777777777777778,\"#fb9f3a\"],[0.8888888888888888,\"#fdca26\"],[1.0,\"#f0f921\"]],\"type\":\"heatmap\"}],\"histogram2dcontour\":[{\"colorbar\":{\"outlinewidth\":0,\"ticks\":\"\"},\"colorscale\":[[0.0,\"#0d0887\"],[0.1111111111111111,\"#46039f\"],[0.2222222222222222,\"#7201a8\"],[0.3333333333333333,\"#9c179e\"],[0.4444444444444444,\"#bd3786\"],[0.5555555555555556,\"#d8576b\"],[0.6666666666666666,\"#ed7953\"],[0.7777777777777778,\"#fb9f3a\"],[0.8888888888888888,\"#fdca26\"],[1.0,\"#f0f921\"]],\"type\":\"histogram2dcontour\"}],\"histogram2d\":[{\"colorbar\":{\"outlinewidth\":0,\"ticks\":\"\"},\"colorscale\":[[0.0,\"#0d0887\"],[0.1111111111111111,\"#46039f\"],[0.2222222222222222,\"#7201a8\"],[0.3333333333333333,\"#9c179e\"],[0.4444444444444444,\"#bd3786\"],[0.5555555555555556,\"#d8576b\"],[0.6666666666666666,\"#ed7953\"],[0.7777777777777778,\"#fb9f3a\"],[0.8888888888888888,\"#fdca26\"],[1.0,\"#f0f921\"]],\"type\":\"histogram2d\"}],\"histogram\":[{\"marker\":{\"pattern\":{\"fillmode\":\"overlay\",\"size\":10,\"solidity\":0.2}},\"type\":\"histogram\"}],\"mesh3d\":[{\"colorbar\":{\"outlinewidth\":0,\"ticks\":\"\"},\"type\":\"mesh3d\"}],\"parcoords\":[{\"line\":{\"colorbar\":{\"outlinewidth\":0,\"ticks\":\"\"}},\"type\":\"parcoords\"}],\"pie\":[{\"automargin\":true,\"type\":\"pie\"}],\"scatter3d\":[{\"line\":{\"colorbar\":{\"outlinewidth\":0,\"ticks\":\"\"}},\"marker\":{\"colorbar\":{\"outlinewidth\":0,\"ticks\":\"\"}},\"type\":\"scatter3d\"}],\"scattercarpet\":[{\"marker\":{\"colorbar\":{\"outlinewidth\":0,\"ticks\":\"\"}},\"type\":\"scattercarpet\"}],\"scattergeo\":[{\"marker\":{\"colorbar\":{\"outlinewidth\":0,\"ticks\":\"\"}},\"type\":\"scattergeo\"}],\"scattergl\":[{\"marker\":{\"colorbar\":{\"outlinewidth\":0,\"ticks\":\"\"}},\"type\":\"scattergl\"}],\"scattermapbox\":[{\"marker\":{\"colorbar\":{\"outlinewidth\":0,\"ticks\":\"\"}},\"type\":\"scattermapbox\"}],\"scatterpolargl\":[{\"marker\":{\"colorbar\":{\"outlinewidth\":0,\"ticks\":\"\"}},\"type\":\"scatterpolargl\"}],\"scatterpolar\":[{\"marker\":{\"colorbar\":{\"outlinewidth\":0,\"ticks\":\"\"}},\"type\":\"scatterpolar\"}],\"scatter\":[{\"fillpattern\":{\"fillmode\":\"overlay\",\"size\":10,\"solidity\":0.2},\"type\":\"scatter\"}],\"scatterternary\":[{\"marker\":{\"colorbar\":{\"outlinewidth\":0,\"ticks\":\"\"}},\"type\":\"scatterternary\"}],\"surface\":[{\"colorbar\":{\"outlinewidth\":0,\"ticks\":\"\"},\"colorscale\":[[0.0,\"#0d0887\"],[0.1111111111111111,\"#46039f\"],[0.2222222222222222,\"#7201a8\"],[0.3333333333333333,\"#9c179e\"],[0.4444444444444444,\"#bd3786\"],[0.5555555555555556,\"#d8576b\"],[0.6666666666666666,\"#ed7953\"],[0.7777777777777778,\"#fb9f3a\"],[0.8888888888888888,\"#fdca26\"],[1.0,\"#f0f921\"]],\"type\":\"surface\"}],\"table\":[{\"cells\":{\"fill\":{\"color\":\"#EBF0F8\"},\"line\":{\"color\":\"white\"}},\"header\":{\"fill\":{\"color\":\"#C8D4E3\"},\"line\":{\"color\":\"white\"}},\"type\":\"table\"}]},\"layout\":{\"annotationdefaults\":{\"arrowcolor\":\"#2a3f5f\",\"arrowhead\":0,\"arrowwidth\":1},\"autotypenumbers\":\"strict\",\"coloraxis\":{\"colorbar\":{\"outlinewidth\":0,\"ticks\":\"\"}},\"colorscale\":{\"diverging\":[[0,\"#8e0152\"],[0.1,\"#c51b7d\"],[0.2,\"#de77ae\"],[0.3,\"#f1b6da\"],[0.4,\"#fde0ef\"],[0.5,\"#f7f7f7\"],[0.6,\"#e6f5d0\"],[0.7,\"#b8e186\"],[0.8,\"#7fbc41\"],[0.9,\"#4d9221\"],[1,\"#276419\"]],\"sequential\":[[0.0,\"#0d0887\"],[0.1111111111111111,\"#46039f\"],[0.2222222222222222,\"#7201a8\"],[0.3333333333333333,\"#9c179e\"],[0.4444444444444444,\"#bd3786\"],[0.5555555555555556,\"#d8576b\"],[0.6666666666666666,\"#ed7953\"],[0.7777777777777778,\"#fb9f3a\"],[0.8888888888888888,\"#fdca26\"],[1.0,\"#f0f921\"]],\"sequentialminus\":[[0.0,\"#0d0887\"],[0.1111111111111111,\"#46039f\"],[0.2222222222222222,\"#7201a8\"],[0.3333333333333333,\"#9c179e\"],[0.4444444444444444,\"#bd3786\"],[0.5555555555555556,\"#d8576b\"],[0.6666666666666666,\"#ed7953\"],[0.7777777777777778,\"#fb9f3a\"],[0.8888888888888888,\"#fdca26\"],[1.0,\"#f0f921\"]]},\"colorway\":[\"#636efa\",\"#EF553B\",\"#00cc96\",\"#ab63fa\",\"#FFA15A\",\"#19d3f3\",\"#FF6692\",\"#B6E880\",\"#FF97FF\",\"#FECB52\"],\"font\":{\"color\":\"#2a3f5f\"},\"geo\":{\"bgcolor\":\"white\",\"lakecolor\":\"white\",\"landcolor\":\"#E5ECF6\",\"showlakes\":true,\"showland\":true,\"subunitcolor\":\"white\"},\"hoverlabel\":{\"align\":\"left\"},\"hovermode\":\"closest\",\"mapbox\":{\"style\":\"light\"},\"paper_bgcolor\":\"white\",\"plot_bgcolor\":\"#E5ECF6\",\"polar\":{\"angularaxis\":{\"gridcolor\":\"white\",\"linecolor\":\"white\",\"ticks\":\"\"},\"bgcolor\":\"#E5ECF6\",\"radialaxis\":{\"gridcolor\":\"white\",\"linecolor\":\"white\",\"ticks\":\"\"}},\"scene\":{\"xaxis\":{\"backgroundcolor\":\"#E5ECF6\",\"gridcolor\":\"white\",\"gridwidth\":2,\"linecolor\":\"white\",\"showbackground\":true,\"ticks\":\"\",\"zerolinecolor\":\"white\"},\"yaxis\":{\"backgroundcolor\":\"#E5ECF6\",\"gridcolor\":\"white\",\"gridwidth\":2,\"linecolor\":\"white\",\"showbackground\":true,\"ticks\":\"\",\"zerolinecolor\":\"white\"},\"zaxis\":{\"backgroundcolor\":\"#E5ECF6\",\"gridcolor\":\"white\",\"gridwidth\":2,\"linecolor\":\"white\",\"showbackground\":true,\"ticks\":\"\",\"zerolinecolor\":\"white\"}},\"shapedefaults\":{\"line\":{\"color\":\"#2a3f5f\"}},\"ternary\":{\"aaxis\":{\"gridcolor\":\"white\",\"linecolor\":\"white\",\"ticks\":\"\"},\"baxis\":{\"gridcolor\":\"white\",\"linecolor\":\"white\",\"ticks\":\"\"},\"bgcolor\":\"#E5ECF6\",\"caxis\":{\"gridcolor\":\"white\",\"linecolor\":\"white\",\"ticks\":\"\"}},\"title\":{\"x\":0.05},\"xaxis\":{\"automargin\":true,\"gridcolor\":\"white\",\"linecolor\":\"white\",\"ticks\":\"\",\"title\":{\"standoff\":15},\"zerolinecolor\":\"white\",\"zerolinewidth\":2},\"yaxis\":{\"automargin\":true,\"gridcolor\":\"white\",\"linecolor\":\"white\",\"ticks\":\"\",\"title\":{\"standoff\":15},\"zerolinecolor\":\"white\",\"zerolinewidth\":2}}},\"title\":{\"font\":{\"color\":\"#4D5663\"}},\"xaxis\":{\"gridcolor\":\"#E1E5ED\",\"showgrid\":true,\"tickfont\":{\"color\":\"#4D5663\"},\"title\":{\"font\":{\"color\":\"#4D5663\"},\"text\":\"\"},\"zerolinecolor\":\"#E1E5ED\"},\"yaxis\":{\"gridcolor\":\"#E1E5ED\",\"showgrid\":true,\"tickfont\":{\"color\":\"#4D5663\"},\"title\":{\"font\":{\"color\":\"#4D5663\"},\"text\":\"\"},\"zerolinecolor\":\"#E1E5ED\"}},                        {\"showLink\": true, \"linkText\": \"Export to plot.ly\", \"plotlyServerURL\": \"https://plot.ly\", \"responsive\": true}                    ).then(function(){\n",
       "                            \n",
       "var gd = document.getElementById('7349312d-fc7f-42a6-bff9-e7c618cdee6f');\n",
       "var x = new MutationObserver(function (mutations, observer) {{\n",
       "        var display = window.getComputedStyle(gd).display;\n",
       "        if (!display || display === 'none') {{\n",
       "            console.log([gd, 'removed!']);\n",
       "            Plotly.purge(gd);\n",
       "            observer.disconnect();\n",
       "        }}\n",
       "}});\n",
       "\n",
       "// Listen for the removal of the full notebook cells\n",
       "var notebookContainer = gd.closest('#notebook-container');\n",
       "if (notebookContainer) {{\n",
       "    x.observe(notebookContainer, {childList: true});\n",
       "}}\n",
       "\n",
       "// Listen for the clearing of the current output cell\n",
       "var outputEl = gd.closest('.output');\n",
       "if (outputEl) {{\n",
       "    x.observe(outputEl, {childList: true});\n",
       "}}\n",
       "\n",
       "                        })                };                });            </script>        </div>"
      ]
     },
     "metadata": {},
     "output_type": "display_data"
    }
   ],
   "source": [
    "df['A'].iplot(kind='hist',bins=25)"
   ]
  },
  {
   "cell_type": "code",
   "execution_count": 17,
   "metadata": {},
   "outputs": [
    {
     "data": {
      "application/vnd.plotly.v1+json": {
       "config": {
        "linkText": "Export to plot.ly",
        "plotlyServerURL": "https://plot.ly",
        "showLink": true
       },
       "data": [
        {
         "marker": {
          "color": [
           "rgb(255, 153, 51)",
           "rgb(55, 128, 191)",
           "rgb(50, 171, 96)",
           "rgb(128, 0, 128)",
           "rgb(219, 64, 82)",
           "rgb(0, 128, 128)",
           "rgb(255, 255, 51)",
           "rgb(128, 128, 0)",
           "rgb(251, 128, 114)",
           "rgb(128, 177, 211)"
          ],
          "line": {
           "width": 1.3
          },
          "size": [
           76,
           41,
           21,
           79,
           28,
           12,
           54,
           43,
           38,
           42,
           87,
           35,
           71,
           29,
           29,
           44,
           61,
           69,
           54,
           79,
           64,
           35,
           35,
           106,
           36,
           60,
           42,
           96,
           14,
           42,
           73,
           77,
           39,
           103,
           59,
           16,
           38,
           71,
           80,
           73,
           65,
           55,
           39,
           75,
           30,
           112,
           57,
           90,
           79,
           57,
           47,
           107,
           79,
           54,
           39,
           55,
           46,
           51,
           59,
           47,
           65,
           42,
           66,
           70,
           34,
           28,
           55,
           36,
           74,
           35,
           83,
           47,
           84,
           59,
           53,
           54,
           73,
           53,
           80,
           39,
           68,
           16,
           23,
           86,
           73,
           71,
           75,
           67,
           48,
           50,
           66,
           76,
           44,
           68,
           59,
           49,
           102,
           65,
           68,
           74
          ],
          "symbol": "circle"
         },
         "mode": "markers",
         "text": "",
         "type": "scatter",
         "x": [
          -0.32437935932286105,
          0.6507786303830336,
          -0.3895435206998073,
          0.09605366978079674,
          0.8197362293541232,
          -2.1736614086387034,
          0.5447989087977978,
          -0.48026307852395245,
          -0.9312791112381261,
          1.0234457605227858,
          2.602895318314027,
          0.22413905009816462,
          -0.821227335088624,
          -0.3856451712519905,
          0.8111171832248476,
          0.020787549685838753,
          1.0456525715167484,
          -0.46999110891348045,
          -1.8031559479012809,
          1.6790145550113407,
          -0.10326521597651746,
          -0.0699982364634295,
          0.0682181566995542,
          1.7559799602251849,
          -0.8835006562676381,
          0.08438188434314217,
          -0.3118089076470192,
          -0.14808980061376903,
          0.043576355483198256,
          0.3420442997233026,
          0.11894325264568689,
          -0.2577134208535056,
          0.6978036228013325,
          0.6113101405984447,
          -0.8642860355006269,
          1.0386104714627757,
          -0.5454469660239857,
          0.37359152088305875,
          -0.207414871750417,
          -0.2766082626107455,
          -0.09232179563923242,
          -0.22322258357986602,
          -0.2750041129199989,
          -0.6462565804188576,
          -0.7564544188020607,
          -0.3935935702016708,
          -0.6201830686920962,
          0.5032563482950011,
          -0.3400791520044989,
          -0.7217213231087968,
          0.03735172569908848,
          -1.3387465776407153,
          1.26320480969486,
          1.0391940167060385,
          0.07527735447324392,
          -0.04637228755826521,
          0.2407108736349752,
          0.6718242356571152,
          -0.5874185371180319,
          -0.05166639315432059,
          0.28546671957252895,
          -0.8393723817660538,
          3.6920994601597235,
          0.7140374705521528,
          -2.0311390810199197,
          -0.7656104217463565,
          -0.5706747095329012,
          1.44720934904325,
          -0.04684225993129464,
          1.7666836707342357,
          -0.25712128759980896,
          -0.7486717414586884,
          -0.14404899072278207,
          -2.847694864973696,
          0.5055476900344904,
          -0.9777980182604501,
          -0.3404777125900365,
          0.49896061289322263,
          -1.2666980908052186,
          -0.14298323017857129,
          -0.33134176695795176,
          -0.32793980022794733,
          -1.3223083663276318,
          -0.7638233684150882,
          -2.193080206212569,
          0.9998229351057568,
          0.636695813978981,
          -0.20155103698415303,
          1.4901288953563878,
          -1.5565718214852045,
          -0.7254474963551272,
          0.1256470565777697,
          1.445946008831829,
          -0.60092975865266,
          0.9270945867676877,
          1.2287517941705062,
          0.7216832535913091,
          -1.939902333371826,
          -1.3338304167761876,
          0.6727881223318196
         ],
         "y": [
          0.5840159608274463,
          -0.6776725469281716,
          -0.08250716750184768,
          -0.6997003696662847,
          -0.02046542339042747,
          1.2973044459174985,
          -0.15269446165195133,
          -1.4060233979928802,
          -0.5155337860657689,
          -0.5736152041925673,
          1.357173046148224,
          0.8500626656020044,
          0.10844955804384164,
          -1.113034086831303,
          1.2664476181631814,
          0.5211478579740425,
          -0.07179164173708667,
          0.1862031755158228,
          -0.7119068102838787,
          0.9585466814679567,
          -0.8427877095541829,
          0.2861755512620451,
          0.5093489326745615,
          0.3787469242895969,
          -0.9445536130992522,
          0.35678791129132764,
          0.3853970213226538,
          0.7413345138100097,
          1.6806051224796448,
          -1.083973295584339,
          0.5506930858378145,
          1.5639483064191257,
          0.8824343297222614,
          -0.10628109258192349,
          -1.4162687762492605,
          0.9289603451115521,
          0.23602352635471763,
          1.1471291497038176,
          0.17164218020853547,
          -0.16497562804589852,
          0.7178070496418821,
          1.045121465527172,
          1.36845378138647,
          -0.5256492280256156,
          -0.37444234869325654,
          -1.2981424632591463,
          -0.9240607988811324,
          0.273143180228173,
          0.9988750799969999,
          -2.0064517053719846,
          0.11444308844932008,
          0.6848583984094578,
          -0.39553800528315075,
          -0.3144745974960851,
          -0.47359674536819757,
          -1.4573494915478733,
          0.174213316035283,
          2.2361965917768685,
          0.17517082060865113,
          2.332184289649614,
          1.7105058808082025,
          -1.706279525783847,
          0.5916358862419079,
          -0.46540652794985776,
          -1.7293639018946085,
          -1.2135524247347476,
          0.1790335731975688,
          -0.5699722220416938,
          -0.729331184902068,
          0.18117369443269593,
          -0.05635246315475032,
          0.39052174181601707,
          -0.6708788277038915,
          0.16103357730047088,
          1.573538234181239,
          -0.1953589263551798,
          0.080368461583438,
          0.2679163855152857,
          -0.15259967498329535,
          1.0616318376628848,
          -0.30502224143898055,
          1.2316319246538674,
          0.32709090752935904,
          -0.7106105752458274,
          0.001081946950240499,
          0.7494594826677379,
          -1.014585852439636,
          -1.128112386980834,
          0.14410131361648543,
          -1.496817504683681,
          -0.19954188369670103,
          1.4413043033258475,
          -0.6074730481305635,
          0.751125846459736,
          1.0867151412356497,
          0.02357154784848277,
          0.09231623762808776,
          -2.955157726525199,
          -0.47205442975871503,
          -1.3673663177768012
         ]
        }
       ],
       "layout": {
        "legend": {
         "bgcolor": "#F5F6F9",
         "font": {
          "color": "#4D5663"
         }
        },
        "paper_bgcolor": "#F5F6F9",
        "plot_bgcolor": "#F5F6F9",
        "template": {
         "data": {
          "bar": [
           {
            "error_x": {
             "color": "#2a3f5f"
            },
            "error_y": {
             "color": "#2a3f5f"
            },
            "marker": {
             "line": {
              "color": "#E5ECF6",
              "width": 0.5
             },
             "pattern": {
              "fillmode": "overlay",
              "size": 10,
              "solidity": 0.2
             }
            },
            "type": "bar"
           }
          ],
          "barpolar": [
           {
            "marker": {
             "line": {
              "color": "#E5ECF6",
              "width": 0.5
             },
             "pattern": {
              "fillmode": "overlay",
              "size": 10,
              "solidity": 0.2
             }
            },
            "type": "barpolar"
           }
          ],
          "carpet": [
           {
            "aaxis": {
             "endlinecolor": "#2a3f5f",
             "gridcolor": "white",
             "linecolor": "white",
             "minorgridcolor": "white",
             "startlinecolor": "#2a3f5f"
            },
            "baxis": {
             "endlinecolor": "#2a3f5f",
             "gridcolor": "white",
             "linecolor": "white",
             "minorgridcolor": "white",
             "startlinecolor": "#2a3f5f"
            },
            "type": "carpet"
           }
          ],
          "choropleth": [
           {
            "colorbar": {
             "outlinewidth": 0,
             "ticks": ""
            },
            "type": "choropleth"
           }
          ],
          "contour": [
           {
            "colorbar": {
             "outlinewidth": 0,
             "ticks": ""
            },
            "colorscale": [
             [
              0,
              "#0d0887"
             ],
             [
              0.1111111111111111,
              "#46039f"
             ],
             [
              0.2222222222222222,
              "#7201a8"
             ],
             [
              0.3333333333333333,
              "#9c179e"
             ],
             [
              0.4444444444444444,
              "#bd3786"
             ],
             [
              0.5555555555555556,
              "#d8576b"
             ],
             [
              0.6666666666666666,
              "#ed7953"
             ],
             [
              0.7777777777777778,
              "#fb9f3a"
             ],
             [
              0.8888888888888888,
              "#fdca26"
             ],
             [
              1,
              "#f0f921"
             ]
            ],
            "type": "contour"
           }
          ],
          "contourcarpet": [
           {
            "colorbar": {
             "outlinewidth": 0,
             "ticks": ""
            },
            "type": "contourcarpet"
           }
          ],
          "heatmap": [
           {
            "colorbar": {
             "outlinewidth": 0,
             "ticks": ""
            },
            "colorscale": [
             [
              0,
              "#0d0887"
             ],
             [
              0.1111111111111111,
              "#46039f"
             ],
             [
              0.2222222222222222,
              "#7201a8"
             ],
             [
              0.3333333333333333,
              "#9c179e"
             ],
             [
              0.4444444444444444,
              "#bd3786"
             ],
             [
              0.5555555555555556,
              "#d8576b"
             ],
             [
              0.6666666666666666,
              "#ed7953"
             ],
             [
              0.7777777777777778,
              "#fb9f3a"
             ],
             [
              0.8888888888888888,
              "#fdca26"
             ],
             [
              1,
              "#f0f921"
             ]
            ],
            "type": "heatmap"
           }
          ],
          "heatmapgl": [
           {
            "colorbar": {
             "outlinewidth": 0,
             "ticks": ""
            },
            "colorscale": [
             [
              0,
              "#0d0887"
             ],
             [
              0.1111111111111111,
              "#46039f"
             ],
             [
              0.2222222222222222,
              "#7201a8"
             ],
             [
              0.3333333333333333,
              "#9c179e"
             ],
             [
              0.4444444444444444,
              "#bd3786"
             ],
             [
              0.5555555555555556,
              "#d8576b"
             ],
             [
              0.6666666666666666,
              "#ed7953"
             ],
             [
              0.7777777777777778,
              "#fb9f3a"
             ],
             [
              0.8888888888888888,
              "#fdca26"
             ],
             [
              1,
              "#f0f921"
             ]
            ],
            "type": "heatmapgl"
           }
          ],
          "histogram": [
           {
            "marker": {
             "pattern": {
              "fillmode": "overlay",
              "size": 10,
              "solidity": 0.2
             }
            },
            "type": "histogram"
           }
          ],
          "histogram2d": [
           {
            "colorbar": {
             "outlinewidth": 0,
             "ticks": ""
            },
            "colorscale": [
             [
              0,
              "#0d0887"
             ],
             [
              0.1111111111111111,
              "#46039f"
             ],
             [
              0.2222222222222222,
              "#7201a8"
             ],
             [
              0.3333333333333333,
              "#9c179e"
             ],
             [
              0.4444444444444444,
              "#bd3786"
             ],
             [
              0.5555555555555556,
              "#d8576b"
             ],
             [
              0.6666666666666666,
              "#ed7953"
             ],
             [
              0.7777777777777778,
              "#fb9f3a"
             ],
             [
              0.8888888888888888,
              "#fdca26"
             ],
             [
              1,
              "#f0f921"
             ]
            ],
            "type": "histogram2d"
           }
          ],
          "histogram2dcontour": [
           {
            "colorbar": {
             "outlinewidth": 0,
             "ticks": ""
            },
            "colorscale": [
             [
              0,
              "#0d0887"
             ],
             [
              0.1111111111111111,
              "#46039f"
             ],
             [
              0.2222222222222222,
              "#7201a8"
             ],
             [
              0.3333333333333333,
              "#9c179e"
             ],
             [
              0.4444444444444444,
              "#bd3786"
             ],
             [
              0.5555555555555556,
              "#d8576b"
             ],
             [
              0.6666666666666666,
              "#ed7953"
             ],
             [
              0.7777777777777778,
              "#fb9f3a"
             ],
             [
              0.8888888888888888,
              "#fdca26"
             ],
             [
              1,
              "#f0f921"
             ]
            ],
            "type": "histogram2dcontour"
           }
          ],
          "mesh3d": [
           {
            "colorbar": {
             "outlinewidth": 0,
             "ticks": ""
            },
            "type": "mesh3d"
           }
          ],
          "parcoords": [
           {
            "line": {
             "colorbar": {
              "outlinewidth": 0,
              "ticks": ""
             }
            },
            "type": "parcoords"
           }
          ],
          "pie": [
           {
            "automargin": true,
            "type": "pie"
           }
          ],
          "scatter": [
           {
            "fillpattern": {
             "fillmode": "overlay",
             "size": 10,
             "solidity": 0.2
            },
            "type": "scatter"
           }
          ],
          "scatter3d": [
           {
            "line": {
             "colorbar": {
              "outlinewidth": 0,
              "ticks": ""
             }
            },
            "marker": {
             "colorbar": {
              "outlinewidth": 0,
              "ticks": ""
             }
            },
            "type": "scatter3d"
           }
          ],
          "scattercarpet": [
           {
            "marker": {
             "colorbar": {
              "outlinewidth": 0,
              "ticks": ""
             }
            },
            "type": "scattercarpet"
           }
          ],
          "scattergeo": [
           {
            "marker": {
             "colorbar": {
              "outlinewidth": 0,
              "ticks": ""
             }
            },
            "type": "scattergeo"
           }
          ],
          "scattergl": [
           {
            "marker": {
             "colorbar": {
              "outlinewidth": 0,
              "ticks": ""
             }
            },
            "type": "scattergl"
           }
          ],
          "scattermapbox": [
           {
            "marker": {
             "colorbar": {
              "outlinewidth": 0,
              "ticks": ""
             }
            },
            "type": "scattermapbox"
           }
          ],
          "scatterpolar": [
           {
            "marker": {
             "colorbar": {
              "outlinewidth": 0,
              "ticks": ""
             }
            },
            "type": "scatterpolar"
           }
          ],
          "scatterpolargl": [
           {
            "marker": {
             "colorbar": {
              "outlinewidth": 0,
              "ticks": ""
             }
            },
            "type": "scatterpolargl"
           }
          ],
          "scatterternary": [
           {
            "marker": {
             "colorbar": {
              "outlinewidth": 0,
              "ticks": ""
             }
            },
            "type": "scatterternary"
           }
          ],
          "surface": [
           {
            "colorbar": {
             "outlinewidth": 0,
             "ticks": ""
            },
            "colorscale": [
             [
              0,
              "#0d0887"
             ],
             [
              0.1111111111111111,
              "#46039f"
             ],
             [
              0.2222222222222222,
              "#7201a8"
             ],
             [
              0.3333333333333333,
              "#9c179e"
             ],
             [
              0.4444444444444444,
              "#bd3786"
             ],
             [
              0.5555555555555556,
              "#d8576b"
             ],
             [
              0.6666666666666666,
              "#ed7953"
             ],
             [
              0.7777777777777778,
              "#fb9f3a"
             ],
             [
              0.8888888888888888,
              "#fdca26"
             ],
             [
              1,
              "#f0f921"
             ]
            ],
            "type": "surface"
           }
          ],
          "table": [
           {
            "cells": {
             "fill": {
              "color": "#EBF0F8"
             },
             "line": {
              "color": "white"
             }
            },
            "header": {
             "fill": {
              "color": "#C8D4E3"
             },
             "line": {
              "color": "white"
             }
            },
            "type": "table"
           }
          ]
         },
         "layout": {
          "annotationdefaults": {
           "arrowcolor": "#2a3f5f",
           "arrowhead": 0,
           "arrowwidth": 1
          },
          "autotypenumbers": "strict",
          "coloraxis": {
           "colorbar": {
            "outlinewidth": 0,
            "ticks": ""
           }
          },
          "colorscale": {
           "diverging": [
            [
             0,
             "#8e0152"
            ],
            [
             0.1,
             "#c51b7d"
            ],
            [
             0.2,
             "#de77ae"
            ],
            [
             0.3,
             "#f1b6da"
            ],
            [
             0.4,
             "#fde0ef"
            ],
            [
             0.5,
             "#f7f7f7"
            ],
            [
             0.6,
             "#e6f5d0"
            ],
            [
             0.7,
             "#b8e186"
            ],
            [
             0.8,
             "#7fbc41"
            ],
            [
             0.9,
             "#4d9221"
            ],
            [
             1,
             "#276419"
            ]
           ],
           "sequential": [
            [
             0,
             "#0d0887"
            ],
            [
             0.1111111111111111,
             "#46039f"
            ],
            [
             0.2222222222222222,
             "#7201a8"
            ],
            [
             0.3333333333333333,
             "#9c179e"
            ],
            [
             0.4444444444444444,
             "#bd3786"
            ],
            [
             0.5555555555555556,
             "#d8576b"
            ],
            [
             0.6666666666666666,
             "#ed7953"
            ],
            [
             0.7777777777777778,
             "#fb9f3a"
            ],
            [
             0.8888888888888888,
             "#fdca26"
            ],
            [
             1,
             "#f0f921"
            ]
           ],
           "sequentialminus": [
            [
             0,
             "#0d0887"
            ],
            [
             0.1111111111111111,
             "#46039f"
            ],
            [
             0.2222222222222222,
             "#7201a8"
            ],
            [
             0.3333333333333333,
             "#9c179e"
            ],
            [
             0.4444444444444444,
             "#bd3786"
            ],
            [
             0.5555555555555556,
             "#d8576b"
            ],
            [
             0.6666666666666666,
             "#ed7953"
            ],
            [
             0.7777777777777778,
             "#fb9f3a"
            ],
            [
             0.8888888888888888,
             "#fdca26"
            ],
            [
             1,
             "#f0f921"
            ]
           ]
          },
          "colorway": [
           "#636efa",
           "#EF553B",
           "#00cc96",
           "#ab63fa",
           "#FFA15A",
           "#19d3f3",
           "#FF6692",
           "#B6E880",
           "#FF97FF",
           "#FECB52"
          ],
          "font": {
           "color": "#2a3f5f"
          },
          "geo": {
           "bgcolor": "white",
           "lakecolor": "white",
           "landcolor": "#E5ECF6",
           "showlakes": true,
           "showland": true,
           "subunitcolor": "white"
          },
          "hoverlabel": {
           "align": "left"
          },
          "hovermode": "closest",
          "mapbox": {
           "style": "light"
          },
          "paper_bgcolor": "white",
          "plot_bgcolor": "#E5ECF6",
          "polar": {
           "angularaxis": {
            "gridcolor": "white",
            "linecolor": "white",
            "ticks": ""
           },
           "bgcolor": "#E5ECF6",
           "radialaxis": {
            "gridcolor": "white",
            "linecolor": "white",
            "ticks": ""
           }
          },
          "scene": {
           "xaxis": {
            "backgroundcolor": "#E5ECF6",
            "gridcolor": "white",
            "gridwidth": 2,
            "linecolor": "white",
            "showbackground": true,
            "ticks": "",
            "zerolinecolor": "white"
           },
           "yaxis": {
            "backgroundcolor": "#E5ECF6",
            "gridcolor": "white",
            "gridwidth": 2,
            "linecolor": "white",
            "showbackground": true,
            "ticks": "",
            "zerolinecolor": "white"
           },
           "zaxis": {
            "backgroundcolor": "#E5ECF6",
            "gridcolor": "white",
            "gridwidth": 2,
            "linecolor": "white",
            "showbackground": true,
            "ticks": "",
            "zerolinecolor": "white"
           }
          },
          "shapedefaults": {
           "line": {
            "color": "#2a3f5f"
           }
          },
          "ternary": {
           "aaxis": {
            "gridcolor": "white",
            "linecolor": "white",
            "ticks": ""
           },
           "baxis": {
            "gridcolor": "white",
            "linecolor": "white",
            "ticks": ""
           },
           "bgcolor": "#E5ECF6",
           "caxis": {
            "gridcolor": "white",
            "linecolor": "white",
            "ticks": ""
           }
          },
          "title": {
           "x": 0.05
          },
          "xaxis": {
           "automargin": true,
           "gridcolor": "white",
           "linecolor": "white",
           "ticks": "",
           "title": {
            "standoff": 15
           },
           "zerolinecolor": "white",
           "zerolinewidth": 2
          },
          "yaxis": {
           "automargin": true,
           "gridcolor": "white",
           "linecolor": "white",
           "ticks": "",
           "title": {
            "standoff": 15
           },
           "zerolinecolor": "white",
           "zerolinewidth": 2
          }
         }
        },
        "title": {
         "font": {
          "color": "#4D5663"
         }
        },
        "xaxis": {
         "gridcolor": "#E1E5ED",
         "showgrid": true,
         "tickfont": {
          "color": "#4D5663"
         },
         "title": {
          "font": {
           "color": "#4D5663"
          },
          "text": ""
         },
         "zerolinecolor": "#E1E5ED"
        },
        "yaxis": {
         "gridcolor": "#E1E5ED",
         "showgrid": true,
         "tickfont": {
          "color": "#4D5663"
         },
         "title": {
          "font": {
           "color": "#4D5663"
          },
          "text": ""
         },
         "zerolinecolor": "#E1E5ED"
        }
       }
      },
      "text/html": [
       "<div>                            <div id=\"4b098d81-1e60-424c-9ed1-5722817e124c\" class=\"plotly-graph-div\" style=\"height:525px; width:100%;\"></div>            <script type=\"text/javascript\">                require([\"plotly\"], function(Plotly) {                    window.PLOTLYENV=window.PLOTLYENV || {};\n",
       "                    window.PLOTLYENV.BASE_URL='https://plot.ly';                                    if (document.getElementById(\"4b098d81-1e60-424c-9ed1-5722817e124c\")) {                    Plotly.newPlot(                        \"4b098d81-1e60-424c-9ed1-5722817e124c\",                        [{\"marker\":{\"color\":[\"rgb(255, 153, 51)\",\"rgb(55, 128, 191)\",\"rgb(50, 171, 96)\",\"rgb(128, 0, 128)\",\"rgb(219, 64, 82)\",\"rgb(0, 128, 128)\",\"rgb(255, 255, 51)\",\"rgb(128, 128, 0)\",\"rgb(251, 128, 114)\",\"rgb(128, 177, 211)\"],\"line\":{\"width\":1.3},\"size\":[76,41,21,79,28,12,54,43,38,42,87,35,71,29,29,44,61,69,54,79,64,35,35,106,36,60,42,96,14,42,73,77,39,103,59,16,38,71,80,73,65,55,39,75,30,112,57,90,79,57,47,107,79,54,39,55,46,51,59,47,65,42,66,70,34,28,55,36,74,35,83,47,84,59,53,54,73,53,80,39,68,16,23,86,73,71,75,67,48,50,66,76,44,68,59,49,102,65,68,74],\"symbol\":\"circle\"},\"mode\":\"markers\",\"text\":\"\",\"x\":[-0.32437935932286105,0.6507786303830336,-0.3895435206998073,0.09605366978079674,0.8197362293541232,-2.1736614086387034,0.5447989087977978,-0.48026307852395245,-0.9312791112381261,1.0234457605227858,2.602895318314027,0.22413905009816462,-0.821227335088624,-0.3856451712519905,0.8111171832248476,0.020787549685838753,1.0456525715167484,-0.46999110891348045,-1.8031559479012809,1.6790145550113407,-0.10326521597651746,-0.0699982364634295,0.0682181566995542,1.7559799602251849,-0.8835006562676381,0.08438188434314217,-0.3118089076470192,-0.14808980061376903,0.043576355483198256,0.3420442997233026,0.11894325264568689,-0.2577134208535056,0.6978036228013325,0.6113101405984447,-0.8642860355006269,1.0386104714627757,-0.5454469660239857,0.37359152088305875,-0.207414871750417,-0.2766082626107455,-0.09232179563923242,-0.22322258357986602,-0.2750041129199989,-0.6462565804188576,-0.7564544188020607,-0.3935935702016708,-0.6201830686920962,0.5032563482950011,-0.3400791520044989,-0.7217213231087968,0.03735172569908848,-1.3387465776407153,1.26320480969486,1.0391940167060385,0.07527735447324392,-0.04637228755826521,0.2407108736349752,0.6718242356571152,-0.5874185371180319,-0.05166639315432059,0.28546671957252895,-0.8393723817660538,3.6920994601597235,0.7140374705521528,-2.0311390810199197,-0.7656104217463565,-0.5706747095329012,1.44720934904325,-0.04684225993129464,1.7666836707342357,-0.25712128759980896,-0.7486717414586884,-0.14404899072278207,-2.847694864973696,0.5055476900344904,-0.9777980182604501,-0.3404777125900365,0.49896061289322263,-1.2666980908052186,-0.14298323017857129,-0.33134176695795176,-0.32793980022794733,-1.3223083663276318,-0.7638233684150882,-2.193080206212569,0.9998229351057568,0.636695813978981,-0.20155103698415303,1.4901288953563878,-1.5565718214852045,-0.7254474963551272,0.1256470565777697,1.445946008831829,-0.60092975865266,0.9270945867676877,1.2287517941705062,0.7216832535913091,-1.939902333371826,-1.3338304167761876,0.6727881223318196],\"y\":[0.5840159608274463,-0.6776725469281716,-0.08250716750184768,-0.6997003696662847,-0.02046542339042747,1.2973044459174985,-0.15269446165195133,-1.4060233979928802,-0.5155337860657689,-0.5736152041925673,1.357173046148224,0.8500626656020044,0.10844955804384164,-1.113034086831303,1.2664476181631814,0.5211478579740425,-0.07179164173708667,0.1862031755158228,-0.7119068102838787,0.9585466814679567,-0.8427877095541829,0.2861755512620451,0.5093489326745615,0.3787469242895969,-0.9445536130992522,0.35678791129132764,0.3853970213226538,0.7413345138100097,1.6806051224796448,-1.083973295584339,0.5506930858378145,1.5639483064191257,0.8824343297222614,-0.10628109258192349,-1.4162687762492605,0.9289603451115521,0.23602352635471763,1.1471291497038176,0.17164218020853547,-0.16497562804589852,0.7178070496418821,1.045121465527172,1.36845378138647,-0.5256492280256156,-0.37444234869325654,-1.2981424632591463,-0.9240607988811324,0.273143180228173,0.9988750799969999,-2.0064517053719846,0.11444308844932008,0.6848583984094578,-0.39553800528315075,-0.3144745974960851,-0.47359674536819757,-1.4573494915478733,0.174213316035283,2.2361965917768685,0.17517082060865113,2.332184289649614,1.7105058808082025,-1.706279525783847,0.5916358862419079,-0.46540652794985776,-1.7293639018946085,-1.2135524247347476,0.1790335731975688,-0.5699722220416938,-0.729331184902068,0.18117369443269593,-0.05635246315475032,0.39052174181601707,-0.6708788277038915,0.16103357730047088,1.573538234181239,-0.1953589263551798,0.080368461583438,0.2679163855152857,-0.15259967498329535,1.0616318376628848,-0.30502224143898055,1.2316319246538674,0.32709090752935904,-0.7106105752458274,0.001081946950240499,0.7494594826677379,-1.014585852439636,-1.128112386980834,0.14410131361648543,-1.496817504683681,-0.19954188369670103,1.4413043033258475,-0.6074730481305635,0.751125846459736,1.0867151412356497,0.02357154784848277,0.09231623762808776,-2.955157726525199,-0.47205442975871503,-1.3673663177768012],\"type\":\"scatter\"}],                        {\"legend\":{\"bgcolor\":\"#F5F6F9\",\"font\":{\"color\":\"#4D5663\"}},\"paper_bgcolor\":\"#F5F6F9\",\"plot_bgcolor\":\"#F5F6F9\",\"template\":{\"data\":{\"barpolar\":[{\"marker\":{\"line\":{\"color\":\"#E5ECF6\",\"width\":0.5},\"pattern\":{\"fillmode\":\"overlay\",\"size\":10,\"solidity\":0.2}},\"type\":\"barpolar\"}],\"bar\":[{\"error_x\":{\"color\":\"#2a3f5f\"},\"error_y\":{\"color\":\"#2a3f5f\"},\"marker\":{\"line\":{\"color\":\"#E5ECF6\",\"width\":0.5},\"pattern\":{\"fillmode\":\"overlay\",\"size\":10,\"solidity\":0.2}},\"type\":\"bar\"}],\"carpet\":[{\"aaxis\":{\"endlinecolor\":\"#2a3f5f\",\"gridcolor\":\"white\",\"linecolor\":\"white\",\"minorgridcolor\":\"white\",\"startlinecolor\":\"#2a3f5f\"},\"baxis\":{\"endlinecolor\":\"#2a3f5f\",\"gridcolor\":\"white\",\"linecolor\":\"white\",\"minorgridcolor\":\"white\",\"startlinecolor\":\"#2a3f5f\"},\"type\":\"carpet\"}],\"choropleth\":[{\"colorbar\":{\"outlinewidth\":0,\"ticks\":\"\"},\"type\":\"choropleth\"}],\"contourcarpet\":[{\"colorbar\":{\"outlinewidth\":0,\"ticks\":\"\"},\"type\":\"contourcarpet\"}],\"contour\":[{\"colorbar\":{\"outlinewidth\":0,\"ticks\":\"\"},\"colorscale\":[[0.0,\"#0d0887\"],[0.1111111111111111,\"#46039f\"],[0.2222222222222222,\"#7201a8\"],[0.3333333333333333,\"#9c179e\"],[0.4444444444444444,\"#bd3786\"],[0.5555555555555556,\"#d8576b\"],[0.6666666666666666,\"#ed7953\"],[0.7777777777777778,\"#fb9f3a\"],[0.8888888888888888,\"#fdca26\"],[1.0,\"#f0f921\"]],\"type\":\"contour\"}],\"heatmapgl\":[{\"colorbar\":{\"outlinewidth\":0,\"ticks\":\"\"},\"colorscale\":[[0.0,\"#0d0887\"],[0.1111111111111111,\"#46039f\"],[0.2222222222222222,\"#7201a8\"],[0.3333333333333333,\"#9c179e\"],[0.4444444444444444,\"#bd3786\"],[0.5555555555555556,\"#d8576b\"],[0.6666666666666666,\"#ed7953\"],[0.7777777777777778,\"#fb9f3a\"],[0.8888888888888888,\"#fdca26\"],[1.0,\"#f0f921\"]],\"type\":\"heatmapgl\"}],\"heatmap\":[{\"colorbar\":{\"outlinewidth\":0,\"ticks\":\"\"},\"colorscale\":[[0.0,\"#0d0887\"],[0.1111111111111111,\"#46039f\"],[0.2222222222222222,\"#7201a8\"],[0.3333333333333333,\"#9c179e\"],[0.4444444444444444,\"#bd3786\"],[0.5555555555555556,\"#d8576b\"],[0.6666666666666666,\"#ed7953\"],[0.7777777777777778,\"#fb9f3a\"],[0.8888888888888888,\"#fdca26\"],[1.0,\"#f0f921\"]],\"type\":\"heatmap\"}],\"histogram2dcontour\":[{\"colorbar\":{\"outlinewidth\":0,\"ticks\":\"\"},\"colorscale\":[[0.0,\"#0d0887\"],[0.1111111111111111,\"#46039f\"],[0.2222222222222222,\"#7201a8\"],[0.3333333333333333,\"#9c179e\"],[0.4444444444444444,\"#bd3786\"],[0.5555555555555556,\"#d8576b\"],[0.6666666666666666,\"#ed7953\"],[0.7777777777777778,\"#fb9f3a\"],[0.8888888888888888,\"#fdca26\"],[1.0,\"#f0f921\"]],\"type\":\"histogram2dcontour\"}],\"histogram2d\":[{\"colorbar\":{\"outlinewidth\":0,\"ticks\":\"\"},\"colorscale\":[[0.0,\"#0d0887\"],[0.1111111111111111,\"#46039f\"],[0.2222222222222222,\"#7201a8\"],[0.3333333333333333,\"#9c179e\"],[0.4444444444444444,\"#bd3786\"],[0.5555555555555556,\"#d8576b\"],[0.6666666666666666,\"#ed7953\"],[0.7777777777777778,\"#fb9f3a\"],[0.8888888888888888,\"#fdca26\"],[1.0,\"#f0f921\"]],\"type\":\"histogram2d\"}],\"histogram\":[{\"marker\":{\"pattern\":{\"fillmode\":\"overlay\",\"size\":10,\"solidity\":0.2}},\"type\":\"histogram\"}],\"mesh3d\":[{\"colorbar\":{\"outlinewidth\":0,\"ticks\":\"\"},\"type\":\"mesh3d\"}],\"parcoords\":[{\"line\":{\"colorbar\":{\"outlinewidth\":0,\"ticks\":\"\"}},\"type\":\"parcoords\"}],\"pie\":[{\"automargin\":true,\"type\":\"pie\"}],\"scatter3d\":[{\"line\":{\"colorbar\":{\"outlinewidth\":0,\"ticks\":\"\"}},\"marker\":{\"colorbar\":{\"outlinewidth\":0,\"ticks\":\"\"}},\"type\":\"scatter3d\"}],\"scattercarpet\":[{\"marker\":{\"colorbar\":{\"outlinewidth\":0,\"ticks\":\"\"}},\"type\":\"scattercarpet\"}],\"scattergeo\":[{\"marker\":{\"colorbar\":{\"outlinewidth\":0,\"ticks\":\"\"}},\"type\":\"scattergeo\"}],\"scattergl\":[{\"marker\":{\"colorbar\":{\"outlinewidth\":0,\"ticks\":\"\"}},\"type\":\"scattergl\"}],\"scattermapbox\":[{\"marker\":{\"colorbar\":{\"outlinewidth\":0,\"ticks\":\"\"}},\"type\":\"scattermapbox\"}],\"scatterpolargl\":[{\"marker\":{\"colorbar\":{\"outlinewidth\":0,\"ticks\":\"\"}},\"type\":\"scatterpolargl\"}],\"scatterpolar\":[{\"marker\":{\"colorbar\":{\"outlinewidth\":0,\"ticks\":\"\"}},\"type\":\"scatterpolar\"}],\"scatter\":[{\"fillpattern\":{\"fillmode\":\"overlay\",\"size\":10,\"solidity\":0.2},\"type\":\"scatter\"}],\"scatterternary\":[{\"marker\":{\"colorbar\":{\"outlinewidth\":0,\"ticks\":\"\"}},\"type\":\"scatterternary\"}],\"surface\":[{\"colorbar\":{\"outlinewidth\":0,\"ticks\":\"\"},\"colorscale\":[[0.0,\"#0d0887\"],[0.1111111111111111,\"#46039f\"],[0.2222222222222222,\"#7201a8\"],[0.3333333333333333,\"#9c179e\"],[0.4444444444444444,\"#bd3786\"],[0.5555555555555556,\"#d8576b\"],[0.6666666666666666,\"#ed7953\"],[0.7777777777777778,\"#fb9f3a\"],[0.8888888888888888,\"#fdca26\"],[1.0,\"#f0f921\"]],\"type\":\"surface\"}],\"table\":[{\"cells\":{\"fill\":{\"color\":\"#EBF0F8\"},\"line\":{\"color\":\"white\"}},\"header\":{\"fill\":{\"color\":\"#C8D4E3\"},\"line\":{\"color\":\"white\"}},\"type\":\"table\"}]},\"layout\":{\"annotationdefaults\":{\"arrowcolor\":\"#2a3f5f\",\"arrowhead\":0,\"arrowwidth\":1},\"autotypenumbers\":\"strict\",\"coloraxis\":{\"colorbar\":{\"outlinewidth\":0,\"ticks\":\"\"}},\"colorscale\":{\"diverging\":[[0,\"#8e0152\"],[0.1,\"#c51b7d\"],[0.2,\"#de77ae\"],[0.3,\"#f1b6da\"],[0.4,\"#fde0ef\"],[0.5,\"#f7f7f7\"],[0.6,\"#e6f5d0\"],[0.7,\"#b8e186\"],[0.8,\"#7fbc41\"],[0.9,\"#4d9221\"],[1,\"#276419\"]],\"sequential\":[[0.0,\"#0d0887\"],[0.1111111111111111,\"#46039f\"],[0.2222222222222222,\"#7201a8\"],[0.3333333333333333,\"#9c179e\"],[0.4444444444444444,\"#bd3786\"],[0.5555555555555556,\"#d8576b\"],[0.6666666666666666,\"#ed7953\"],[0.7777777777777778,\"#fb9f3a\"],[0.8888888888888888,\"#fdca26\"],[1.0,\"#f0f921\"]],\"sequentialminus\":[[0.0,\"#0d0887\"],[0.1111111111111111,\"#46039f\"],[0.2222222222222222,\"#7201a8\"],[0.3333333333333333,\"#9c179e\"],[0.4444444444444444,\"#bd3786\"],[0.5555555555555556,\"#d8576b\"],[0.6666666666666666,\"#ed7953\"],[0.7777777777777778,\"#fb9f3a\"],[0.8888888888888888,\"#fdca26\"],[1.0,\"#f0f921\"]]},\"colorway\":[\"#636efa\",\"#EF553B\",\"#00cc96\",\"#ab63fa\",\"#FFA15A\",\"#19d3f3\",\"#FF6692\",\"#B6E880\",\"#FF97FF\",\"#FECB52\"],\"font\":{\"color\":\"#2a3f5f\"},\"geo\":{\"bgcolor\":\"white\",\"lakecolor\":\"white\",\"landcolor\":\"#E5ECF6\",\"showlakes\":true,\"showland\":true,\"subunitcolor\":\"white\"},\"hoverlabel\":{\"align\":\"left\"},\"hovermode\":\"closest\",\"mapbox\":{\"style\":\"light\"},\"paper_bgcolor\":\"white\",\"plot_bgcolor\":\"#E5ECF6\",\"polar\":{\"angularaxis\":{\"gridcolor\":\"white\",\"linecolor\":\"white\",\"ticks\":\"\"},\"bgcolor\":\"#E5ECF6\",\"radialaxis\":{\"gridcolor\":\"white\",\"linecolor\":\"white\",\"ticks\":\"\"}},\"scene\":{\"xaxis\":{\"backgroundcolor\":\"#E5ECF6\",\"gridcolor\":\"white\",\"gridwidth\":2,\"linecolor\":\"white\",\"showbackground\":true,\"ticks\":\"\",\"zerolinecolor\":\"white\"},\"yaxis\":{\"backgroundcolor\":\"#E5ECF6\",\"gridcolor\":\"white\",\"gridwidth\":2,\"linecolor\":\"white\",\"showbackground\":true,\"ticks\":\"\",\"zerolinecolor\":\"white\"},\"zaxis\":{\"backgroundcolor\":\"#E5ECF6\",\"gridcolor\":\"white\",\"gridwidth\":2,\"linecolor\":\"white\",\"showbackground\":true,\"ticks\":\"\",\"zerolinecolor\":\"white\"}},\"shapedefaults\":{\"line\":{\"color\":\"#2a3f5f\"}},\"ternary\":{\"aaxis\":{\"gridcolor\":\"white\",\"linecolor\":\"white\",\"ticks\":\"\"},\"baxis\":{\"gridcolor\":\"white\",\"linecolor\":\"white\",\"ticks\":\"\"},\"bgcolor\":\"#E5ECF6\",\"caxis\":{\"gridcolor\":\"white\",\"linecolor\":\"white\",\"ticks\":\"\"}},\"title\":{\"x\":0.05},\"xaxis\":{\"automargin\":true,\"gridcolor\":\"white\",\"linecolor\":\"white\",\"ticks\":\"\",\"title\":{\"standoff\":15},\"zerolinecolor\":\"white\",\"zerolinewidth\":2},\"yaxis\":{\"automargin\":true,\"gridcolor\":\"white\",\"linecolor\":\"white\",\"ticks\":\"\",\"title\":{\"standoff\":15},\"zerolinecolor\":\"white\",\"zerolinewidth\":2}}},\"title\":{\"font\":{\"color\":\"#4D5663\"}},\"xaxis\":{\"gridcolor\":\"#E1E5ED\",\"showgrid\":true,\"tickfont\":{\"color\":\"#4D5663\"},\"title\":{\"font\":{\"color\":\"#4D5663\"},\"text\":\"\"},\"zerolinecolor\":\"#E1E5ED\"},\"yaxis\":{\"gridcolor\":\"#E1E5ED\",\"showgrid\":true,\"tickfont\":{\"color\":\"#4D5663\"},\"title\":{\"font\":{\"color\":\"#4D5663\"},\"text\":\"\"},\"zerolinecolor\":\"#E1E5ED\"}},                        {\"showLink\": true, \"linkText\": \"Export to plot.ly\", \"plotlyServerURL\": \"https://plot.ly\", \"responsive\": true}                    ).then(function(){\n",
       "                            \n",
       "var gd = document.getElementById('4b098d81-1e60-424c-9ed1-5722817e124c');\n",
       "var x = new MutationObserver(function (mutations, observer) {{\n",
       "        var display = window.getComputedStyle(gd).display;\n",
       "        if (!display || display === 'none') {{\n",
       "            console.log([gd, 'removed!']);\n",
       "            Plotly.purge(gd);\n",
       "            observer.disconnect();\n",
       "        }}\n",
       "}});\n",
       "\n",
       "// Listen for the removal of the full notebook cells\n",
       "var notebookContainer = gd.closest('#notebook-container');\n",
       "if (notebookContainer) {{\n",
       "    x.observe(notebookContainer, {childList: true});\n",
       "}}\n",
       "\n",
       "// Listen for the clearing of the current output cell\n",
       "var outputEl = gd.closest('.output');\n",
       "if (outputEl) {{\n",
       "    x.observe(outputEl, {childList: true});\n",
       "}}\n",
       "\n",
       "                        })                };                });            </script>        </div>"
      ]
     },
     "metadata": {},
     "output_type": "display_data"
    }
   ],
   "source": [
    "df.iplot(kind='bubble',x='A',y='B',size='C')"
   ]
  },
  {
   "cell_type": "markdown",
   "metadata": {},
   "source": [
    "## scatter_matrix()\n",
    "\n",
    "Similar to sns.pairplot()"
   ]
  },
  {
   "cell_type": "code",
   "execution_count": 18,
   "metadata": {},
   "outputs": [
    {
     "data": {
      "application/vnd.plotly.v1+json": {
       "config": {
        "linkText": "Export to plot.ly",
        "plotlyServerURL": "https://plot.ly",
        "showLink": true
       },
       "data": [
        {
         "histfunc": "count",
         "histnorm": "",
         "marker": {
          "color": "rgba(255, 153, 51, 1.0)",
          "line": {
           "color": "#4D5663",
           "width": 1.3
          }
         },
         "name": "A",
         "nbinsx": 10,
         "opacity": 0.8,
         "orientation": "v",
         "type": "histogram",
         "x": [
          -0.32437935932286105,
          0.6507786303830336,
          -0.3895435206998073,
          0.09605366978079674,
          0.8197362293541232,
          -2.1736614086387034,
          0.5447989087977978,
          -0.48026307852395245,
          -0.9312791112381261,
          1.0234457605227858,
          2.602895318314027,
          0.22413905009816462,
          -0.821227335088624,
          -0.3856451712519905,
          0.8111171832248476,
          0.020787549685838753,
          1.0456525715167484,
          -0.46999110891348045,
          -1.8031559479012809,
          1.6790145550113407,
          -0.10326521597651746,
          -0.0699982364634295,
          0.0682181566995542,
          1.7559799602251849,
          -0.8835006562676381,
          0.08438188434314217,
          -0.3118089076470192,
          -0.14808980061376903,
          0.043576355483198256,
          0.3420442997233026,
          0.11894325264568689,
          -0.2577134208535056,
          0.6978036228013325,
          0.6113101405984447,
          -0.8642860355006269,
          1.0386104714627757,
          -0.5454469660239857,
          0.37359152088305875,
          -0.207414871750417,
          -0.2766082626107455,
          -0.09232179563923242,
          -0.22322258357986602,
          -0.2750041129199989,
          -0.6462565804188576,
          -0.7564544188020607,
          -0.3935935702016708,
          -0.6201830686920962,
          0.5032563482950011,
          -0.3400791520044989,
          -0.7217213231087968,
          0.03735172569908848,
          -1.3387465776407153,
          1.26320480969486,
          1.0391940167060385,
          0.07527735447324392,
          -0.04637228755826521,
          0.2407108736349752,
          0.6718242356571152,
          -0.5874185371180319,
          -0.05166639315432059,
          0.28546671957252895,
          -0.8393723817660538,
          3.6920994601597235,
          0.7140374705521528,
          -2.0311390810199197,
          -0.7656104217463565,
          -0.5706747095329012,
          1.44720934904325,
          -0.04684225993129464,
          1.7666836707342357,
          -0.25712128759980896,
          -0.7486717414586884,
          -0.14404899072278207,
          -2.847694864973696,
          0.5055476900344904,
          -0.9777980182604501,
          -0.3404777125900365,
          0.49896061289322263,
          -1.2666980908052186,
          -0.14298323017857129,
          -0.33134176695795176,
          -0.32793980022794733,
          -1.3223083663276318,
          -0.7638233684150882,
          -2.193080206212569,
          0.9998229351057568,
          0.636695813978981,
          -0.20155103698415303,
          1.4901288953563878,
          -1.5565718214852045,
          -0.7254474963551272,
          0.1256470565777697,
          1.445946008831829,
          -0.60092975865266,
          0.9270945867676877,
          1.2287517941705062,
          0.7216832535913091,
          -1.939902333371826,
          -1.3338304167761876,
          0.6727881223318196
         ],
         "xaxis": "x",
         "yaxis": "y"
        },
        {
         "line": {
          "color": "rgba(128, 128, 128, 1.0)",
          "dash": "solid",
          "shape": "linear",
          "width": 1.3
         },
         "marker": {
          "size": 2,
          "symbol": "circle"
         },
         "mode": "markers",
         "name": "A",
         "text": "",
         "type": "scatter",
         "x": [
          0.5840159608274463,
          -0.6776725469281716,
          -0.08250716750184768,
          -0.6997003696662847,
          -0.02046542339042747,
          1.2973044459174985,
          -0.15269446165195133,
          -1.4060233979928802,
          -0.5155337860657689,
          -0.5736152041925673,
          1.357173046148224,
          0.8500626656020044,
          0.10844955804384164,
          -1.113034086831303,
          1.2664476181631814,
          0.5211478579740425,
          -0.07179164173708667,
          0.1862031755158228,
          -0.7119068102838787,
          0.9585466814679567,
          -0.8427877095541829,
          0.2861755512620451,
          0.5093489326745615,
          0.3787469242895969,
          -0.9445536130992522,
          0.35678791129132764,
          0.3853970213226538,
          0.7413345138100097,
          1.6806051224796448,
          -1.083973295584339,
          0.5506930858378145,
          1.5639483064191257,
          0.8824343297222614,
          -0.10628109258192349,
          -1.4162687762492605,
          0.9289603451115521,
          0.23602352635471763,
          1.1471291497038176,
          0.17164218020853547,
          -0.16497562804589852,
          0.7178070496418821,
          1.045121465527172,
          1.36845378138647,
          -0.5256492280256156,
          -0.37444234869325654,
          -1.2981424632591463,
          -0.9240607988811324,
          0.273143180228173,
          0.9988750799969999,
          -2.0064517053719846,
          0.11444308844932008,
          0.6848583984094578,
          -0.39553800528315075,
          -0.3144745974960851,
          -0.47359674536819757,
          -1.4573494915478733,
          0.174213316035283,
          2.2361965917768685,
          0.17517082060865113,
          2.332184289649614,
          1.7105058808082025,
          -1.706279525783847,
          0.5916358862419079,
          -0.46540652794985776,
          -1.7293639018946085,
          -1.2135524247347476,
          0.1790335731975688,
          -0.5699722220416938,
          -0.729331184902068,
          0.18117369443269593,
          -0.05635246315475032,
          0.39052174181601707,
          -0.6708788277038915,
          0.16103357730047088,
          1.573538234181239,
          -0.1953589263551798,
          0.080368461583438,
          0.2679163855152857,
          -0.15259967498329535,
          1.0616318376628848,
          -0.30502224143898055,
          1.2316319246538674,
          0.32709090752935904,
          -0.7106105752458274,
          0.001081946950240499,
          0.7494594826677379,
          -1.014585852439636,
          -1.128112386980834,
          0.14410131361648543,
          -1.496817504683681,
          -0.19954188369670103,
          1.4413043033258475,
          -0.6074730481305635,
          0.751125846459736,
          1.0867151412356497,
          0.02357154784848277,
          0.09231623762808776,
          -2.955157726525199,
          -0.47205442975871503,
          -1.3673663177768012
         ],
         "xaxis": "x2",
         "y": [
          -0.32437935932286105,
          0.6507786303830336,
          -0.3895435206998073,
          0.09605366978079674,
          0.8197362293541232,
          -2.1736614086387034,
          0.5447989087977978,
          -0.48026307852395245,
          -0.9312791112381261,
          1.0234457605227858,
          2.602895318314027,
          0.22413905009816462,
          -0.821227335088624,
          -0.3856451712519905,
          0.8111171832248476,
          0.020787549685838753,
          1.0456525715167484,
          -0.46999110891348045,
          -1.8031559479012809,
          1.6790145550113407,
          -0.10326521597651746,
          -0.0699982364634295,
          0.0682181566995542,
          1.7559799602251849,
          -0.8835006562676381,
          0.08438188434314217,
          -0.3118089076470192,
          -0.14808980061376903,
          0.043576355483198256,
          0.3420442997233026,
          0.11894325264568689,
          -0.2577134208535056,
          0.6978036228013325,
          0.6113101405984447,
          -0.8642860355006269,
          1.0386104714627757,
          -0.5454469660239857,
          0.37359152088305875,
          -0.207414871750417,
          -0.2766082626107455,
          -0.09232179563923242,
          -0.22322258357986602,
          -0.2750041129199989,
          -0.6462565804188576,
          -0.7564544188020607,
          -0.3935935702016708,
          -0.6201830686920962,
          0.5032563482950011,
          -0.3400791520044989,
          -0.7217213231087968,
          0.03735172569908848,
          -1.3387465776407153,
          1.26320480969486,
          1.0391940167060385,
          0.07527735447324392,
          -0.04637228755826521,
          0.2407108736349752,
          0.6718242356571152,
          -0.5874185371180319,
          -0.05166639315432059,
          0.28546671957252895,
          -0.8393723817660538,
          3.6920994601597235,
          0.7140374705521528,
          -2.0311390810199197,
          -0.7656104217463565,
          -0.5706747095329012,
          1.44720934904325,
          -0.04684225993129464,
          1.7666836707342357,
          -0.25712128759980896,
          -0.7486717414586884,
          -0.14404899072278207,
          -2.847694864973696,
          0.5055476900344904,
          -0.9777980182604501,
          -0.3404777125900365,
          0.49896061289322263,
          -1.2666980908052186,
          -0.14298323017857129,
          -0.33134176695795176,
          -0.32793980022794733,
          -1.3223083663276318,
          -0.7638233684150882,
          -2.193080206212569,
          0.9998229351057568,
          0.636695813978981,
          -0.20155103698415303,
          1.4901288953563878,
          -1.5565718214852045,
          -0.7254474963551272,
          0.1256470565777697,
          1.445946008831829,
          -0.60092975865266,
          0.9270945867676877,
          1.2287517941705062,
          0.7216832535913091,
          -1.939902333371826,
          -1.3338304167761876,
          0.6727881223318196
         ],
         "yaxis": "y2"
        },
        {
         "line": {
          "color": "rgba(128, 128, 128, 1.0)",
          "dash": "solid",
          "shape": "linear",
          "width": 1.3
         },
         "marker": {
          "size": 2,
          "symbol": "circle"
         },
         "mode": "markers",
         "name": "A",
         "text": "",
         "type": "scatter",
         "x": [
          1.146611563349902,
          -0.761088837254447,
          -1.894326715200364,
          1.3055060471824547,
          -1.471362324415607,
          -2.3930488604815117,
          -0.04190170202730823,
          -0.6396350846980466,
          -0.9416261575912995,
          -0.7043826965259425,
          1.7325352312281856,
          -1.076813115738217,
          0.8603396025752142,
          -1.4178251395331756,
          -1.4083253789742467,
          -0.602432651109036,
          0.31290146941422,
          0.778709647539167,
          -0.04195371993520826,
          1.3092479790070546,
          0.5024571089057162,
          -1.0941808683887777,
          -1.1172154603849271,
          2.7775145279805873,
          -1.061893571149162,
          0.2757159091804494,
          -0.7186291598569715,
          2.2688433033063458,
          -2.277824884002865,
          -0.743477433858718,
          0.9683673922339631,
          1.201535884665647,
          -0.901638704479854,
          2.6392266929089283,
          0.2137313918761221,
          -2.142675022192311,
          -0.9496566315490367,
          0.8872230315510008,
          1.378743203190755,
          0.9740148368482646,
          0.5611615988675017,
          -0.020477945564687874,
          -0.8991496296656757,
          1.0847087999859244,
          -1.349743904416432,
          3.1002726646884287,
          0.10257416112189895,
          1.9304771347749836,
          1.2934402633971205,
          0.10487608323946647,
          -0.4609259112574587,
          2.856069611370185,
          1.3176794164579912,
          -0.05854508129603264,
          -0.9089306349901729,
          -0.009110016830243232,
          -0.4980743288957647,
          -0.23940099558340683,
          0.21721108748891652,
          -0.4530220631071767,
          0.564058289705138,
          -0.7222461918068702,
          0.6062288317920589,
          0.8304113921389529,
          -1.1835001412479258,
          -1.4604444835782933,
          -0.023233979873630836,
          -1.0650385207319413,
          1.0525587248204924,
          -1.1129669269305356,
          1.5295289876160099,
          -0.43917401925437594,
          1.6159452113634347,
          0.2085106909110855,
          -0.08689652728188826,
          -0.04972125600565643,
          0.9620203951830886,
          -0.13860795123980316,
          1.3487885879538584,
          -0.9022259380261738,
          0.6876135458967871,
          -2.1698377517338816,
          -1.7522838477460938,
          1.6873351932539282,
          0.9867778665009651,
          0.8694874167822337,
          1.0995300392341862,
          0.6818766300604583,
          -0.394810347217172,
          -0.2653026971492913,
          0.5872705806142731,
          1.1719476715661912,
          -0.5827424638925532,
          0.7097747174073475,
          0.2180619883892565,
          -0.34802989769291515,
          2.5618683795102646,
          0.5636593733438885,
          0.7095362847844509,
          1.0359247697977372
         ],
         "xaxis": "x3",
         "y": [
          -0.32437935932286105,
          0.6507786303830336,
          -0.3895435206998073,
          0.09605366978079674,
          0.8197362293541232,
          -2.1736614086387034,
          0.5447989087977978,
          -0.48026307852395245,
          -0.9312791112381261,
          1.0234457605227858,
          2.602895318314027,
          0.22413905009816462,
          -0.821227335088624,
          -0.3856451712519905,
          0.8111171832248476,
          0.020787549685838753,
          1.0456525715167484,
          -0.46999110891348045,
          -1.8031559479012809,
          1.6790145550113407,
          -0.10326521597651746,
          -0.0699982364634295,
          0.0682181566995542,
          1.7559799602251849,
          -0.8835006562676381,
          0.08438188434314217,
          -0.3118089076470192,
          -0.14808980061376903,
          0.043576355483198256,
          0.3420442997233026,
          0.11894325264568689,
          -0.2577134208535056,
          0.6978036228013325,
          0.6113101405984447,
          -0.8642860355006269,
          1.0386104714627757,
          -0.5454469660239857,
          0.37359152088305875,
          -0.207414871750417,
          -0.2766082626107455,
          -0.09232179563923242,
          -0.22322258357986602,
          -0.2750041129199989,
          -0.6462565804188576,
          -0.7564544188020607,
          -0.3935935702016708,
          -0.6201830686920962,
          0.5032563482950011,
          -0.3400791520044989,
          -0.7217213231087968,
          0.03735172569908848,
          -1.3387465776407153,
          1.26320480969486,
          1.0391940167060385,
          0.07527735447324392,
          -0.04637228755826521,
          0.2407108736349752,
          0.6718242356571152,
          -0.5874185371180319,
          -0.05166639315432059,
          0.28546671957252895,
          -0.8393723817660538,
          3.6920994601597235,
          0.7140374705521528,
          -2.0311390810199197,
          -0.7656104217463565,
          -0.5706747095329012,
          1.44720934904325,
          -0.04684225993129464,
          1.7666836707342357,
          -0.25712128759980896,
          -0.7486717414586884,
          -0.14404899072278207,
          -2.847694864973696,
          0.5055476900344904,
          -0.9777980182604501,
          -0.3404777125900365,
          0.49896061289322263,
          -1.2666980908052186,
          -0.14298323017857129,
          -0.33134176695795176,
          -0.32793980022794733,
          -1.3223083663276318,
          -0.7638233684150882,
          -2.193080206212569,
          0.9998229351057568,
          0.636695813978981,
          -0.20155103698415303,
          1.4901288953563878,
          -1.5565718214852045,
          -0.7254474963551272,
          0.1256470565777697,
          1.445946008831829,
          -0.60092975865266,
          0.9270945867676877,
          1.2287517941705062,
          0.7216832535913091,
          -1.939902333371826,
          -1.3338304167761876,
          0.6727881223318196
         ],
         "yaxis": "y3"
        },
        {
         "line": {
          "color": "rgba(128, 128, 128, 1.0)",
          "dash": "solid",
          "shape": "linear",
          "width": 1.3
         },
         "marker": {
          "size": 2,
          "symbol": "circle"
         },
         "mode": "markers",
         "name": "A",
         "text": "",
         "type": "scatter",
         "x": [
          -0.17578973646317267,
          0.9278787400021398,
          -2.182677449913249,
          -2.396345023289566,
          0.48003741625709717,
          1.047518960575716,
          0.6100754852066674,
          -1.344179890686052,
          -1.1076326225860527,
          0.09301750944256627,
          0.5730312508830305,
          0.040432820293545835,
          1.1704259371606005,
          1.1510426286129267,
          -0.8138276275203944,
          -1.0968760151570967,
          0.08287078650187739,
          0.44319682155805257,
          -1.1582566186046355,
          0.8478621255692413,
          0.37660234824212485,
          0.11541673470683698,
          0.8988970774782885,
          0.13502754966225816,
          0.055944855853168905,
          -0.5744849746557522,
          0.28514102801490915,
          -1.4873030247313328,
          0.13022992101504688,
          0.2128575152251287,
          -0.14843777892871812,
          2.2880178719646524,
          -1.0502900218838402,
          0.5139741114262346,
          -0.20538383385912667,
          -1.725654753319287,
          -1.177971112937363,
          0.8957472535103304,
          1.6416059835990289,
          1.2336185344248412,
          -0.6772354531053224,
          -1.6445488147688594,
          0.02965654557736246,
          -1.1263933501160905,
          -0.1095058207538614,
          0.008232092411066915,
          0.8106473027651468,
          0.11364464185815298,
          0.7694218655173967,
          0.6468768797381542,
          -0.6944197325249837,
          1.1892392361790933,
          1.1878227747892696,
          -0.361155188586217,
          -1.511266963805173,
          -0.49790628823983446,
          1.9995572586627042,
          -1.1385309643498227,
          1.9075093889669785,
          -0.24652352769978877,
          0.8864608442812109,
          0.9218171539005922,
          0.9946321675922722,
          0.3794411477043499,
          0.17687000782678514,
          0.5340926886161836,
          0.7281931522486161,
          -0.5443279073908619,
          1.214410332690026,
          -0.06955844511028561,
          0.3778993656796964,
          0.96915492911502,
          -0.2796307174958231,
          -0.2963225746161983,
          -0.9817827002750537,
          -0.343294377381208,
          -0.7137835769329658,
          0.24207442443395807,
          0.30067768158565417,
          -0.10212944731863574,
          1.142641606505229,
          0.469865477326826,
          0.30919517777698313,
          0.7779946172803213,
          0.03185003902106065,
          -0.4342313894982847,
          -1.4298458973499455,
          0.38111256087461426,
          2.0155880426859003,
          1.38363513778326,
          0.7314112707662803,
          1.7970850998799364,
          0.5592199756951292,
          0.05317021511645505,
          0.3160459453040408,
          0.5911502889048841,
          0.743269569699162,
          1.3920743118952654,
          -1.3364864170711663,
          -0.08316266473902233
         ],
         "xaxis": "x4",
         "y": [
          -0.32437935932286105,
          0.6507786303830336,
          -0.3895435206998073,
          0.09605366978079674,
          0.8197362293541232,
          -2.1736614086387034,
          0.5447989087977978,
          -0.48026307852395245,
          -0.9312791112381261,
          1.0234457605227858,
          2.602895318314027,
          0.22413905009816462,
          -0.821227335088624,
          -0.3856451712519905,
          0.8111171832248476,
          0.020787549685838753,
          1.0456525715167484,
          -0.46999110891348045,
          -1.8031559479012809,
          1.6790145550113407,
          -0.10326521597651746,
          -0.0699982364634295,
          0.0682181566995542,
          1.7559799602251849,
          -0.8835006562676381,
          0.08438188434314217,
          -0.3118089076470192,
          -0.14808980061376903,
          0.043576355483198256,
          0.3420442997233026,
          0.11894325264568689,
          -0.2577134208535056,
          0.6978036228013325,
          0.6113101405984447,
          -0.8642860355006269,
          1.0386104714627757,
          -0.5454469660239857,
          0.37359152088305875,
          -0.207414871750417,
          -0.2766082626107455,
          -0.09232179563923242,
          -0.22322258357986602,
          -0.2750041129199989,
          -0.6462565804188576,
          -0.7564544188020607,
          -0.3935935702016708,
          -0.6201830686920962,
          0.5032563482950011,
          -0.3400791520044989,
          -0.7217213231087968,
          0.03735172569908848,
          -1.3387465776407153,
          1.26320480969486,
          1.0391940167060385,
          0.07527735447324392,
          -0.04637228755826521,
          0.2407108736349752,
          0.6718242356571152,
          -0.5874185371180319,
          -0.05166639315432059,
          0.28546671957252895,
          -0.8393723817660538,
          3.6920994601597235,
          0.7140374705521528,
          -2.0311390810199197,
          -0.7656104217463565,
          -0.5706747095329012,
          1.44720934904325,
          -0.04684225993129464,
          1.7666836707342357,
          -0.25712128759980896,
          -0.7486717414586884,
          -0.14404899072278207,
          -2.847694864973696,
          0.5055476900344904,
          -0.9777980182604501,
          -0.3404777125900365,
          0.49896061289322263,
          -1.2666980908052186,
          -0.14298323017857129,
          -0.33134176695795176,
          -0.32793980022794733,
          -1.3223083663276318,
          -0.7638233684150882,
          -2.193080206212569,
          0.9998229351057568,
          0.636695813978981,
          -0.20155103698415303,
          1.4901288953563878,
          -1.5565718214852045,
          -0.7254474963551272,
          0.1256470565777697,
          1.445946008831829,
          -0.60092975865266,
          0.9270945867676877,
          1.2287517941705062,
          0.7216832535913091,
          -1.939902333371826,
          -1.3338304167761876,
          0.6727881223318196
         ],
         "yaxis": "y4"
        },
        {
         "line": {
          "color": "rgba(128, 128, 128, 1.0)",
          "dash": "solid",
          "shape": "linear",
          "width": 1.3
         },
         "marker": {
          "size": 2,
          "symbol": "circle"
         },
         "mode": "markers",
         "name": "B",
         "text": "",
         "type": "scatter",
         "x": [
          -0.32437935932286105,
          0.6507786303830336,
          -0.3895435206998073,
          0.09605366978079674,
          0.8197362293541232,
          -2.1736614086387034,
          0.5447989087977978,
          -0.48026307852395245,
          -0.9312791112381261,
          1.0234457605227858,
          2.602895318314027,
          0.22413905009816462,
          -0.821227335088624,
          -0.3856451712519905,
          0.8111171832248476,
          0.020787549685838753,
          1.0456525715167484,
          -0.46999110891348045,
          -1.8031559479012809,
          1.6790145550113407,
          -0.10326521597651746,
          -0.0699982364634295,
          0.0682181566995542,
          1.7559799602251849,
          -0.8835006562676381,
          0.08438188434314217,
          -0.3118089076470192,
          -0.14808980061376903,
          0.043576355483198256,
          0.3420442997233026,
          0.11894325264568689,
          -0.2577134208535056,
          0.6978036228013325,
          0.6113101405984447,
          -0.8642860355006269,
          1.0386104714627757,
          -0.5454469660239857,
          0.37359152088305875,
          -0.207414871750417,
          -0.2766082626107455,
          -0.09232179563923242,
          -0.22322258357986602,
          -0.2750041129199989,
          -0.6462565804188576,
          -0.7564544188020607,
          -0.3935935702016708,
          -0.6201830686920962,
          0.5032563482950011,
          -0.3400791520044989,
          -0.7217213231087968,
          0.03735172569908848,
          -1.3387465776407153,
          1.26320480969486,
          1.0391940167060385,
          0.07527735447324392,
          -0.04637228755826521,
          0.2407108736349752,
          0.6718242356571152,
          -0.5874185371180319,
          -0.05166639315432059,
          0.28546671957252895,
          -0.8393723817660538,
          3.6920994601597235,
          0.7140374705521528,
          -2.0311390810199197,
          -0.7656104217463565,
          -0.5706747095329012,
          1.44720934904325,
          -0.04684225993129464,
          1.7666836707342357,
          -0.25712128759980896,
          -0.7486717414586884,
          -0.14404899072278207,
          -2.847694864973696,
          0.5055476900344904,
          -0.9777980182604501,
          -0.3404777125900365,
          0.49896061289322263,
          -1.2666980908052186,
          -0.14298323017857129,
          -0.33134176695795176,
          -0.32793980022794733,
          -1.3223083663276318,
          -0.7638233684150882,
          -2.193080206212569,
          0.9998229351057568,
          0.636695813978981,
          -0.20155103698415303,
          1.4901288953563878,
          -1.5565718214852045,
          -0.7254474963551272,
          0.1256470565777697,
          1.445946008831829,
          -0.60092975865266,
          0.9270945867676877,
          1.2287517941705062,
          0.7216832535913091,
          -1.939902333371826,
          -1.3338304167761876,
          0.6727881223318196
         ],
         "xaxis": "x5",
         "y": [
          0.5840159608274463,
          -0.6776725469281716,
          -0.08250716750184768,
          -0.6997003696662847,
          -0.02046542339042747,
          1.2973044459174985,
          -0.15269446165195133,
          -1.4060233979928802,
          -0.5155337860657689,
          -0.5736152041925673,
          1.357173046148224,
          0.8500626656020044,
          0.10844955804384164,
          -1.113034086831303,
          1.2664476181631814,
          0.5211478579740425,
          -0.07179164173708667,
          0.1862031755158228,
          -0.7119068102838787,
          0.9585466814679567,
          -0.8427877095541829,
          0.2861755512620451,
          0.5093489326745615,
          0.3787469242895969,
          -0.9445536130992522,
          0.35678791129132764,
          0.3853970213226538,
          0.7413345138100097,
          1.6806051224796448,
          -1.083973295584339,
          0.5506930858378145,
          1.5639483064191257,
          0.8824343297222614,
          -0.10628109258192349,
          -1.4162687762492605,
          0.9289603451115521,
          0.23602352635471763,
          1.1471291497038176,
          0.17164218020853547,
          -0.16497562804589852,
          0.7178070496418821,
          1.045121465527172,
          1.36845378138647,
          -0.5256492280256156,
          -0.37444234869325654,
          -1.2981424632591463,
          -0.9240607988811324,
          0.273143180228173,
          0.9988750799969999,
          -2.0064517053719846,
          0.11444308844932008,
          0.6848583984094578,
          -0.39553800528315075,
          -0.3144745974960851,
          -0.47359674536819757,
          -1.4573494915478733,
          0.174213316035283,
          2.2361965917768685,
          0.17517082060865113,
          2.332184289649614,
          1.7105058808082025,
          -1.706279525783847,
          0.5916358862419079,
          -0.46540652794985776,
          -1.7293639018946085,
          -1.2135524247347476,
          0.1790335731975688,
          -0.5699722220416938,
          -0.729331184902068,
          0.18117369443269593,
          -0.05635246315475032,
          0.39052174181601707,
          -0.6708788277038915,
          0.16103357730047088,
          1.573538234181239,
          -0.1953589263551798,
          0.080368461583438,
          0.2679163855152857,
          -0.15259967498329535,
          1.0616318376628848,
          -0.30502224143898055,
          1.2316319246538674,
          0.32709090752935904,
          -0.7106105752458274,
          0.001081946950240499,
          0.7494594826677379,
          -1.014585852439636,
          -1.128112386980834,
          0.14410131361648543,
          -1.496817504683681,
          -0.19954188369670103,
          1.4413043033258475,
          -0.6074730481305635,
          0.751125846459736,
          1.0867151412356497,
          0.02357154784848277,
          0.09231623762808776,
          -2.955157726525199,
          -0.47205442975871503,
          -1.3673663177768012
         ],
         "yaxis": "y5"
        },
        {
         "histfunc": "count",
         "histnorm": "",
         "marker": {
          "color": "rgba(55, 128, 191, 1.0)",
          "line": {
           "color": "#4D5663",
           "width": 1.3
          }
         },
         "name": "B",
         "nbinsx": 10,
         "opacity": 0.8,
         "orientation": "v",
         "type": "histogram",
         "x": [
          0.5840159608274463,
          -0.6776725469281716,
          -0.08250716750184768,
          -0.6997003696662847,
          -0.02046542339042747,
          1.2973044459174985,
          -0.15269446165195133,
          -1.4060233979928802,
          -0.5155337860657689,
          -0.5736152041925673,
          1.357173046148224,
          0.8500626656020044,
          0.10844955804384164,
          -1.113034086831303,
          1.2664476181631814,
          0.5211478579740425,
          -0.07179164173708667,
          0.1862031755158228,
          -0.7119068102838787,
          0.9585466814679567,
          -0.8427877095541829,
          0.2861755512620451,
          0.5093489326745615,
          0.3787469242895969,
          -0.9445536130992522,
          0.35678791129132764,
          0.3853970213226538,
          0.7413345138100097,
          1.6806051224796448,
          -1.083973295584339,
          0.5506930858378145,
          1.5639483064191257,
          0.8824343297222614,
          -0.10628109258192349,
          -1.4162687762492605,
          0.9289603451115521,
          0.23602352635471763,
          1.1471291497038176,
          0.17164218020853547,
          -0.16497562804589852,
          0.7178070496418821,
          1.045121465527172,
          1.36845378138647,
          -0.5256492280256156,
          -0.37444234869325654,
          -1.2981424632591463,
          -0.9240607988811324,
          0.273143180228173,
          0.9988750799969999,
          -2.0064517053719846,
          0.11444308844932008,
          0.6848583984094578,
          -0.39553800528315075,
          -0.3144745974960851,
          -0.47359674536819757,
          -1.4573494915478733,
          0.174213316035283,
          2.2361965917768685,
          0.17517082060865113,
          2.332184289649614,
          1.7105058808082025,
          -1.706279525783847,
          0.5916358862419079,
          -0.46540652794985776,
          -1.7293639018946085,
          -1.2135524247347476,
          0.1790335731975688,
          -0.5699722220416938,
          -0.729331184902068,
          0.18117369443269593,
          -0.05635246315475032,
          0.39052174181601707,
          -0.6708788277038915,
          0.16103357730047088,
          1.573538234181239,
          -0.1953589263551798,
          0.080368461583438,
          0.2679163855152857,
          -0.15259967498329535,
          1.0616318376628848,
          -0.30502224143898055,
          1.2316319246538674,
          0.32709090752935904,
          -0.7106105752458274,
          0.001081946950240499,
          0.7494594826677379,
          -1.014585852439636,
          -1.128112386980834,
          0.14410131361648543,
          -1.496817504683681,
          -0.19954188369670103,
          1.4413043033258475,
          -0.6074730481305635,
          0.751125846459736,
          1.0867151412356497,
          0.02357154784848277,
          0.09231623762808776,
          -2.955157726525199,
          -0.47205442975871503,
          -1.3673663177768012
         ],
         "xaxis": "x6",
         "yaxis": "y6"
        },
        {
         "line": {
          "color": "rgba(128, 128, 128, 1.0)",
          "dash": "solid",
          "shape": "linear",
          "width": 1.3
         },
         "marker": {
          "size": 2,
          "symbol": "circle"
         },
         "mode": "markers",
         "name": "B",
         "text": "",
         "type": "scatter",
         "x": [
          1.146611563349902,
          -0.761088837254447,
          -1.894326715200364,
          1.3055060471824547,
          -1.471362324415607,
          -2.3930488604815117,
          -0.04190170202730823,
          -0.6396350846980466,
          -0.9416261575912995,
          -0.7043826965259425,
          1.7325352312281856,
          -1.076813115738217,
          0.8603396025752142,
          -1.4178251395331756,
          -1.4083253789742467,
          -0.602432651109036,
          0.31290146941422,
          0.778709647539167,
          -0.04195371993520826,
          1.3092479790070546,
          0.5024571089057162,
          -1.0941808683887777,
          -1.1172154603849271,
          2.7775145279805873,
          -1.061893571149162,
          0.2757159091804494,
          -0.7186291598569715,
          2.2688433033063458,
          -2.277824884002865,
          -0.743477433858718,
          0.9683673922339631,
          1.201535884665647,
          -0.901638704479854,
          2.6392266929089283,
          0.2137313918761221,
          -2.142675022192311,
          -0.9496566315490367,
          0.8872230315510008,
          1.378743203190755,
          0.9740148368482646,
          0.5611615988675017,
          -0.020477945564687874,
          -0.8991496296656757,
          1.0847087999859244,
          -1.349743904416432,
          3.1002726646884287,
          0.10257416112189895,
          1.9304771347749836,
          1.2934402633971205,
          0.10487608323946647,
          -0.4609259112574587,
          2.856069611370185,
          1.3176794164579912,
          -0.05854508129603264,
          -0.9089306349901729,
          -0.009110016830243232,
          -0.4980743288957647,
          -0.23940099558340683,
          0.21721108748891652,
          -0.4530220631071767,
          0.564058289705138,
          -0.7222461918068702,
          0.6062288317920589,
          0.8304113921389529,
          -1.1835001412479258,
          -1.4604444835782933,
          -0.023233979873630836,
          -1.0650385207319413,
          1.0525587248204924,
          -1.1129669269305356,
          1.5295289876160099,
          -0.43917401925437594,
          1.6159452113634347,
          0.2085106909110855,
          -0.08689652728188826,
          -0.04972125600565643,
          0.9620203951830886,
          -0.13860795123980316,
          1.3487885879538584,
          -0.9022259380261738,
          0.6876135458967871,
          -2.1698377517338816,
          -1.7522838477460938,
          1.6873351932539282,
          0.9867778665009651,
          0.8694874167822337,
          1.0995300392341862,
          0.6818766300604583,
          -0.394810347217172,
          -0.2653026971492913,
          0.5872705806142731,
          1.1719476715661912,
          -0.5827424638925532,
          0.7097747174073475,
          0.2180619883892565,
          -0.34802989769291515,
          2.5618683795102646,
          0.5636593733438885,
          0.7095362847844509,
          1.0359247697977372
         ],
         "xaxis": "x7",
         "y": [
          0.5840159608274463,
          -0.6776725469281716,
          -0.08250716750184768,
          -0.6997003696662847,
          -0.02046542339042747,
          1.2973044459174985,
          -0.15269446165195133,
          -1.4060233979928802,
          -0.5155337860657689,
          -0.5736152041925673,
          1.357173046148224,
          0.8500626656020044,
          0.10844955804384164,
          -1.113034086831303,
          1.2664476181631814,
          0.5211478579740425,
          -0.07179164173708667,
          0.1862031755158228,
          -0.7119068102838787,
          0.9585466814679567,
          -0.8427877095541829,
          0.2861755512620451,
          0.5093489326745615,
          0.3787469242895969,
          -0.9445536130992522,
          0.35678791129132764,
          0.3853970213226538,
          0.7413345138100097,
          1.6806051224796448,
          -1.083973295584339,
          0.5506930858378145,
          1.5639483064191257,
          0.8824343297222614,
          -0.10628109258192349,
          -1.4162687762492605,
          0.9289603451115521,
          0.23602352635471763,
          1.1471291497038176,
          0.17164218020853547,
          -0.16497562804589852,
          0.7178070496418821,
          1.045121465527172,
          1.36845378138647,
          -0.5256492280256156,
          -0.37444234869325654,
          -1.2981424632591463,
          -0.9240607988811324,
          0.273143180228173,
          0.9988750799969999,
          -2.0064517053719846,
          0.11444308844932008,
          0.6848583984094578,
          -0.39553800528315075,
          -0.3144745974960851,
          -0.47359674536819757,
          -1.4573494915478733,
          0.174213316035283,
          2.2361965917768685,
          0.17517082060865113,
          2.332184289649614,
          1.7105058808082025,
          -1.706279525783847,
          0.5916358862419079,
          -0.46540652794985776,
          -1.7293639018946085,
          -1.2135524247347476,
          0.1790335731975688,
          -0.5699722220416938,
          -0.729331184902068,
          0.18117369443269593,
          -0.05635246315475032,
          0.39052174181601707,
          -0.6708788277038915,
          0.16103357730047088,
          1.573538234181239,
          -0.1953589263551798,
          0.080368461583438,
          0.2679163855152857,
          -0.15259967498329535,
          1.0616318376628848,
          -0.30502224143898055,
          1.2316319246538674,
          0.32709090752935904,
          -0.7106105752458274,
          0.001081946950240499,
          0.7494594826677379,
          -1.014585852439636,
          -1.128112386980834,
          0.14410131361648543,
          -1.496817504683681,
          -0.19954188369670103,
          1.4413043033258475,
          -0.6074730481305635,
          0.751125846459736,
          1.0867151412356497,
          0.02357154784848277,
          0.09231623762808776,
          -2.955157726525199,
          -0.47205442975871503,
          -1.3673663177768012
         ],
         "yaxis": "y7"
        },
        {
         "line": {
          "color": "rgba(128, 128, 128, 1.0)",
          "dash": "solid",
          "shape": "linear",
          "width": 1.3
         },
         "marker": {
          "size": 2,
          "symbol": "circle"
         },
         "mode": "markers",
         "name": "B",
         "text": "",
         "type": "scatter",
         "x": [
          -0.17578973646317267,
          0.9278787400021398,
          -2.182677449913249,
          -2.396345023289566,
          0.48003741625709717,
          1.047518960575716,
          0.6100754852066674,
          -1.344179890686052,
          -1.1076326225860527,
          0.09301750944256627,
          0.5730312508830305,
          0.040432820293545835,
          1.1704259371606005,
          1.1510426286129267,
          -0.8138276275203944,
          -1.0968760151570967,
          0.08287078650187739,
          0.44319682155805257,
          -1.1582566186046355,
          0.8478621255692413,
          0.37660234824212485,
          0.11541673470683698,
          0.8988970774782885,
          0.13502754966225816,
          0.055944855853168905,
          -0.5744849746557522,
          0.28514102801490915,
          -1.4873030247313328,
          0.13022992101504688,
          0.2128575152251287,
          -0.14843777892871812,
          2.2880178719646524,
          -1.0502900218838402,
          0.5139741114262346,
          -0.20538383385912667,
          -1.725654753319287,
          -1.177971112937363,
          0.8957472535103304,
          1.6416059835990289,
          1.2336185344248412,
          -0.6772354531053224,
          -1.6445488147688594,
          0.02965654557736246,
          -1.1263933501160905,
          -0.1095058207538614,
          0.008232092411066915,
          0.8106473027651468,
          0.11364464185815298,
          0.7694218655173967,
          0.6468768797381542,
          -0.6944197325249837,
          1.1892392361790933,
          1.1878227747892696,
          -0.361155188586217,
          -1.511266963805173,
          -0.49790628823983446,
          1.9995572586627042,
          -1.1385309643498227,
          1.9075093889669785,
          -0.24652352769978877,
          0.8864608442812109,
          0.9218171539005922,
          0.9946321675922722,
          0.3794411477043499,
          0.17687000782678514,
          0.5340926886161836,
          0.7281931522486161,
          -0.5443279073908619,
          1.214410332690026,
          -0.06955844511028561,
          0.3778993656796964,
          0.96915492911502,
          -0.2796307174958231,
          -0.2963225746161983,
          -0.9817827002750537,
          -0.343294377381208,
          -0.7137835769329658,
          0.24207442443395807,
          0.30067768158565417,
          -0.10212944731863574,
          1.142641606505229,
          0.469865477326826,
          0.30919517777698313,
          0.7779946172803213,
          0.03185003902106065,
          -0.4342313894982847,
          -1.4298458973499455,
          0.38111256087461426,
          2.0155880426859003,
          1.38363513778326,
          0.7314112707662803,
          1.7970850998799364,
          0.5592199756951292,
          0.05317021511645505,
          0.3160459453040408,
          0.5911502889048841,
          0.743269569699162,
          1.3920743118952654,
          -1.3364864170711663,
          -0.08316266473902233
         ],
         "xaxis": "x8",
         "y": [
          0.5840159608274463,
          -0.6776725469281716,
          -0.08250716750184768,
          -0.6997003696662847,
          -0.02046542339042747,
          1.2973044459174985,
          -0.15269446165195133,
          -1.4060233979928802,
          -0.5155337860657689,
          -0.5736152041925673,
          1.357173046148224,
          0.8500626656020044,
          0.10844955804384164,
          -1.113034086831303,
          1.2664476181631814,
          0.5211478579740425,
          -0.07179164173708667,
          0.1862031755158228,
          -0.7119068102838787,
          0.9585466814679567,
          -0.8427877095541829,
          0.2861755512620451,
          0.5093489326745615,
          0.3787469242895969,
          -0.9445536130992522,
          0.35678791129132764,
          0.3853970213226538,
          0.7413345138100097,
          1.6806051224796448,
          -1.083973295584339,
          0.5506930858378145,
          1.5639483064191257,
          0.8824343297222614,
          -0.10628109258192349,
          -1.4162687762492605,
          0.9289603451115521,
          0.23602352635471763,
          1.1471291497038176,
          0.17164218020853547,
          -0.16497562804589852,
          0.7178070496418821,
          1.045121465527172,
          1.36845378138647,
          -0.5256492280256156,
          -0.37444234869325654,
          -1.2981424632591463,
          -0.9240607988811324,
          0.273143180228173,
          0.9988750799969999,
          -2.0064517053719846,
          0.11444308844932008,
          0.6848583984094578,
          -0.39553800528315075,
          -0.3144745974960851,
          -0.47359674536819757,
          -1.4573494915478733,
          0.174213316035283,
          2.2361965917768685,
          0.17517082060865113,
          2.332184289649614,
          1.7105058808082025,
          -1.706279525783847,
          0.5916358862419079,
          -0.46540652794985776,
          -1.7293639018946085,
          -1.2135524247347476,
          0.1790335731975688,
          -0.5699722220416938,
          -0.729331184902068,
          0.18117369443269593,
          -0.05635246315475032,
          0.39052174181601707,
          -0.6708788277038915,
          0.16103357730047088,
          1.573538234181239,
          -0.1953589263551798,
          0.080368461583438,
          0.2679163855152857,
          -0.15259967498329535,
          1.0616318376628848,
          -0.30502224143898055,
          1.2316319246538674,
          0.32709090752935904,
          -0.7106105752458274,
          0.001081946950240499,
          0.7494594826677379,
          -1.014585852439636,
          -1.128112386980834,
          0.14410131361648543,
          -1.496817504683681,
          -0.19954188369670103,
          1.4413043033258475,
          -0.6074730481305635,
          0.751125846459736,
          1.0867151412356497,
          0.02357154784848277,
          0.09231623762808776,
          -2.955157726525199,
          -0.47205442975871503,
          -1.3673663177768012
         ],
         "yaxis": "y8"
        },
        {
         "line": {
          "color": "rgba(128, 128, 128, 1.0)",
          "dash": "solid",
          "shape": "linear",
          "width": 1.3
         },
         "marker": {
          "size": 2,
          "symbol": "circle"
         },
         "mode": "markers",
         "name": "C",
         "text": "",
         "type": "scatter",
         "x": [
          -0.32437935932286105,
          0.6507786303830336,
          -0.3895435206998073,
          0.09605366978079674,
          0.8197362293541232,
          -2.1736614086387034,
          0.5447989087977978,
          -0.48026307852395245,
          -0.9312791112381261,
          1.0234457605227858,
          2.602895318314027,
          0.22413905009816462,
          -0.821227335088624,
          -0.3856451712519905,
          0.8111171832248476,
          0.020787549685838753,
          1.0456525715167484,
          -0.46999110891348045,
          -1.8031559479012809,
          1.6790145550113407,
          -0.10326521597651746,
          -0.0699982364634295,
          0.0682181566995542,
          1.7559799602251849,
          -0.8835006562676381,
          0.08438188434314217,
          -0.3118089076470192,
          -0.14808980061376903,
          0.043576355483198256,
          0.3420442997233026,
          0.11894325264568689,
          -0.2577134208535056,
          0.6978036228013325,
          0.6113101405984447,
          -0.8642860355006269,
          1.0386104714627757,
          -0.5454469660239857,
          0.37359152088305875,
          -0.207414871750417,
          -0.2766082626107455,
          -0.09232179563923242,
          -0.22322258357986602,
          -0.2750041129199989,
          -0.6462565804188576,
          -0.7564544188020607,
          -0.3935935702016708,
          -0.6201830686920962,
          0.5032563482950011,
          -0.3400791520044989,
          -0.7217213231087968,
          0.03735172569908848,
          -1.3387465776407153,
          1.26320480969486,
          1.0391940167060385,
          0.07527735447324392,
          -0.04637228755826521,
          0.2407108736349752,
          0.6718242356571152,
          -0.5874185371180319,
          -0.05166639315432059,
          0.28546671957252895,
          -0.8393723817660538,
          3.6920994601597235,
          0.7140374705521528,
          -2.0311390810199197,
          -0.7656104217463565,
          -0.5706747095329012,
          1.44720934904325,
          -0.04684225993129464,
          1.7666836707342357,
          -0.25712128759980896,
          -0.7486717414586884,
          -0.14404899072278207,
          -2.847694864973696,
          0.5055476900344904,
          -0.9777980182604501,
          -0.3404777125900365,
          0.49896061289322263,
          -1.2666980908052186,
          -0.14298323017857129,
          -0.33134176695795176,
          -0.32793980022794733,
          -1.3223083663276318,
          -0.7638233684150882,
          -2.193080206212569,
          0.9998229351057568,
          0.636695813978981,
          -0.20155103698415303,
          1.4901288953563878,
          -1.5565718214852045,
          -0.7254474963551272,
          0.1256470565777697,
          1.445946008831829,
          -0.60092975865266,
          0.9270945867676877,
          1.2287517941705062,
          0.7216832535913091,
          -1.939902333371826,
          -1.3338304167761876,
          0.6727881223318196
         ],
         "xaxis": "x9",
         "y": [
          1.146611563349902,
          -0.761088837254447,
          -1.894326715200364,
          1.3055060471824547,
          -1.471362324415607,
          -2.3930488604815117,
          -0.04190170202730823,
          -0.6396350846980466,
          -0.9416261575912995,
          -0.7043826965259425,
          1.7325352312281856,
          -1.076813115738217,
          0.8603396025752142,
          -1.4178251395331756,
          -1.4083253789742467,
          -0.602432651109036,
          0.31290146941422,
          0.778709647539167,
          -0.04195371993520826,
          1.3092479790070546,
          0.5024571089057162,
          -1.0941808683887777,
          -1.1172154603849271,
          2.7775145279805873,
          -1.061893571149162,
          0.2757159091804494,
          -0.7186291598569715,
          2.2688433033063458,
          -2.277824884002865,
          -0.743477433858718,
          0.9683673922339631,
          1.201535884665647,
          -0.901638704479854,
          2.6392266929089283,
          0.2137313918761221,
          -2.142675022192311,
          -0.9496566315490367,
          0.8872230315510008,
          1.378743203190755,
          0.9740148368482646,
          0.5611615988675017,
          -0.020477945564687874,
          -0.8991496296656757,
          1.0847087999859244,
          -1.349743904416432,
          3.1002726646884287,
          0.10257416112189895,
          1.9304771347749836,
          1.2934402633971205,
          0.10487608323946647,
          -0.4609259112574587,
          2.856069611370185,
          1.3176794164579912,
          -0.05854508129603264,
          -0.9089306349901729,
          -0.009110016830243232,
          -0.4980743288957647,
          -0.23940099558340683,
          0.21721108748891652,
          -0.4530220631071767,
          0.564058289705138,
          -0.7222461918068702,
          0.6062288317920589,
          0.8304113921389529,
          -1.1835001412479258,
          -1.4604444835782933,
          -0.023233979873630836,
          -1.0650385207319413,
          1.0525587248204924,
          -1.1129669269305356,
          1.5295289876160099,
          -0.43917401925437594,
          1.6159452113634347,
          0.2085106909110855,
          -0.08689652728188826,
          -0.04972125600565643,
          0.9620203951830886,
          -0.13860795123980316,
          1.3487885879538584,
          -0.9022259380261738,
          0.6876135458967871,
          -2.1698377517338816,
          -1.7522838477460938,
          1.6873351932539282,
          0.9867778665009651,
          0.8694874167822337,
          1.0995300392341862,
          0.6818766300604583,
          -0.394810347217172,
          -0.2653026971492913,
          0.5872705806142731,
          1.1719476715661912,
          -0.5827424638925532,
          0.7097747174073475,
          0.2180619883892565,
          -0.34802989769291515,
          2.5618683795102646,
          0.5636593733438885,
          0.7095362847844509,
          1.0359247697977372
         ],
         "yaxis": "y9"
        },
        {
         "line": {
          "color": "rgba(128, 128, 128, 1.0)",
          "dash": "solid",
          "shape": "linear",
          "width": 1.3
         },
         "marker": {
          "size": 2,
          "symbol": "circle"
         },
         "mode": "markers",
         "name": "C",
         "text": "",
         "type": "scatter",
         "x": [
          0.5840159608274463,
          -0.6776725469281716,
          -0.08250716750184768,
          -0.6997003696662847,
          -0.02046542339042747,
          1.2973044459174985,
          -0.15269446165195133,
          -1.4060233979928802,
          -0.5155337860657689,
          -0.5736152041925673,
          1.357173046148224,
          0.8500626656020044,
          0.10844955804384164,
          -1.113034086831303,
          1.2664476181631814,
          0.5211478579740425,
          -0.07179164173708667,
          0.1862031755158228,
          -0.7119068102838787,
          0.9585466814679567,
          -0.8427877095541829,
          0.2861755512620451,
          0.5093489326745615,
          0.3787469242895969,
          -0.9445536130992522,
          0.35678791129132764,
          0.3853970213226538,
          0.7413345138100097,
          1.6806051224796448,
          -1.083973295584339,
          0.5506930858378145,
          1.5639483064191257,
          0.8824343297222614,
          -0.10628109258192349,
          -1.4162687762492605,
          0.9289603451115521,
          0.23602352635471763,
          1.1471291497038176,
          0.17164218020853547,
          -0.16497562804589852,
          0.7178070496418821,
          1.045121465527172,
          1.36845378138647,
          -0.5256492280256156,
          -0.37444234869325654,
          -1.2981424632591463,
          -0.9240607988811324,
          0.273143180228173,
          0.9988750799969999,
          -2.0064517053719846,
          0.11444308844932008,
          0.6848583984094578,
          -0.39553800528315075,
          -0.3144745974960851,
          -0.47359674536819757,
          -1.4573494915478733,
          0.174213316035283,
          2.2361965917768685,
          0.17517082060865113,
          2.332184289649614,
          1.7105058808082025,
          -1.706279525783847,
          0.5916358862419079,
          -0.46540652794985776,
          -1.7293639018946085,
          -1.2135524247347476,
          0.1790335731975688,
          -0.5699722220416938,
          -0.729331184902068,
          0.18117369443269593,
          -0.05635246315475032,
          0.39052174181601707,
          -0.6708788277038915,
          0.16103357730047088,
          1.573538234181239,
          -0.1953589263551798,
          0.080368461583438,
          0.2679163855152857,
          -0.15259967498329535,
          1.0616318376628848,
          -0.30502224143898055,
          1.2316319246538674,
          0.32709090752935904,
          -0.7106105752458274,
          0.001081946950240499,
          0.7494594826677379,
          -1.014585852439636,
          -1.128112386980834,
          0.14410131361648543,
          -1.496817504683681,
          -0.19954188369670103,
          1.4413043033258475,
          -0.6074730481305635,
          0.751125846459736,
          1.0867151412356497,
          0.02357154784848277,
          0.09231623762808776,
          -2.955157726525199,
          -0.47205442975871503,
          -1.3673663177768012
         ],
         "xaxis": "x10",
         "y": [
          1.146611563349902,
          -0.761088837254447,
          -1.894326715200364,
          1.3055060471824547,
          -1.471362324415607,
          -2.3930488604815117,
          -0.04190170202730823,
          -0.6396350846980466,
          -0.9416261575912995,
          -0.7043826965259425,
          1.7325352312281856,
          -1.076813115738217,
          0.8603396025752142,
          -1.4178251395331756,
          -1.4083253789742467,
          -0.602432651109036,
          0.31290146941422,
          0.778709647539167,
          -0.04195371993520826,
          1.3092479790070546,
          0.5024571089057162,
          -1.0941808683887777,
          -1.1172154603849271,
          2.7775145279805873,
          -1.061893571149162,
          0.2757159091804494,
          -0.7186291598569715,
          2.2688433033063458,
          -2.277824884002865,
          -0.743477433858718,
          0.9683673922339631,
          1.201535884665647,
          -0.901638704479854,
          2.6392266929089283,
          0.2137313918761221,
          -2.142675022192311,
          -0.9496566315490367,
          0.8872230315510008,
          1.378743203190755,
          0.9740148368482646,
          0.5611615988675017,
          -0.020477945564687874,
          -0.8991496296656757,
          1.0847087999859244,
          -1.349743904416432,
          3.1002726646884287,
          0.10257416112189895,
          1.9304771347749836,
          1.2934402633971205,
          0.10487608323946647,
          -0.4609259112574587,
          2.856069611370185,
          1.3176794164579912,
          -0.05854508129603264,
          -0.9089306349901729,
          -0.009110016830243232,
          -0.4980743288957647,
          -0.23940099558340683,
          0.21721108748891652,
          -0.4530220631071767,
          0.564058289705138,
          -0.7222461918068702,
          0.6062288317920589,
          0.8304113921389529,
          -1.1835001412479258,
          -1.4604444835782933,
          -0.023233979873630836,
          -1.0650385207319413,
          1.0525587248204924,
          -1.1129669269305356,
          1.5295289876160099,
          -0.43917401925437594,
          1.6159452113634347,
          0.2085106909110855,
          -0.08689652728188826,
          -0.04972125600565643,
          0.9620203951830886,
          -0.13860795123980316,
          1.3487885879538584,
          -0.9022259380261738,
          0.6876135458967871,
          -2.1698377517338816,
          -1.7522838477460938,
          1.6873351932539282,
          0.9867778665009651,
          0.8694874167822337,
          1.0995300392341862,
          0.6818766300604583,
          -0.394810347217172,
          -0.2653026971492913,
          0.5872705806142731,
          1.1719476715661912,
          -0.5827424638925532,
          0.7097747174073475,
          0.2180619883892565,
          -0.34802989769291515,
          2.5618683795102646,
          0.5636593733438885,
          0.7095362847844509,
          1.0359247697977372
         ],
         "yaxis": "y10"
        },
        {
         "histfunc": "count",
         "histnorm": "",
         "marker": {
          "color": "rgba(50, 171, 96, 1.0)",
          "line": {
           "color": "#4D5663",
           "width": 1.3
          }
         },
         "name": "C",
         "nbinsx": 10,
         "opacity": 0.8,
         "orientation": "v",
         "type": "histogram",
         "x": [
          1.146611563349902,
          -0.761088837254447,
          -1.894326715200364,
          1.3055060471824547,
          -1.471362324415607,
          -2.3930488604815117,
          -0.04190170202730823,
          -0.6396350846980466,
          -0.9416261575912995,
          -0.7043826965259425,
          1.7325352312281856,
          -1.076813115738217,
          0.8603396025752142,
          -1.4178251395331756,
          -1.4083253789742467,
          -0.602432651109036,
          0.31290146941422,
          0.778709647539167,
          -0.04195371993520826,
          1.3092479790070546,
          0.5024571089057162,
          -1.0941808683887777,
          -1.1172154603849271,
          2.7775145279805873,
          -1.061893571149162,
          0.2757159091804494,
          -0.7186291598569715,
          2.2688433033063458,
          -2.277824884002865,
          -0.743477433858718,
          0.9683673922339631,
          1.201535884665647,
          -0.901638704479854,
          2.6392266929089283,
          0.2137313918761221,
          -2.142675022192311,
          -0.9496566315490367,
          0.8872230315510008,
          1.378743203190755,
          0.9740148368482646,
          0.5611615988675017,
          -0.020477945564687874,
          -0.8991496296656757,
          1.0847087999859244,
          -1.349743904416432,
          3.1002726646884287,
          0.10257416112189895,
          1.9304771347749836,
          1.2934402633971205,
          0.10487608323946647,
          -0.4609259112574587,
          2.856069611370185,
          1.3176794164579912,
          -0.05854508129603264,
          -0.9089306349901729,
          -0.009110016830243232,
          -0.4980743288957647,
          -0.23940099558340683,
          0.21721108748891652,
          -0.4530220631071767,
          0.564058289705138,
          -0.7222461918068702,
          0.6062288317920589,
          0.8304113921389529,
          -1.1835001412479258,
          -1.4604444835782933,
          -0.023233979873630836,
          -1.0650385207319413,
          1.0525587248204924,
          -1.1129669269305356,
          1.5295289876160099,
          -0.43917401925437594,
          1.6159452113634347,
          0.2085106909110855,
          -0.08689652728188826,
          -0.04972125600565643,
          0.9620203951830886,
          -0.13860795123980316,
          1.3487885879538584,
          -0.9022259380261738,
          0.6876135458967871,
          -2.1698377517338816,
          -1.7522838477460938,
          1.6873351932539282,
          0.9867778665009651,
          0.8694874167822337,
          1.0995300392341862,
          0.6818766300604583,
          -0.394810347217172,
          -0.2653026971492913,
          0.5872705806142731,
          1.1719476715661912,
          -0.5827424638925532,
          0.7097747174073475,
          0.2180619883892565,
          -0.34802989769291515,
          2.5618683795102646,
          0.5636593733438885,
          0.7095362847844509,
          1.0359247697977372
         ],
         "xaxis": "x11",
         "yaxis": "y11"
        },
        {
         "line": {
          "color": "rgba(128, 128, 128, 1.0)",
          "dash": "solid",
          "shape": "linear",
          "width": 1.3
         },
         "marker": {
          "size": 2,
          "symbol": "circle"
         },
         "mode": "markers",
         "name": "C",
         "text": "",
         "type": "scatter",
         "x": [
          -0.17578973646317267,
          0.9278787400021398,
          -2.182677449913249,
          -2.396345023289566,
          0.48003741625709717,
          1.047518960575716,
          0.6100754852066674,
          -1.344179890686052,
          -1.1076326225860527,
          0.09301750944256627,
          0.5730312508830305,
          0.040432820293545835,
          1.1704259371606005,
          1.1510426286129267,
          -0.8138276275203944,
          -1.0968760151570967,
          0.08287078650187739,
          0.44319682155805257,
          -1.1582566186046355,
          0.8478621255692413,
          0.37660234824212485,
          0.11541673470683698,
          0.8988970774782885,
          0.13502754966225816,
          0.055944855853168905,
          -0.5744849746557522,
          0.28514102801490915,
          -1.4873030247313328,
          0.13022992101504688,
          0.2128575152251287,
          -0.14843777892871812,
          2.2880178719646524,
          -1.0502900218838402,
          0.5139741114262346,
          -0.20538383385912667,
          -1.725654753319287,
          -1.177971112937363,
          0.8957472535103304,
          1.6416059835990289,
          1.2336185344248412,
          -0.6772354531053224,
          -1.6445488147688594,
          0.02965654557736246,
          -1.1263933501160905,
          -0.1095058207538614,
          0.008232092411066915,
          0.8106473027651468,
          0.11364464185815298,
          0.7694218655173967,
          0.6468768797381542,
          -0.6944197325249837,
          1.1892392361790933,
          1.1878227747892696,
          -0.361155188586217,
          -1.511266963805173,
          -0.49790628823983446,
          1.9995572586627042,
          -1.1385309643498227,
          1.9075093889669785,
          -0.24652352769978877,
          0.8864608442812109,
          0.9218171539005922,
          0.9946321675922722,
          0.3794411477043499,
          0.17687000782678514,
          0.5340926886161836,
          0.7281931522486161,
          -0.5443279073908619,
          1.214410332690026,
          -0.06955844511028561,
          0.3778993656796964,
          0.96915492911502,
          -0.2796307174958231,
          -0.2963225746161983,
          -0.9817827002750537,
          -0.343294377381208,
          -0.7137835769329658,
          0.24207442443395807,
          0.30067768158565417,
          -0.10212944731863574,
          1.142641606505229,
          0.469865477326826,
          0.30919517777698313,
          0.7779946172803213,
          0.03185003902106065,
          -0.4342313894982847,
          -1.4298458973499455,
          0.38111256087461426,
          2.0155880426859003,
          1.38363513778326,
          0.7314112707662803,
          1.7970850998799364,
          0.5592199756951292,
          0.05317021511645505,
          0.3160459453040408,
          0.5911502889048841,
          0.743269569699162,
          1.3920743118952654,
          -1.3364864170711663,
          -0.08316266473902233
         ],
         "xaxis": "x12",
         "y": [
          1.146611563349902,
          -0.761088837254447,
          -1.894326715200364,
          1.3055060471824547,
          -1.471362324415607,
          -2.3930488604815117,
          -0.04190170202730823,
          -0.6396350846980466,
          -0.9416261575912995,
          -0.7043826965259425,
          1.7325352312281856,
          -1.076813115738217,
          0.8603396025752142,
          -1.4178251395331756,
          -1.4083253789742467,
          -0.602432651109036,
          0.31290146941422,
          0.778709647539167,
          -0.04195371993520826,
          1.3092479790070546,
          0.5024571089057162,
          -1.0941808683887777,
          -1.1172154603849271,
          2.7775145279805873,
          -1.061893571149162,
          0.2757159091804494,
          -0.7186291598569715,
          2.2688433033063458,
          -2.277824884002865,
          -0.743477433858718,
          0.9683673922339631,
          1.201535884665647,
          -0.901638704479854,
          2.6392266929089283,
          0.2137313918761221,
          -2.142675022192311,
          -0.9496566315490367,
          0.8872230315510008,
          1.378743203190755,
          0.9740148368482646,
          0.5611615988675017,
          -0.020477945564687874,
          -0.8991496296656757,
          1.0847087999859244,
          -1.349743904416432,
          3.1002726646884287,
          0.10257416112189895,
          1.9304771347749836,
          1.2934402633971205,
          0.10487608323946647,
          -0.4609259112574587,
          2.856069611370185,
          1.3176794164579912,
          -0.05854508129603264,
          -0.9089306349901729,
          -0.009110016830243232,
          -0.4980743288957647,
          -0.23940099558340683,
          0.21721108748891652,
          -0.4530220631071767,
          0.564058289705138,
          -0.7222461918068702,
          0.6062288317920589,
          0.8304113921389529,
          -1.1835001412479258,
          -1.4604444835782933,
          -0.023233979873630836,
          -1.0650385207319413,
          1.0525587248204924,
          -1.1129669269305356,
          1.5295289876160099,
          -0.43917401925437594,
          1.6159452113634347,
          0.2085106909110855,
          -0.08689652728188826,
          -0.04972125600565643,
          0.9620203951830886,
          -0.13860795123980316,
          1.3487885879538584,
          -0.9022259380261738,
          0.6876135458967871,
          -2.1698377517338816,
          -1.7522838477460938,
          1.6873351932539282,
          0.9867778665009651,
          0.8694874167822337,
          1.0995300392341862,
          0.6818766300604583,
          -0.394810347217172,
          -0.2653026971492913,
          0.5872705806142731,
          1.1719476715661912,
          -0.5827424638925532,
          0.7097747174073475,
          0.2180619883892565,
          -0.34802989769291515,
          2.5618683795102646,
          0.5636593733438885,
          0.7095362847844509,
          1.0359247697977372
         ],
         "yaxis": "y12"
        },
        {
         "line": {
          "color": "rgba(128, 128, 128, 1.0)",
          "dash": "solid",
          "shape": "linear",
          "width": 1.3
         },
         "marker": {
          "size": 2,
          "symbol": "circle"
         },
         "mode": "markers",
         "name": "D",
         "text": "",
         "type": "scatter",
         "x": [
          -0.32437935932286105,
          0.6507786303830336,
          -0.3895435206998073,
          0.09605366978079674,
          0.8197362293541232,
          -2.1736614086387034,
          0.5447989087977978,
          -0.48026307852395245,
          -0.9312791112381261,
          1.0234457605227858,
          2.602895318314027,
          0.22413905009816462,
          -0.821227335088624,
          -0.3856451712519905,
          0.8111171832248476,
          0.020787549685838753,
          1.0456525715167484,
          -0.46999110891348045,
          -1.8031559479012809,
          1.6790145550113407,
          -0.10326521597651746,
          -0.0699982364634295,
          0.0682181566995542,
          1.7559799602251849,
          -0.8835006562676381,
          0.08438188434314217,
          -0.3118089076470192,
          -0.14808980061376903,
          0.043576355483198256,
          0.3420442997233026,
          0.11894325264568689,
          -0.2577134208535056,
          0.6978036228013325,
          0.6113101405984447,
          -0.8642860355006269,
          1.0386104714627757,
          -0.5454469660239857,
          0.37359152088305875,
          -0.207414871750417,
          -0.2766082626107455,
          -0.09232179563923242,
          -0.22322258357986602,
          -0.2750041129199989,
          -0.6462565804188576,
          -0.7564544188020607,
          -0.3935935702016708,
          -0.6201830686920962,
          0.5032563482950011,
          -0.3400791520044989,
          -0.7217213231087968,
          0.03735172569908848,
          -1.3387465776407153,
          1.26320480969486,
          1.0391940167060385,
          0.07527735447324392,
          -0.04637228755826521,
          0.2407108736349752,
          0.6718242356571152,
          -0.5874185371180319,
          -0.05166639315432059,
          0.28546671957252895,
          -0.8393723817660538,
          3.6920994601597235,
          0.7140374705521528,
          -2.0311390810199197,
          -0.7656104217463565,
          -0.5706747095329012,
          1.44720934904325,
          -0.04684225993129464,
          1.7666836707342357,
          -0.25712128759980896,
          -0.7486717414586884,
          -0.14404899072278207,
          -2.847694864973696,
          0.5055476900344904,
          -0.9777980182604501,
          -0.3404777125900365,
          0.49896061289322263,
          -1.2666980908052186,
          -0.14298323017857129,
          -0.33134176695795176,
          -0.32793980022794733,
          -1.3223083663276318,
          -0.7638233684150882,
          -2.193080206212569,
          0.9998229351057568,
          0.636695813978981,
          -0.20155103698415303,
          1.4901288953563878,
          -1.5565718214852045,
          -0.7254474963551272,
          0.1256470565777697,
          1.445946008831829,
          -0.60092975865266,
          0.9270945867676877,
          1.2287517941705062,
          0.7216832535913091,
          -1.939902333371826,
          -1.3338304167761876,
          0.6727881223318196
         ],
         "xaxis": "x13",
         "y": [
          -0.17578973646317267,
          0.9278787400021398,
          -2.182677449913249,
          -2.396345023289566,
          0.48003741625709717,
          1.047518960575716,
          0.6100754852066674,
          -1.344179890686052,
          -1.1076326225860527,
          0.09301750944256627,
          0.5730312508830305,
          0.040432820293545835,
          1.1704259371606005,
          1.1510426286129267,
          -0.8138276275203944,
          -1.0968760151570967,
          0.08287078650187739,
          0.44319682155805257,
          -1.1582566186046355,
          0.8478621255692413,
          0.37660234824212485,
          0.11541673470683698,
          0.8988970774782885,
          0.13502754966225816,
          0.055944855853168905,
          -0.5744849746557522,
          0.28514102801490915,
          -1.4873030247313328,
          0.13022992101504688,
          0.2128575152251287,
          -0.14843777892871812,
          2.2880178719646524,
          -1.0502900218838402,
          0.5139741114262346,
          -0.20538383385912667,
          -1.725654753319287,
          -1.177971112937363,
          0.8957472535103304,
          1.6416059835990289,
          1.2336185344248412,
          -0.6772354531053224,
          -1.6445488147688594,
          0.02965654557736246,
          -1.1263933501160905,
          -0.1095058207538614,
          0.008232092411066915,
          0.8106473027651468,
          0.11364464185815298,
          0.7694218655173967,
          0.6468768797381542,
          -0.6944197325249837,
          1.1892392361790933,
          1.1878227747892696,
          -0.361155188586217,
          -1.511266963805173,
          -0.49790628823983446,
          1.9995572586627042,
          -1.1385309643498227,
          1.9075093889669785,
          -0.24652352769978877,
          0.8864608442812109,
          0.9218171539005922,
          0.9946321675922722,
          0.3794411477043499,
          0.17687000782678514,
          0.5340926886161836,
          0.7281931522486161,
          -0.5443279073908619,
          1.214410332690026,
          -0.06955844511028561,
          0.3778993656796964,
          0.96915492911502,
          -0.2796307174958231,
          -0.2963225746161983,
          -0.9817827002750537,
          -0.343294377381208,
          -0.7137835769329658,
          0.24207442443395807,
          0.30067768158565417,
          -0.10212944731863574,
          1.142641606505229,
          0.469865477326826,
          0.30919517777698313,
          0.7779946172803213,
          0.03185003902106065,
          -0.4342313894982847,
          -1.4298458973499455,
          0.38111256087461426,
          2.0155880426859003,
          1.38363513778326,
          0.7314112707662803,
          1.7970850998799364,
          0.5592199756951292,
          0.05317021511645505,
          0.3160459453040408,
          0.5911502889048841,
          0.743269569699162,
          1.3920743118952654,
          -1.3364864170711663,
          -0.08316266473902233
         ],
         "yaxis": "y13"
        },
        {
         "line": {
          "color": "rgba(128, 128, 128, 1.0)",
          "dash": "solid",
          "shape": "linear",
          "width": 1.3
         },
         "marker": {
          "size": 2,
          "symbol": "circle"
         },
         "mode": "markers",
         "name": "D",
         "text": "",
         "type": "scatter",
         "x": [
          0.5840159608274463,
          -0.6776725469281716,
          -0.08250716750184768,
          -0.6997003696662847,
          -0.02046542339042747,
          1.2973044459174985,
          -0.15269446165195133,
          -1.4060233979928802,
          -0.5155337860657689,
          -0.5736152041925673,
          1.357173046148224,
          0.8500626656020044,
          0.10844955804384164,
          -1.113034086831303,
          1.2664476181631814,
          0.5211478579740425,
          -0.07179164173708667,
          0.1862031755158228,
          -0.7119068102838787,
          0.9585466814679567,
          -0.8427877095541829,
          0.2861755512620451,
          0.5093489326745615,
          0.3787469242895969,
          -0.9445536130992522,
          0.35678791129132764,
          0.3853970213226538,
          0.7413345138100097,
          1.6806051224796448,
          -1.083973295584339,
          0.5506930858378145,
          1.5639483064191257,
          0.8824343297222614,
          -0.10628109258192349,
          -1.4162687762492605,
          0.9289603451115521,
          0.23602352635471763,
          1.1471291497038176,
          0.17164218020853547,
          -0.16497562804589852,
          0.7178070496418821,
          1.045121465527172,
          1.36845378138647,
          -0.5256492280256156,
          -0.37444234869325654,
          -1.2981424632591463,
          -0.9240607988811324,
          0.273143180228173,
          0.9988750799969999,
          -2.0064517053719846,
          0.11444308844932008,
          0.6848583984094578,
          -0.39553800528315075,
          -0.3144745974960851,
          -0.47359674536819757,
          -1.4573494915478733,
          0.174213316035283,
          2.2361965917768685,
          0.17517082060865113,
          2.332184289649614,
          1.7105058808082025,
          -1.706279525783847,
          0.5916358862419079,
          -0.46540652794985776,
          -1.7293639018946085,
          -1.2135524247347476,
          0.1790335731975688,
          -0.5699722220416938,
          -0.729331184902068,
          0.18117369443269593,
          -0.05635246315475032,
          0.39052174181601707,
          -0.6708788277038915,
          0.16103357730047088,
          1.573538234181239,
          -0.1953589263551798,
          0.080368461583438,
          0.2679163855152857,
          -0.15259967498329535,
          1.0616318376628848,
          -0.30502224143898055,
          1.2316319246538674,
          0.32709090752935904,
          -0.7106105752458274,
          0.001081946950240499,
          0.7494594826677379,
          -1.014585852439636,
          -1.128112386980834,
          0.14410131361648543,
          -1.496817504683681,
          -0.19954188369670103,
          1.4413043033258475,
          -0.6074730481305635,
          0.751125846459736,
          1.0867151412356497,
          0.02357154784848277,
          0.09231623762808776,
          -2.955157726525199,
          -0.47205442975871503,
          -1.3673663177768012
         ],
         "xaxis": "x14",
         "y": [
          -0.17578973646317267,
          0.9278787400021398,
          -2.182677449913249,
          -2.396345023289566,
          0.48003741625709717,
          1.047518960575716,
          0.6100754852066674,
          -1.344179890686052,
          -1.1076326225860527,
          0.09301750944256627,
          0.5730312508830305,
          0.040432820293545835,
          1.1704259371606005,
          1.1510426286129267,
          -0.8138276275203944,
          -1.0968760151570967,
          0.08287078650187739,
          0.44319682155805257,
          -1.1582566186046355,
          0.8478621255692413,
          0.37660234824212485,
          0.11541673470683698,
          0.8988970774782885,
          0.13502754966225816,
          0.055944855853168905,
          -0.5744849746557522,
          0.28514102801490915,
          -1.4873030247313328,
          0.13022992101504688,
          0.2128575152251287,
          -0.14843777892871812,
          2.2880178719646524,
          -1.0502900218838402,
          0.5139741114262346,
          -0.20538383385912667,
          -1.725654753319287,
          -1.177971112937363,
          0.8957472535103304,
          1.6416059835990289,
          1.2336185344248412,
          -0.6772354531053224,
          -1.6445488147688594,
          0.02965654557736246,
          -1.1263933501160905,
          -0.1095058207538614,
          0.008232092411066915,
          0.8106473027651468,
          0.11364464185815298,
          0.7694218655173967,
          0.6468768797381542,
          -0.6944197325249837,
          1.1892392361790933,
          1.1878227747892696,
          -0.361155188586217,
          -1.511266963805173,
          -0.49790628823983446,
          1.9995572586627042,
          -1.1385309643498227,
          1.9075093889669785,
          -0.24652352769978877,
          0.8864608442812109,
          0.9218171539005922,
          0.9946321675922722,
          0.3794411477043499,
          0.17687000782678514,
          0.5340926886161836,
          0.7281931522486161,
          -0.5443279073908619,
          1.214410332690026,
          -0.06955844511028561,
          0.3778993656796964,
          0.96915492911502,
          -0.2796307174958231,
          -0.2963225746161983,
          -0.9817827002750537,
          -0.343294377381208,
          -0.7137835769329658,
          0.24207442443395807,
          0.30067768158565417,
          -0.10212944731863574,
          1.142641606505229,
          0.469865477326826,
          0.30919517777698313,
          0.7779946172803213,
          0.03185003902106065,
          -0.4342313894982847,
          -1.4298458973499455,
          0.38111256087461426,
          2.0155880426859003,
          1.38363513778326,
          0.7314112707662803,
          1.7970850998799364,
          0.5592199756951292,
          0.05317021511645505,
          0.3160459453040408,
          0.5911502889048841,
          0.743269569699162,
          1.3920743118952654,
          -1.3364864170711663,
          -0.08316266473902233
         ],
         "yaxis": "y14"
        },
        {
         "line": {
          "color": "rgba(128, 128, 128, 1.0)",
          "dash": "solid",
          "shape": "linear",
          "width": 1.3
         },
         "marker": {
          "size": 2,
          "symbol": "circle"
         },
         "mode": "markers",
         "name": "D",
         "text": "",
         "type": "scatter",
         "x": [
          1.146611563349902,
          -0.761088837254447,
          -1.894326715200364,
          1.3055060471824547,
          -1.471362324415607,
          -2.3930488604815117,
          -0.04190170202730823,
          -0.6396350846980466,
          -0.9416261575912995,
          -0.7043826965259425,
          1.7325352312281856,
          -1.076813115738217,
          0.8603396025752142,
          -1.4178251395331756,
          -1.4083253789742467,
          -0.602432651109036,
          0.31290146941422,
          0.778709647539167,
          -0.04195371993520826,
          1.3092479790070546,
          0.5024571089057162,
          -1.0941808683887777,
          -1.1172154603849271,
          2.7775145279805873,
          -1.061893571149162,
          0.2757159091804494,
          -0.7186291598569715,
          2.2688433033063458,
          -2.277824884002865,
          -0.743477433858718,
          0.9683673922339631,
          1.201535884665647,
          -0.901638704479854,
          2.6392266929089283,
          0.2137313918761221,
          -2.142675022192311,
          -0.9496566315490367,
          0.8872230315510008,
          1.378743203190755,
          0.9740148368482646,
          0.5611615988675017,
          -0.020477945564687874,
          -0.8991496296656757,
          1.0847087999859244,
          -1.349743904416432,
          3.1002726646884287,
          0.10257416112189895,
          1.9304771347749836,
          1.2934402633971205,
          0.10487608323946647,
          -0.4609259112574587,
          2.856069611370185,
          1.3176794164579912,
          -0.05854508129603264,
          -0.9089306349901729,
          -0.009110016830243232,
          -0.4980743288957647,
          -0.23940099558340683,
          0.21721108748891652,
          -0.4530220631071767,
          0.564058289705138,
          -0.7222461918068702,
          0.6062288317920589,
          0.8304113921389529,
          -1.1835001412479258,
          -1.4604444835782933,
          -0.023233979873630836,
          -1.0650385207319413,
          1.0525587248204924,
          -1.1129669269305356,
          1.5295289876160099,
          -0.43917401925437594,
          1.6159452113634347,
          0.2085106909110855,
          -0.08689652728188826,
          -0.04972125600565643,
          0.9620203951830886,
          -0.13860795123980316,
          1.3487885879538584,
          -0.9022259380261738,
          0.6876135458967871,
          -2.1698377517338816,
          -1.7522838477460938,
          1.6873351932539282,
          0.9867778665009651,
          0.8694874167822337,
          1.0995300392341862,
          0.6818766300604583,
          -0.394810347217172,
          -0.2653026971492913,
          0.5872705806142731,
          1.1719476715661912,
          -0.5827424638925532,
          0.7097747174073475,
          0.2180619883892565,
          -0.34802989769291515,
          2.5618683795102646,
          0.5636593733438885,
          0.7095362847844509,
          1.0359247697977372
         ],
         "xaxis": "x15",
         "y": [
          -0.17578973646317267,
          0.9278787400021398,
          -2.182677449913249,
          -2.396345023289566,
          0.48003741625709717,
          1.047518960575716,
          0.6100754852066674,
          -1.344179890686052,
          -1.1076326225860527,
          0.09301750944256627,
          0.5730312508830305,
          0.040432820293545835,
          1.1704259371606005,
          1.1510426286129267,
          -0.8138276275203944,
          -1.0968760151570967,
          0.08287078650187739,
          0.44319682155805257,
          -1.1582566186046355,
          0.8478621255692413,
          0.37660234824212485,
          0.11541673470683698,
          0.8988970774782885,
          0.13502754966225816,
          0.055944855853168905,
          -0.5744849746557522,
          0.28514102801490915,
          -1.4873030247313328,
          0.13022992101504688,
          0.2128575152251287,
          -0.14843777892871812,
          2.2880178719646524,
          -1.0502900218838402,
          0.5139741114262346,
          -0.20538383385912667,
          -1.725654753319287,
          -1.177971112937363,
          0.8957472535103304,
          1.6416059835990289,
          1.2336185344248412,
          -0.6772354531053224,
          -1.6445488147688594,
          0.02965654557736246,
          -1.1263933501160905,
          -0.1095058207538614,
          0.008232092411066915,
          0.8106473027651468,
          0.11364464185815298,
          0.7694218655173967,
          0.6468768797381542,
          -0.6944197325249837,
          1.1892392361790933,
          1.1878227747892696,
          -0.361155188586217,
          -1.511266963805173,
          -0.49790628823983446,
          1.9995572586627042,
          -1.1385309643498227,
          1.9075093889669785,
          -0.24652352769978877,
          0.8864608442812109,
          0.9218171539005922,
          0.9946321675922722,
          0.3794411477043499,
          0.17687000782678514,
          0.5340926886161836,
          0.7281931522486161,
          -0.5443279073908619,
          1.214410332690026,
          -0.06955844511028561,
          0.3778993656796964,
          0.96915492911502,
          -0.2796307174958231,
          -0.2963225746161983,
          -0.9817827002750537,
          -0.343294377381208,
          -0.7137835769329658,
          0.24207442443395807,
          0.30067768158565417,
          -0.10212944731863574,
          1.142641606505229,
          0.469865477326826,
          0.30919517777698313,
          0.7779946172803213,
          0.03185003902106065,
          -0.4342313894982847,
          -1.4298458973499455,
          0.38111256087461426,
          2.0155880426859003,
          1.38363513778326,
          0.7314112707662803,
          1.7970850998799364,
          0.5592199756951292,
          0.05317021511645505,
          0.3160459453040408,
          0.5911502889048841,
          0.743269569699162,
          1.3920743118952654,
          -1.3364864170711663,
          -0.08316266473902233
         ],
         "yaxis": "y15"
        },
        {
         "histfunc": "count",
         "histnorm": "",
         "marker": {
          "color": "rgba(128, 0, 128, 1.0)",
          "line": {
           "color": "#4D5663",
           "width": 1.3
          }
         },
         "name": "D",
         "nbinsx": 10,
         "opacity": 0.8,
         "orientation": "v",
         "type": "histogram",
         "x": [
          -0.17578973646317267,
          0.9278787400021398,
          -2.182677449913249,
          -2.396345023289566,
          0.48003741625709717,
          1.047518960575716,
          0.6100754852066674,
          -1.344179890686052,
          -1.1076326225860527,
          0.09301750944256627,
          0.5730312508830305,
          0.040432820293545835,
          1.1704259371606005,
          1.1510426286129267,
          -0.8138276275203944,
          -1.0968760151570967,
          0.08287078650187739,
          0.44319682155805257,
          -1.1582566186046355,
          0.8478621255692413,
          0.37660234824212485,
          0.11541673470683698,
          0.8988970774782885,
          0.13502754966225816,
          0.055944855853168905,
          -0.5744849746557522,
          0.28514102801490915,
          -1.4873030247313328,
          0.13022992101504688,
          0.2128575152251287,
          -0.14843777892871812,
          2.2880178719646524,
          -1.0502900218838402,
          0.5139741114262346,
          -0.20538383385912667,
          -1.725654753319287,
          -1.177971112937363,
          0.8957472535103304,
          1.6416059835990289,
          1.2336185344248412,
          -0.6772354531053224,
          -1.6445488147688594,
          0.02965654557736246,
          -1.1263933501160905,
          -0.1095058207538614,
          0.008232092411066915,
          0.8106473027651468,
          0.11364464185815298,
          0.7694218655173967,
          0.6468768797381542,
          -0.6944197325249837,
          1.1892392361790933,
          1.1878227747892696,
          -0.361155188586217,
          -1.511266963805173,
          -0.49790628823983446,
          1.9995572586627042,
          -1.1385309643498227,
          1.9075093889669785,
          -0.24652352769978877,
          0.8864608442812109,
          0.9218171539005922,
          0.9946321675922722,
          0.3794411477043499,
          0.17687000782678514,
          0.5340926886161836,
          0.7281931522486161,
          -0.5443279073908619,
          1.214410332690026,
          -0.06955844511028561,
          0.3778993656796964,
          0.96915492911502,
          -0.2796307174958231,
          -0.2963225746161983,
          -0.9817827002750537,
          -0.343294377381208,
          -0.7137835769329658,
          0.24207442443395807,
          0.30067768158565417,
          -0.10212944731863574,
          1.142641606505229,
          0.469865477326826,
          0.30919517777698313,
          0.7779946172803213,
          0.03185003902106065,
          -0.4342313894982847,
          -1.4298458973499455,
          0.38111256087461426,
          2.0155880426859003,
          1.38363513778326,
          0.7314112707662803,
          1.7970850998799364,
          0.5592199756951292,
          0.05317021511645505,
          0.3160459453040408,
          0.5911502889048841,
          0.743269569699162,
          1.3920743118952654,
          -1.3364864170711663,
          -0.08316266473902233
         ],
         "xaxis": "x16",
         "yaxis": "y16"
        }
       ],
       "layout": {
        "bargap": 0.02,
        "legend": {
         "bgcolor": "#F5F6F9",
         "font": {
          "color": "#4D5663"
         }
        },
        "paper_bgcolor": "#F5F6F9",
        "plot_bgcolor": "#F5F6F9",
        "showlegend": false,
        "template": {
         "data": {
          "bar": [
           {
            "error_x": {
             "color": "#2a3f5f"
            },
            "error_y": {
             "color": "#2a3f5f"
            },
            "marker": {
             "line": {
              "color": "#E5ECF6",
              "width": 0.5
             },
             "pattern": {
              "fillmode": "overlay",
              "size": 10,
              "solidity": 0.2
             }
            },
            "type": "bar"
           }
          ],
          "barpolar": [
           {
            "marker": {
             "line": {
              "color": "#E5ECF6",
              "width": 0.5
             },
             "pattern": {
              "fillmode": "overlay",
              "size": 10,
              "solidity": 0.2
             }
            },
            "type": "barpolar"
           }
          ],
          "carpet": [
           {
            "aaxis": {
             "endlinecolor": "#2a3f5f",
             "gridcolor": "white",
             "linecolor": "white",
             "minorgridcolor": "white",
             "startlinecolor": "#2a3f5f"
            },
            "baxis": {
             "endlinecolor": "#2a3f5f",
             "gridcolor": "white",
             "linecolor": "white",
             "minorgridcolor": "white",
             "startlinecolor": "#2a3f5f"
            },
            "type": "carpet"
           }
          ],
          "choropleth": [
           {
            "colorbar": {
             "outlinewidth": 0,
             "ticks": ""
            },
            "type": "choropleth"
           }
          ],
          "contour": [
           {
            "colorbar": {
             "outlinewidth": 0,
             "ticks": ""
            },
            "colorscale": [
             [
              0,
              "#0d0887"
             ],
             [
              0.1111111111111111,
              "#46039f"
             ],
             [
              0.2222222222222222,
              "#7201a8"
             ],
             [
              0.3333333333333333,
              "#9c179e"
             ],
             [
              0.4444444444444444,
              "#bd3786"
             ],
             [
              0.5555555555555556,
              "#d8576b"
             ],
             [
              0.6666666666666666,
              "#ed7953"
             ],
             [
              0.7777777777777778,
              "#fb9f3a"
             ],
             [
              0.8888888888888888,
              "#fdca26"
             ],
             [
              1,
              "#f0f921"
             ]
            ],
            "type": "contour"
           }
          ],
          "contourcarpet": [
           {
            "colorbar": {
             "outlinewidth": 0,
             "ticks": ""
            },
            "type": "contourcarpet"
           }
          ],
          "heatmap": [
           {
            "colorbar": {
             "outlinewidth": 0,
             "ticks": ""
            },
            "colorscale": [
             [
              0,
              "#0d0887"
             ],
             [
              0.1111111111111111,
              "#46039f"
             ],
             [
              0.2222222222222222,
              "#7201a8"
             ],
             [
              0.3333333333333333,
              "#9c179e"
             ],
             [
              0.4444444444444444,
              "#bd3786"
             ],
             [
              0.5555555555555556,
              "#d8576b"
             ],
             [
              0.6666666666666666,
              "#ed7953"
             ],
             [
              0.7777777777777778,
              "#fb9f3a"
             ],
             [
              0.8888888888888888,
              "#fdca26"
             ],
             [
              1,
              "#f0f921"
             ]
            ],
            "type": "heatmap"
           }
          ],
          "heatmapgl": [
           {
            "colorbar": {
             "outlinewidth": 0,
             "ticks": ""
            },
            "colorscale": [
             [
              0,
              "#0d0887"
             ],
             [
              0.1111111111111111,
              "#46039f"
             ],
             [
              0.2222222222222222,
              "#7201a8"
             ],
             [
              0.3333333333333333,
              "#9c179e"
             ],
             [
              0.4444444444444444,
              "#bd3786"
             ],
             [
              0.5555555555555556,
              "#d8576b"
             ],
             [
              0.6666666666666666,
              "#ed7953"
             ],
             [
              0.7777777777777778,
              "#fb9f3a"
             ],
             [
              0.8888888888888888,
              "#fdca26"
             ],
             [
              1,
              "#f0f921"
             ]
            ],
            "type": "heatmapgl"
           }
          ],
          "histogram": [
           {
            "marker": {
             "pattern": {
              "fillmode": "overlay",
              "size": 10,
              "solidity": 0.2
             }
            },
            "type": "histogram"
           }
          ],
          "histogram2d": [
           {
            "colorbar": {
             "outlinewidth": 0,
             "ticks": ""
            },
            "colorscale": [
             [
              0,
              "#0d0887"
             ],
             [
              0.1111111111111111,
              "#46039f"
             ],
             [
              0.2222222222222222,
              "#7201a8"
             ],
             [
              0.3333333333333333,
              "#9c179e"
             ],
             [
              0.4444444444444444,
              "#bd3786"
             ],
             [
              0.5555555555555556,
              "#d8576b"
             ],
             [
              0.6666666666666666,
              "#ed7953"
             ],
             [
              0.7777777777777778,
              "#fb9f3a"
             ],
             [
              0.8888888888888888,
              "#fdca26"
             ],
             [
              1,
              "#f0f921"
             ]
            ],
            "type": "histogram2d"
           }
          ],
          "histogram2dcontour": [
           {
            "colorbar": {
             "outlinewidth": 0,
             "ticks": ""
            },
            "colorscale": [
             [
              0,
              "#0d0887"
             ],
             [
              0.1111111111111111,
              "#46039f"
             ],
             [
              0.2222222222222222,
              "#7201a8"
             ],
             [
              0.3333333333333333,
              "#9c179e"
             ],
             [
              0.4444444444444444,
              "#bd3786"
             ],
             [
              0.5555555555555556,
              "#d8576b"
             ],
             [
              0.6666666666666666,
              "#ed7953"
             ],
             [
              0.7777777777777778,
              "#fb9f3a"
             ],
             [
              0.8888888888888888,
              "#fdca26"
             ],
             [
              1,
              "#f0f921"
             ]
            ],
            "type": "histogram2dcontour"
           }
          ],
          "mesh3d": [
           {
            "colorbar": {
             "outlinewidth": 0,
             "ticks": ""
            },
            "type": "mesh3d"
           }
          ],
          "parcoords": [
           {
            "line": {
             "colorbar": {
              "outlinewidth": 0,
              "ticks": ""
             }
            },
            "type": "parcoords"
           }
          ],
          "pie": [
           {
            "automargin": true,
            "type": "pie"
           }
          ],
          "scatter": [
           {
            "fillpattern": {
             "fillmode": "overlay",
             "size": 10,
             "solidity": 0.2
            },
            "type": "scatter"
           }
          ],
          "scatter3d": [
           {
            "line": {
             "colorbar": {
              "outlinewidth": 0,
              "ticks": ""
             }
            },
            "marker": {
             "colorbar": {
              "outlinewidth": 0,
              "ticks": ""
             }
            },
            "type": "scatter3d"
           }
          ],
          "scattercarpet": [
           {
            "marker": {
             "colorbar": {
              "outlinewidth": 0,
              "ticks": ""
             }
            },
            "type": "scattercarpet"
           }
          ],
          "scattergeo": [
           {
            "marker": {
             "colorbar": {
              "outlinewidth": 0,
              "ticks": ""
             }
            },
            "type": "scattergeo"
           }
          ],
          "scattergl": [
           {
            "marker": {
             "colorbar": {
              "outlinewidth": 0,
              "ticks": ""
             }
            },
            "type": "scattergl"
           }
          ],
          "scattermapbox": [
           {
            "marker": {
             "colorbar": {
              "outlinewidth": 0,
              "ticks": ""
             }
            },
            "type": "scattermapbox"
           }
          ],
          "scatterpolar": [
           {
            "marker": {
             "colorbar": {
              "outlinewidth": 0,
              "ticks": ""
             }
            },
            "type": "scatterpolar"
           }
          ],
          "scatterpolargl": [
           {
            "marker": {
             "colorbar": {
              "outlinewidth": 0,
              "ticks": ""
             }
            },
            "type": "scatterpolargl"
           }
          ],
          "scatterternary": [
           {
            "marker": {
             "colorbar": {
              "outlinewidth": 0,
              "ticks": ""
             }
            },
            "type": "scatterternary"
           }
          ],
          "surface": [
           {
            "colorbar": {
             "outlinewidth": 0,
             "ticks": ""
            },
            "colorscale": [
             [
              0,
              "#0d0887"
             ],
             [
              0.1111111111111111,
              "#46039f"
             ],
             [
              0.2222222222222222,
              "#7201a8"
             ],
             [
              0.3333333333333333,
              "#9c179e"
             ],
             [
              0.4444444444444444,
              "#bd3786"
             ],
             [
              0.5555555555555556,
              "#d8576b"
             ],
             [
              0.6666666666666666,
              "#ed7953"
             ],
             [
              0.7777777777777778,
              "#fb9f3a"
             ],
             [
              0.8888888888888888,
              "#fdca26"
             ],
             [
              1,
              "#f0f921"
             ]
            ],
            "type": "surface"
           }
          ],
          "table": [
           {
            "cells": {
             "fill": {
              "color": "#EBF0F8"
             },
             "line": {
              "color": "white"
             }
            },
            "header": {
             "fill": {
              "color": "#C8D4E3"
             },
             "line": {
              "color": "white"
             }
            },
            "type": "table"
           }
          ]
         },
         "layout": {
          "annotationdefaults": {
           "arrowcolor": "#2a3f5f",
           "arrowhead": 0,
           "arrowwidth": 1
          },
          "autotypenumbers": "strict",
          "coloraxis": {
           "colorbar": {
            "outlinewidth": 0,
            "ticks": ""
           }
          },
          "colorscale": {
           "diverging": [
            [
             0,
             "#8e0152"
            ],
            [
             0.1,
             "#c51b7d"
            ],
            [
             0.2,
             "#de77ae"
            ],
            [
             0.3,
             "#f1b6da"
            ],
            [
             0.4,
             "#fde0ef"
            ],
            [
             0.5,
             "#f7f7f7"
            ],
            [
             0.6,
             "#e6f5d0"
            ],
            [
             0.7,
             "#b8e186"
            ],
            [
             0.8,
             "#7fbc41"
            ],
            [
             0.9,
             "#4d9221"
            ],
            [
             1,
             "#276419"
            ]
           ],
           "sequential": [
            [
             0,
             "#0d0887"
            ],
            [
             0.1111111111111111,
             "#46039f"
            ],
            [
             0.2222222222222222,
             "#7201a8"
            ],
            [
             0.3333333333333333,
             "#9c179e"
            ],
            [
             0.4444444444444444,
             "#bd3786"
            ],
            [
             0.5555555555555556,
             "#d8576b"
            ],
            [
             0.6666666666666666,
             "#ed7953"
            ],
            [
             0.7777777777777778,
             "#fb9f3a"
            ],
            [
             0.8888888888888888,
             "#fdca26"
            ],
            [
             1,
             "#f0f921"
            ]
           ],
           "sequentialminus": [
            [
             0,
             "#0d0887"
            ],
            [
             0.1111111111111111,
             "#46039f"
            ],
            [
             0.2222222222222222,
             "#7201a8"
            ],
            [
             0.3333333333333333,
             "#9c179e"
            ],
            [
             0.4444444444444444,
             "#bd3786"
            ],
            [
             0.5555555555555556,
             "#d8576b"
            ],
            [
             0.6666666666666666,
             "#ed7953"
            ],
            [
             0.7777777777777778,
             "#fb9f3a"
            ],
            [
             0.8888888888888888,
             "#fdca26"
            ],
            [
             1,
             "#f0f921"
            ]
           ]
          },
          "colorway": [
           "#636efa",
           "#EF553B",
           "#00cc96",
           "#ab63fa",
           "#FFA15A",
           "#19d3f3",
           "#FF6692",
           "#B6E880",
           "#FF97FF",
           "#FECB52"
          ],
          "font": {
           "color": "#2a3f5f"
          },
          "geo": {
           "bgcolor": "white",
           "lakecolor": "white",
           "landcolor": "#E5ECF6",
           "showlakes": true,
           "showland": true,
           "subunitcolor": "white"
          },
          "hoverlabel": {
           "align": "left"
          },
          "hovermode": "closest",
          "mapbox": {
           "style": "light"
          },
          "paper_bgcolor": "white",
          "plot_bgcolor": "#E5ECF6",
          "polar": {
           "angularaxis": {
            "gridcolor": "white",
            "linecolor": "white",
            "ticks": ""
           },
           "bgcolor": "#E5ECF6",
           "radialaxis": {
            "gridcolor": "white",
            "linecolor": "white",
            "ticks": ""
           }
          },
          "scene": {
           "xaxis": {
            "backgroundcolor": "#E5ECF6",
            "gridcolor": "white",
            "gridwidth": 2,
            "linecolor": "white",
            "showbackground": true,
            "ticks": "",
            "zerolinecolor": "white"
           },
           "yaxis": {
            "backgroundcolor": "#E5ECF6",
            "gridcolor": "white",
            "gridwidth": 2,
            "linecolor": "white",
            "showbackground": true,
            "ticks": "",
            "zerolinecolor": "white"
           },
           "zaxis": {
            "backgroundcolor": "#E5ECF6",
            "gridcolor": "white",
            "gridwidth": 2,
            "linecolor": "white",
            "showbackground": true,
            "ticks": "",
            "zerolinecolor": "white"
           }
          },
          "shapedefaults": {
           "line": {
            "color": "#2a3f5f"
           }
          },
          "ternary": {
           "aaxis": {
            "gridcolor": "white",
            "linecolor": "white",
            "ticks": ""
           },
           "baxis": {
            "gridcolor": "white",
            "linecolor": "white",
            "ticks": ""
           },
           "bgcolor": "#E5ECF6",
           "caxis": {
            "gridcolor": "white",
            "linecolor": "white",
            "ticks": ""
           }
          },
          "title": {
           "x": 0.05
          },
          "xaxis": {
           "automargin": true,
           "gridcolor": "white",
           "linecolor": "white",
           "ticks": "",
           "title": {
            "standoff": 15
           },
           "zerolinecolor": "white",
           "zerolinewidth": 2
          },
          "yaxis": {
           "automargin": true,
           "gridcolor": "white",
           "linecolor": "white",
           "ticks": "",
           "title": {
            "standoff": 15
           },
           "zerolinecolor": "white",
           "zerolinewidth": 2
          }
         }
        },
        "title": {
         "font": {
          "color": "#4D5663"
         }
        },
        "xaxis": {
         "anchor": "y",
         "domain": [
          0,
          0.2125
         ],
         "gridcolor": "#E1E5ED",
         "showgrid": false,
         "tickfont": {
          "color": "#4D5663"
         },
         "title": {
          "font": {
           "color": "#4D5663"
          },
          "text": ""
         },
         "zerolinecolor": "#E1E5ED"
        },
        "xaxis10": {
         "anchor": "y10",
         "domain": [
          0.2625,
          0.475
         ],
         "gridcolor": "#E1E5ED",
         "showgrid": false,
         "tickfont": {
          "color": "#4D5663"
         },
         "title": {
          "font": {
           "color": "#4D5663"
          },
          "text": ""
         },
         "zerolinecolor": "#E1E5ED"
        },
        "xaxis11": {
         "anchor": "y11",
         "domain": [
          0.525,
          0.7375
         ],
         "gridcolor": "#E1E5ED",
         "showgrid": false,
         "tickfont": {
          "color": "#4D5663"
         },
         "title": {
          "font": {
           "color": "#4D5663"
          },
          "text": ""
         },
         "zerolinecolor": "#E1E5ED"
        },
        "xaxis12": {
         "anchor": "y12",
         "domain": [
          0.7875,
          1
         ],
         "gridcolor": "#E1E5ED",
         "showgrid": false,
         "tickfont": {
          "color": "#4D5663"
         },
         "title": {
          "font": {
           "color": "#4D5663"
          },
          "text": ""
         },
         "zerolinecolor": "#E1E5ED"
        },
        "xaxis13": {
         "anchor": "y13",
         "domain": [
          0,
          0.2125
         ],
         "gridcolor": "#E1E5ED",
         "showgrid": false,
         "tickfont": {
          "color": "#4D5663"
         },
         "title": {
          "font": {
           "color": "#4D5663"
          },
          "text": ""
         },
         "zerolinecolor": "#E1E5ED"
        },
        "xaxis14": {
         "anchor": "y14",
         "domain": [
          0.2625,
          0.475
         ],
         "gridcolor": "#E1E5ED",
         "showgrid": false,
         "tickfont": {
          "color": "#4D5663"
         },
         "title": {
          "font": {
           "color": "#4D5663"
          },
          "text": ""
         },
         "zerolinecolor": "#E1E5ED"
        },
        "xaxis15": {
         "anchor": "y15",
         "domain": [
          0.525,
          0.7375
         ],
         "gridcolor": "#E1E5ED",
         "showgrid": false,
         "tickfont": {
          "color": "#4D5663"
         },
         "title": {
          "font": {
           "color": "#4D5663"
          },
          "text": ""
         },
         "zerolinecolor": "#E1E5ED"
        },
        "xaxis16": {
         "anchor": "y16",
         "domain": [
          0.7875,
          1
         ],
         "gridcolor": "#E1E5ED",
         "showgrid": false,
         "tickfont": {
          "color": "#4D5663"
         },
         "title": {
          "font": {
           "color": "#4D5663"
          },
          "text": ""
         },
         "zerolinecolor": "#E1E5ED"
        },
        "xaxis2": {
         "anchor": "y2",
         "domain": [
          0.2625,
          0.475
         ],
         "gridcolor": "#E1E5ED",
         "showgrid": false,
         "tickfont": {
          "color": "#4D5663"
         },
         "title": {
          "font": {
           "color": "#4D5663"
          },
          "text": ""
         },
         "zerolinecolor": "#E1E5ED"
        },
        "xaxis3": {
         "anchor": "y3",
         "domain": [
          0.525,
          0.7375
         ],
         "gridcolor": "#E1E5ED",
         "showgrid": false,
         "tickfont": {
          "color": "#4D5663"
         },
         "title": {
          "font": {
           "color": "#4D5663"
          },
          "text": ""
         },
         "zerolinecolor": "#E1E5ED"
        },
        "xaxis4": {
         "anchor": "y4",
         "domain": [
          0.7875,
          1
         ],
         "gridcolor": "#E1E5ED",
         "showgrid": false,
         "tickfont": {
          "color": "#4D5663"
         },
         "title": {
          "font": {
           "color": "#4D5663"
          },
          "text": ""
         },
         "zerolinecolor": "#E1E5ED"
        },
        "xaxis5": {
         "anchor": "y5",
         "domain": [
          0,
          0.2125
         ],
         "gridcolor": "#E1E5ED",
         "showgrid": false,
         "tickfont": {
          "color": "#4D5663"
         },
         "title": {
          "font": {
           "color": "#4D5663"
          },
          "text": ""
         },
         "zerolinecolor": "#E1E5ED"
        },
        "xaxis6": {
         "anchor": "y6",
         "domain": [
          0.2625,
          0.475
         ],
         "gridcolor": "#E1E5ED",
         "showgrid": false,
         "tickfont": {
          "color": "#4D5663"
         },
         "title": {
          "font": {
           "color": "#4D5663"
          },
          "text": ""
         },
         "zerolinecolor": "#E1E5ED"
        },
        "xaxis7": {
         "anchor": "y7",
         "domain": [
          0.525,
          0.7375
         ],
         "gridcolor": "#E1E5ED",
         "showgrid": false,
         "tickfont": {
          "color": "#4D5663"
         },
         "title": {
          "font": {
           "color": "#4D5663"
          },
          "text": ""
         },
         "zerolinecolor": "#E1E5ED"
        },
        "xaxis8": {
         "anchor": "y8",
         "domain": [
          0.7875,
          1
         ],
         "gridcolor": "#E1E5ED",
         "showgrid": false,
         "tickfont": {
          "color": "#4D5663"
         },
         "title": {
          "font": {
           "color": "#4D5663"
          },
          "text": ""
         },
         "zerolinecolor": "#E1E5ED"
        },
        "xaxis9": {
         "anchor": "y9",
         "domain": [
          0,
          0.2125
         ],
         "gridcolor": "#E1E5ED",
         "showgrid": false,
         "tickfont": {
          "color": "#4D5663"
         },
         "title": {
          "font": {
           "color": "#4D5663"
          },
          "text": ""
         },
         "zerolinecolor": "#E1E5ED"
        },
        "yaxis": {
         "anchor": "x",
         "domain": [
          0.8025,
          1
         ],
         "gridcolor": "#E1E5ED",
         "showgrid": false,
         "tickfont": {
          "color": "#4D5663"
         },
         "title": {
          "font": {
           "color": "#4D5663"
          },
          "text": ""
         },
         "zerolinecolor": "#E1E5ED"
        },
        "yaxis10": {
         "anchor": "x10",
         "domain": [
          0.2675,
          0.465
         ],
         "gridcolor": "#E1E5ED",
         "showgrid": false,
         "tickfont": {
          "color": "#4D5663"
         },
         "title": {
          "font": {
           "color": "#4D5663"
          },
          "text": ""
         },
         "zerolinecolor": "#E1E5ED"
        },
        "yaxis11": {
         "anchor": "x11",
         "domain": [
          0.2675,
          0.465
         ],
         "gridcolor": "#E1E5ED",
         "showgrid": false,
         "tickfont": {
          "color": "#4D5663"
         },
         "title": {
          "font": {
           "color": "#4D5663"
          },
          "text": ""
         },
         "zerolinecolor": "#E1E5ED"
        },
        "yaxis12": {
         "anchor": "x12",
         "domain": [
          0.2675,
          0.465
         ],
         "gridcolor": "#E1E5ED",
         "showgrid": false,
         "tickfont": {
          "color": "#4D5663"
         },
         "title": {
          "font": {
           "color": "#4D5663"
          },
          "text": ""
         },
         "zerolinecolor": "#E1E5ED"
        },
        "yaxis13": {
         "anchor": "x13",
         "domain": [
          0,
          0.1975
         ],
         "gridcolor": "#E1E5ED",
         "showgrid": false,
         "tickfont": {
          "color": "#4D5663"
         },
         "title": {
          "font": {
           "color": "#4D5663"
          },
          "text": ""
         },
         "zerolinecolor": "#E1E5ED"
        },
        "yaxis14": {
         "anchor": "x14",
         "domain": [
          0,
          0.1975
         ],
         "gridcolor": "#E1E5ED",
         "showgrid": false,
         "tickfont": {
          "color": "#4D5663"
         },
         "title": {
          "font": {
           "color": "#4D5663"
          },
          "text": ""
         },
         "zerolinecolor": "#E1E5ED"
        },
        "yaxis15": {
         "anchor": "x15",
         "domain": [
          0,
          0.1975
         ],
         "gridcolor": "#E1E5ED",
         "showgrid": false,
         "tickfont": {
          "color": "#4D5663"
         },
         "title": {
          "font": {
           "color": "#4D5663"
          },
          "text": ""
         },
         "zerolinecolor": "#E1E5ED"
        },
        "yaxis16": {
         "anchor": "x16",
         "domain": [
          0,
          0.1975
         ],
         "gridcolor": "#E1E5ED",
         "showgrid": false,
         "tickfont": {
          "color": "#4D5663"
         },
         "title": {
          "font": {
           "color": "#4D5663"
          },
          "text": ""
         },
         "zerolinecolor": "#E1E5ED"
        },
        "yaxis2": {
         "anchor": "x2",
         "domain": [
          0.8025,
          1
         ],
         "gridcolor": "#E1E5ED",
         "showgrid": false,
         "tickfont": {
          "color": "#4D5663"
         },
         "title": {
          "font": {
           "color": "#4D5663"
          },
          "text": ""
         },
         "zerolinecolor": "#E1E5ED"
        },
        "yaxis3": {
         "anchor": "x3",
         "domain": [
          0.8025,
          1
         ],
         "gridcolor": "#E1E5ED",
         "showgrid": false,
         "tickfont": {
          "color": "#4D5663"
         },
         "title": {
          "font": {
           "color": "#4D5663"
          },
          "text": ""
         },
         "zerolinecolor": "#E1E5ED"
        },
        "yaxis4": {
         "anchor": "x4",
         "domain": [
          0.8025,
          1
         ],
         "gridcolor": "#E1E5ED",
         "showgrid": false,
         "tickfont": {
          "color": "#4D5663"
         },
         "title": {
          "font": {
           "color": "#4D5663"
          },
          "text": ""
         },
         "zerolinecolor": "#E1E5ED"
        },
        "yaxis5": {
         "anchor": "x5",
         "domain": [
          0.535,
          0.7325
         ],
         "gridcolor": "#E1E5ED",
         "showgrid": false,
         "tickfont": {
          "color": "#4D5663"
         },
         "title": {
          "font": {
           "color": "#4D5663"
          },
          "text": ""
         },
         "zerolinecolor": "#E1E5ED"
        },
        "yaxis6": {
         "anchor": "x6",
         "domain": [
          0.535,
          0.7325
         ],
         "gridcolor": "#E1E5ED",
         "showgrid": false,
         "tickfont": {
          "color": "#4D5663"
         },
         "title": {
          "font": {
           "color": "#4D5663"
          },
          "text": ""
         },
         "zerolinecolor": "#E1E5ED"
        },
        "yaxis7": {
         "anchor": "x7",
         "domain": [
          0.535,
          0.7325
         ],
         "gridcolor": "#E1E5ED",
         "showgrid": false,
         "tickfont": {
          "color": "#4D5663"
         },
         "title": {
          "font": {
           "color": "#4D5663"
          },
          "text": ""
         },
         "zerolinecolor": "#E1E5ED"
        },
        "yaxis8": {
         "anchor": "x8",
         "domain": [
          0.535,
          0.7325
         ],
         "gridcolor": "#E1E5ED",
         "showgrid": false,
         "tickfont": {
          "color": "#4D5663"
         },
         "title": {
          "font": {
           "color": "#4D5663"
          },
          "text": ""
         },
         "zerolinecolor": "#E1E5ED"
        },
        "yaxis9": {
         "anchor": "x9",
         "domain": [
          0.2675,
          0.465
         ],
         "gridcolor": "#E1E5ED",
         "showgrid": false,
         "tickfont": {
          "color": "#4D5663"
         },
         "title": {
          "font": {
           "color": "#4D5663"
          },
          "text": ""
         },
         "zerolinecolor": "#E1E5ED"
        }
       }
      },
      "text/html": [
       "<div>                            <div id=\"3963631e-d159-40c1-bd53-8c7c45f4602c\" class=\"plotly-graph-div\" style=\"height:525px; width:100%;\"></div>            <script type=\"text/javascript\">                require([\"plotly\"], function(Plotly) {                    window.PLOTLYENV=window.PLOTLYENV || {};\n",
       "                    window.PLOTLYENV.BASE_URL='https://plot.ly';                                    if (document.getElementById(\"3963631e-d159-40c1-bd53-8c7c45f4602c\")) {                    Plotly.newPlot(                        \"3963631e-d159-40c1-bd53-8c7c45f4602c\",                        [{\"histfunc\":\"count\",\"histnorm\":\"\",\"marker\":{\"color\":\"rgba(255, 153, 51, 1.0)\",\"line\":{\"color\":\"#4D5663\",\"width\":1.3}},\"name\":\"A\",\"nbinsx\":10,\"opacity\":0.8,\"orientation\":\"v\",\"x\":[-0.32437935932286105,0.6507786303830336,-0.3895435206998073,0.09605366978079674,0.8197362293541232,-2.1736614086387034,0.5447989087977978,-0.48026307852395245,-0.9312791112381261,1.0234457605227858,2.602895318314027,0.22413905009816462,-0.821227335088624,-0.3856451712519905,0.8111171832248476,0.020787549685838753,1.0456525715167484,-0.46999110891348045,-1.8031559479012809,1.6790145550113407,-0.10326521597651746,-0.0699982364634295,0.0682181566995542,1.7559799602251849,-0.8835006562676381,0.08438188434314217,-0.3118089076470192,-0.14808980061376903,0.043576355483198256,0.3420442997233026,0.11894325264568689,-0.2577134208535056,0.6978036228013325,0.6113101405984447,-0.8642860355006269,1.0386104714627757,-0.5454469660239857,0.37359152088305875,-0.207414871750417,-0.2766082626107455,-0.09232179563923242,-0.22322258357986602,-0.2750041129199989,-0.6462565804188576,-0.7564544188020607,-0.3935935702016708,-0.6201830686920962,0.5032563482950011,-0.3400791520044989,-0.7217213231087968,0.03735172569908848,-1.3387465776407153,1.26320480969486,1.0391940167060385,0.07527735447324392,-0.04637228755826521,0.2407108736349752,0.6718242356571152,-0.5874185371180319,-0.05166639315432059,0.28546671957252895,-0.8393723817660538,3.6920994601597235,0.7140374705521528,-2.0311390810199197,-0.7656104217463565,-0.5706747095329012,1.44720934904325,-0.04684225993129464,1.7666836707342357,-0.25712128759980896,-0.7486717414586884,-0.14404899072278207,-2.847694864973696,0.5055476900344904,-0.9777980182604501,-0.3404777125900365,0.49896061289322263,-1.2666980908052186,-0.14298323017857129,-0.33134176695795176,-0.32793980022794733,-1.3223083663276318,-0.7638233684150882,-2.193080206212569,0.9998229351057568,0.636695813978981,-0.20155103698415303,1.4901288953563878,-1.5565718214852045,-0.7254474963551272,0.1256470565777697,1.445946008831829,-0.60092975865266,0.9270945867676877,1.2287517941705062,0.7216832535913091,-1.939902333371826,-1.3338304167761876,0.6727881223318196],\"xaxis\":\"x\",\"yaxis\":\"y\",\"type\":\"histogram\"},{\"line\":{\"color\":\"rgba(128, 128, 128, 1.0)\",\"dash\":\"solid\",\"shape\":\"linear\",\"width\":1.3},\"marker\":{\"size\":2,\"symbol\":\"circle\"},\"mode\":\"markers\",\"name\":\"A\",\"text\":\"\",\"x\":[0.5840159608274463,-0.6776725469281716,-0.08250716750184768,-0.6997003696662847,-0.02046542339042747,1.2973044459174985,-0.15269446165195133,-1.4060233979928802,-0.5155337860657689,-0.5736152041925673,1.357173046148224,0.8500626656020044,0.10844955804384164,-1.113034086831303,1.2664476181631814,0.5211478579740425,-0.07179164173708667,0.1862031755158228,-0.7119068102838787,0.9585466814679567,-0.8427877095541829,0.2861755512620451,0.5093489326745615,0.3787469242895969,-0.9445536130992522,0.35678791129132764,0.3853970213226538,0.7413345138100097,1.6806051224796448,-1.083973295584339,0.5506930858378145,1.5639483064191257,0.8824343297222614,-0.10628109258192349,-1.4162687762492605,0.9289603451115521,0.23602352635471763,1.1471291497038176,0.17164218020853547,-0.16497562804589852,0.7178070496418821,1.045121465527172,1.36845378138647,-0.5256492280256156,-0.37444234869325654,-1.2981424632591463,-0.9240607988811324,0.273143180228173,0.9988750799969999,-2.0064517053719846,0.11444308844932008,0.6848583984094578,-0.39553800528315075,-0.3144745974960851,-0.47359674536819757,-1.4573494915478733,0.174213316035283,2.2361965917768685,0.17517082060865113,2.332184289649614,1.7105058808082025,-1.706279525783847,0.5916358862419079,-0.46540652794985776,-1.7293639018946085,-1.2135524247347476,0.1790335731975688,-0.5699722220416938,-0.729331184902068,0.18117369443269593,-0.05635246315475032,0.39052174181601707,-0.6708788277038915,0.16103357730047088,1.573538234181239,-0.1953589263551798,0.080368461583438,0.2679163855152857,-0.15259967498329535,1.0616318376628848,-0.30502224143898055,1.2316319246538674,0.32709090752935904,-0.7106105752458274,0.001081946950240499,0.7494594826677379,-1.014585852439636,-1.128112386980834,0.14410131361648543,-1.496817504683681,-0.19954188369670103,1.4413043033258475,-0.6074730481305635,0.751125846459736,1.0867151412356497,0.02357154784848277,0.09231623762808776,-2.955157726525199,-0.47205442975871503,-1.3673663177768012],\"xaxis\":\"x2\",\"y\":[-0.32437935932286105,0.6507786303830336,-0.3895435206998073,0.09605366978079674,0.8197362293541232,-2.1736614086387034,0.5447989087977978,-0.48026307852395245,-0.9312791112381261,1.0234457605227858,2.602895318314027,0.22413905009816462,-0.821227335088624,-0.3856451712519905,0.8111171832248476,0.020787549685838753,1.0456525715167484,-0.46999110891348045,-1.8031559479012809,1.6790145550113407,-0.10326521597651746,-0.0699982364634295,0.0682181566995542,1.7559799602251849,-0.8835006562676381,0.08438188434314217,-0.3118089076470192,-0.14808980061376903,0.043576355483198256,0.3420442997233026,0.11894325264568689,-0.2577134208535056,0.6978036228013325,0.6113101405984447,-0.8642860355006269,1.0386104714627757,-0.5454469660239857,0.37359152088305875,-0.207414871750417,-0.2766082626107455,-0.09232179563923242,-0.22322258357986602,-0.2750041129199989,-0.6462565804188576,-0.7564544188020607,-0.3935935702016708,-0.6201830686920962,0.5032563482950011,-0.3400791520044989,-0.7217213231087968,0.03735172569908848,-1.3387465776407153,1.26320480969486,1.0391940167060385,0.07527735447324392,-0.04637228755826521,0.2407108736349752,0.6718242356571152,-0.5874185371180319,-0.05166639315432059,0.28546671957252895,-0.8393723817660538,3.6920994601597235,0.7140374705521528,-2.0311390810199197,-0.7656104217463565,-0.5706747095329012,1.44720934904325,-0.04684225993129464,1.7666836707342357,-0.25712128759980896,-0.7486717414586884,-0.14404899072278207,-2.847694864973696,0.5055476900344904,-0.9777980182604501,-0.3404777125900365,0.49896061289322263,-1.2666980908052186,-0.14298323017857129,-0.33134176695795176,-0.32793980022794733,-1.3223083663276318,-0.7638233684150882,-2.193080206212569,0.9998229351057568,0.636695813978981,-0.20155103698415303,1.4901288953563878,-1.5565718214852045,-0.7254474963551272,0.1256470565777697,1.445946008831829,-0.60092975865266,0.9270945867676877,1.2287517941705062,0.7216832535913091,-1.939902333371826,-1.3338304167761876,0.6727881223318196],\"yaxis\":\"y2\",\"type\":\"scatter\"},{\"line\":{\"color\":\"rgba(128, 128, 128, 1.0)\",\"dash\":\"solid\",\"shape\":\"linear\",\"width\":1.3},\"marker\":{\"size\":2,\"symbol\":\"circle\"},\"mode\":\"markers\",\"name\":\"A\",\"text\":\"\",\"x\":[1.146611563349902,-0.761088837254447,-1.894326715200364,1.3055060471824547,-1.471362324415607,-2.3930488604815117,-0.04190170202730823,-0.6396350846980466,-0.9416261575912995,-0.7043826965259425,1.7325352312281856,-1.076813115738217,0.8603396025752142,-1.4178251395331756,-1.4083253789742467,-0.602432651109036,0.31290146941422,0.778709647539167,-0.04195371993520826,1.3092479790070546,0.5024571089057162,-1.0941808683887777,-1.1172154603849271,2.7775145279805873,-1.061893571149162,0.2757159091804494,-0.7186291598569715,2.2688433033063458,-2.277824884002865,-0.743477433858718,0.9683673922339631,1.201535884665647,-0.901638704479854,2.6392266929089283,0.2137313918761221,-2.142675022192311,-0.9496566315490367,0.8872230315510008,1.378743203190755,0.9740148368482646,0.5611615988675017,-0.020477945564687874,-0.8991496296656757,1.0847087999859244,-1.349743904416432,3.1002726646884287,0.10257416112189895,1.9304771347749836,1.2934402633971205,0.10487608323946647,-0.4609259112574587,2.856069611370185,1.3176794164579912,-0.05854508129603264,-0.9089306349901729,-0.009110016830243232,-0.4980743288957647,-0.23940099558340683,0.21721108748891652,-0.4530220631071767,0.564058289705138,-0.7222461918068702,0.6062288317920589,0.8304113921389529,-1.1835001412479258,-1.4604444835782933,-0.023233979873630836,-1.0650385207319413,1.0525587248204924,-1.1129669269305356,1.5295289876160099,-0.43917401925437594,1.6159452113634347,0.2085106909110855,-0.08689652728188826,-0.04972125600565643,0.9620203951830886,-0.13860795123980316,1.3487885879538584,-0.9022259380261738,0.6876135458967871,-2.1698377517338816,-1.7522838477460938,1.6873351932539282,0.9867778665009651,0.8694874167822337,1.0995300392341862,0.6818766300604583,-0.394810347217172,-0.2653026971492913,0.5872705806142731,1.1719476715661912,-0.5827424638925532,0.7097747174073475,0.2180619883892565,-0.34802989769291515,2.5618683795102646,0.5636593733438885,0.7095362847844509,1.0359247697977372],\"xaxis\":\"x3\",\"y\":[-0.32437935932286105,0.6507786303830336,-0.3895435206998073,0.09605366978079674,0.8197362293541232,-2.1736614086387034,0.5447989087977978,-0.48026307852395245,-0.9312791112381261,1.0234457605227858,2.602895318314027,0.22413905009816462,-0.821227335088624,-0.3856451712519905,0.8111171832248476,0.020787549685838753,1.0456525715167484,-0.46999110891348045,-1.8031559479012809,1.6790145550113407,-0.10326521597651746,-0.0699982364634295,0.0682181566995542,1.7559799602251849,-0.8835006562676381,0.08438188434314217,-0.3118089076470192,-0.14808980061376903,0.043576355483198256,0.3420442997233026,0.11894325264568689,-0.2577134208535056,0.6978036228013325,0.6113101405984447,-0.8642860355006269,1.0386104714627757,-0.5454469660239857,0.37359152088305875,-0.207414871750417,-0.2766082626107455,-0.09232179563923242,-0.22322258357986602,-0.2750041129199989,-0.6462565804188576,-0.7564544188020607,-0.3935935702016708,-0.6201830686920962,0.5032563482950011,-0.3400791520044989,-0.7217213231087968,0.03735172569908848,-1.3387465776407153,1.26320480969486,1.0391940167060385,0.07527735447324392,-0.04637228755826521,0.2407108736349752,0.6718242356571152,-0.5874185371180319,-0.05166639315432059,0.28546671957252895,-0.8393723817660538,3.6920994601597235,0.7140374705521528,-2.0311390810199197,-0.7656104217463565,-0.5706747095329012,1.44720934904325,-0.04684225993129464,1.7666836707342357,-0.25712128759980896,-0.7486717414586884,-0.14404899072278207,-2.847694864973696,0.5055476900344904,-0.9777980182604501,-0.3404777125900365,0.49896061289322263,-1.2666980908052186,-0.14298323017857129,-0.33134176695795176,-0.32793980022794733,-1.3223083663276318,-0.7638233684150882,-2.193080206212569,0.9998229351057568,0.636695813978981,-0.20155103698415303,1.4901288953563878,-1.5565718214852045,-0.7254474963551272,0.1256470565777697,1.445946008831829,-0.60092975865266,0.9270945867676877,1.2287517941705062,0.7216832535913091,-1.939902333371826,-1.3338304167761876,0.6727881223318196],\"yaxis\":\"y3\",\"type\":\"scatter\"},{\"line\":{\"color\":\"rgba(128, 128, 128, 1.0)\",\"dash\":\"solid\",\"shape\":\"linear\",\"width\":1.3},\"marker\":{\"size\":2,\"symbol\":\"circle\"},\"mode\":\"markers\",\"name\":\"A\",\"text\":\"\",\"x\":[-0.17578973646317267,0.9278787400021398,-2.182677449913249,-2.396345023289566,0.48003741625709717,1.047518960575716,0.6100754852066674,-1.344179890686052,-1.1076326225860527,0.09301750944256627,0.5730312508830305,0.040432820293545835,1.1704259371606005,1.1510426286129267,-0.8138276275203944,-1.0968760151570967,0.08287078650187739,0.44319682155805257,-1.1582566186046355,0.8478621255692413,0.37660234824212485,0.11541673470683698,0.8988970774782885,0.13502754966225816,0.055944855853168905,-0.5744849746557522,0.28514102801490915,-1.4873030247313328,0.13022992101504688,0.2128575152251287,-0.14843777892871812,2.2880178719646524,-1.0502900218838402,0.5139741114262346,-0.20538383385912667,-1.725654753319287,-1.177971112937363,0.8957472535103304,1.6416059835990289,1.2336185344248412,-0.6772354531053224,-1.6445488147688594,0.02965654557736246,-1.1263933501160905,-0.1095058207538614,0.008232092411066915,0.8106473027651468,0.11364464185815298,0.7694218655173967,0.6468768797381542,-0.6944197325249837,1.1892392361790933,1.1878227747892696,-0.361155188586217,-1.511266963805173,-0.49790628823983446,1.9995572586627042,-1.1385309643498227,1.9075093889669785,-0.24652352769978877,0.8864608442812109,0.9218171539005922,0.9946321675922722,0.3794411477043499,0.17687000782678514,0.5340926886161836,0.7281931522486161,-0.5443279073908619,1.214410332690026,-0.06955844511028561,0.3778993656796964,0.96915492911502,-0.2796307174958231,-0.2963225746161983,-0.9817827002750537,-0.343294377381208,-0.7137835769329658,0.24207442443395807,0.30067768158565417,-0.10212944731863574,1.142641606505229,0.469865477326826,0.30919517777698313,0.7779946172803213,0.03185003902106065,-0.4342313894982847,-1.4298458973499455,0.38111256087461426,2.0155880426859003,1.38363513778326,0.7314112707662803,1.7970850998799364,0.5592199756951292,0.05317021511645505,0.3160459453040408,0.5911502889048841,0.743269569699162,1.3920743118952654,-1.3364864170711663,-0.08316266473902233],\"xaxis\":\"x4\",\"y\":[-0.32437935932286105,0.6507786303830336,-0.3895435206998073,0.09605366978079674,0.8197362293541232,-2.1736614086387034,0.5447989087977978,-0.48026307852395245,-0.9312791112381261,1.0234457605227858,2.602895318314027,0.22413905009816462,-0.821227335088624,-0.3856451712519905,0.8111171832248476,0.020787549685838753,1.0456525715167484,-0.46999110891348045,-1.8031559479012809,1.6790145550113407,-0.10326521597651746,-0.0699982364634295,0.0682181566995542,1.7559799602251849,-0.8835006562676381,0.08438188434314217,-0.3118089076470192,-0.14808980061376903,0.043576355483198256,0.3420442997233026,0.11894325264568689,-0.2577134208535056,0.6978036228013325,0.6113101405984447,-0.8642860355006269,1.0386104714627757,-0.5454469660239857,0.37359152088305875,-0.207414871750417,-0.2766082626107455,-0.09232179563923242,-0.22322258357986602,-0.2750041129199989,-0.6462565804188576,-0.7564544188020607,-0.3935935702016708,-0.6201830686920962,0.5032563482950011,-0.3400791520044989,-0.7217213231087968,0.03735172569908848,-1.3387465776407153,1.26320480969486,1.0391940167060385,0.07527735447324392,-0.04637228755826521,0.2407108736349752,0.6718242356571152,-0.5874185371180319,-0.05166639315432059,0.28546671957252895,-0.8393723817660538,3.6920994601597235,0.7140374705521528,-2.0311390810199197,-0.7656104217463565,-0.5706747095329012,1.44720934904325,-0.04684225993129464,1.7666836707342357,-0.25712128759980896,-0.7486717414586884,-0.14404899072278207,-2.847694864973696,0.5055476900344904,-0.9777980182604501,-0.3404777125900365,0.49896061289322263,-1.2666980908052186,-0.14298323017857129,-0.33134176695795176,-0.32793980022794733,-1.3223083663276318,-0.7638233684150882,-2.193080206212569,0.9998229351057568,0.636695813978981,-0.20155103698415303,1.4901288953563878,-1.5565718214852045,-0.7254474963551272,0.1256470565777697,1.445946008831829,-0.60092975865266,0.9270945867676877,1.2287517941705062,0.7216832535913091,-1.939902333371826,-1.3338304167761876,0.6727881223318196],\"yaxis\":\"y4\",\"type\":\"scatter\"},{\"line\":{\"color\":\"rgba(128, 128, 128, 1.0)\",\"dash\":\"solid\",\"shape\":\"linear\",\"width\":1.3},\"marker\":{\"size\":2,\"symbol\":\"circle\"},\"mode\":\"markers\",\"name\":\"B\",\"text\":\"\",\"x\":[-0.32437935932286105,0.6507786303830336,-0.3895435206998073,0.09605366978079674,0.8197362293541232,-2.1736614086387034,0.5447989087977978,-0.48026307852395245,-0.9312791112381261,1.0234457605227858,2.602895318314027,0.22413905009816462,-0.821227335088624,-0.3856451712519905,0.8111171832248476,0.020787549685838753,1.0456525715167484,-0.46999110891348045,-1.8031559479012809,1.6790145550113407,-0.10326521597651746,-0.0699982364634295,0.0682181566995542,1.7559799602251849,-0.8835006562676381,0.08438188434314217,-0.3118089076470192,-0.14808980061376903,0.043576355483198256,0.3420442997233026,0.11894325264568689,-0.2577134208535056,0.6978036228013325,0.6113101405984447,-0.8642860355006269,1.0386104714627757,-0.5454469660239857,0.37359152088305875,-0.207414871750417,-0.2766082626107455,-0.09232179563923242,-0.22322258357986602,-0.2750041129199989,-0.6462565804188576,-0.7564544188020607,-0.3935935702016708,-0.6201830686920962,0.5032563482950011,-0.3400791520044989,-0.7217213231087968,0.03735172569908848,-1.3387465776407153,1.26320480969486,1.0391940167060385,0.07527735447324392,-0.04637228755826521,0.2407108736349752,0.6718242356571152,-0.5874185371180319,-0.05166639315432059,0.28546671957252895,-0.8393723817660538,3.6920994601597235,0.7140374705521528,-2.0311390810199197,-0.7656104217463565,-0.5706747095329012,1.44720934904325,-0.04684225993129464,1.7666836707342357,-0.25712128759980896,-0.7486717414586884,-0.14404899072278207,-2.847694864973696,0.5055476900344904,-0.9777980182604501,-0.3404777125900365,0.49896061289322263,-1.2666980908052186,-0.14298323017857129,-0.33134176695795176,-0.32793980022794733,-1.3223083663276318,-0.7638233684150882,-2.193080206212569,0.9998229351057568,0.636695813978981,-0.20155103698415303,1.4901288953563878,-1.5565718214852045,-0.7254474963551272,0.1256470565777697,1.445946008831829,-0.60092975865266,0.9270945867676877,1.2287517941705062,0.7216832535913091,-1.939902333371826,-1.3338304167761876,0.6727881223318196],\"xaxis\":\"x5\",\"y\":[0.5840159608274463,-0.6776725469281716,-0.08250716750184768,-0.6997003696662847,-0.02046542339042747,1.2973044459174985,-0.15269446165195133,-1.4060233979928802,-0.5155337860657689,-0.5736152041925673,1.357173046148224,0.8500626656020044,0.10844955804384164,-1.113034086831303,1.2664476181631814,0.5211478579740425,-0.07179164173708667,0.1862031755158228,-0.7119068102838787,0.9585466814679567,-0.8427877095541829,0.2861755512620451,0.5093489326745615,0.3787469242895969,-0.9445536130992522,0.35678791129132764,0.3853970213226538,0.7413345138100097,1.6806051224796448,-1.083973295584339,0.5506930858378145,1.5639483064191257,0.8824343297222614,-0.10628109258192349,-1.4162687762492605,0.9289603451115521,0.23602352635471763,1.1471291497038176,0.17164218020853547,-0.16497562804589852,0.7178070496418821,1.045121465527172,1.36845378138647,-0.5256492280256156,-0.37444234869325654,-1.2981424632591463,-0.9240607988811324,0.273143180228173,0.9988750799969999,-2.0064517053719846,0.11444308844932008,0.6848583984094578,-0.39553800528315075,-0.3144745974960851,-0.47359674536819757,-1.4573494915478733,0.174213316035283,2.2361965917768685,0.17517082060865113,2.332184289649614,1.7105058808082025,-1.706279525783847,0.5916358862419079,-0.46540652794985776,-1.7293639018946085,-1.2135524247347476,0.1790335731975688,-0.5699722220416938,-0.729331184902068,0.18117369443269593,-0.05635246315475032,0.39052174181601707,-0.6708788277038915,0.16103357730047088,1.573538234181239,-0.1953589263551798,0.080368461583438,0.2679163855152857,-0.15259967498329535,1.0616318376628848,-0.30502224143898055,1.2316319246538674,0.32709090752935904,-0.7106105752458274,0.001081946950240499,0.7494594826677379,-1.014585852439636,-1.128112386980834,0.14410131361648543,-1.496817504683681,-0.19954188369670103,1.4413043033258475,-0.6074730481305635,0.751125846459736,1.0867151412356497,0.02357154784848277,0.09231623762808776,-2.955157726525199,-0.47205442975871503,-1.3673663177768012],\"yaxis\":\"y5\",\"type\":\"scatter\"},{\"histfunc\":\"count\",\"histnorm\":\"\",\"marker\":{\"color\":\"rgba(55, 128, 191, 1.0)\",\"line\":{\"color\":\"#4D5663\",\"width\":1.3}},\"name\":\"B\",\"nbinsx\":10,\"opacity\":0.8,\"orientation\":\"v\",\"x\":[0.5840159608274463,-0.6776725469281716,-0.08250716750184768,-0.6997003696662847,-0.02046542339042747,1.2973044459174985,-0.15269446165195133,-1.4060233979928802,-0.5155337860657689,-0.5736152041925673,1.357173046148224,0.8500626656020044,0.10844955804384164,-1.113034086831303,1.2664476181631814,0.5211478579740425,-0.07179164173708667,0.1862031755158228,-0.7119068102838787,0.9585466814679567,-0.8427877095541829,0.2861755512620451,0.5093489326745615,0.3787469242895969,-0.9445536130992522,0.35678791129132764,0.3853970213226538,0.7413345138100097,1.6806051224796448,-1.083973295584339,0.5506930858378145,1.5639483064191257,0.8824343297222614,-0.10628109258192349,-1.4162687762492605,0.9289603451115521,0.23602352635471763,1.1471291497038176,0.17164218020853547,-0.16497562804589852,0.7178070496418821,1.045121465527172,1.36845378138647,-0.5256492280256156,-0.37444234869325654,-1.2981424632591463,-0.9240607988811324,0.273143180228173,0.9988750799969999,-2.0064517053719846,0.11444308844932008,0.6848583984094578,-0.39553800528315075,-0.3144745974960851,-0.47359674536819757,-1.4573494915478733,0.174213316035283,2.2361965917768685,0.17517082060865113,2.332184289649614,1.7105058808082025,-1.706279525783847,0.5916358862419079,-0.46540652794985776,-1.7293639018946085,-1.2135524247347476,0.1790335731975688,-0.5699722220416938,-0.729331184902068,0.18117369443269593,-0.05635246315475032,0.39052174181601707,-0.6708788277038915,0.16103357730047088,1.573538234181239,-0.1953589263551798,0.080368461583438,0.2679163855152857,-0.15259967498329535,1.0616318376628848,-0.30502224143898055,1.2316319246538674,0.32709090752935904,-0.7106105752458274,0.001081946950240499,0.7494594826677379,-1.014585852439636,-1.128112386980834,0.14410131361648543,-1.496817504683681,-0.19954188369670103,1.4413043033258475,-0.6074730481305635,0.751125846459736,1.0867151412356497,0.02357154784848277,0.09231623762808776,-2.955157726525199,-0.47205442975871503,-1.3673663177768012],\"xaxis\":\"x6\",\"yaxis\":\"y6\",\"type\":\"histogram\"},{\"line\":{\"color\":\"rgba(128, 128, 128, 1.0)\",\"dash\":\"solid\",\"shape\":\"linear\",\"width\":1.3},\"marker\":{\"size\":2,\"symbol\":\"circle\"},\"mode\":\"markers\",\"name\":\"B\",\"text\":\"\",\"x\":[1.146611563349902,-0.761088837254447,-1.894326715200364,1.3055060471824547,-1.471362324415607,-2.3930488604815117,-0.04190170202730823,-0.6396350846980466,-0.9416261575912995,-0.7043826965259425,1.7325352312281856,-1.076813115738217,0.8603396025752142,-1.4178251395331756,-1.4083253789742467,-0.602432651109036,0.31290146941422,0.778709647539167,-0.04195371993520826,1.3092479790070546,0.5024571089057162,-1.0941808683887777,-1.1172154603849271,2.7775145279805873,-1.061893571149162,0.2757159091804494,-0.7186291598569715,2.2688433033063458,-2.277824884002865,-0.743477433858718,0.9683673922339631,1.201535884665647,-0.901638704479854,2.6392266929089283,0.2137313918761221,-2.142675022192311,-0.9496566315490367,0.8872230315510008,1.378743203190755,0.9740148368482646,0.5611615988675017,-0.020477945564687874,-0.8991496296656757,1.0847087999859244,-1.349743904416432,3.1002726646884287,0.10257416112189895,1.9304771347749836,1.2934402633971205,0.10487608323946647,-0.4609259112574587,2.856069611370185,1.3176794164579912,-0.05854508129603264,-0.9089306349901729,-0.009110016830243232,-0.4980743288957647,-0.23940099558340683,0.21721108748891652,-0.4530220631071767,0.564058289705138,-0.7222461918068702,0.6062288317920589,0.8304113921389529,-1.1835001412479258,-1.4604444835782933,-0.023233979873630836,-1.0650385207319413,1.0525587248204924,-1.1129669269305356,1.5295289876160099,-0.43917401925437594,1.6159452113634347,0.2085106909110855,-0.08689652728188826,-0.04972125600565643,0.9620203951830886,-0.13860795123980316,1.3487885879538584,-0.9022259380261738,0.6876135458967871,-2.1698377517338816,-1.7522838477460938,1.6873351932539282,0.9867778665009651,0.8694874167822337,1.0995300392341862,0.6818766300604583,-0.394810347217172,-0.2653026971492913,0.5872705806142731,1.1719476715661912,-0.5827424638925532,0.7097747174073475,0.2180619883892565,-0.34802989769291515,2.5618683795102646,0.5636593733438885,0.7095362847844509,1.0359247697977372],\"xaxis\":\"x7\",\"y\":[0.5840159608274463,-0.6776725469281716,-0.08250716750184768,-0.6997003696662847,-0.02046542339042747,1.2973044459174985,-0.15269446165195133,-1.4060233979928802,-0.5155337860657689,-0.5736152041925673,1.357173046148224,0.8500626656020044,0.10844955804384164,-1.113034086831303,1.2664476181631814,0.5211478579740425,-0.07179164173708667,0.1862031755158228,-0.7119068102838787,0.9585466814679567,-0.8427877095541829,0.2861755512620451,0.5093489326745615,0.3787469242895969,-0.9445536130992522,0.35678791129132764,0.3853970213226538,0.7413345138100097,1.6806051224796448,-1.083973295584339,0.5506930858378145,1.5639483064191257,0.8824343297222614,-0.10628109258192349,-1.4162687762492605,0.9289603451115521,0.23602352635471763,1.1471291497038176,0.17164218020853547,-0.16497562804589852,0.7178070496418821,1.045121465527172,1.36845378138647,-0.5256492280256156,-0.37444234869325654,-1.2981424632591463,-0.9240607988811324,0.273143180228173,0.9988750799969999,-2.0064517053719846,0.11444308844932008,0.6848583984094578,-0.39553800528315075,-0.3144745974960851,-0.47359674536819757,-1.4573494915478733,0.174213316035283,2.2361965917768685,0.17517082060865113,2.332184289649614,1.7105058808082025,-1.706279525783847,0.5916358862419079,-0.46540652794985776,-1.7293639018946085,-1.2135524247347476,0.1790335731975688,-0.5699722220416938,-0.729331184902068,0.18117369443269593,-0.05635246315475032,0.39052174181601707,-0.6708788277038915,0.16103357730047088,1.573538234181239,-0.1953589263551798,0.080368461583438,0.2679163855152857,-0.15259967498329535,1.0616318376628848,-0.30502224143898055,1.2316319246538674,0.32709090752935904,-0.7106105752458274,0.001081946950240499,0.7494594826677379,-1.014585852439636,-1.128112386980834,0.14410131361648543,-1.496817504683681,-0.19954188369670103,1.4413043033258475,-0.6074730481305635,0.751125846459736,1.0867151412356497,0.02357154784848277,0.09231623762808776,-2.955157726525199,-0.47205442975871503,-1.3673663177768012],\"yaxis\":\"y7\",\"type\":\"scatter\"},{\"line\":{\"color\":\"rgba(128, 128, 128, 1.0)\",\"dash\":\"solid\",\"shape\":\"linear\",\"width\":1.3},\"marker\":{\"size\":2,\"symbol\":\"circle\"},\"mode\":\"markers\",\"name\":\"B\",\"text\":\"\",\"x\":[-0.17578973646317267,0.9278787400021398,-2.182677449913249,-2.396345023289566,0.48003741625709717,1.047518960575716,0.6100754852066674,-1.344179890686052,-1.1076326225860527,0.09301750944256627,0.5730312508830305,0.040432820293545835,1.1704259371606005,1.1510426286129267,-0.8138276275203944,-1.0968760151570967,0.08287078650187739,0.44319682155805257,-1.1582566186046355,0.8478621255692413,0.37660234824212485,0.11541673470683698,0.8988970774782885,0.13502754966225816,0.055944855853168905,-0.5744849746557522,0.28514102801490915,-1.4873030247313328,0.13022992101504688,0.2128575152251287,-0.14843777892871812,2.2880178719646524,-1.0502900218838402,0.5139741114262346,-0.20538383385912667,-1.725654753319287,-1.177971112937363,0.8957472535103304,1.6416059835990289,1.2336185344248412,-0.6772354531053224,-1.6445488147688594,0.02965654557736246,-1.1263933501160905,-0.1095058207538614,0.008232092411066915,0.8106473027651468,0.11364464185815298,0.7694218655173967,0.6468768797381542,-0.6944197325249837,1.1892392361790933,1.1878227747892696,-0.361155188586217,-1.511266963805173,-0.49790628823983446,1.9995572586627042,-1.1385309643498227,1.9075093889669785,-0.24652352769978877,0.8864608442812109,0.9218171539005922,0.9946321675922722,0.3794411477043499,0.17687000782678514,0.5340926886161836,0.7281931522486161,-0.5443279073908619,1.214410332690026,-0.06955844511028561,0.3778993656796964,0.96915492911502,-0.2796307174958231,-0.2963225746161983,-0.9817827002750537,-0.343294377381208,-0.7137835769329658,0.24207442443395807,0.30067768158565417,-0.10212944731863574,1.142641606505229,0.469865477326826,0.30919517777698313,0.7779946172803213,0.03185003902106065,-0.4342313894982847,-1.4298458973499455,0.38111256087461426,2.0155880426859003,1.38363513778326,0.7314112707662803,1.7970850998799364,0.5592199756951292,0.05317021511645505,0.3160459453040408,0.5911502889048841,0.743269569699162,1.3920743118952654,-1.3364864170711663,-0.08316266473902233],\"xaxis\":\"x8\",\"y\":[0.5840159608274463,-0.6776725469281716,-0.08250716750184768,-0.6997003696662847,-0.02046542339042747,1.2973044459174985,-0.15269446165195133,-1.4060233979928802,-0.5155337860657689,-0.5736152041925673,1.357173046148224,0.8500626656020044,0.10844955804384164,-1.113034086831303,1.2664476181631814,0.5211478579740425,-0.07179164173708667,0.1862031755158228,-0.7119068102838787,0.9585466814679567,-0.8427877095541829,0.2861755512620451,0.5093489326745615,0.3787469242895969,-0.9445536130992522,0.35678791129132764,0.3853970213226538,0.7413345138100097,1.6806051224796448,-1.083973295584339,0.5506930858378145,1.5639483064191257,0.8824343297222614,-0.10628109258192349,-1.4162687762492605,0.9289603451115521,0.23602352635471763,1.1471291497038176,0.17164218020853547,-0.16497562804589852,0.7178070496418821,1.045121465527172,1.36845378138647,-0.5256492280256156,-0.37444234869325654,-1.2981424632591463,-0.9240607988811324,0.273143180228173,0.9988750799969999,-2.0064517053719846,0.11444308844932008,0.6848583984094578,-0.39553800528315075,-0.3144745974960851,-0.47359674536819757,-1.4573494915478733,0.174213316035283,2.2361965917768685,0.17517082060865113,2.332184289649614,1.7105058808082025,-1.706279525783847,0.5916358862419079,-0.46540652794985776,-1.7293639018946085,-1.2135524247347476,0.1790335731975688,-0.5699722220416938,-0.729331184902068,0.18117369443269593,-0.05635246315475032,0.39052174181601707,-0.6708788277038915,0.16103357730047088,1.573538234181239,-0.1953589263551798,0.080368461583438,0.2679163855152857,-0.15259967498329535,1.0616318376628848,-0.30502224143898055,1.2316319246538674,0.32709090752935904,-0.7106105752458274,0.001081946950240499,0.7494594826677379,-1.014585852439636,-1.128112386980834,0.14410131361648543,-1.496817504683681,-0.19954188369670103,1.4413043033258475,-0.6074730481305635,0.751125846459736,1.0867151412356497,0.02357154784848277,0.09231623762808776,-2.955157726525199,-0.47205442975871503,-1.3673663177768012],\"yaxis\":\"y8\",\"type\":\"scatter\"},{\"line\":{\"color\":\"rgba(128, 128, 128, 1.0)\",\"dash\":\"solid\",\"shape\":\"linear\",\"width\":1.3},\"marker\":{\"size\":2,\"symbol\":\"circle\"},\"mode\":\"markers\",\"name\":\"C\",\"text\":\"\",\"x\":[-0.32437935932286105,0.6507786303830336,-0.3895435206998073,0.09605366978079674,0.8197362293541232,-2.1736614086387034,0.5447989087977978,-0.48026307852395245,-0.9312791112381261,1.0234457605227858,2.602895318314027,0.22413905009816462,-0.821227335088624,-0.3856451712519905,0.8111171832248476,0.020787549685838753,1.0456525715167484,-0.46999110891348045,-1.8031559479012809,1.6790145550113407,-0.10326521597651746,-0.0699982364634295,0.0682181566995542,1.7559799602251849,-0.8835006562676381,0.08438188434314217,-0.3118089076470192,-0.14808980061376903,0.043576355483198256,0.3420442997233026,0.11894325264568689,-0.2577134208535056,0.6978036228013325,0.6113101405984447,-0.8642860355006269,1.0386104714627757,-0.5454469660239857,0.37359152088305875,-0.207414871750417,-0.2766082626107455,-0.09232179563923242,-0.22322258357986602,-0.2750041129199989,-0.6462565804188576,-0.7564544188020607,-0.3935935702016708,-0.6201830686920962,0.5032563482950011,-0.3400791520044989,-0.7217213231087968,0.03735172569908848,-1.3387465776407153,1.26320480969486,1.0391940167060385,0.07527735447324392,-0.04637228755826521,0.2407108736349752,0.6718242356571152,-0.5874185371180319,-0.05166639315432059,0.28546671957252895,-0.8393723817660538,3.6920994601597235,0.7140374705521528,-2.0311390810199197,-0.7656104217463565,-0.5706747095329012,1.44720934904325,-0.04684225993129464,1.7666836707342357,-0.25712128759980896,-0.7486717414586884,-0.14404899072278207,-2.847694864973696,0.5055476900344904,-0.9777980182604501,-0.3404777125900365,0.49896061289322263,-1.2666980908052186,-0.14298323017857129,-0.33134176695795176,-0.32793980022794733,-1.3223083663276318,-0.7638233684150882,-2.193080206212569,0.9998229351057568,0.636695813978981,-0.20155103698415303,1.4901288953563878,-1.5565718214852045,-0.7254474963551272,0.1256470565777697,1.445946008831829,-0.60092975865266,0.9270945867676877,1.2287517941705062,0.7216832535913091,-1.939902333371826,-1.3338304167761876,0.6727881223318196],\"xaxis\":\"x9\",\"y\":[1.146611563349902,-0.761088837254447,-1.894326715200364,1.3055060471824547,-1.471362324415607,-2.3930488604815117,-0.04190170202730823,-0.6396350846980466,-0.9416261575912995,-0.7043826965259425,1.7325352312281856,-1.076813115738217,0.8603396025752142,-1.4178251395331756,-1.4083253789742467,-0.602432651109036,0.31290146941422,0.778709647539167,-0.04195371993520826,1.3092479790070546,0.5024571089057162,-1.0941808683887777,-1.1172154603849271,2.7775145279805873,-1.061893571149162,0.2757159091804494,-0.7186291598569715,2.2688433033063458,-2.277824884002865,-0.743477433858718,0.9683673922339631,1.201535884665647,-0.901638704479854,2.6392266929089283,0.2137313918761221,-2.142675022192311,-0.9496566315490367,0.8872230315510008,1.378743203190755,0.9740148368482646,0.5611615988675017,-0.020477945564687874,-0.8991496296656757,1.0847087999859244,-1.349743904416432,3.1002726646884287,0.10257416112189895,1.9304771347749836,1.2934402633971205,0.10487608323946647,-0.4609259112574587,2.856069611370185,1.3176794164579912,-0.05854508129603264,-0.9089306349901729,-0.009110016830243232,-0.4980743288957647,-0.23940099558340683,0.21721108748891652,-0.4530220631071767,0.564058289705138,-0.7222461918068702,0.6062288317920589,0.8304113921389529,-1.1835001412479258,-1.4604444835782933,-0.023233979873630836,-1.0650385207319413,1.0525587248204924,-1.1129669269305356,1.5295289876160099,-0.43917401925437594,1.6159452113634347,0.2085106909110855,-0.08689652728188826,-0.04972125600565643,0.9620203951830886,-0.13860795123980316,1.3487885879538584,-0.9022259380261738,0.6876135458967871,-2.1698377517338816,-1.7522838477460938,1.6873351932539282,0.9867778665009651,0.8694874167822337,1.0995300392341862,0.6818766300604583,-0.394810347217172,-0.2653026971492913,0.5872705806142731,1.1719476715661912,-0.5827424638925532,0.7097747174073475,0.2180619883892565,-0.34802989769291515,2.5618683795102646,0.5636593733438885,0.7095362847844509,1.0359247697977372],\"yaxis\":\"y9\",\"type\":\"scatter\"},{\"line\":{\"color\":\"rgba(128, 128, 128, 1.0)\",\"dash\":\"solid\",\"shape\":\"linear\",\"width\":1.3},\"marker\":{\"size\":2,\"symbol\":\"circle\"},\"mode\":\"markers\",\"name\":\"C\",\"text\":\"\",\"x\":[0.5840159608274463,-0.6776725469281716,-0.08250716750184768,-0.6997003696662847,-0.02046542339042747,1.2973044459174985,-0.15269446165195133,-1.4060233979928802,-0.5155337860657689,-0.5736152041925673,1.357173046148224,0.8500626656020044,0.10844955804384164,-1.113034086831303,1.2664476181631814,0.5211478579740425,-0.07179164173708667,0.1862031755158228,-0.7119068102838787,0.9585466814679567,-0.8427877095541829,0.2861755512620451,0.5093489326745615,0.3787469242895969,-0.9445536130992522,0.35678791129132764,0.3853970213226538,0.7413345138100097,1.6806051224796448,-1.083973295584339,0.5506930858378145,1.5639483064191257,0.8824343297222614,-0.10628109258192349,-1.4162687762492605,0.9289603451115521,0.23602352635471763,1.1471291497038176,0.17164218020853547,-0.16497562804589852,0.7178070496418821,1.045121465527172,1.36845378138647,-0.5256492280256156,-0.37444234869325654,-1.2981424632591463,-0.9240607988811324,0.273143180228173,0.9988750799969999,-2.0064517053719846,0.11444308844932008,0.6848583984094578,-0.39553800528315075,-0.3144745974960851,-0.47359674536819757,-1.4573494915478733,0.174213316035283,2.2361965917768685,0.17517082060865113,2.332184289649614,1.7105058808082025,-1.706279525783847,0.5916358862419079,-0.46540652794985776,-1.7293639018946085,-1.2135524247347476,0.1790335731975688,-0.5699722220416938,-0.729331184902068,0.18117369443269593,-0.05635246315475032,0.39052174181601707,-0.6708788277038915,0.16103357730047088,1.573538234181239,-0.1953589263551798,0.080368461583438,0.2679163855152857,-0.15259967498329535,1.0616318376628848,-0.30502224143898055,1.2316319246538674,0.32709090752935904,-0.7106105752458274,0.001081946950240499,0.7494594826677379,-1.014585852439636,-1.128112386980834,0.14410131361648543,-1.496817504683681,-0.19954188369670103,1.4413043033258475,-0.6074730481305635,0.751125846459736,1.0867151412356497,0.02357154784848277,0.09231623762808776,-2.955157726525199,-0.47205442975871503,-1.3673663177768012],\"xaxis\":\"x10\",\"y\":[1.146611563349902,-0.761088837254447,-1.894326715200364,1.3055060471824547,-1.471362324415607,-2.3930488604815117,-0.04190170202730823,-0.6396350846980466,-0.9416261575912995,-0.7043826965259425,1.7325352312281856,-1.076813115738217,0.8603396025752142,-1.4178251395331756,-1.4083253789742467,-0.602432651109036,0.31290146941422,0.778709647539167,-0.04195371993520826,1.3092479790070546,0.5024571089057162,-1.0941808683887777,-1.1172154603849271,2.7775145279805873,-1.061893571149162,0.2757159091804494,-0.7186291598569715,2.2688433033063458,-2.277824884002865,-0.743477433858718,0.9683673922339631,1.201535884665647,-0.901638704479854,2.6392266929089283,0.2137313918761221,-2.142675022192311,-0.9496566315490367,0.8872230315510008,1.378743203190755,0.9740148368482646,0.5611615988675017,-0.020477945564687874,-0.8991496296656757,1.0847087999859244,-1.349743904416432,3.1002726646884287,0.10257416112189895,1.9304771347749836,1.2934402633971205,0.10487608323946647,-0.4609259112574587,2.856069611370185,1.3176794164579912,-0.05854508129603264,-0.9089306349901729,-0.009110016830243232,-0.4980743288957647,-0.23940099558340683,0.21721108748891652,-0.4530220631071767,0.564058289705138,-0.7222461918068702,0.6062288317920589,0.8304113921389529,-1.1835001412479258,-1.4604444835782933,-0.023233979873630836,-1.0650385207319413,1.0525587248204924,-1.1129669269305356,1.5295289876160099,-0.43917401925437594,1.6159452113634347,0.2085106909110855,-0.08689652728188826,-0.04972125600565643,0.9620203951830886,-0.13860795123980316,1.3487885879538584,-0.9022259380261738,0.6876135458967871,-2.1698377517338816,-1.7522838477460938,1.6873351932539282,0.9867778665009651,0.8694874167822337,1.0995300392341862,0.6818766300604583,-0.394810347217172,-0.2653026971492913,0.5872705806142731,1.1719476715661912,-0.5827424638925532,0.7097747174073475,0.2180619883892565,-0.34802989769291515,2.5618683795102646,0.5636593733438885,0.7095362847844509,1.0359247697977372],\"yaxis\":\"y10\",\"type\":\"scatter\"},{\"histfunc\":\"count\",\"histnorm\":\"\",\"marker\":{\"color\":\"rgba(50, 171, 96, 1.0)\",\"line\":{\"color\":\"#4D5663\",\"width\":1.3}},\"name\":\"C\",\"nbinsx\":10,\"opacity\":0.8,\"orientation\":\"v\",\"x\":[1.146611563349902,-0.761088837254447,-1.894326715200364,1.3055060471824547,-1.471362324415607,-2.3930488604815117,-0.04190170202730823,-0.6396350846980466,-0.9416261575912995,-0.7043826965259425,1.7325352312281856,-1.076813115738217,0.8603396025752142,-1.4178251395331756,-1.4083253789742467,-0.602432651109036,0.31290146941422,0.778709647539167,-0.04195371993520826,1.3092479790070546,0.5024571089057162,-1.0941808683887777,-1.1172154603849271,2.7775145279805873,-1.061893571149162,0.2757159091804494,-0.7186291598569715,2.2688433033063458,-2.277824884002865,-0.743477433858718,0.9683673922339631,1.201535884665647,-0.901638704479854,2.6392266929089283,0.2137313918761221,-2.142675022192311,-0.9496566315490367,0.8872230315510008,1.378743203190755,0.9740148368482646,0.5611615988675017,-0.020477945564687874,-0.8991496296656757,1.0847087999859244,-1.349743904416432,3.1002726646884287,0.10257416112189895,1.9304771347749836,1.2934402633971205,0.10487608323946647,-0.4609259112574587,2.856069611370185,1.3176794164579912,-0.05854508129603264,-0.9089306349901729,-0.009110016830243232,-0.4980743288957647,-0.23940099558340683,0.21721108748891652,-0.4530220631071767,0.564058289705138,-0.7222461918068702,0.6062288317920589,0.8304113921389529,-1.1835001412479258,-1.4604444835782933,-0.023233979873630836,-1.0650385207319413,1.0525587248204924,-1.1129669269305356,1.5295289876160099,-0.43917401925437594,1.6159452113634347,0.2085106909110855,-0.08689652728188826,-0.04972125600565643,0.9620203951830886,-0.13860795123980316,1.3487885879538584,-0.9022259380261738,0.6876135458967871,-2.1698377517338816,-1.7522838477460938,1.6873351932539282,0.9867778665009651,0.8694874167822337,1.0995300392341862,0.6818766300604583,-0.394810347217172,-0.2653026971492913,0.5872705806142731,1.1719476715661912,-0.5827424638925532,0.7097747174073475,0.2180619883892565,-0.34802989769291515,2.5618683795102646,0.5636593733438885,0.7095362847844509,1.0359247697977372],\"xaxis\":\"x11\",\"yaxis\":\"y11\",\"type\":\"histogram\"},{\"line\":{\"color\":\"rgba(128, 128, 128, 1.0)\",\"dash\":\"solid\",\"shape\":\"linear\",\"width\":1.3},\"marker\":{\"size\":2,\"symbol\":\"circle\"},\"mode\":\"markers\",\"name\":\"C\",\"text\":\"\",\"x\":[-0.17578973646317267,0.9278787400021398,-2.182677449913249,-2.396345023289566,0.48003741625709717,1.047518960575716,0.6100754852066674,-1.344179890686052,-1.1076326225860527,0.09301750944256627,0.5730312508830305,0.040432820293545835,1.1704259371606005,1.1510426286129267,-0.8138276275203944,-1.0968760151570967,0.08287078650187739,0.44319682155805257,-1.1582566186046355,0.8478621255692413,0.37660234824212485,0.11541673470683698,0.8988970774782885,0.13502754966225816,0.055944855853168905,-0.5744849746557522,0.28514102801490915,-1.4873030247313328,0.13022992101504688,0.2128575152251287,-0.14843777892871812,2.2880178719646524,-1.0502900218838402,0.5139741114262346,-0.20538383385912667,-1.725654753319287,-1.177971112937363,0.8957472535103304,1.6416059835990289,1.2336185344248412,-0.6772354531053224,-1.6445488147688594,0.02965654557736246,-1.1263933501160905,-0.1095058207538614,0.008232092411066915,0.8106473027651468,0.11364464185815298,0.7694218655173967,0.6468768797381542,-0.6944197325249837,1.1892392361790933,1.1878227747892696,-0.361155188586217,-1.511266963805173,-0.49790628823983446,1.9995572586627042,-1.1385309643498227,1.9075093889669785,-0.24652352769978877,0.8864608442812109,0.9218171539005922,0.9946321675922722,0.3794411477043499,0.17687000782678514,0.5340926886161836,0.7281931522486161,-0.5443279073908619,1.214410332690026,-0.06955844511028561,0.3778993656796964,0.96915492911502,-0.2796307174958231,-0.2963225746161983,-0.9817827002750537,-0.343294377381208,-0.7137835769329658,0.24207442443395807,0.30067768158565417,-0.10212944731863574,1.142641606505229,0.469865477326826,0.30919517777698313,0.7779946172803213,0.03185003902106065,-0.4342313894982847,-1.4298458973499455,0.38111256087461426,2.0155880426859003,1.38363513778326,0.7314112707662803,1.7970850998799364,0.5592199756951292,0.05317021511645505,0.3160459453040408,0.5911502889048841,0.743269569699162,1.3920743118952654,-1.3364864170711663,-0.08316266473902233],\"xaxis\":\"x12\",\"y\":[1.146611563349902,-0.761088837254447,-1.894326715200364,1.3055060471824547,-1.471362324415607,-2.3930488604815117,-0.04190170202730823,-0.6396350846980466,-0.9416261575912995,-0.7043826965259425,1.7325352312281856,-1.076813115738217,0.8603396025752142,-1.4178251395331756,-1.4083253789742467,-0.602432651109036,0.31290146941422,0.778709647539167,-0.04195371993520826,1.3092479790070546,0.5024571089057162,-1.0941808683887777,-1.1172154603849271,2.7775145279805873,-1.061893571149162,0.2757159091804494,-0.7186291598569715,2.2688433033063458,-2.277824884002865,-0.743477433858718,0.9683673922339631,1.201535884665647,-0.901638704479854,2.6392266929089283,0.2137313918761221,-2.142675022192311,-0.9496566315490367,0.8872230315510008,1.378743203190755,0.9740148368482646,0.5611615988675017,-0.020477945564687874,-0.8991496296656757,1.0847087999859244,-1.349743904416432,3.1002726646884287,0.10257416112189895,1.9304771347749836,1.2934402633971205,0.10487608323946647,-0.4609259112574587,2.856069611370185,1.3176794164579912,-0.05854508129603264,-0.9089306349901729,-0.009110016830243232,-0.4980743288957647,-0.23940099558340683,0.21721108748891652,-0.4530220631071767,0.564058289705138,-0.7222461918068702,0.6062288317920589,0.8304113921389529,-1.1835001412479258,-1.4604444835782933,-0.023233979873630836,-1.0650385207319413,1.0525587248204924,-1.1129669269305356,1.5295289876160099,-0.43917401925437594,1.6159452113634347,0.2085106909110855,-0.08689652728188826,-0.04972125600565643,0.9620203951830886,-0.13860795123980316,1.3487885879538584,-0.9022259380261738,0.6876135458967871,-2.1698377517338816,-1.7522838477460938,1.6873351932539282,0.9867778665009651,0.8694874167822337,1.0995300392341862,0.6818766300604583,-0.394810347217172,-0.2653026971492913,0.5872705806142731,1.1719476715661912,-0.5827424638925532,0.7097747174073475,0.2180619883892565,-0.34802989769291515,2.5618683795102646,0.5636593733438885,0.7095362847844509,1.0359247697977372],\"yaxis\":\"y12\",\"type\":\"scatter\"},{\"line\":{\"color\":\"rgba(128, 128, 128, 1.0)\",\"dash\":\"solid\",\"shape\":\"linear\",\"width\":1.3},\"marker\":{\"size\":2,\"symbol\":\"circle\"},\"mode\":\"markers\",\"name\":\"D\",\"text\":\"\",\"x\":[-0.32437935932286105,0.6507786303830336,-0.3895435206998073,0.09605366978079674,0.8197362293541232,-2.1736614086387034,0.5447989087977978,-0.48026307852395245,-0.9312791112381261,1.0234457605227858,2.602895318314027,0.22413905009816462,-0.821227335088624,-0.3856451712519905,0.8111171832248476,0.020787549685838753,1.0456525715167484,-0.46999110891348045,-1.8031559479012809,1.6790145550113407,-0.10326521597651746,-0.0699982364634295,0.0682181566995542,1.7559799602251849,-0.8835006562676381,0.08438188434314217,-0.3118089076470192,-0.14808980061376903,0.043576355483198256,0.3420442997233026,0.11894325264568689,-0.2577134208535056,0.6978036228013325,0.6113101405984447,-0.8642860355006269,1.0386104714627757,-0.5454469660239857,0.37359152088305875,-0.207414871750417,-0.2766082626107455,-0.09232179563923242,-0.22322258357986602,-0.2750041129199989,-0.6462565804188576,-0.7564544188020607,-0.3935935702016708,-0.6201830686920962,0.5032563482950011,-0.3400791520044989,-0.7217213231087968,0.03735172569908848,-1.3387465776407153,1.26320480969486,1.0391940167060385,0.07527735447324392,-0.04637228755826521,0.2407108736349752,0.6718242356571152,-0.5874185371180319,-0.05166639315432059,0.28546671957252895,-0.8393723817660538,3.6920994601597235,0.7140374705521528,-2.0311390810199197,-0.7656104217463565,-0.5706747095329012,1.44720934904325,-0.04684225993129464,1.7666836707342357,-0.25712128759980896,-0.7486717414586884,-0.14404899072278207,-2.847694864973696,0.5055476900344904,-0.9777980182604501,-0.3404777125900365,0.49896061289322263,-1.2666980908052186,-0.14298323017857129,-0.33134176695795176,-0.32793980022794733,-1.3223083663276318,-0.7638233684150882,-2.193080206212569,0.9998229351057568,0.636695813978981,-0.20155103698415303,1.4901288953563878,-1.5565718214852045,-0.7254474963551272,0.1256470565777697,1.445946008831829,-0.60092975865266,0.9270945867676877,1.2287517941705062,0.7216832535913091,-1.939902333371826,-1.3338304167761876,0.6727881223318196],\"xaxis\":\"x13\",\"y\":[-0.17578973646317267,0.9278787400021398,-2.182677449913249,-2.396345023289566,0.48003741625709717,1.047518960575716,0.6100754852066674,-1.344179890686052,-1.1076326225860527,0.09301750944256627,0.5730312508830305,0.040432820293545835,1.1704259371606005,1.1510426286129267,-0.8138276275203944,-1.0968760151570967,0.08287078650187739,0.44319682155805257,-1.1582566186046355,0.8478621255692413,0.37660234824212485,0.11541673470683698,0.8988970774782885,0.13502754966225816,0.055944855853168905,-0.5744849746557522,0.28514102801490915,-1.4873030247313328,0.13022992101504688,0.2128575152251287,-0.14843777892871812,2.2880178719646524,-1.0502900218838402,0.5139741114262346,-0.20538383385912667,-1.725654753319287,-1.177971112937363,0.8957472535103304,1.6416059835990289,1.2336185344248412,-0.6772354531053224,-1.6445488147688594,0.02965654557736246,-1.1263933501160905,-0.1095058207538614,0.008232092411066915,0.8106473027651468,0.11364464185815298,0.7694218655173967,0.6468768797381542,-0.6944197325249837,1.1892392361790933,1.1878227747892696,-0.361155188586217,-1.511266963805173,-0.49790628823983446,1.9995572586627042,-1.1385309643498227,1.9075093889669785,-0.24652352769978877,0.8864608442812109,0.9218171539005922,0.9946321675922722,0.3794411477043499,0.17687000782678514,0.5340926886161836,0.7281931522486161,-0.5443279073908619,1.214410332690026,-0.06955844511028561,0.3778993656796964,0.96915492911502,-0.2796307174958231,-0.2963225746161983,-0.9817827002750537,-0.343294377381208,-0.7137835769329658,0.24207442443395807,0.30067768158565417,-0.10212944731863574,1.142641606505229,0.469865477326826,0.30919517777698313,0.7779946172803213,0.03185003902106065,-0.4342313894982847,-1.4298458973499455,0.38111256087461426,2.0155880426859003,1.38363513778326,0.7314112707662803,1.7970850998799364,0.5592199756951292,0.05317021511645505,0.3160459453040408,0.5911502889048841,0.743269569699162,1.3920743118952654,-1.3364864170711663,-0.08316266473902233],\"yaxis\":\"y13\",\"type\":\"scatter\"},{\"line\":{\"color\":\"rgba(128, 128, 128, 1.0)\",\"dash\":\"solid\",\"shape\":\"linear\",\"width\":1.3},\"marker\":{\"size\":2,\"symbol\":\"circle\"},\"mode\":\"markers\",\"name\":\"D\",\"text\":\"\",\"x\":[0.5840159608274463,-0.6776725469281716,-0.08250716750184768,-0.6997003696662847,-0.02046542339042747,1.2973044459174985,-0.15269446165195133,-1.4060233979928802,-0.5155337860657689,-0.5736152041925673,1.357173046148224,0.8500626656020044,0.10844955804384164,-1.113034086831303,1.2664476181631814,0.5211478579740425,-0.07179164173708667,0.1862031755158228,-0.7119068102838787,0.9585466814679567,-0.8427877095541829,0.2861755512620451,0.5093489326745615,0.3787469242895969,-0.9445536130992522,0.35678791129132764,0.3853970213226538,0.7413345138100097,1.6806051224796448,-1.083973295584339,0.5506930858378145,1.5639483064191257,0.8824343297222614,-0.10628109258192349,-1.4162687762492605,0.9289603451115521,0.23602352635471763,1.1471291497038176,0.17164218020853547,-0.16497562804589852,0.7178070496418821,1.045121465527172,1.36845378138647,-0.5256492280256156,-0.37444234869325654,-1.2981424632591463,-0.9240607988811324,0.273143180228173,0.9988750799969999,-2.0064517053719846,0.11444308844932008,0.6848583984094578,-0.39553800528315075,-0.3144745974960851,-0.47359674536819757,-1.4573494915478733,0.174213316035283,2.2361965917768685,0.17517082060865113,2.332184289649614,1.7105058808082025,-1.706279525783847,0.5916358862419079,-0.46540652794985776,-1.7293639018946085,-1.2135524247347476,0.1790335731975688,-0.5699722220416938,-0.729331184902068,0.18117369443269593,-0.05635246315475032,0.39052174181601707,-0.6708788277038915,0.16103357730047088,1.573538234181239,-0.1953589263551798,0.080368461583438,0.2679163855152857,-0.15259967498329535,1.0616318376628848,-0.30502224143898055,1.2316319246538674,0.32709090752935904,-0.7106105752458274,0.001081946950240499,0.7494594826677379,-1.014585852439636,-1.128112386980834,0.14410131361648543,-1.496817504683681,-0.19954188369670103,1.4413043033258475,-0.6074730481305635,0.751125846459736,1.0867151412356497,0.02357154784848277,0.09231623762808776,-2.955157726525199,-0.47205442975871503,-1.3673663177768012],\"xaxis\":\"x14\",\"y\":[-0.17578973646317267,0.9278787400021398,-2.182677449913249,-2.396345023289566,0.48003741625709717,1.047518960575716,0.6100754852066674,-1.344179890686052,-1.1076326225860527,0.09301750944256627,0.5730312508830305,0.040432820293545835,1.1704259371606005,1.1510426286129267,-0.8138276275203944,-1.0968760151570967,0.08287078650187739,0.44319682155805257,-1.1582566186046355,0.8478621255692413,0.37660234824212485,0.11541673470683698,0.8988970774782885,0.13502754966225816,0.055944855853168905,-0.5744849746557522,0.28514102801490915,-1.4873030247313328,0.13022992101504688,0.2128575152251287,-0.14843777892871812,2.2880178719646524,-1.0502900218838402,0.5139741114262346,-0.20538383385912667,-1.725654753319287,-1.177971112937363,0.8957472535103304,1.6416059835990289,1.2336185344248412,-0.6772354531053224,-1.6445488147688594,0.02965654557736246,-1.1263933501160905,-0.1095058207538614,0.008232092411066915,0.8106473027651468,0.11364464185815298,0.7694218655173967,0.6468768797381542,-0.6944197325249837,1.1892392361790933,1.1878227747892696,-0.361155188586217,-1.511266963805173,-0.49790628823983446,1.9995572586627042,-1.1385309643498227,1.9075093889669785,-0.24652352769978877,0.8864608442812109,0.9218171539005922,0.9946321675922722,0.3794411477043499,0.17687000782678514,0.5340926886161836,0.7281931522486161,-0.5443279073908619,1.214410332690026,-0.06955844511028561,0.3778993656796964,0.96915492911502,-0.2796307174958231,-0.2963225746161983,-0.9817827002750537,-0.343294377381208,-0.7137835769329658,0.24207442443395807,0.30067768158565417,-0.10212944731863574,1.142641606505229,0.469865477326826,0.30919517777698313,0.7779946172803213,0.03185003902106065,-0.4342313894982847,-1.4298458973499455,0.38111256087461426,2.0155880426859003,1.38363513778326,0.7314112707662803,1.7970850998799364,0.5592199756951292,0.05317021511645505,0.3160459453040408,0.5911502889048841,0.743269569699162,1.3920743118952654,-1.3364864170711663,-0.08316266473902233],\"yaxis\":\"y14\",\"type\":\"scatter\"},{\"line\":{\"color\":\"rgba(128, 128, 128, 1.0)\",\"dash\":\"solid\",\"shape\":\"linear\",\"width\":1.3},\"marker\":{\"size\":2,\"symbol\":\"circle\"},\"mode\":\"markers\",\"name\":\"D\",\"text\":\"\",\"x\":[1.146611563349902,-0.761088837254447,-1.894326715200364,1.3055060471824547,-1.471362324415607,-2.3930488604815117,-0.04190170202730823,-0.6396350846980466,-0.9416261575912995,-0.7043826965259425,1.7325352312281856,-1.076813115738217,0.8603396025752142,-1.4178251395331756,-1.4083253789742467,-0.602432651109036,0.31290146941422,0.778709647539167,-0.04195371993520826,1.3092479790070546,0.5024571089057162,-1.0941808683887777,-1.1172154603849271,2.7775145279805873,-1.061893571149162,0.2757159091804494,-0.7186291598569715,2.2688433033063458,-2.277824884002865,-0.743477433858718,0.9683673922339631,1.201535884665647,-0.901638704479854,2.6392266929089283,0.2137313918761221,-2.142675022192311,-0.9496566315490367,0.8872230315510008,1.378743203190755,0.9740148368482646,0.5611615988675017,-0.020477945564687874,-0.8991496296656757,1.0847087999859244,-1.349743904416432,3.1002726646884287,0.10257416112189895,1.9304771347749836,1.2934402633971205,0.10487608323946647,-0.4609259112574587,2.856069611370185,1.3176794164579912,-0.05854508129603264,-0.9089306349901729,-0.009110016830243232,-0.4980743288957647,-0.23940099558340683,0.21721108748891652,-0.4530220631071767,0.564058289705138,-0.7222461918068702,0.6062288317920589,0.8304113921389529,-1.1835001412479258,-1.4604444835782933,-0.023233979873630836,-1.0650385207319413,1.0525587248204924,-1.1129669269305356,1.5295289876160099,-0.43917401925437594,1.6159452113634347,0.2085106909110855,-0.08689652728188826,-0.04972125600565643,0.9620203951830886,-0.13860795123980316,1.3487885879538584,-0.9022259380261738,0.6876135458967871,-2.1698377517338816,-1.7522838477460938,1.6873351932539282,0.9867778665009651,0.8694874167822337,1.0995300392341862,0.6818766300604583,-0.394810347217172,-0.2653026971492913,0.5872705806142731,1.1719476715661912,-0.5827424638925532,0.7097747174073475,0.2180619883892565,-0.34802989769291515,2.5618683795102646,0.5636593733438885,0.7095362847844509,1.0359247697977372],\"xaxis\":\"x15\",\"y\":[-0.17578973646317267,0.9278787400021398,-2.182677449913249,-2.396345023289566,0.48003741625709717,1.047518960575716,0.6100754852066674,-1.344179890686052,-1.1076326225860527,0.09301750944256627,0.5730312508830305,0.040432820293545835,1.1704259371606005,1.1510426286129267,-0.8138276275203944,-1.0968760151570967,0.08287078650187739,0.44319682155805257,-1.1582566186046355,0.8478621255692413,0.37660234824212485,0.11541673470683698,0.8988970774782885,0.13502754966225816,0.055944855853168905,-0.5744849746557522,0.28514102801490915,-1.4873030247313328,0.13022992101504688,0.2128575152251287,-0.14843777892871812,2.2880178719646524,-1.0502900218838402,0.5139741114262346,-0.20538383385912667,-1.725654753319287,-1.177971112937363,0.8957472535103304,1.6416059835990289,1.2336185344248412,-0.6772354531053224,-1.6445488147688594,0.02965654557736246,-1.1263933501160905,-0.1095058207538614,0.008232092411066915,0.8106473027651468,0.11364464185815298,0.7694218655173967,0.6468768797381542,-0.6944197325249837,1.1892392361790933,1.1878227747892696,-0.361155188586217,-1.511266963805173,-0.49790628823983446,1.9995572586627042,-1.1385309643498227,1.9075093889669785,-0.24652352769978877,0.8864608442812109,0.9218171539005922,0.9946321675922722,0.3794411477043499,0.17687000782678514,0.5340926886161836,0.7281931522486161,-0.5443279073908619,1.214410332690026,-0.06955844511028561,0.3778993656796964,0.96915492911502,-0.2796307174958231,-0.2963225746161983,-0.9817827002750537,-0.343294377381208,-0.7137835769329658,0.24207442443395807,0.30067768158565417,-0.10212944731863574,1.142641606505229,0.469865477326826,0.30919517777698313,0.7779946172803213,0.03185003902106065,-0.4342313894982847,-1.4298458973499455,0.38111256087461426,2.0155880426859003,1.38363513778326,0.7314112707662803,1.7970850998799364,0.5592199756951292,0.05317021511645505,0.3160459453040408,0.5911502889048841,0.743269569699162,1.3920743118952654,-1.3364864170711663,-0.08316266473902233],\"yaxis\":\"y15\",\"type\":\"scatter\"},{\"histfunc\":\"count\",\"histnorm\":\"\",\"marker\":{\"color\":\"rgba(128, 0, 128, 1.0)\",\"line\":{\"color\":\"#4D5663\",\"width\":1.3}},\"name\":\"D\",\"nbinsx\":10,\"opacity\":0.8,\"orientation\":\"v\",\"x\":[-0.17578973646317267,0.9278787400021398,-2.182677449913249,-2.396345023289566,0.48003741625709717,1.047518960575716,0.6100754852066674,-1.344179890686052,-1.1076326225860527,0.09301750944256627,0.5730312508830305,0.040432820293545835,1.1704259371606005,1.1510426286129267,-0.8138276275203944,-1.0968760151570967,0.08287078650187739,0.44319682155805257,-1.1582566186046355,0.8478621255692413,0.37660234824212485,0.11541673470683698,0.8988970774782885,0.13502754966225816,0.055944855853168905,-0.5744849746557522,0.28514102801490915,-1.4873030247313328,0.13022992101504688,0.2128575152251287,-0.14843777892871812,2.2880178719646524,-1.0502900218838402,0.5139741114262346,-0.20538383385912667,-1.725654753319287,-1.177971112937363,0.8957472535103304,1.6416059835990289,1.2336185344248412,-0.6772354531053224,-1.6445488147688594,0.02965654557736246,-1.1263933501160905,-0.1095058207538614,0.008232092411066915,0.8106473027651468,0.11364464185815298,0.7694218655173967,0.6468768797381542,-0.6944197325249837,1.1892392361790933,1.1878227747892696,-0.361155188586217,-1.511266963805173,-0.49790628823983446,1.9995572586627042,-1.1385309643498227,1.9075093889669785,-0.24652352769978877,0.8864608442812109,0.9218171539005922,0.9946321675922722,0.3794411477043499,0.17687000782678514,0.5340926886161836,0.7281931522486161,-0.5443279073908619,1.214410332690026,-0.06955844511028561,0.3778993656796964,0.96915492911502,-0.2796307174958231,-0.2963225746161983,-0.9817827002750537,-0.343294377381208,-0.7137835769329658,0.24207442443395807,0.30067768158565417,-0.10212944731863574,1.142641606505229,0.469865477326826,0.30919517777698313,0.7779946172803213,0.03185003902106065,-0.4342313894982847,-1.4298458973499455,0.38111256087461426,2.0155880426859003,1.38363513778326,0.7314112707662803,1.7970850998799364,0.5592199756951292,0.05317021511645505,0.3160459453040408,0.5911502889048841,0.743269569699162,1.3920743118952654,-1.3364864170711663,-0.08316266473902233],\"xaxis\":\"x16\",\"yaxis\":\"y16\",\"type\":\"histogram\"}],                        {\"bargap\":0.02,\"legend\":{\"bgcolor\":\"#F5F6F9\",\"font\":{\"color\":\"#4D5663\"}},\"paper_bgcolor\":\"#F5F6F9\",\"plot_bgcolor\":\"#F5F6F9\",\"showlegend\":false,\"template\":{\"data\":{\"barpolar\":[{\"marker\":{\"line\":{\"color\":\"#E5ECF6\",\"width\":0.5},\"pattern\":{\"fillmode\":\"overlay\",\"size\":10,\"solidity\":0.2}},\"type\":\"barpolar\"}],\"bar\":[{\"error_x\":{\"color\":\"#2a3f5f\"},\"error_y\":{\"color\":\"#2a3f5f\"},\"marker\":{\"line\":{\"color\":\"#E5ECF6\",\"width\":0.5},\"pattern\":{\"fillmode\":\"overlay\",\"size\":10,\"solidity\":0.2}},\"type\":\"bar\"}],\"carpet\":[{\"aaxis\":{\"endlinecolor\":\"#2a3f5f\",\"gridcolor\":\"white\",\"linecolor\":\"white\",\"minorgridcolor\":\"white\",\"startlinecolor\":\"#2a3f5f\"},\"baxis\":{\"endlinecolor\":\"#2a3f5f\",\"gridcolor\":\"white\",\"linecolor\":\"white\",\"minorgridcolor\":\"white\",\"startlinecolor\":\"#2a3f5f\"},\"type\":\"carpet\"}],\"choropleth\":[{\"colorbar\":{\"outlinewidth\":0,\"ticks\":\"\"},\"type\":\"choropleth\"}],\"contourcarpet\":[{\"colorbar\":{\"outlinewidth\":0,\"ticks\":\"\"},\"type\":\"contourcarpet\"}],\"contour\":[{\"colorbar\":{\"outlinewidth\":0,\"ticks\":\"\"},\"colorscale\":[[0.0,\"#0d0887\"],[0.1111111111111111,\"#46039f\"],[0.2222222222222222,\"#7201a8\"],[0.3333333333333333,\"#9c179e\"],[0.4444444444444444,\"#bd3786\"],[0.5555555555555556,\"#d8576b\"],[0.6666666666666666,\"#ed7953\"],[0.7777777777777778,\"#fb9f3a\"],[0.8888888888888888,\"#fdca26\"],[1.0,\"#f0f921\"]],\"type\":\"contour\"}],\"heatmapgl\":[{\"colorbar\":{\"outlinewidth\":0,\"ticks\":\"\"},\"colorscale\":[[0.0,\"#0d0887\"],[0.1111111111111111,\"#46039f\"],[0.2222222222222222,\"#7201a8\"],[0.3333333333333333,\"#9c179e\"],[0.4444444444444444,\"#bd3786\"],[0.5555555555555556,\"#d8576b\"],[0.6666666666666666,\"#ed7953\"],[0.7777777777777778,\"#fb9f3a\"],[0.8888888888888888,\"#fdca26\"],[1.0,\"#f0f921\"]],\"type\":\"heatmapgl\"}],\"heatmap\":[{\"colorbar\":{\"outlinewidth\":0,\"ticks\":\"\"},\"colorscale\":[[0.0,\"#0d0887\"],[0.1111111111111111,\"#46039f\"],[0.2222222222222222,\"#7201a8\"],[0.3333333333333333,\"#9c179e\"],[0.4444444444444444,\"#bd3786\"],[0.5555555555555556,\"#d8576b\"],[0.6666666666666666,\"#ed7953\"],[0.7777777777777778,\"#fb9f3a\"],[0.8888888888888888,\"#fdca26\"],[1.0,\"#f0f921\"]],\"type\":\"heatmap\"}],\"histogram2dcontour\":[{\"colorbar\":{\"outlinewidth\":0,\"ticks\":\"\"},\"colorscale\":[[0.0,\"#0d0887\"],[0.1111111111111111,\"#46039f\"],[0.2222222222222222,\"#7201a8\"],[0.3333333333333333,\"#9c179e\"],[0.4444444444444444,\"#bd3786\"],[0.5555555555555556,\"#d8576b\"],[0.6666666666666666,\"#ed7953\"],[0.7777777777777778,\"#fb9f3a\"],[0.8888888888888888,\"#fdca26\"],[1.0,\"#f0f921\"]],\"type\":\"histogram2dcontour\"}],\"histogram2d\":[{\"colorbar\":{\"outlinewidth\":0,\"ticks\":\"\"},\"colorscale\":[[0.0,\"#0d0887\"],[0.1111111111111111,\"#46039f\"],[0.2222222222222222,\"#7201a8\"],[0.3333333333333333,\"#9c179e\"],[0.4444444444444444,\"#bd3786\"],[0.5555555555555556,\"#d8576b\"],[0.6666666666666666,\"#ed7953\"],[0.7777777777777778,\"#fb9f3a\"],[0.8888888888888888,\"#fdca26\"],[1.0,\"#f0f921\"]],\"type\":\"histogram2d\"}],\"histogram\":[{\"marker\":{\"pattern\":{\"fillmode\":\"overlay\",\"size\":10,\"solidity\":0.2}},\"type\":\"histogram\"}],\"mesh3d\":[{\"colorbar\":{\"outlinewidth\":0,\"ticks\":\"\"},\"type\":\"mesh3d\"}],\"parcoords\":[{\"line\":{\"colorbar\":{\"outlinewidth\":0,\"ticks\":\"\"}},\"type\":\"parcoords\"}],\"pie\":[{\"automargin\":true,\"type\":\"pie\"}],\"scatter3d\":[{\"line\":{\"colorbar\":{\"outlinewidth\":0,\"ticks\":\"\"}},\"marker\":{\"colorbar\":{\"outlinewidth\":0,\"ticks\":\"\"}},\"type\":\"scatter3d\"}],\"scattercarpet\":[{\"marker\":{\"colorbar\":{\"outlinewidth\":0,\"ticks\":\"\"}},\"type\":\"scattercarpet\"}],\"scattergeo\":[{\"marker\":{\"colorbar\":{\"outlinewidth\":0,\"ticks\":\"\"}},\"type\":\"scattergeo\"}],\"scattergl\":[{\"marker\":{\"colorbar\":{\"outlinewidth\":0,\"ticks\":\"\"}},\"type\":\"scattergl\"}],\"scattermapbox\":[{\"marker\":{\"colorbar\":{\"outlinewidth\":0,\"ticks\":\"\"}},\"type\":\"scattermapbox\"}],\"scatterpolargl\":[{\"marker\":{\"colorbar\":{\"outlinewidth\":0,\"ticks\":\"\"}},\"type\":\"scatterpolargl\"}],\"scatterpolar\":[{\"marker\":{\"colorbar\":{\"outlinewidth\":0,\"ticks\":\"\"}},\"type\":\"scatterpolar\"}],\"scatter\":[{\"fillpattern\":{\"fillmode\":\"overlay\",\"size\":10,\"solidity\":0.2},\"type\":\"scatter\"}],\"scatterternary\":[{\"marker\":{\"colorbar\":{\"outlinewidth\":0,\"ticks\":\"\"}},\"type\":\"scatterternary\"}],\"surface\":[{\"colorbar\":{\"outlinewidth\":0,\"ticks\":\"\"},\"colorscale\":[[0.0,\"#0d0887\"],[0.1111111111111111,\"#46039f\"],[0.2222222222222222,\"#7201a8\"],[0.3333333333333333,\"#9c179e\"],[0.4444444444444444,\"#bd3786\"],[0.5555555555555556,\"#d8576b\"],[0.6666666666666666,\"#ed7953\"],[0.7777777777777778,\"#fb9f3a\"],[0.8888888888888888,\"#fdca26\"],[1.0,\"#f0f921\"]],\"type\":\"surface\"}],\"table\":[{\"cells\":{\"fill\":{\"color\":\"#EBF0F8\"},\"line\":{\"color\":\"white\"}},\"header\":{\"fill\":{\"color\":\"#C8D4E3\"},\"line\":{\"color\":\"white\"}},\"type\":\"table\"}]},\"layout\":{\"annotationdefaults\":{\"arrowcolor\":\"#2a3f5f\",\"arrowhead\":0,\"arrowwidth\":1},\"autotypenumbers\":\"strict\",\"coloraxis\":{\"colorbar\":{\"outlinewidth\":0,\"ticks\":\"\"}},\"colorscale\":{\"diverging\":[[0,\"#8e0152\"],[0.1,\"#c51b7d\"],[0.2,\"#de77ae\"],[0.3,\"#f1b6da\"],[0.4,\"#fde0ef\"],[0.5,\"#f7f7f7\"],[0.6,\"#e6f5d0\"],[0.7,\"#b8e186\"],[0.8,\"#7fbc41\"],[0.9,\"#4d9221\"],[1,\"#276419\"]],\"sequential\":[[0.0,\"#0d0887\"],[0.1111111111111111,\"#46039f\"],[0.2222222222222222,\"#7201a8\"],[0.3333333333333333,\"#9c179e\"],[0.4444444444444444,\"#bd3786\"],[0.5555555555555556,\"#d8576b\"],[0.6666666666666666,\"#ed7953\"],[0.7777777777777778,\"#fb9f3a\"],[0.8888888888888888,\"#fdca26\"],[1.0,\"#f0f921\"]],\"sequentialminus\":[[0.0,\"#0d0887\"],[0.1111111111111111,\"#46039f\"],[0.2222222222222222,\"#7201a8\"],[0.3333333333333333,\"#9c179e\"],[0.4444444444444444,\"#bd3786\"],[0.5555555555555556,\"#d8576b\"],[0.6666666666666666,\"#ed7953\"],[0.7777777777777778,\"#fb9f3a\"],[0.8888888888888888,\"#fdca26\"],[1.0,\"#f0f921\"]]},\"colorway\":[\"#636efa\",\"#EF553B\",\"#00cc96\",\"#ab63fa\",\"#FFA15A\",\"#19d3f3\",\"#FF6692\",\"#B6E880\",\"#FF97FF\",\"#FECB52\"],\"font\":{\"color\":\"#2a3f5f\"},\"geo\":{\"bgcolor\":\"white\",\"lakecolor\":\"white\",\"landcolor\":\"#E5ECF6\",\"showlakes\":true,\"showland\":true,\"subunitcolor\":\"white\"},\"hoverlabel\":{\"align\":\"left\"},\"hovermode\":\"closest\",\"mapbox\":{\"style\":\"light\"},\"paper_bgcolor\":\"white\",\"plot_bgcolor\":\"#E5ECF6\",\"polar\":{\"angularaxis\":{\"gridcolor\":\"white\",\"linecolor\":\"white\",\"ticks\":\"\"},\"bgcolor\":\"#E5ECF6\",\"radialaxis\":{\"gridcolor\":\"white\",\"linecolor\":\"white\",\"ticks\":\"\"}},\"scene\":{\"xaxis\":{\"backgroundcolor\":\"#E5ECF6\",\"gridcolor\":\"white\",\"gridwidth\":2,\"linecolor\":\"white\",\"showbackground\":true,\"ticks\":\"\",\"zerolinecolor\":\"white\"},\"yaxis\":{\"backgroundcolor\":\"#E5ECF6\",\"gridcolor\":\"white\",\"gridwidth\":2,\"linecolor\":\"white\",\"showbackground\":true,\"ticks\":\"\",\"zerolinecolor\":\"white\"},\"zaxis\":{\"backgroundcolor\":\"#E5ECF6\",\"gridcolor\":\"white\",\"gridwidth\":2,\"linecolor\":\"white\",\"showbackground\":true,\"ticks\":\"\",\"zerolinecolor\":\"white\"}},\"shapedefaults\":{\"line\":{\"color\":\"#2a3f5f\"}},\"ternary\":{\"aaxis\":{\"gridcolor\":\"white\",\"linecolor\":\"white\",\"ticks\":\"\"},\"baxis\":{\"gridcolor\":\"white\",\"linecolor\":\"white\",\"ticks\":\"\"},\"bgcolor\":\"#E5ECF6\",\"caxis\":{\"gridcolor\":\"white\",\"linecolor\":\"white\",\"ticks\":\"\"}},\"title\":{\"x\":0.05},\"xaxis\":{\"automargin\":true,\"gridcolor\":\"white\",\"linecolor\":\"white\",\"ticks\":\"\",\"title\":{\"standoff\":15},\"zerolinecolor\":\"white\",\"zerolinewidth\":2},\"yaxis\":{\"automargin\":true,\"gridcolor\":\"white\",\"linecolor\":\"white\",\"ticks\":\"\",\"title\":{\"standoff\":15},\"zerolinecolor\":\"white\",\"zerolinewidth\":2}}},\"title\":{\"font\":{\"color\":\"#4D5663\"}},\"xaxis\":{\"anchor\":\"y\",\"domain\":[0.0,0.2125],\"gridcolor\":\"#E1E5ED\",\"showgrid\":false,\"tickfont\":{\"color\":\"#4D5663\"},\"title\":{\"font\":{\"color\":\"#4D5663\"},\"text\":\"\"},\"zerolinecolor\":\"#E1E5ED\"},\"yaxis\":{\"anchor\":\"x\",\"domain\":[0.8025,1.0],\"gridcolor\":\"#E1E5ED\",\"showgrid\":false,\"tickfont\":{\"color\":\"#4D5663\"},\"title\":{\"font\":{\"color\":\"#4D5663\"},\"text\":\"\"},\"zerolinecolor\":\"#E1E5ED\"},\"xaxis2\":{\"anchor\":\"y2\",\"domain\":[0.2625,0.475],\"gridcolor\":\"#E1E5ED\",\"showgrid\":false,\"tickfont\":{\"color\":\"#4D5663\"},\"title\":{\"font\":{\"color\":\"#4D5663\"},\"text\":\"\"},\"zerolinecolor\":\"#E1E5ED\"},\"yaxis2\":{\"anchor\":\"x2\",\"domain\":[0.8025,1.0],\"gridcolor\":\"#E1E5ED\",\"showgrid\":false,\"tickfont\":{\"color\":\"#4D5663\"},\"title\":{\"font\":{\"color\":\"#4D5663\"},\"text\":\"\"},\"zerolinecolor\":\"#E1E5ED\"},\"xaxis3\":{\"anchor\":\"y3\",\"domain\":[0.525,0.7375],\"gridcolor\":\"#E1E5ED\",\"showgrid\":false,\"tickfont\":{\"color\":\"#4D5663\"},\"title\":{\"font\":{\"color\":\"#4D5663\"},\"text\":\"\"},\"zerolinecolor\":\"#E1E5ED\"},\"yaxis3\":{\"anchor\":\"x3\",\"domain\":[0.8025,1.0],\"gridcolor\":\"#E1E5ED\",\"showgrid\":false,\"tickfont\":{\"color\":\"#4D5663\"},\"title\":{\"font\":{\"color\":\"#4D5663\"},\"text\":\"\"},\"zerolinecolor\":\"#E1E5ED\"},\"xaxis4\":{\"anchor\":\"y4\",\"domain\":[0.7875,1.0],\"gridcolor\":\"#E1E5ED\",\"showgrid\":false,\"tickfont\":{\"color\":\"#4D5663\"},\"title\":{\"font\":{\"color\":\"#4D5663\"},\"text\":\"\"},\"zerolinecolor\":\"#E1E5ED\"},\"yaxis4\":{\"anchor\":\"x4\",\"domain\":[0.8025,1.0],\"gridcolor\":\"#E1E5ED\",\"showgrid\":false,\"tickfont\":{\"color\":\"#4D5663\"},\"title\":{\"font\":{\"color\":\"#4D5663\"},\"text\":\"\"},\"zerolinecolor\":\"#E1E5ED\"},\"xaxis5\":{\"anchor\":\"y5\",\"domain\":[0.0,0.2125],\"gridcolor\":\"#E1E5ED\",\"showgrid\":false,\"tickfont\":{\"color\":\"#4D5663\"},\"title\":{\"font\":{\"color\":\"#4D5663\"},\"text\":\"\"},\"zerolinecolor\":\"#E1E5ED\"},\"yaxis5\":{\"anchor\":\"x5\",\"domain\":[0.535,0.7325],\"gridcolor\":\"#E1E5ED\",\"showgrid\":false,\"tickfont\":{\"color\":\"#4D5663\"},\"title\":{\"font\":{\"color\":\"#4D5663\"},\"text\":\"\"},\"zerolinecolor\":\"#E1E5ED\"},\"xaxis6\":{\"anchor\":\"y6\",\"domain\":[0.2625,0.475],\"gridcolor\":\"#E1E5ED\",\"showgrid\":false,\"tickfont\":{\"color\":\"#4D5663\"},\"title\":{\"font\":{\"color\":\"#4D5663\"},\"text\":\"\"},\"zerolinecolor\":\"#E1E5ED\"},\"yaxis6\":{\"anchor\":\"x6\",\"domain\":[0.535,0.7325],\"gridcolor\":\"#E1E5ED\",\"showgrid\":false,\"tickfont\":{\"color\":\"#4D5663\"},\"title\":{\"font\":{\"color\":\"#4D5663\"},\"text\":\"\"},\"zerolinecolor\":\"#E1E5ED\"},\"xaxis7\":{\"anchor\":\"y7\",\"domain\":[0.525,0.7375],\"gridcolor\":\"#E1E5ED\",\"showgrid\":false,\"tickfont\":{\"color\":\"#4D5663\"},\"title\":{\"font\":{\"color\":\"#4D5663\"},\"text\":\"\"},\"zerolinecolor\":\"#E1E5ED\"},\"yaxis7\":{\"anchor\":\"x7\",\"domain\":[0.535,0.7325],\"gridcolor\":\"#E1E5ED\",\"showgrid\":false,\"tickfont\":{\"color\":\"#4D5663\"},\"title\":{\"font\":{\"color\":\"#4D5663\"},\"text\":\"\"},\"zerolinecolor\":\"#E1E5ED\"},\"xaxis8\":{\"anchor\":\"y8\",\"domain\":[0.7875,1.0],\"gridcolor\":\"#E1E5ED\",\"showgrid\":false,\"tickfont\":{\"color\":\"#4D5663\"},\"title\":{\"font\":{\"color\":\"#4D5663\"},\"text\":\"\"},\"zerolinecolor\":\"#E1E5ED\"},\"yaxis8\":{\"anchor\":\"x8\",\"domain\":[0.535,0.7325],\"gridcolor\":\"#E1E5ED\",\"showgrid\":false,\"tickfont\":{\"color\":\"#4D5663\"},\"title\":{\"font\":{\"color\":\"#4D5663\"},\"text\":\"\"},\"zerolinecolor\":\"#E1E5ED\"},\"xaxis9\":{\"anchor\":\"y9\",\"domain\":[0.0,0.2125],\"gridcolor\":\"#E1E5ED\",\"showgrid\":false,\"tickfont\":{\"color\":\"#4D5663\"},\"title\":{\"font\":{\"color\":\"#4D5663\"},\"text\":\"\"},\"zerolinecolor\":\"#E1E5ED\"},\"yaxis9\":{\"anchor\":\"x9\",\"domain\":[0.2675,0.465],\"gridcolor\":\"#E1E5ED\",\"showgrid\":false,\"tickfont\":{\"color\":\"#4D5663\"},\"title\":{\"font\":{\"color\":\"#4D5663\"},\"text\":\"\"},\"zerolinecolor\":\"#E1E5ED\"},\"xaxis10\":{\"anchor\":\"y10\",\"domain\":[0.2625,0.475],\"gridcolor\":\"#E1E5ED\",\"showgrid\":false,\"tickfont\":{\"color\":\"#4D5663\"},\"title\":{\"font\":{\"color\":\"#4D5663\"},\"text\":\"\"},\"zerolinecolor\":\"#E1E5ED\"},\"yaxis10\":{\"anchor\":\"x10\",\"domain\":[0.2675,0.465],\"gridcolor\":\"#E1E5ED\",\"showgrid\":false,\"tickfont\":{\"color\":\"#4D5663\"},\"title\":{\"font\":{\"color\":\"#4D5663\"},\"text\":\"\"},\"zerolinecolor\":\"#E1E5ED\"},\"xaxis11\":{\"anchor\":\"y11\",\"domain\":[0.525,0.7375],\"gridcolor\":\"#E1E5ED\",\"showgrid\":false,\"tickfont\":{\"color\":\"#4D5663\"},\"title\":{\"font\":{\"color\":\"#4D5663\"},\"text\":\"\"},\"zerolinecolor\":\"#E1E5ED\"},\"yaxis11\":{\"anchor\":\"x11\",\"domain\":[0.2675,0.465],\"gridcolor\":\"#E1E5ED\",\"showgrid\":false,\"tickfont\":{\"color\":\"#4D5663\"},\"title\":{\"font\":{\"color\":\"#4D5663\"},\"text\":\"\"},\"zerolinecolor\":\"#E1E5ED\"},\"xaxis12\":{\"anchor\":\"y12\",\"domain\":[0.7875,1.0],\"gridcolor\":\"#E1E5ED\",\"showgrid\":false,\"tickfont\":{\"color\":\"#4D5663\"},\"title\":{\"font\":{\"color\":\"#4D5663\"},\"text\":\"\"},\"zerolinecolor\":\"#E1E5ED\"},\"yaxis12\":{\"anchor\":\"x12\",\"domain\":[0.2675,0.465],\"gridcolor\":\"#E1E5ED\",\"showgrid\":false,\"tickfont\":{\"color\":\"#4D5663\"},\"title\":{\"font\":{\"color\":\"#4D5663\"},\"text\":\"\"},\"zerolinecolor\":\"#E1E5ED\"},\"xaxis13\":{\"anchor\":\"y13\",\"domain\":[0.0,0.2125],\"gridcolor\":\"#E1E5ED\",\"showgrid\":false,\"tickfont\":{\"color\":\"#4D5663\"},\"title\":{\"font\":{\"color\":\"#4D5663\"},\"text\":\"\"},\"zerolinecolor\":\"#E1E5ED\"},\"yaxis13\":{\"anchor\":\"x13\",\"domain\":[0.0,0.1975],\"gridcolor\":\"#E1E5ED\",\"showgrid\":false,\"tickfont\":{\"color\":\"#4D5663\"},\"title\":{\"font\":{\"color\":\"#4D5663\"},\"text\":\"\"},\"zerolinecolor\":\"#E1E5ED\"},\"xaxis14\":{\"anchor\":\"y14\",\"domain\":[0.2625,0.475],\"gridcolor\":\"#E1E5ED\",\"showgrid\":false,\"tickfont\":{\"color\":\"#4D5663\"},\"title\":{\"font\":{\"color\":\"#4D5663\"},\"text\":\"\"},\"zerolinecolor\":\"#E1E5ED\"},\"yaxis14\":{\"anchor\":\"x14\",\"domain\":[0.0,0.1975],\"gridcolor\":\"#E1E5ED\",\"showgrid\":false,\"tickfont\":{\"color\":\"#4D5663\"},\"title\":{\"font\":{\"color\":\"#4D5663\"},\"text\":\"\"},\"zerolinecolor\":\"#E1E5ED\"},\"xaxis15\":{\"anchor\":\"y15\",\"domain\":[0.525,0.7375],\"gridcolor\":\"#E1E5ED\",\"showgrid\":false,\"tickfont\":{\"color\":\"#4D5663\"},\"title\":{\"font\":{\"color\":\"#4D5663\"},\"text\":\"\"},\"zerolinecolor\":\"#E1E5ED\"},\"yaxis15\":{\"anchor\":\"x15\",\"domain\":[0.0,0.1975],\"gridcolor\":\"#E1E5ED\",\"showgrid\":false,\"tickfont\":{\"color\":\"#4D5663\"},\"title\":{\"font\":{\"color\":\"#4D5663\"},\"text\":\"\"},\"zerolinecolor\":\"#E1E5ED\"},\"xaxis16\":{\"anchor\":\"y16\",\"domain\":[0.7875,1.0],\"gridcolor\":\"#E1E5ED\",\"showgrid\":false,\"tickfont\":{\"color\":\"#4D5663\"},\"title\":{\"font\":{\"color\":\"#4D5663\"},\"text\":\"\"},\"zerolinecolor\":\"#E1E5ED\"},\"yaxis16\":{\"anchor\":\"x16\",\"domain\":[0.0,0.1975],\"gridcolor\":\"#E1E5ED\",\"showgrid\":false,\"tickfont\":{\"color\":\"#4D5663\"},\"title\":{\"font\":{\"color\":\"#4D5663\"},\"text\":\"\"},\"zerolinecolor\":\"#E1E5ED\"}},                        {\"showLink\": true, \"linkText\": \"Export to plot.ly\", \"plotlyServerURL\": \"https://plot.ly\", \"responsive\": true}                    ).then(function(){\n",
       "                            \n",
       "var gd = document.getElementById('3963631e-d159-40c1-bd53-8c7c45f4602c');\n",
       "var x = new MutationObserver(function (mutations, observer) {{\n",
       "        var display = window.getComputedStyle(gd).display;\n",
       "        if (!display || display === 'none') {{\n",
       "            console.log([gd, 'removed!']);\n",
       "            Plotly.purge(gd);\n",
       "            observer.disconnect();\n",
       "        }}\n",
       "}});\n",
       "\n",
       "// Listen for the removal of the full notebook cells\n",
       "var notebookContainer = gd.closest('#notebook-container');\n",
       "if (notebookContainer) {{\n",
       "    x.observe(notebookContainer, {childList: true});\n",
       "}}\n",
       "\n",
       "// Listen for the clearing of the current output cell\n",
       "var outputEl = gd.closest('.output');\n",
       "if (outputEl) {{\n",
       "    x.observe(outputEl, {childList: true});\n",
       "}}\n",
       "\n",
       "                        })                };                });            </script>        </div>"
      ]
     },
     "metadata": {},
     "output_type": "display_data"
    }
   ],
   "source": [
    "df.scatter_matrix()"
   ]
  },
  {
   "cell_type": "code",
   "execution_count": null,
   "metadata": {},
   "outputs": [],
   "source": []
  }
 ],
 "metadata": {
  "kernelspec": {
   "display_name": "Python 3 (ipykernel)",
   "language": "python",
   "name": "python3"
  },
  "language_info": {
   "codemirror_mode": {
    "name": "ipython",
    "version": 3
   },
   "file_extension": ".py",
   "mimetype": "text/x-python",
   "name": "python",
   "nbconvert_exporter": "python",
   "pygments_lexer": "ipython3",
   "version": "3.11.4"
  }
 },
 "nbformat": 4,
 "nbformat_minor": 1
}
