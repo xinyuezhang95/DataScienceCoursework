{
 "cells": [
  {
   "cell_type": "code",
   "execution_count": 1,
   "id": "5d13c21d",
   "metadata": {},
   "outputs": [],
   "source": [
    "from menu import Menu, MenuItem\n",
    "from coffee_maker import CoffeeMaker\n",
    "from money_machine import MoneyMachine"
   ]
  },
  {
   "cell_type": "code",
   "execution_count": 6,
   "id": "c6c82165",
   "metadata": {},
   "outputs": [],
   "source": [
    "menu = Menu()\n",
    "coffee_maker = CoffeeMaker()\n",
    "profit = MoneyMachine()"
   ]
  },
  {
   "cell_type": "code",
   "execution_count": 13,
   "id": "c115ccda",
   "metadata": {},
   "outputs": [],
   "source": [
    "def coffee_machine():\n",
    "    is_on = True\n",
    "    while is_on:\n",
    "        coffee_type = input(f\"What would you like ({menu.get_items()})? Type 'report' to see remaining resources. Type 'off' to turn off the coffee machine: \").lower()\n",
    "        if coffee_type == 'report':\n",
    "            coffee_maker.report()\n",
    "            profit.report()\n",
    "        elif coffee_type == 'off':\n",
    "            is_on = False\n",
    "        elif coffee_type in menu.get_items():\n",
    "            drink = menu.find_drink(coffee_type)\n",
    "            if (coffee_maker.is_resource_sufficient(drink)) and (profit.make_payment(drink.cost)):\n",
    "                coffee_maker.make_coffee(drink)\n",
    "        else:\n",
    "            print(\"Sorry but we don't make that coffee yet. Please choose some other type!\")\n",
    "    else:\n",
    "        print(\"See you next time! \")"
   ]
  },
  {
   "cell_type": "code",
   "execution_count": 8,
   "id": "61d185cb",
   "metadata": {},
   "outputs": [
    {
     "name": "stdout",
     "output_type": "stream",
     "text": [
      "What would you like (latte/espresso/cappuccino/)? Type 'report' to see remaining resources. Type 'off' to turn off the coffee machine: report\n",
      "Water: 300ml\n",
      "Milk: 200ml\n",
      "Coffee: 100g\n",
      "Money: $0\n",
      "What would you like (latte/espresso/cappuccino/)? Type 'report' to see remaining resources. Type 'off' to turn off the coffee machine: espresso\n",
      "Please insert coins.\n",
      "How many quarters?: 10\n",
      "How many dimes?: 10\n",
      "How many nickles?: 10\n",
      "How many pennies?: 10\n",
      "Here is $2.6 in change.\n",
      "Here is your espresso ☕️. Enjoy!\n",
      "What would you like (latte/espresso/cappuccino/)? Type 'report' to see remaining resources. Type 'off' to turn off the coffee machine: report\n",
      "Water: 250ml\n",
      "Milk: 200ml\n",
      "Coffee: 82g\n",
      "Money: $1.5\n",
      "What would you like (latte/espresso/cappuccino/)? Type 'report' to see remaining resources. Type 'off' to turn off the coffee machine: latte\n",
      "Please insert coins.\n",
      "How many quarters?: 1\n",
      "How many dimes?: 1\n",
      "How many nickles?: 1\n",
      "How many pennies?: 1\n",
      "Sorry that's not enough money. Money refunded.\n",
      "What would you like (latte/espresso/cappuccino/)? Type 'report' to see remaining resources. Type 'off' to turn off the coffee machine: cappuccino\n",
      "Please insert coins.\n",
      "How many quarters?: 10\n",
      "How many dimes?: 10\n",
      "How many nickles?: 10\n",
      "How many pennies?: 10\n",
      "Here is $1.1 in change.\n",
      "Here is your cappuccino ☕️. Enjoy!\n",
      "What would you like (latte/espresso/cappuccino/)? Type 'report' to see remaining resources. Type 'off' to turn off the coffee machine: report\n",
      "Water: 0ml\n",
      "Milk: 150ml\n",
      "Coffee: 58g\n",
      "Money: $4.5\n",
      "What would you like (latte/espresso/cappuccino/)? Type 'report' to see remaining resources. Type 'off' to turn off the coffee machine: latte\n",
      "Sorry there is not enough water.\n",
      "What would you like (latte/espresso/cappuccino/)? Type 'report' to see remaining resources. Type 'off' to turn off the coffee machine: off\n"
     ]
    }
   ],
   "source": [
    "coffee_machine()"
   ]
  },
  {
   "cell_type": "code",
   "execution_count": null,
   "id": "80d36fcd",
   "metadata": {},
   "outputs": [],
   "source": []
  }
 ],
 "metadata": {
  "kernelspec": {
   "display_name": "Python 3 (ipykernel)",
   "language": "python",
   "name": "python3"
  },
  "language_info": {
   "codemirror_mode": {
    "name": "ipython",
    "version": 3
   },
   "file_extension": ".py",
   "mimetype": "text/x-python",
   "name": "python",
   "nbconvert_exporter": "python",
   "pygments_lexer": "ipython3",
   "version": "3.11.4"
  }
 },
 "nbformat": 4,
 "nbformat_minor": 5
}
