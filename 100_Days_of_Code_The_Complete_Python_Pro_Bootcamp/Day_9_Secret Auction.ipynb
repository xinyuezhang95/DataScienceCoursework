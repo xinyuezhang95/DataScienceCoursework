{
 "cells": [
  {
   "cell_type": "code",
   "execution_count": 2,
   "id": "2bd2b187",
   "metadata": {},
   "outputs": [],
   "source": [
    "from IPython.display import clear_output"
   ]
  },
  {
   "cell_type": "code",
   "execution_count": 27,
   "id": "5acd20dd",
   "metadata": {},
   "outputs": [],
   "source": [
    "logo = '''\n",
    "                         ___________\n",
    "                         \\         /\n",
    "                          )_______(\n",
    "                          |\"\"\"\"\"\"\"|_.-._,.---------.,_.-._\n",
    "                          |       | | |               | | ''-.\n",
    "                          |       |_| |_             _| |_..-'\n",
    "                          |_______| '-' `'---------'` '-'\n",
    "                          )\"\"\"\"\"\"\"(\n",
    "                         /_________\\\\\n",
    "                       .-------------.\n",
    "                      /_______________\\\\\n",
    "'''\n",
    "\n"
   ]
  },
  {
   "cell_type": "code",
   "execution_count": 29,
   "id": "5817d618",
   "metadata": {},
   "outputs": [
    {
     "name": "stdout",
     "output_type": "stream",
     "text": [
      "Congratulations! Mary has the highest bid of $20\n"
     ]
    }
   ],
   "source": [
    "print(logo)\n",
    "\n",
    "more_bid = True\n",
    "more_bid_flag = {'yes': True, 'no': False}\n",
    "all_bids = {}\n",
    "\n",
    "while more_bid:\n",
    "    name = input('What is your name?\\n')\n",
    "    bid = int(input('How much would you like to bid?\\n$'))\n",
    "    all_bids[name] = bid\n",
    "    more_bid = more_bid_flag[input('Is there another bidder? Type \"yes\" or \"no\".\\n').lower()]\n",
    "    clear_output()\n",
    "\n",
    "max_bid = {}\n",
    "for name in all_bids:\n",
    "    if len(max_bid) == 0:\n",
    "        max_bid[name] = all_bids[name]\n",
    "    else:\n",
    "        if list(max_bid.values())[0] < all_bids[name]:\n",
    "            max_bid = {}\n",
    "            max_bid[name] = all_bids[name]\n",
    "\n",
    "for name in max_bid:\n",
    "    print(f'Congratulations! {name} has the highest bid of ${max_bid[name]}.')"
   ]
  },
  {
   "cell_type": "code",
   "execution_count": null,
   "id": "d00291d0",
   "metadata": {},
   "outputs": [],
   "source": []
  }
 ],
 "metadata": {
  "kernelspec": {
   "display_name": "Python 3 (ipykernel)",
   "language": "python",
   "name": "python3"
  },
  "language_info": {
   "codemirror_mode": {
    "name": "ipython",
    "version": 3
   },
   "file_extension": ".py",
   "mimetype": "text/x-python",
   "name": "python",
   "nbconvert_exporter": "python",
   "pygments_lexer": "ipython3",
   "version": "3.11.4"
  }
 },
 "nbformat": 4,
 "nbformat_minor": 5
}
