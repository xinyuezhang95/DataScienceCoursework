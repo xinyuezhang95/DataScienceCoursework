{
 "cells": [
  {
   "cell_type": "code",
   "execution_count": 1,
   "id": "202e96d5",
   "metadata": {},
   "outputs": [],
   "source": [
    "from turtle import Turtle, Screen\n",
    "import random"
   ]
  },
  {
   "cell_type": "code",
   "execution_count": 2,
   "id": "6809e87b",
   "metadata": {},
   "outputs": [
    {
     "name": "stdout",
     "output_type": "stream",
     "text": [
      "You bet on the purple turtle. \n",
      "Congratuations! You got it right! The purple turtle is the winner. \n"
     ]
    }
   ],
   "source": [
    "# set up screen\n",
    "screen = Screen()\n",
    "\n",
    "screen.setup(width = 500, height = 400)\n",
    "\n",
    "colors = ['red', 'orange', 'yellow', 'green', 'blue', 'purple']\n",
    "all_turtles = []\n",
    "\n",
    "user_bet = screen.textinput(title = 'Make your bet', \n",
    "                            prompt = f'Which turtule will win the race? Enter a color from {str(colors)[1:-1]}: ')\n",
    "print(f'You bet on the {user_bet} turtle. ')\n",
    "\n",
    "if user_bet:\n",
    "    is_race_on = True\n",
    "else:\n",
    "    is_race_on = False\n",
    "\n",
    "\n",
    "# set up turtles\n",
    "for col in colors:\n",
    "    tim = Turtle(shape = 'turtle')\n",
    "    tim.color(col)\n",
    "    tim.penup()\n",
    "    y_axis = -100 + colors.index(col) * 40\n",
    "    tim.goto(x = -230, y = y_axis)\n",
    "    all_turtles.append(tim)\n",
    "\n",
    "# set up finish line\n",
    "finish_turtle = Turtle()\n",
    "finish_turtle.speed(\"fastest\")\n",
    "finish_turtle.penup()\n",
    "finish_turtle.goto(220, -130)\n",
    "finish_turtle.left(90)\n",
    "finish_turtle.pendown()\n",
    "finish_turtle.forward(260)\n",
    "finish_turtle.penup()\n",
    "\n",
    "# start the race\n",
    "while is_race_on:\n",
    "    for turtle in all_turtles:\n",
    "        rand_distance = random.randint(0, 10)\n",
    "        turtle.forward(rand_distance)\n",
    "        if turtle.xcor() >= 220:\n",
    "            is_race_on = False\n",
    "            winning_color = turtle.pencolor()\n",
    "            break\n",
    "\n",
    "if user_bet == winning_color:\n",
    "    print(f\"Congratuations! You got it right! The {winning_color} turtle is the winner. \")\n",
    "else:\n",
    "    print(f\"You got it wrong. The {winning_color} turtle is the winner. \")\n",
    "\n",
    "screen.exitonclick()"
   ]
  },
  {
   "cell_type": "code",
   "execution_count": 3,
   "id": "e91a74c4",
   "metadata": {},
   "outputs": [
    {
     "data": {
      "image/png": "[encoded data removed]",
      "text/plain": [
       "<IPython.core.display.Image object>"
      ]
     },
     "execution_count": 3,
     "metadata": {},
     "output_type": "execute_result"
    }
   ],
   "source": [
    "from IPython.display import Image\n",
    "\n",
    "Image('Day 19_Turtle Racing Game.png')"
   ]
  },
  {
   "cell_type": "code",
   "execution_count": null,
   "id": "c1f3ce3a",
   "metadata": {},
   "outputs": [],
   "source": []
  }
 ],
 "metadata": {
  "kernelspec": {
   "display_name": "Python 3 (ipykernel)",
   "language": "python",
   "name": "python3"
  },
  "language_info": {
   "codemirror_mode": {
    "name": "ipython",
    "version": 3
   },
   "file_extension": ".py",
   "mimetype": "text/x-python",
   "name": "python",
   "nbconvert_exporter": "python",
   "pygments_lexer": "ipython3",
   "version": "3.11.4"
  }
 },
 "nbformat": 4,
 "nbformat_minor": 5
}
