{
 "cells": [
  {
   "cell_type": "markdown",
   "id": "484a2d90",
   "metadata": {},
   "source": [
    "#### Let's serve customers!"
   ]
  },
  {
   "cell_type": "code",
   "execution_count": 37,
   "id": "0c33bc72",
   "metadata": {},
   "outputs": [],
   "source": [
    "MENU = {\n",
    "    \"espresso\": {\n",
    "        \"ingredients\": {\n",
    "            \"water\": 50,\n",
    "            \"coffee\": 18,\n",
    "        },\n",
    "        \"cost\": 1.5,\n",
    "    },\n",
    "    \"latte\": {\n",
    "        \"ingredients\": {\n",
    "            \"water\": 200,\n",
    "            \"milk\": 150,\n",
    "            \"coffee\": 24,\n",
    "        },\n",
    "        \"cost\": 2.5,\n",
    "    },\n",
    "    \"cappuccino\": {\n",
    "        \"ingredients\": {\n",
    "            \"water\": 250,\n",
    "            \"milk\": 100,\n",
    "            \"coffee\": 24,\n",
    "        },\n",
    "        \"cost\": 3.0,\n",
    "    }\n",
    "}\n",
    "\n",
    "resources = {\n",
    "    \"water\": 300,\n",
    "    \"milk\": 200,\n",
    "    \"coffee\": 100,\n",
    "}"
   ]
  },
  {
   "cell_type": "code",
   "execution_count": 38,
   "id": "c6bb43c3",
   "metadata": {},
   "outputs": [],
   "source": [
    "resources['money'] = 0\n",
    "\n",
    "def print_resource():\n",
    "    print(f\"Water: {resources['water']}ml\\nMilk: {resources['milk']}ml\\nCoffee: {resources['coffee']}g\\nMoney: ${resources['money']}\")\n",
    "\n",
    "def coin_collect(coffee_type, cost):\n",
    "    print(\"Please insert coins.\")\n",
    "    quarter_quantity = int(input(\"how many quarters? \"))\n",
    "    dime_quantity = int(input(\"how many dimes? \"))\n",
    "    nickle_quantity = int(input(\"how many nickles? \"))\n",
    "    penny_quantity = int(input(\"how many pennies? \"))\n",
    "    \n",
    "    coins = quarter_quantity * 0.25 + dime_quantity * 0.1 + nickle_quantity * 0.05 + penny_quantity * 0.01\n",
    "    \n",
    "    if coins < cost:\n",
    "        print(\"Sorry that's not enough money. Money refunded.\")\n",
    "        return False\n",
    "    else:\n",
    "        change = coins - cost\n",
    "        print(\"Here is $\" + \"%.2f\" % change + \" in change.\")\n",
    "        print(f\"Here is your {coffee_type} ☕️. Enjoy!\")\n",
    "        return True\n",
    "\n",
    "def make_coffee(coffee_type):\n",
    "    ing = MENU[coffee_type]['ingredients']\n",
    "    cost = MENU[coffee_type]['cost']\n",
    "    \n",
    "    if_available = all(ing[i] <= resources[i] for i in list(ing.keys()))\n",
    "    if not if_available:\n",
    "        for i in list(ing.keys()):\n",
    "            if ing[i] > resources[i]:\n",
    "                print(f\"Sorry there is not enough {i}.\")\n",
    "    else:\n",
    "        if_successful = coin_collect(coffee_type, cost)\n",
    "        if if_successful:\n",
    "            for i in list(ing.keys()):\n",
    "                resources[i] -= ing[i]\n",
    "            resources['money'] += cost"
   ]
  },
  {
   "cell_type": "code",
   "execution_count": 39,
   "id": "a19c6c82",
   "metadata": {},
   "outputs": [],
   "source": [
    "def coffee_machine():\n",
    "    while 1 > 0:\n",
    "        coffee_type = input(\"What would you like (espresso/latte/cappuccino)? Type 'report' to see remaining resources. Type 'off' to turn off the coffee machine: \").lower()\n",
    "        if coffee_type == 'report':\n",
    "            print_resource()\n",
    "        elif coffee_type in list(MENU.keys()):\n",
    "            make_coffee(coffee_type)\n",
    "        elif coffee_type == 'off':\n",
    "            break\n",
    "        else:\n",
    "            print(\"Sorry but we don't make that coffee yet. Please choose some other type!\")\n",
    "    else:\n",
    "        print(\"See you next time! \")"
   ]
  },
  {
   "cell_type": "code",
   "execution_count": 40,
   "id": "a9d29ea6",
   "metadata": {},
   "outputs": [
    {
     "name": "stdout",
     "output_type": "stream",
     "text": [
      "What would you like (espresso/latte/cappuccino)? Type 'report' to see remaining resources. Type 'off' to turn off the coffee machine: report\n",
      "Water: 300ml\n",
      "Milk: 200ml\n",
      "Coffee: 100g\n",
      "Money: $0\n",
      "What would you like (espresso/latte/cappuccino)? Type 'report' to see remaining resources. Type 'off' to turn off the coffee machine: espresso\n",
      "Please insert coins.\n",
      "how many quarters? 10\n",
      "how many dimes? 10\n",
      "how many nickles? 10\n",
      "how many pennies? 10\n",
      "Here is $2.60 in change.\n",
      "Here is your espresso ☕️. Enjoy!\n",
      "What would you like (espresso/latte/cappuccino)? Type 'report' to see remaining resources. Type 'off' to turn off the coffee machine: report\n",
      "Water: 250ml\n",
      "Milk: 200ml\n",
      "Coffee: 82g\n",
      "Money: $1.5\n",
      "What would you like (espresso/latte/cappuccino)? Type 'report' to see remaining resources. Type 'off' to turn off the coffee machine: latte\n",
      "Please insert coins.\n",
      "how many quarters? 1\n",
      "how many dimes? 1\n",
      "how many nickles? 1\n",
      "how many pennies? 1\n",
      "Sorry that's not enough money. Money refunded.\n",
      "What would you like (espresso/latte/cappuccino)? Type 'report' to see remaining resources. Type 'off' to turn off the coffee machine: cappuccino\n",
      "Please insert coins.\n",
      "how many quarters? 10\n",
      "how many dimes? 10\n",
      "how many nickles? 10\n",
      "how many pennies? 10\n",
      "Here is $1.10 in change.\n",
      "Here is your cappuccino ☕️. Enjoy!\n",
      "What would you like (espresso/latte/cappuccino)? Type 'report' to see remaining resources. Type 'off' to turn off the coffee machine: report\n",
      "Water: 0ml\n",
      "Milk: 100ml\n",
      "Coffee: 58g\n",
      "Money: $4.5\n",
      "What would you like (espresso/latte/cappuccino)? Type 'report' to see remaining resources. Type 'off' to turn off the coffee machine: latte\n",
      "Sorry there is not enough water.\n",
      "Sorry there is not enough milk.\n",
      "What would you like (espresso/latte/cappuccino)? Type 'report' to see remaining resources. Type 'off' to turn off the coffee machine: off\n"
     ]
    }
   ],
   "source": [
    "coffee_machine()"
   ]
  },
  {
   "cell_type": "raw",
   "id": "46338fa5",
   "metadata": {},
   "source": []
  }
 ],
 "metadata": {
  "kernelspec": {
   "display_name": "Python 3 (ipykernel)",
   "language": "python",
   "name": "python3"
  },
  "language_info": {
   "codemirror_mode": {
    "name": "ipython",
    "version": 3
   },
   "file_extension": ".py",
   "mimetype": "text/x-python",
   "name": "python",
   "nbconvert_exporter": "python",
   "pygments_lexer": "ipython3",
   "version": "3.11.4"
  }
 },
 "nbformat": 4,
 "nbformat_minor": 5
}
