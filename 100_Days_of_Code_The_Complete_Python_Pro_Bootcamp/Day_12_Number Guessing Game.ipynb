{
 "cells": [
  {
   "cell_type": "code",
   "execution_count": 13,
   "id": "17716845",
   "metadata": {},
   "outputs": [],
   "source": [
    "from IPython.display import clear_output\n",
    "import random"
   ]
  },
  {
   "cell_type": "code",
   "execution_count": 17,
   "id": "d86e5597",
   "metadata": {},
   "outputs": [],
   "source": [
    "logo = \"\"\"\n",
    "  _   _                 _                   _____                     _             \n",
    " | \\ | |               | |                 / ____|                   (_)            \n",
    " |  \\| |_   _ _ __ ___ | |__   ___ _ __   | |  __ _   _  ___  ___ ___ _ _ __   __ _ \n",
    " | . ` | | | | '_ ` _ \\| '_ \\ / _ \\ '__|  | | |_ | | | |/ _ \\/ __/ __| | '_ \\ / _` |\n",
    " | |\\  | |_| | | | | | | |_) |  __/ |     | |__| | |_| |  __/\\__ \\__ \\ | | | | (_| |\n",
    " |_| \\_|\\__,_|_| |_| |_|_.__/ \\___|_|      \\_____|\\__,_|\\___||___/___/_|_| |_|\\__, |\n",
    "                                                                               __/ |\n",
    "                                                                              |___/                                         \n",
    "\"\"\""
   ]
  },
  {
   "cell_type": "code",
   "execution_count": 26,
   "id": "51bd4cfa",
   "metadata": {},
   "outputs": [],
   "source": [
    "def guess_number():\n",
    "    print(logo)\n",
    "    print(\"Welcome to the Number Guessing Game!\\n\")\n",
    "    print(\"I'm thinking of a number between 1 and 100.\\n\")\n",
    "\n",
    "    correct_ans = random.randint(1, 100)\n",
    "\n",
    "    difficulty_level = input(\"Choose a difficulty. Type 'easy' or 'hard':\")\n",
    "\n",
    "    if difficulty_level == 'easy':\n",
    "        num_attempts = 10\n",
    "    else:\n",
    "        num_attempts = 5\n",
    "    \n",
    "    while num_attempts > 0:\n",
    "        print(f\"You have {num_attempts} attempts remaining to guess the number.\")\n",
    "\n",
    "        num_guess = int(input(\"Make a guess: \"))\n",
    "        if num_guess < correct_ans:\n",
    "            num_attempts -= 1\n",
    "            print(f\"Too low.\")\n",
    "        elif num_guess > correct_ans:\n",
    "            num_attempts -= 1\n",
    "            print(f\"Too high.\")\n",
    "        else:\n",
    "            print(f\"You got it! The answer is {correct_ans}.\")\n",
    "            break\n",
    "        if num_attempts > 0:\n",
    "            print(\"Guess again.\")\n",
    "    else:\n",
    "        print(\"You've run out of guesses. You lose.\")\n",
    "        print(f\"The correct number is {correct_ans}.\")"
   ]
  },
  {
   "cell_type": "code",
   "execution_count": 27,
   "id": "cfe4e92f",
   "metadata": {},
   "outputs": [
    {
     "name": "stdout",
     "output_type": "stream",
     "text": [
      "\n",
      "  _   _                 _                   _____                     _             \n",
      " | \\ | |               | |                 / ____|                   (_)            \n",
      " |  \\| |_   _ _ __ ___ | |__   ___ _ __   | |  __ _   _  ___  ___ ___ _ _ __   __ _ \n",
      " | . ` | | | | '_ ` _ \\| '_ \\ / _ \\ '__|  | | |_ | | | |/ _ \\/ __/ __| | '_ \\ / _` |\n",
      " | |\\  | |_| | | | | | | |_) |  __/ |     | |__| | |_| |  __/\\__ \\__ \\ | | | | (_| |\n",
      " |_| \\_|\\__,_|_| |_| |_|_.__/ \\___|_|      \\_____|\\__,_|\\___||___/___/_|_| |_|\\__, |\n",
      "                                                                               __/ |\n",
      "                                                                              |___/                                         \n",
      "\n",
      "Welcome to the Number Guessing Game!\n",
      "\n",
      "I'm thinking of a number between 1 and 100.\n",
      "\n",
      "Choose a difficulty. Type 'easy' or 'hard':hard\n",
      "You have 5 attempts remaining to guess the number.\n",
      "Make a guess: 50\n",
      "Too high.\n",
      "Guess again.\n",
      "You have 4 attempts remaining to guess the number.\n",
      "Make a guess: 25\n",
      "Too low.\n",
      "Guess again.\n",
      "You have 3 attempts remaining to guess the number.\n",
      "Make a guess: 35\n",
      "Too high.\n",
      "Guess again.\n",
      "You have 2 attempts remaining to guess the number.\n",
      "Make a guess: 30\n",
      "Too high.\n",
      "Guess again.\n",
      "You have 1 attempts remaining to guess the number.\n",
      "Make a guess: 28\n",
      "You got it! The answer is 28.\n",
      "Do you want to play a game of number guessing? Type 'y' or 'n': n\n",
      "See you next time! \n"
     ]
    }
   ],
   "source": [
    "while input(\"Do you want to play a game of number guessing? Type 'y' or 'n': \") == \"y\":\n",
    "    clear_output()\n",
    "    guess_number()\n",
    "else:\n",
    "    print(\"See you next time! \")"
   ]
  },
  {
   "cell_type": "code",
   "execution_count": null,
   "id": "c3a7c0a3",
   "metadata": {},
   "outputs": [],
   "source": []
  }
 ],
 "metadata": {
  "kernelspec": {
   "display_name": "Python 3 (ipykernel)",
   "language": "python",
   "name": "python3"
  },
  "language_info": {
   "codemirror_mode": {
    "name": "ipython",
    "version": 3
   },
   "file_extension": ".py",
   "mimetype": "text/x-python",
   "name": "python",
   "nbconvert_exporter": "python",
   "pygments_lexer": "ipython3",
   "version": "3.11.4"
  }
 },
 "nbformat": 4,
 "nbformat_minor": 5
}
