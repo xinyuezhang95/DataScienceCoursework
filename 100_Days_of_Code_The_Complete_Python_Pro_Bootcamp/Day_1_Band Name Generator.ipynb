{
 "cells": [
  {
   "cell_type": "markdown",
   "id": "457c46f9",
   "metadata": {},
   "source": [
    "### Band Name Generator"
   ]
  },
  {
   "cell_type": "code",
   "execution_count": 3,
   "id": "a80492ca",
   "metadata": {},
   "outputs": [
    {
     "name": "stdout",
     "output_type": "stream",
     "text": [
      "Welcome to the Band Name Generator.\n",
      "\n",
      "What city did you grow up in?\n",
      "Linfen\n",
      "What is your pet's name?\n",
      "Huan\n",
      "Your band name is Linfen Huan\n"
     ]
    }
   ],
   "source": [
    "print('Welcome to the Band Name Generator.\\n')\n",
    "city = input('What city did you grow up in?\\n')\n",
    "pet_name = input(\"What is your pet's name?\\n\")\n",
    "print(\"Your band name is {}\".format(city + ' ' + pet_name))"
   ]
  },
  {
   "cell_type": "code",
   "execution_count": null,
   "id": "df262a9c",
   "metadata": {},
   "outputs": [],
   "source": []
  }
 ],
 "metadata": {
  "kernelspec": {
   "display_name": "Python 3 (ipykernel)",
   "language": "python",
   "name": "python3"
  },
  "language_info": {
   "codemirror_mode": {
    "name": "ipython",
    "version": 3
   },
   "file_extension": ".py",
   "mimetype": "text/x-python",
   "name": "python",
   "nbconvert_exporter": "python",
   "pygments_lexer": "ipython3",
   "version": "3.11.4"
  }
 },
 "nbformat": 4,
 "nbformat_minor": 5
}
