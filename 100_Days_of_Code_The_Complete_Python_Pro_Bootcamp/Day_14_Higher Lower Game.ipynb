{
 "cells": [
  {
   "cell_type": "code",
   "execution_count": 1,
   "id": "79d35599",
   "metadata": {},
   "outputs": [],
   "source": [
    "from game_data import data\n",
    "from IPython.display import clear_output\n",
    "import random"
   ]
  },
  {
   "cell_type": "code",
   "execution_count": 12,
   "id": "231ff1ec",
   "metadata": {},
   "outputs": [],
   "source": [
    "logo = \"\"\"\n",
    "  _    _ _       _                  _                            \n",
    " | |  | (_)     | |                | |                           \n",
    " | |__| |_  __ _| |__   ___ _ __   | |     _____      _____ _ __ \n",
    " |  __  | |/ _` | '_ \\ / _ \\ '__|  | |    / _ \\ \\ /\\ / / _ \\ '__|\n",
    " | |  | | | (_| | | | |  __/ |     | |___| (_) \\ V  V /  __/ |   \n",
    " |_|  |_|_|\\__, |_| |_|\\___|_|     |______\\___/ \\_/\\_/ \\___|_|   \n",
    "            __/ |                                                \n",
    "           |___/                                                 \n",
    "\"\"\"\n",
    "\n",
    "vs = \"\"\"     \n",
    " __   _____ \n",
    " \\ \\ / / __|\n",
    "  \\ V /\\__ \\\\\n",
    "   \\_/ |___/\n",
    "             \n",
    "\"\"\""
   ]
  },
  {
   "cell_type": "code",
   "execution_count": 40,
   "id": "bb8ac48a",
   "metadata": {},
   "outputs": [],
   "source": [
    "def pick_char():\n",
    "    return random.choice(data)\n",
    "\n",
    "\n",
    "def calc_scores(user_ans, char_1, char_2, cur_score):\n",
    "    clear_output()\n",
    "    if char_1['follower_count'] > char_2['follower_count']:\n",
    "        if user_ans == 'A':\n",
    "            cur_score += 1\n",
    "            print(f\"You're right! Current score: {cur_score}.\")\n",
    "            return cur_score, True\n",
    "        else:\n",
    "            print(f\"Sorry, that's wrong. Final score: {cur_score}.\")\n",
    "            return cur_score, False\n",
    "    else:\n",
    "        if user_ans == 'B':\n",
    "            cur_score += 1\n",
    "            print(f\"You're right! Current score: {cur_score}.\")\n",
    "            return cur_score, True\n",
    "        else:\n",
    "            print(f\"Sorry, that's wrong. Final score: {cur_score}.\")\n",
    "            return cur_score, False"
   ]
  },
  {
   "cell_type": "code",
   "execution_count": 43,
   "id": "8ea8eb91",
   "metadata": {},
   "outputs": [],
   "source": [
    "def higher_lower():\n",
    "    cur_score = 0\n",
    "    game_cont = True\n",
    "    \n",
    "    # select two number to choose comparisons\n",
    "    char_1 = pick_char()\n",
    "    while game_cont:\n",
    "        print(logo)\n",
    "        char_2 = pick_char()\n",
    "        while char_1 == char_2:\n",
    "            char_2 = pick_char()\n",
    "\n",
    "        print(f\"Compare A: {char_1['name']}, a {char_1['description']}, from {char_1['country']}\")\n",
    "        print(vs)\n",
    "        print(f\"Against B: {char_2['name']}, a {char_2['description']}, from {char_2['country']}\")\n",
    "        user_ans = input(\"Who has more followers? Type 'A' or 'B': \").upper()\n",
    "        \n",
    "        cur_score, game_cont = calc_scores(user_ans, char_1, char_2, cur_score)\n",
    "        print(f\"{char_1['name']}, a {char_1['description']}, from {char_1['country']}, has {char_1['follower_count']} followers.\")\n",
    "        print(f\"{char_2['name']}, a {char_2['description']}, from {char_2['country']}, has {char_2['follower_count']} followers.\")\n",
    "        \n",
    "        if game_cont:\n",
    "            char_1 = char_2"
   ]
  },
  {
   "cell_type": "code",
   "execution_count": 44,
   "id": "5d3e9f63",
   "metadata": {},
   "outputs": [
    {
     "name": "stdout",
     "output_type": "stream",
     "text": [
      "Sorry, that's wrong. Final score: 5.\n",
      "Shakira, a Musician, from Colombia, has 66 followers.\n",
      "Drake, a Musician, from Canada, has 65 followers.\n",
      "Do you want to play a game of Higher Lower? Type 'y' or 'n': n\n",
      "See you next time! \n"
     ]
    }
   ],
   "source": [
    "while input(\"Do you want to play a game of Higher Lower? Type 'y' or 'n': \") == \"y\":\n",
    "    clear_output()\n",
    "    higher_lower()\n",
    "else:\n",
    "    print(\"See you next time! \")"
   ]
  },
  {
   "cell_type": "code",
   "execution_count": null,
   "id": "3fd4445d",
   "metadata": {},
   "outputs": [],
   "source": []
  }
 ],
 "metadata": {
  "kernelspec": {
   "display_name": "Python 3 (ipykernel)",
   "language": "python",
   "name": "python3"
  },
  "language_info": {
   "codemirror_mode": {
    "name": "ipython",
    "version": 3
   },
   "file_extension": ".py",
   "mimetype": "text/x-python",
   "name": "python",
   "nbconvert_exporter": "python",
   "pygments_lexer": "ipython3",
   "version": "3.11.4"
  }
 },
 "nbformat": 4,
 "nbformat_minor": 5
}
