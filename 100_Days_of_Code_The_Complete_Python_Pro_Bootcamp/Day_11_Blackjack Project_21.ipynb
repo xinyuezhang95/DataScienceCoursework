{
 "cells": [
  {
   "cell_type": "code",
   "execution_count": 21,
   "id": "1b649eff",
   "metadata": {},
   "outputs": [],
   "source": [
    "from IPython.display import clear_output\n",
    "import random"
   ]
  },
  {
   "cell_type": "code",
   "execution_count": 22,
   "id": "59faf706",
   "metadata": {},
   "outputs": [],
   "source": [
    "logo = \"\"\"\n",
    ".------.            _     _            _    _            _    \n",
    "|A_  _ |.          | |   | |          | |  (_)          | |   \n",
    "|( \\/ ).-----.     | |__ | | __ _  ___| | ___  __ _  ___| | __\n",
    "| \\  /|K /\\  |     | '_ \\| |/ _` |/ __| |/ / |/ _` |/ __| |/ /\n",
    "|  \\/ | /  \\ |     | |_) | | (_| | (__|   <| | (_| | (__|   < \n",
    "`-----| \\  / |     |_.__/|_|\\__,_|\\___|_|\\_\\ |\\__,_|\\___|_|\\_\\\\\n",
    "      |  \\/ K|                            _/ |                \n",
    "      `------'                           |__/           \n",
    "\"\"\"\n",
    "\n",
    "cards = [11, 2, 3, 4, 5, 6, 7, 8, 9, 10, 10, 10, 10] \n"
   ]
  },
  {
   "cell_type": "code",
   "execution_count": 23,
   "id": "5939d834",
   "metadata": {},
   "outputs": [],
   "source": [
    "def deal_card():\n",
    "    return random.choice(cards)\n",
    "\n",
    "def calculate_score(card_list):\n",
    "    if (len(card_list) == 2) and (set(card_list) == {11, 10}):\n",
    "        return 0\n",
    "    elif (11 in card_list) and sum(card_list) > 21:\n",
    "        card_list.remove(11)\n",
    "        card_list.append(1)\n",
    "    return sum(card_list)\n",
    "\n",
    "def compare(user_score, computer_score):\n",
    "    if user_score == computer_score:\n",
    "        print(\"Draw.\")\n",
    "    elif computer_score == 0:\n",
    "        print(\"You lose.\")\n",
    "    elif user_score == 0:\n",
    "        print(\"You win!\")\n",
    "    elif user_score > 21:\n",
    "        print(\"You went over. You lose.\")\n",
    "    elif computer_score > 21:\n",
    "        print(\"Opponent went over. You win!\")\n",
    "    elif user_score > computer_score:\n",
    "        print(\"You win!\")\n",
    "    else:\n",
    "        print(\"You lose.\")"
   ]
  },
  {
   "cell_type": "code",
   "execution_count": 30,
   "id": "bcbb917a",
   "metadata": {},
   "outputs": [],
   "source": [
    "def blackjack():\n",
    "    print(logo)\n",
    "    user_cards = []\n",
    "    computer_cards = []\n",
    "    is_game_over = False\n",
    "    \n",
    "    for _ in range(2):\n",
    "        user_cards.append(deal_card())    \n",
    "        computer_cards.append(deal_card())\n",
    "    \n",
    "    while not is_game_over:\n",
    "        user_score = calculate_score(user_cards)\n",
    "        computer_score = calculate_score(computer_cards)\n",
    "        print(f\"   Your cards: {user_cards}, current score: {user_score}\")\n",
    "        print(f\"   Computer's first card: {computer_cards[0]}\")\n",
    "\n",
    "        if user_score == 0 or computer_score == 0 or user_score > 21 or user_score == 21:\n",
    "            is_game_over = True\n",
    "        else:\n",
    "            user_should_deal = input(\"Type 'y' to get another card, type 'n' to pass: \")\n",
    "            if user_should_deal == \"y\":\n",
    "                user_cards.append(deal_card())\n",
    "            else:\n",
    "                is_game_over = True\n",
    "\n",
    "    while computer_score != 0 and computer_score < 17:\n",
    "        computer_cards.append(deal_card())\n",
    "        computer_score = calculate_score(computer_cards)\n",
    "\n",
    "    print(f\"   Your final hand: {user_cards}, final score: {user_score}\")\n",
    "    print(f\"   Computer's final hand: {computer_cards}, final score: {computer_score}\")\n",
    "    compare(user_score, computer_score)"
   ]
  },
  {
   "cell_type": "code",
   "execution_count": 31,
   "id": "120569bf",
   "metadata": {},
   "outputs": [
    {
     "name": "stdout",
     "output_type": "stream",
     "text": [
      "\n",
      ".------.            _     _            _    _            _    \n",
      "|A_  _ |.          | |   | |          | |  (_)          | |   \n",
      "|( \\/ ).-----.     | |__ | | __ _  ___| | ___  __ _  ___| | __\n",
      "| \\  /|K /\\  |     | '_ \\| |/ _` |/ __| |/ / |/ _` |/ __| |/ /\n",
      "|  \\/ | /  \\ |     | |_) | | (_| | (__|   <| | (_| | (__|   < \n",
      "`-----| \\  / |     |_.__/|_|\\__,_|\\___|_|\\_\\ |\\__,_|\\___|_|\\_\\\n",
      "      |  \\/ K|                            _/ |                \n",
      "      `------'                           |__/           \n",
      "\n",
      "   Your cards: [10, 11], current score: 0\n",
      "   Computer's first card: 2\n",
      "   Your final hand: [10, 11], final score: 0\n",
      "   Computer's final hand: [2, 8, 10], final score: 20\n",
      "You win!\n",
      "Do you want to play a game of Blackjack? Type 'y' or 'n': n\n",
      "Hope you had fun! See you next time! \n"
     ]
    }
   ],
   "source": [
    "while input(\"Do you want to play a game of Blackjack? Type 'y' or 'n': \") == \"y\":\n",
    "    clear_output()\n",
    "    blackjack()\n",
    "else:\n",
    "    print(\"Hope you had fun! See you next time! \")"
   ]
  },
  {
   "cell_type": "code",
   "execution_count": null,
   "id": "97e108f8",
   "metadata": {},
   "outputs": [],
   "source": []
  }
 ],
 "metadata": {
  "kernelspec": {
   "display_name": "Python 3 (ipykernel)",
   "language": "python",
   "name": "python3"
  },
  "language_info": {
   "codemirror_mode": {
    "name": "ipython",
    "version": 3
   },
   "file_extension": ".py",
   "mimetype": "text/x-python",
   "name": "python",
   "nbconvert_exporter": "python",
   "pygments_lexer": "ipython3",
   "version": "3.11.4"
  }
 },
 "nbformat": 4,
 "nbformat_minor": 5
}
