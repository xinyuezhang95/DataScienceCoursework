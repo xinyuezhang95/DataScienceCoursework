{
 "cells": [
  {
   "cell_type": "markdown",
   "id": "8625b645",
   "metadata": {},
   "source": [
    "### Tip Calculator"
   ]
  },
  {
   "cell_type": "code",
   "execution_count": 3,
   "id": "d11722e4",
   "metadata": {},
   "outputs": [
    {
     "name": "stdout",
     "output_type": "stream",
     "text": [
      "Welcome to the tip calculator.\n",
      "What was the total bill?\n",
      "124.56\n",
      "What percentage tip would you like to give? 10, 12, or 15?\n",
      "12\n",
      "How many people are there to split the bill?\n",
      "7\n",
      "Each person should pay: $19.93\n"
     ]
    }
   ],
   "source": [
    "print(\"Welcome to the tip calculator.\")\n",
    "bill_amount = float(input(\"What was the total bill?\\n\"))\n",
    "tip_perc = float(input(\"What percentage tip would you like to give? 10, 12, or 15?\\n\")) * 0.01\n",
    "num_people = int(input(\"How many people are there to split the bill?\\n\"))\n",
    "each_payment = round(bill_amount * (1 + tip_perc) / num_people, 2)\n",
    "print(f\"Each person should pay: ${each_payment}\")"
   ]
  },
  {
   "cell_type": "code",
   "execution_count": null,
   "id": "7fd0e64f",
   "metadata": {},
   "outputs": [],
   "source": []
  }
 ],
 "metadata": {
  "kernelspec": {
   "display_name": "Python 3 (ipykernel)",
   "language": "python",
   "name": "python3"
  },
  "language_info": {
   "codemirror_mode": {
    "name": "ipython",
    "version": 3
   },
   "file_extension": ".py",
   "mimetype": "text/x-python",
   "name": "python",
   "nbconvert_exporter": "python",
   "pygments_lexer": "ipython3",
   "version": "3.11.4"
  }
 },
 "nbformat": 4,
 "nbformat_minor": 5
}
