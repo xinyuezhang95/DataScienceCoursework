{
 "cells": [
  {
   "cell_type": "code",
   "execution_count": 1,
   "id": "26aa18b3",
   "metadata": {},
   "outputs": [],
   "source": [
    "import random"
   ]
  },
  {
   "cell_type": "code",
   "execution_count": 11,
   "id": "02a99c45",
   "metadata": {},
   "outputs": [
    {
     "name": "stdout",
     "output_type": "stream",
     "text": [
      "Welcome to the PyPassword Generator!\n",
      "How many letters would you like in your password?\n",
      "2\n",
      "How many numbers would you like?\n",
      "2\n",
      "How many symbols would you like?\n",
      "2\n",
      "J+D#21\n"
     ]
    }
   ],
   "source": [
    "letters = ['a', 'b', 'c', 'd', 'e', 'f', 'g', 'h', 'i', 'j', 'k', 'l', 'm', 'n', 'o', 'p', 'q', 'r', 's', 't', 'u', 'v', 'w', 'x', 'y', 'z', 'A', 'B', 'C', 'D', 'E', 'F', 'G', 'H', 'I', 'J', 'K', 'L', 'M', 'N', 'O', 'P', 'Q', 'R', 'S', 'T', 'U', 'V', 'W', 'X', 'Y', 'Z']\n",
    "numbers = ['0', '1', '2', '3', '4', '5', '6', '7', '8', '9']\n",
    "symbols = ['!', '#', '$', '%', '&', '(', ')', '*', '+']\n",
    "\n",
    "print(\"Welcome to the PyPassword Generator!\")\n",
    "nr_letters= int(input(\"How many letters would you like in your password?\\n\")) \n",
    "nr_numbers = int(input(f\"How many numbers would you like?\\n\"))\n",
    "nr_symbols = int(input(f\"How many symbols would you like?\\n\"))\n",
    "\n",
    "choices = []\n",
    "final_password = ''\n",
    "\n",
    "for i in range(nr_letters):\n",
    "    choices.append(random.choice(letters))\n",
    "    \n",
    "for i in range(nr_numbers):\n",
    "    choices.append(random.choice(numbers))\n",
    "    \n",
    "for i in range(nr_symbols):\n",
    "    choices.append(random.choice(symbols))\n",
    "\n",
    "random.shuffle(choices)\n",
    "for char in choices:\n",
    "    final_password += char\n",
    "    \n",
    "print(final_password)"
   ]
  },
  {
   "cell_type": "code",
   "execution_count": null,
   "id": "5364fbd8",
   "metadata": {},
   "outputs": [],
   "source": []
  }
 ],
 "metadata": {
  "kernelspec": {
   "display_name": "Python 3 (ipykernel)",
   "language": "python",
   "name": "python3"
  },
  "language_info": {
   "codemirror_mode": {
    "name": "ipython",
    "version": 3
   },
   "file_extension": ".py",
   "mimetype": "text/x-python",
   "name": "python",
   "nbconvert_exporter": "python",
   "pygments_lexer": "ipython3",
   "version": "3.11.4"
  }
 },
 "nbformat": 4,
 "nbformat_minor": 5
}
